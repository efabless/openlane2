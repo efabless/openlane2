{
 "cells": [
  {
   "cell_type": "code",
   "execution_count": 1,
   "metadata": {},
   "outputs": [
    {
     "data": {
      "text/markdown": [
       "\n",
       "### Interactive Configuration\n",
       "#### Initial Values\n",
       "\n",
       "<br />\n",
       "\n",
       "```yml\n",
       "BAD_CELL_LIST: /home/donn/.volare/sky130A/libs.tech/openlane/sky130_fd_sc_hd/drc_exclude.cells\n",
       "CELL_CLK_PORT: CLK\n",
       "CELL_GDS:\n",
       "- /home/donn/.volare/sky130A/libs.ref/sky130_fd_sc_hd/gds/sky130_fd_sc_hd.gds\n",
       "CELL_LEFS:\n",
       "- /home/donn/.volare/sky130A/libs.ref/sky130_fd_sc_hd/lef/sky130_ef_sc_hd.lef\n",
       "- /home/donn/.volare/sky130A/libs.ref/sky130_fd_sc_hd/lef/sky130_fd_sc_hd.lef\n",
       "CELL_PAD_EXCLUDE:\n",
       "- sky130_fd_sc_hd__tap*\n",
       "- sky130_fd_sc_hd__decap*\n",
       "- sky130_ef_sc_hd__decap*\n",
       "- sky130_fd_sc_hd__fill*\n",
       "CHECK_ASSIGN_STATEMENTS: false\n",
       "CHECK_UNMAPPED_CELLS: true\n",
       "CLOCK_NET: clk\n",
       "CLOCK_PERIOD: 10\n",
       "CLOCK_PORT: clk\n",
       "CTS_CLK_BUFFERS:\n",
       "- sky130_fd_sc_hd__clkbuf_8\n",
       "- sky130_fd_sc_hd__clkbuf_4\n",
       "- sky130_fd_sc_hd__clkbuf_2\n",
       "CTS_MAX_CAP: 1.53169\n",
       "CTS_ROOT_BUFFER: sky130_fd_sc_hd__clkbuf_16\n",
       "CVC_SCRIPTS_DIR: /home/donn/.volare/sky130A/libs.tech/openlane/cvc\n",
       "DECAP_CELL:\n",
       "- sky130_ef_sc_hd__decap_12\n",
       "- sky130_fd_sc_hd__decap_8\n",
       "- sky130_fd_sc_hd__decap_6\n",
       "- sky130_fd_sc_hd__decap_4\n",
       "- sky130_fd_sc_hd__decap_3\n",
       "DEFAULT_MAX_TRAN: 0.75\n",
       "DESIGN_NAME: spm\n",
       "DIE_AREA: null\n",
       "DIODE_CELL: sky130_fd_sc_hd__diode_2/DIODE\n",
       "DPL_CELL_PADDING: 4\n",
       "EXTRA_GDS_FILES: null\n",
       "EXTRA_LEFS: null\n",
       "EXTRA_LIBS: null\n",
       "EXTRA_SPICE_MODELS: null\n",
       "EXTRA_VERILOG_MODELS: null\n",
       "FAKEDIODE_CELL: sky130_ef_sc_hd__fakediode_2\n",
       "FILL_CELL:\n",
       "- sky130_fd_sc_hd__fill*\n",
       "FP_CONTEXT_DEF: null\n",
       "FP_CONTEXT_LEF: null\n",
       "FP_DEF_TEMPLATE: null\n",
       "FP_ENDCAP_CELL: sky130_fd_sc_hd__decap_3\n",
       "FP_IO_HLAYER: met3\n",
       "FP_IO_VLAYER: met2\n",
       "FP_PADFRAME_CFG: null\n",
       "FP_PDN_CORE_RING_HOFFSET: 6\n",
       "FP_PDN_CORE_RING_HSPACING: 1.7\n",
       "FP_PDN_CORE_RING_HWIDTH: 1.6\n",
       "FP_PDN_CORE_RING_VOFFSET: 6\n",
       "FP_PDN_CORE_RING_VSPACING: 1.7\n",
       "FP_PDN_CORE_RING_VWIDTH: 1.6\n",
       "FP_PDN_HSPACING: 1.7\n",
       "FP_PDN_HWIDTH: 1.6\n",
       "FP_PDN_LOWER_LAYER: met4\n",
       "FP_PDN_RAILS_LAYER: met1\n",
       "FP_PDN_RAIL_OFFSET: 0\n",
       "FP_PDN_RAIL_WIDTH: 0.48\n",
       "FP_PDN_UPPER_LAYER: met5\n",
       "FP_PDN_VSPACING: 1.7\n",
       "FP_PDN_VWIDTH: 1.6\n",
       "FP_TAPCELL_DIST: 13\n",
       "FP_TRACKS_INFO: /home/donn/.volare/sky130A/libs.tech/openlane/sky130_fd_sc_hd/tracks.info\n",
       "FP_WELLTAP_CELL: sky130_fd_sc_hd__tapvpwrvgnd_1\n",
       "GND_NETS: null\n",
       "GND_PIN: VGND\n",
       "GPIO_PADS_LEF:\n",
       "- /home/donn/.volare/sky130A/libs.ref/sky130_fd_io/lef/sky130_fd_io.lef\n",
       "- /home/donn/.volare/sky130A/libs.ref/sky130_fd_io/lef/sky130_ef_io.lef\n",
       "GPIO_PADS_LEF_CORE_SIDE:\n",
       "- /home/donn/.volare/sky130A/libs.tech/openlane/custom_cells/lef/sky130_fd_io_core.lef\n",
       "- /home/donn/.volare/sky130A/libs.tech/openlane/custom_cells/lef/sky130_ef_io_core.lef\n",
       "GPIO_PADS_PREFIX:\n",
       "- sky130_fd_io\n",
       "- sky130_ef_io\n",
       "GPIO_PADS_VERILOG:\n",
       "- /home/donn/.volare/sky130A/libs.ref/sky130_fd_io/verilog/sky130_ef_io.v\n",
       "GPL_CELL_PADDING: 0\n",
       "GRT_LAYER_ADJUSTMENTS:\n",
       "- 0.99\n",
       "- 0\n",
       "- 0\n",
       "- 0\n",
       "- 0\n",
       "- 0\n",
       "GRT_OBS: null\n",
       "KLAYOUT_DEF_LAYER_MAP: /home/donn/.volare/sky130A/libs.tech/klayout/tech/sky130A.map\n",
       "KLAYOUT_DRC_KLAYOUT_GDS: false\n",
       "KLAYOUT_DRC_TECH_SCRIPT: /home/donn/.volare/sky130A/libs.tech/klayout/drc/sky130A_mr.drc\n",
       "KLAYOUT_PROPERTIES: /home/donn/.volare/sky130A/libs.tech/klayout/tech/sky130A.lyp\n",
       "KLAYOUT_TECH: /home/donn/.volare/sky130A/libs.tech/klayout/tech/sky130A.lyt\n",
       "KLAYOUT_XOR_IGNORE_LAYERS:\n",
       "- 81/14\n",
       "LEC_ENABLE: false\n",
       "LIB:\n",
       "- /home/donn/.volare/sky130A/libs.ref/sky130_fd_sc_hd/lib/sky130_fd_sc_hd__tt_025C_1v80.lib\n",
       "LIB_FASTEST:\n",
       "- /home/donn/.volare/sky130A/libs.ref/sky130_fd_sc_hd/lib/sky130_fd_sc_hd__ff_n40C_1v95.lib\n",
       "LIB_SLOWEST:\n",
       "- /home/donn/.volare/sky130A/libs.ref/sky130_fd_sc_hd/lib/sky130_fd_sc_hd__ss_100C_1v60.lib\n",
       "LIB_TYPICAL:\n",
       "- /home/donn/.volare/sky130A/libs.ref/sky130_fd_sc_hd/lib/sky130_fd_sc_hd__tt_025C_1v80.lib\n",
       "LVS_INSERT_POWER_PINS: true\n",
       "MAGICRC: /home/donn/.volare/sky130A/libs.tech/magic/sky130A.magicrc\n",
       "MAGIC_TECH: /home/donn/.volare/sky130A/libs.tech/magic/sky130A.tech\n",
       "NETGEN_SETUP: /home/donn/.volare/sky130A/libs.tech/netgen/sky130A_setup.tcl\n",
       "NO_SYNTH_CELL_LIST: /home/donn/.volare/sky130A/libs.tech/openlane/sky130_fd_sc_hd/no_synth.cells\n",
       "PDK: sky130A\n",
       "PLACE_SITE: unithd\n",
       "PLACE_SITE_HEIGHT: 2.72\n",
       "PLACE_SITE_WIDTH: 0.46\n",
       "PRIMARY_SIGNOFF_TOOL: PRIMARY_SIGNOFF_TOOL.klayout\n",
       "RCX_RULES: /home/donn/.volare/sky130A/libs.tech/openlane/rules.openrcx.sky130A.nom.calibre\n",
       "RCX_RULES_MAX: /home/donn/.volare/sky130A/libs.tech/openlane/rules.openrcx.sky130A.max.calibre\n",
       "RCX_RULES_MIN: /home/donn/.volare/sky130A/libs.tech/openlane/rules.openrcx.sky130A.min.calibre\n",
       "RT_MAX_LAYER: met5\n",
       "RT_MIN_LAYER: met1\n",
       "RUN_CVC: true\n",
       "RUN_KLAYOUT_DRC: false\n",
       "SCL_GROUND_PINS:\n",
       "- VGND\n",
       "- VNB\n",
       "SCL_POWER_PINS:\n",
       "- VPWR\n",
       "- VPB\n",
       "STD_CELL_LIBRARY: sky130_fd_sc_hd\n",
       "SYNTH_BUFFER_CELL: sky130_fd_sc_hd__buf_2/A/X\n",
       "SYNTH_CAP_LOAD: 33.442\n",
       "SYNTH_CLK_DRIVING_CELL: null\n",
       "SYNTH_CSA_MAP: /home/donn/.volare/sky130A/libs.tech/openlane/sky130_fd_sc_hd/csa_map.v\n",
       "SYNTH_DRIVING_CELL: sky130_fd_sc_hd__inv_2/Y\n",
       "SYNTH_FA_MAP: /home/donn/.volare/sky130A/libs.tech/openlane/sky130_fd_sc_hd/fa_map.v\n",
       "SYNTH_LATCH_MAP: /home/donn/.volare/sky130A/libs.tech/openlane/sky130_fd_sc_hd/latch_map.v\n",
       "SYNTH_MUX4_MAP: /home/donn/.volare/sky130A/libs.tech/openlane/sky130_fd_sc_hd/mux4_map.v\n",
       "SYNTH_MUX_MAP: /home/donn/.volare/sky130A/libs.tech/openlane/sky130_fd_sc_hd/mux2_map.v\n",
       "SYNTH_RCA_MAP: /home/donn/.volare/sky130A/libs.tech/openlane/sky130_fd_sc_hd/rca_map.v\n",
       "SYNTH_TIEHI_CELL: sky130_fd_sc_hd__conb_1/HI\n",
       "SYNTH_TIELO_CELL: sky130_fd_sc_hd__conb_1/LO\n",
       "SYNTH_TRISTATE_MAP: /home/donn/.volare/sky130A/libs.tech/openlane/sky130_fd_sc_hd/tribuff_map.v\n",
       "SYNTH_USE_PG_PINS_DEFINES: null\n",
       "TECH_LEF: /home/donn/.volare/sky130A/libs.ref/sky130_fd_sc_hd/techlef/sky130_fd_sc_hd__nom.tlef\n",
       "TECH_LEF_MAX: /home/donn/.volare/sky130A/libs.ref/sky130_fd_sc_hd/techlef/sky130_fd_sc_hd__max.tlef\n",
       "TECH_LEF_MIN: /home/donn/.volare/sky130A/libs.ref/sky130_fd_sc_hd/techlef/sky130_fd_sc_hd__min.tlef\n",
       "VDD_NETS: null\n",
       "VDD_PIN: VPWR\n",
       "WIRE_LENGTH_THRESHOLD: null\n",
       "WIRE_RC_LAYER: met1\n",
       "meta:\n",
       "  flow: Classic\n",
       "  version: 1\n",
       "\n",
       "```\n"
      ],
      "text/plain": [
       "{'STD_CELL_LIBRARY': 'sky130_fd_sc_hd', 'VDD_PIN': 'VPWR', 'GND_PIN': 'VGND', 'WIRE_LENGTH_THRESHOLD': None, 'TECH_LEF': '/home/donn/.volare/sky130A/libs.ref/sky130_fd_sc_hd/techlef/sky130_fd_sc_hd__nom.tlef', 'TECH_LEF_MIN': '/home/donn/.volare/sky130A/libs.ref/sky130_fd_sc_hd/techlef/sky130_fd_sc_hd__min.tlef', 'TECH_LEF_MAX': '/home/donn/.volare/sky130A/libs.ref/sky130_fd_sc_hd/techlef/sky130_fd_sc_hd__max.tlef', 'CELL_LEFS': ['/home/donn/.volare/sky130A/libs.ref/sky130_fd_sc_hd/lef/sky130_ef_sc_hd.lef', '/home/donn/.volare/sky130A/libs.ref/sky130_fd_sc_hd/lef/sky130_fd_sc_hd.lef'], 'CELL_GDS': ['/home/donn/.volare/sky130A/libs.ref/sky130_fd_sc_hd/gds/sky130_fd_sc_hd.gds'], 'GPIO_PADS_LEF': ['/home/donn/.volare/sky130A/libs.ref/sky130_fd_io/lef/sky130_fd_io.lef', '/home/donn/.volare/sky130A/libs.ref/sky130_fd_io/lef/sky130_ef_io.lef'], 'GPIO_PADS_LEF_CORE_SIDE': ['/home/donn/.volare/sky130A/libs.tech/openlane/custom_cells/lef/sky130_fd_io_core.lef', '/home/donn/.volare/sky130A/libs.tech/openlane/custom_cells/lef/sky130_ef_io_core.lef'], 'GPIO_PADS_VERILOG': ['/home/donn/.volare/sky130A/libs.ref/sky130_fd_io/verilog/sky130_ef_io.v'], 'GPIO_PADS_PREFIX': ['sky130_fd_io', 'sky130_ef_io'], 'NETGEN_SETUP': '/home/donn/.volare/sky130A/libs.tech/netgen/sky130A_setup.tcl', 'MAGICRC': '/home/donn/.volare/sky130A/libs.tech/magic/sky130A.magicrc', 'MAGIC_TECH': '/home/donn/.volare/sky130A/libs.tech/magic/sky130A.tech', 'KLAYOUT_TECH': '/home/donn/.volare/sky130A/libs.tech/klayout/tech/sky130A.lyt', 'KLAYOUT_PROPERTIES': '/home/donn/.volare/sky130A/libs.tech/klayout/tech/sky130A.lyp', 'KLAYOUT_DRC_TECH_SCRIPT': '/home/donn/.volare/sky130A/libs.tech/klayout/drc/sky130A_mr.drc', 'KLAYOUT_DEF_LAYER_MAP': '/home/donn/.volare/sky130A/libs.tech/klayout/tech/sky130A.map', 'KLAYOUT_XOR_IGNORE_LAYERS': ['81/14'], 'DEFAULT_MAX_TRAN': Decimal('0.75'), 'WIRE_RC_LAYER': 'met1', 'RCX_RULES': '/home/donn/.volare/sky130A/libs.tech/openlane/rules.openrcx.sky130A.nom.calibre', 'RCX_RULES_MIN': '/home/donn/.volare/sky130A/libs.tech/openlane/rules.openrcx.sky130A.min.calibre', 'RCX_RULES_MAX': '/home/donn/.volare/sky130A/libs.tech/openlane/rules.openrcx.sky130A.max.calibre', 'FP_TRACKS_INFO': '/home/donn/.volare/sky130A/libs.tech/openlane/sky130_fd_sc_hd/tracks.info', 'FP_TAPCELL_DIST': Decimal('13'), 'FP_PDN_RAIL_OFFSET': Decimal('0'), 'FP_PDN_VWIDTH': Decimal('1.6'), 'FP_PDN_VSPACING': Decimal('1.7'), 'FP_PDN_HSPACING': Decimal('1.7'), 'FP_PDN_HWIDTH': Decimal('1.6'), 'FP_PDN_CORE_RING_VWIDTH': Decimal('1.6'), 'FP_PDN_CORE_RING_HWIDTH': Decimal('1.6'), 'FP_PDN_CORE_RING_VSPACING': Decimal('1.7'), 'FP_PDN_CORE_RING_HSPACING': Decimal('1.7'), 'FP_PDN_CORE_RING_VOFFSET': Decimal('6'), 'FP_PDN_CORE_RING_HOFFSET': Decimal('6'), 'FP_IO_HLAYER': 'met3', 'FP_IO_VLAYER': 'met2', 'RT_MIN_LAYER': 'met1', 'RT_MAX_LAYER': 'met5', 'SCL_GROUND_PINS': ['VGND', 'VNB'], 'SCL_POWER_PINS': ['VPWR', 'VPB'], 'FILL_CELL': ['sky130_fd_sc_hd__fill*'], 'DECAP_CELL': ['sky130_ef_sc_hd__decap_12', 'sky130_fd_sc_hd__decap_8', 'sky130_fd_sc_hd__decap_6', 'sky130_fd_sc_hd__decap_4', 'sky130_fd_sc_hd__decap_3'], 'LIB': ['/home/donn/.volare/sky130A/libs.ref/sky130_fd_sc_hd/lib/sky130_fd_sc_hd__tt_025C_1v80.lib'], 'NO_SYNTH_CELL_LIST': '/home/donn/.volare/sky130A/libs.tech/openlane/sky130_fd_sc_hd/no_synth.cells', 'BAD_CELL_LIST': '/home/donn/.volare/sky130A/libs.tech/openlane/sky130_fd_sc_hd/drc_exclude.cells', 'LIB_TYPICAL': ['/home/donn/.volare/sky130A/libs.ref/sky130_fd_sc_hd/lib/sky130_fd_sc_hd__tt_025C_1v80.lib'], 'LIB_SLOWEST': ['/home/donn/.volare/sky130A/libs.ref/sky130_fd_sc_hd/lib/sky130_fd_sc_hd__ss_100C_1v60.lib'], 'LIB_FASTEST': ['/home/donn/.volare/sky130A/libs.ref/sky130_fd_sc_hd/lib/sky130_fd_sc_hd__ff_n40C_1v95.lib'], 'SYNTH_CAP_LOAD': Decimal('33.442'), 'SYNTH_DRIVING_CELL': 'sky130_fd_sc_hd__inv_2/Y', 'SYNTH_CLK_DRIVING_CELL': None, 'SYNTH_TIEHI_CELL': 'sky130_fd_sc_hd__conb_1/HI', 'SYNTH_TIELO_CELL': 'sky130_fd_sc_hd__conb_1/LO', 'SYNTH_BUFFER_CELL': 'sky130_fd_sc_hd__buf_2/A/X', 'SYNTH_LATCH_MAP': '/home/donn/.volare/sky130A/libs.tech/openlane/sky130_fd_sc_hd/latch_map.v', 'SYNTH_TRISTATE_MAP': '/home/donn/.volare/sky130A/libs.tech/openlane/sky130_fd_sc_hd/tribuff_map.v', 'SYNTH_CSA_MAP': '/home/donn/.volare/sky130A/libs.tech/openlane/sky130_fd_sc_hd/csa_map.v', 'SYNTH_RCA_MAP': '/home/donn/.volare/sky130A/libs.tech/openlane/sky130_fd_sc_hd/rca_map.v', 'SYNTH_FA_MAP': '/home/donn/.volare/sky130A/libs.tech/openlane/sky130_fd_sc_hd/fa_map.v', 'SYNTH_MUX_MAP': '/home/donn/.volare/sky130A/libs.tech/openlane/sky130_fd_sc_hd/mux2_map.v', 'SYNTH_MUX4_MAP': '/home/donn/.volare/sky130A/libs.tech/openlane/sky130_fd_sc_hd/mux4_map.v', 'CELL_CLK_PORT': 'CLK', 'CTS_ROOT_BUFFER': 'sky130_fd_sc_hd__clkbuf_16', 'CTS_CLK_BUFFERS': ['sky130_fd_sc_hd__clkbuf_8', 'sky130_fd_sc_hd__clkbuf_4', 'sky130_fd_sc_hd__clkbuf_2'], 'CTS_MAX_CAP': Decimal('1.53169'), 'FP_WELLTAP_CELL': 'sky130_fd_sc_hd__tapvpwrvgnd_1', 'FP_ENDCAP_CELL': 'sky130_fd_sc_hd__decap_3', 'FP_PDN_RAILS_LAYER': 'met1', 'FP_PDN_RAIL_WIDTH': Decimal('0.48'), 'FP_PDN_UPPER_LAYER': 'met5', 'FP_PDN_LOWER_LAYER': 'met4', 'PLACE_SITE': 'unithd', 'PLACE_SITE_WIDTH': Decimal('0.460'), 'PLACE_SITE_HEIGHT': Decimal('2.720'), 'GPL_CELL_PADDING': Decimal('0'), 'DPL_CELL_PADDING': Decimal('4'), 'CELL_PAD_EXCLUDE': ['sky130_fd_sc_hd__tap*', 'sky130_fd_sc_hd__decap*', 'sky130_ef_sc_hd__decap*', 'sky130_fd_sc_hd__fill*'], 'DIODE_CELL': 'sky130_fd_sc_hd__diode_2/DIODE', 'FAKEDIODE_CELL': 'sky130_ef_sc_hd__fakediode_2', 'GRT_LAYER_ADJUSTMENTS': [Decimal('0.99'), Decimal('0'), Decimal('0'), Decimal('0'), Decimal('0'), Decimal('0')], 'CVC_SCRIPTS_DIR': '/home/donn/.volare/sky130A/libs.tech/openlane/cvc', 'DESIGN_NAME': 'spm', 'PDK': 'sky130A', 'PRIMARY_SIGNOFF_TOOL': <PRIMARY_SIGNOFF_TOOL.klayout: 'klayout'>, 'CLOCK_PERIOD': Decimal('10'), 'CLOCK_PORT': 'clk', 'CLOCK_NET': 'clk', 'VDD_NETS': None, 'GND_NETS': None, 'DIE_AREA': None, 'EXTRA_VERILOG_MODELS': None, 'EXTRA_SPICE_MODELS': None, 'EXTRA_LEFS': None, 'EXTRA_LIBS': None, 'EXTRA_GDS_FILES': None, 'FP_CONTEXT_DEF': None, 'FP_CONTEXT_LEF': None, 'FP_DEF_TEMPLATE': None, 'SYNTH_USE_PG_PINS_DEFINES': None, 'FP_PADFRAME_CFG': None, 'GRT_OBS': None, 'LVS_INSERT_POWER_PINS': True, 'RUN_KLAYOUT_DRC': False, 'RUN_CVC': True, 'KLAYOUT_DRC_KLAYOUT_GDS': False, 'LEC_ENABLE': False, 'CHECK_UNMAPPED_CELLS': True, 'CHECK_ASSIGN_STATEMENTS': False}"
      ]
     },
     "execution_count": 1,
     "metadata": {},
     "output_type": "execute_result"
    }
   ],
   "source": [
    "import sys\n",
    "import pprint\n",
    "\n",
    "sys.path.insert(0, \"/home/donn/efabless/openlane2/venv/lib64/python3.10/site-packages\")\n",
    "sys.path.insert(0, \"/home/donn/efabless/openlane2\")\n",
    "\n",
    "\n",
    "from openlane.config.builder import ConfigBuilder\n",
    "\n",
    "ConfigBuilder.interactive(\n",
    "    \"spm\",\n",
    "    PDK=\"sky130A\",\n",
    "    CLOCK_PORT=\"clk\",\n",
    "    CLOCK_NET=\"clk\",\n",
    "    CLOCK_PERIOD=10,\n",
    "    PRIMARY_SIGNOFF_TOOL=\"klayout\",\n",
    ")"
   ]
  },
  {
   "cell_type": "code",
   "execution_count": 2,
   "metadata": {},
   "outputs": [
    {
     "data": {
      "text/markdown": [
       "\n",
       "### Synthesis\n",
       "\n",
       "\n",
       "\n",
       "#### Usage\n",
       "\n",
       "<br />\n",
       "\n",
       "```python\n",
       "from openlane.steps.yosys import Synthesis\n",
       "\n",
       "# or\n",
       "\n",
       "from openlane.steps import Step\n",
       "\n",
       "Synthesis = Step.get(\"Yosys.Synthesis\")\n",
       "``` \n",
       "\n",
       "#### Configuration Variables\n",
       "\n",
       "| Variable Name | Type | Description | Default | Units |\n",
       "| - | - | - | - | - |\n",
       "| `MAX_FANOUT_CONSTRAINT` | int | The max load that the output ports can drive to be used as a constraint on Synthesis and CTS. | `10` | cells |\n",
       "| `MAX_TRANSITION_CONSTRAINT` | Decimal? | The max transition time (slew) from high to low or low to high on cell inputs in ns to be used as a constraint on Synthesis and CTS. If not provided, it is calculated at runtime as `10%` of the provided clock period, unless that exceeds the PDK's `DEFAULT_MAX_TRAN` value. | `None` | ns |\n",
       "| `CLOCK_UNCERTAINTY_CONSTRAINT` | Decimal | Specifies a value for the clock uncertainty/jitter for timing analysis. | `0.25` | ns |\n",
       "| `CLOCK_TRANSITION_CONSTRAINT` | Decimal | Specifies a value for the clock transition/slew for timing analysis. | `0.15` | ns |\n",
       "| `TIME_DERATING_CONSTRAINT` | Decimal | Specifies a derating factor to multiply the path delays with. It specifies the upper and lower ranges of timing. | `5` | % |\n",
       "| `IO_DELAY_CONSTRAINT` | Decimal | Specifies the percentage of the clock period used in the input/output delays. | `20` | % |\n",
       "| `VERILOG_FILES` | List[Path] | The paths of the design's Verilog files. | `None` |  |\n",
       "| `SYNTH_AUTONAME` | bool | Generates names for  netlistinstances. This results in instance names that can be very long, but are more human-readable. | `False` |  |\n",
       "| `SYNTH_STRATEGY` | `'AREA 0'\t\\| 'AREA 1'\t\\| 'AREA 2'\t\\| 'AREA 3'\t\\| 'AREA 4'\t\\| 'DELAY 0'\t\\| 'DELAY 1'\t\\| 'DELAY 2'\t\\| 'DELAY 3'\t\\| 'DELAY 4'` | Strategies for abc logic synthesis and technology mapping. AREA strategies usually result in a more compact design, while DELAY strategies usually result in a design that runs at a higher frequency. Please note that there is no way to know which strategy is the best before trying them. | `AREA 0` |  |\n",
       "| `SYNTH_BUFFERING` | bool | Enables `abc` cell buffering. | `True` |  |\n",
       "| `SYNTH_SIZING` | bool | Enables `abc` cell sizing (instead of buffering). | `False` |  |\n",
       "| `SYNTH_READ_BLACKBOX_LIB` | bool | A flag that enable reading the full (untrimmed) liberty file as a blackbox for synthesis. Please note that this is not used in technology mapping. This should only be used when trying to preserve gate instances in the rtl of the design. | `False` |  |\n",
       "| `SYNTH_NO_FLAT` | bool | A flag that disables flattening the hierarchy during synthesis, only flattening it after synthesis, mapping and optimizations. | `False` |  |\n",
       "| `SYNTH_SHARE_RESOURCES` | bool | A flag that enables yosys to reduce the number of cells by determining shareable resources and merging them. | `True` |  |\n",
       "| `SYNTH_ADDER_TYPE` | `'YOSYS'\t\\| 'FA'\t\\| 'RCA'\t\\| 'CSA'` | Adder type to which the $add and $sub operators are mapped to.  Possible values are `YOSYS/FA/RCA/CSA`; where `YOSYS` refers to using Yosys internal adder definition, `FA` refers to full-adder structure, `RCA` refers to ripple carry adder structure, and `CSA` refers to carry select adder. | `YOSYS` |  |\n",
       "| `SYNTH_EXTRA_MAPPING_FILE` | Path? | Points to an extra techmap file for yosys that runs right after yosys `synth` before generic techmap. | `None` |  |\n",
       "| `SYNTH_PARAMETERS` | List[str]? | Key-value pairs to be `chparam`ed in Yosys, in the format `key1=value1`. | `None` |  |\n",
       "| `SYNTH_ELABORATE_ONLY` | bool | \"Elaborate\" the design only without attempting any logic mapping. Useful when dealing with structural Verilog netlists. | `False` |  |\n",
       "| `SYNTH_FLAT_TOP` | bool | Specifies whether or not the top level should be flattened during elaboration. | `False` |  |\n",
       "| `VERILOG_INCLUDE_DIRS` | List[str]? | Specifies the Verilog `include` directories. | `None` |  |\n"
      ],
      "text/plain": [
       "<IPython.core.display.Markdown object>"
      ]
     },
     "metadata": {},
     "output_type": "display_data"
    }
   ],
   "source": [
    "from openlane.steps.yosys import Synthesis\n",
    "\n",
    "Synthesis.display_help()"
   ]
  },
  {
   "cell_type": "code",
   "execution_count": 3,
   "metadata": {
    "scrolled": true
   },
   "outputs": [
    {
     "data": {
      "text/html": [
       "<pre style=\"white-space:pre;overflow-x:auto;line-height:normal;font-family:Menlo,'DejaVu Sans Mono',consolas,'Courier New',monospace\"><span style=\"color: #00ff00; text-decoration-color: #00ff00\">──────────────────────────────────────────────────── </span>Synthesis<span style=\"color: #00ff00; text-decoration-color: #00ff00\"> ────────────────────────────────────────────────────</span>\n",
       "</pre>\n"
      ],
      "text/plain": [
       "\u001b[92m──────────────────────────────────────────────────── \u001b[0mSynthesis\u001b[92m ────────────────────────────────────────────────────\u001b[0m\n"
      ]
     },
     "metadata": {},
     "output_type": "display_data"
    },
    {
     "data": {
      "text/html": [
       "<pre style=\"white-space:pre;overflow-x:auto;line-height:normal;font-family:Menlo,'DejaVu Sans Mono',consolas,'Courier New',monospace\">\n",
       "</pre>\n"
      ],
      "text/plain": [
       "\n"
      ]
     },
     "metadata": {},
     "output_type": "display_data"
    },
    {
     "data": {
      "text/html": [
       "<pre style=\"white-space:pre;overflow-x:auto;line-height:normal;font-family:Menlo,'DejaVu Sans Mono',consolas,'Courier New',monospace\"><span style=\"color: #800080; text-decoration-color: #800080\">/</span><span style=\"color: #ff00ff; text-decoration-color: #ff00ff\">----------------------------------------------------------------------------</span>\\\n",
       "</pre>\n"
      ],
      "text/plain": [
       "\u001b[35m/\u001b[0m\u001b[95m----------------------------------------------------------------------------\u001b[0m\\\n"
      ]
     },
     "metadata": {},
     "output_type": "display_data"
    },
    {
     "data": {
      "text/html": [
       "<pre style=\"white-space:pre;overflow-x:auto;line-height:normal;font-family:Menlo,'DejaVu Sans Mono',consolas,'Courier New',monospace\">|                                                                            |\n",
       "</pre>\n"
      ],
      "text/plain": [
       "|                                                                            |\n"
      ]
     },
     "metadata": {},
     "output_type": "display_data"
    },
    {
     "data": {
      "text/html": [
       "<pre style=\"white-space:pre;overflow-x:auto;line-height:normal;font-family:Menlo,'DejaVu Sans Mono',consolas,'Courier New',monospace\">|  yosys -- Yosys Open SYnthesis Suite                                       |\n",
       "</pre>\n"
      ],
      "text/plain": [
       "|  yosys -- Yosys Open SYnthesis Suite                                       |\n"
      ]
     },
     "metadata": {},
     "output_type": "display_data"
    },
    {
     "data": {
      "text/html": [
       "<pre style=\"white-space:pre;overflow-x:auto;line-height:normal;font-family:Menlo,'DejaVu Sans Mono',consolas,'Courier New',monospace\">|                                                                            |\n",
       "</pre>\n"
      ],
      "text/plain": [
       "|                                                                            |\n"
      ]
     },
     "metadata": {},
     "output_type": "display_data"
    },
    {
     "data": {
      "text/html": [
       "<pre style=\"white-space:pre;overflow-x:auto;line-height:normal;font-family:Menlo,'DejaVu Sans Mono',consolas,'Courier New',monospace\">|  Copyright <span style=\"font-weight: bold\">(</span>C<span style=\"font-weight: bold\">)</span> <span style=\"color: #008080; text-decoration-color: #008080; font-weight: bold\">2012</span> - <span style=\"color: #008080; text-decoration-color: #008080; font-weight: bold\">2020</span>  Claire Xenia Wolf <span style=\"font-weight: bold\">&lt;</span><span style=\"color: #ff00ff; text-decoration-color: #ff00ff; font-weight: bold\">claire</span><span style=\"color: #000000; text-decoration-color: #000000\">@yosyshq.com</span><span style=\"font-weight: bold\">&gt;</span>         |\n",
       "</pre>\n"
      ],
      "text/plain": [
       "|  Copyright \u001b[1m(\u001b[0mC\u001b[1m)\u001b[0m \u001b[1;36m2012\u001b[0m - \u001b[1;36m2020\u001b[0m  Claire Xenia Wolf \u001b[1m<\u001b[0m\u001b[1;95mclaire\u001b[0m\u001b[39m@yosyshq.com\u001b[0m\u001b[1m>\u001b[0m         |\n"
      ]
     },
     "metadata": {},
     "output_type": "display_data"
    },
    {
     "data": {
      "text/html": [
       "<pre style=\"white-space:pre;overflow-x:auto;line-height:normal;font-family:Menlo,'DejaVu Sans Mono',consolas,'Courier New',monospace\">|                                                                            |\n",
       "</pre>\n"
      ],
      "text/plain": [
       "|                                                                            |\n"
      ]
     },
     "metadata": {},
     "output_type": "display_data"
    },
    {
     "data": {
      "text/html": [
       "<pre style=\"white-space:pre;overflow-x:auto;line-height:normal;font-family:Menlo,'DejaVu Sans Mono',consolas,'Courier New',monospace\">|  Permission to use, copy, modify, and/or distribute this software for any  |\n",
       "</pre>\n"
      ],
      "text/plain": [
       "|  Permission to use, copy, modify, and/or distribute this software for any  |\n"
      ]
     },
     "metadata": {},
     "output_type": "display_data"
    },
    {
     "data": {
      "text/html": [
       "<pre style=\"white-space:pre;overflow-x:auto;line-height:normal;font-family:Menlo,'DejaVu Sans Mono',consolas,'Courier New',monospace\">|  purpose with or without fee is hereby granted, provided that the above    |\n",
       "</pre>\n"
      ],
      "text/plain": [
       "|  purpose with or without fee is hereby granted, provided that the above    |\n"
      ]
     },
     "metadata": {},
     "output_type": "display_data"
    },
    {
     "data": {
      "text/html": [
       "<pre style=\"white-space:pre;overflow-x:auto;line-height:normal;font-family:Menlo,'DejaVu Sans Mono',consolas,'Courier New',monospace\">|  copyright notice and this permission notice appear in all copies.         |\n",
       "</pre>\n"
      ],
      "text/plain": [
       "|  copyright notice and this permission notice appear in all copies.         |\n"
      ]
     },
     "metadata": {},
     "output_type": "display_data"
    },
    {
     "data": {
      "text/html": [
       "<pre style=\"white-space:pre;overflow-x:auto;line-height:normal;font-family:Menlo,'DejaVu Sans Mono',consolas,'Courier New',monospace\">|                                                                            |\n",
       "</pre>\n"
      ],
      "text/plain": [
       "|                                                                            |\n"
      ]
     },
     "metadata": {},
     "output_type": "display_data"
    },
    {
     "data": {
      "text/html": [
       "<pre style=\"white-space:pre;overflow-x:auto;line-height:normal;font-family:Menlo,'DejaVu Sans Mono',consolas,'Courier New',monospace\">|  THE SOFTWARE IS PROVIDED <span style=\"color: #008000; text-decoration-color: #008000\">\"AS IS\"</span> AND THE AUTHOR DISCLAIMS ALL WARRANTIES  |\n",
       "</pre>\n"
      ],
      "text/plain": [
       "|  THE SOFTWARE IS PROVIDED \u001b[32m\"AS IS\"\u001b[0m AND THE AUTHOR DISCLAIMS ALL WARRANTIES  |\n"
      ]
     },
     "metadata": {},
     "output_type": "display_data"
    },
    {
     "data": {
      "text/html": [
       "<pre style=\"white-space:pre;overflow-x:auto;line-height:normal;font-family:Menlo,'DejaVu Sans Mono',consolas,'Courier New',monospace\">|  WITH REGARD TO THIS SOFTWARE INCLUDING ALL IMPLIED WARRANTIES OF          |\n",
       "</pre>\n"
      ],
      "text/plain": [
       "|  WITH REGARD TO THIS SOFTWARE INCLUDING ALL IMPLIED WARRANTIES OF          |\n"
      ]
     },
     "metadata": {},
     "output_type": "display_data"
    },
    {
     "data": {
      "text/html": [
       "<pre style=\"white-space:pre;overflow-x:auto;line-height:normal;font-family:Menlo,'DejaVu Sans Mono',consolas,'Courier New',monospace\">|  MERCHANTABILITY AND FITNESS. IN NO EVENT SHALL THE AUTHOR BE LIABLE FOR   |\n",
       "</pre>\n"
      ],
      "text/plain": [
       "|  MERCHANTABILITY AND FITNESS. IN NO EVENT SHALL THE AUTHOR BE LIABLE FOR   |\n"
      ]
     },
     "metadata": {},
     "output_type": "display_data"
    },
    {
     "data": {
      "text/html": [
       "<pre style=\"white-space:pre;overflow-x:auto;line-height:normal;font-family:Menlo,'DejaVu Sans Mono',consolas,'Courier New',monospace\">|  ANY SPECIAL, DIRECT, INDIRECT, OR CONSEQUENTIAL DAMAGES OR ANY DAMAGES    |\n",
       "</pre>\n"
      ],
      "text/plain": [
       "|  ANY SPECIAL, DIRECT, INDIRECT, OR CONSEQUENTIAL DAMAGES OR ANY DAMAGES    |\n"
      ]
     },
     "metadata": {},
     "output_type": "display_data"
    },
    {
     "data": {
      "text/html": [
       "<pre style=\"white-space:pre;overflow-x:auto;line-height:normal;font-family:Menlo,'DejaVu Sans Mono',consolas,'Courier New',monospace\">|  WHATSOEVER RESULTING FROM LOSS OF USE, DATA OR PROFITS, WHETHER IN AN     |\n",
       "</pre>\n"
      ],
      "text/plain": [
       "|  WHATSOEVER RESULTING FROM LOSS OF USE, DATA OR PROFITS, WHETHER IN AN     |\n"
      ]
     },
     "metadata": {},
     "output_type": "display_data"
    },
    {
     "data": {
      "text/html": [
       "<pre style=\"white-space:pre;overflow-x:auto;line-height:normal;font-family:Menlo,'DejaVu Sans Mono',consolas,'Courier New',monospace\">|  ACTION OF CONTRACT, NEGLIGENCE OR OTHER TORTIOUS ACTION, ARISING OUT OF   |\n",
       "</pre>\n"
      ],
      "text/plain": [
       "|  ACTION OF CONTRACT, NEGLIGENCE OR OTHER TORTIOUS ACTION, ARISING OUT OF   |\n"
      ]
     },
     "metadata": {},
     "output_type": "display_data"
    },
    {
     "data": {
      "text/html": [
       "<pre style=\"white-space:pre;overflow-x:auto;line-height:normal;font-family:Menlo,'DejaVu Sans Mono',consolas,'Courier New',monospace\">|  OR IN CONNECTION WITH THE USE OR PERFORMANCE OF THIS SOFTWARE.            |\n",
       "</pre>\n"
      ],
      "text/plain": [
       "|  OR IN CONNECTION WITH THE USE OR PERFORMANCE OF THIS SOFTWARE.            |\n"
      ]
     },
     "metadata": {},
     "output_type": "display_data"
    },
    {
     "data": {
      "text/html": [
       "<pre style=\"white-space:pre;overflow-x:auto;line-height:normal;font-family:Menlo,'DejaVu Sans Mono',consolas,'Courier New',monospace\">|                                                                            |\n",
       "</pre>\n"
      ],
      "text/plain": [
       "|                                                                            |\n"
      ]
     },
     "metadata": {},
     "output_type": "display_data"
    },
    {
     "data": {
      "text/html": [
       "<pre style=\"white-space:pre;overflow-x:auto;line-height:normal;font-family:Menlo,'DejaVu Sans Mono',consolas,'Courier New',monospace\">\\----------------------------------------------------------------------------<span style=\"color: #800080; text-decoration-color: #800080\">/</span>\n",
       "</pre>\n"
      ],
      "text/plain": [
       "\\----------------------------------------------------------------------------\u001b[35m/\u001b[0m\n"
      ]
     },
     "metadata": {},
     "output_type": "display_data"
    },
    {
     "data": {
      "text/html": [
       "<pre style=\"white-space:pre;overflow-x:auto;line-height:normal;font-family:Menlo,'DejaVu Sans Mono',consolas,'Courier New',monospace\">\n",
       "</pre>\n"
      ],
      "text/plain": [
       "\n"
      ]
     },
     "metadata": {},
     "output_type": "display_data"
    },
    {
     "data": {
      "text/html": [
       "<pre style=\"white-space:pre;overflow-x:auto;line-height:normal;font-family:Menlo,'DejaVu Sans Mono',consolas,'Courier New',monospace\">Yosys <span style=\"color: #008080; text-decoration-color: #008080; font-weight: bold\">0.26</span> <span style=\"font-weight: bold\">(</span>git sha1 7e588664e7e, gcc <span style=\"color: #008080; text-decoration-color: #008080; font-weight: bold\">11.3</span>.<span style=\"color: #008080; text-decoration-color: #008080; font-weight: bold\">0</span> -fPIC -Os<span style=\"font-weight: bold\">)</span>\n",
       "</pre>\n"
      ],
      "text/plain": [
       "Yosys \u001b[1;36m0.26\u001b[0m \u001b[1m(\u001b[0mgit sha1 7e588664e7e, gcc \u001b[1;36m11.3\u001b[0m.\u001b[1;36m0\u001b[0m -fPIC -Os\u001b[1m)\u001b[0m\n"
      ]
     },
     "metadata": {},
     "output_type": "display_data"
    },
    {
     "data": {
      "text/html": [
       "<pre style=\"white-space:pre;overflow-x:auto;line-height:normal;font-family:Menlo,'DejaVu Sans Mono',consolas,'Courier New',monospace\">\n",
       "</pre>\n"
      ],
      "text/plain": [
       "\n"
      ]
     },
     "metadata": {},
     "output_type": "display_data"
    },
    {
     "data": {
      "text/html": [
       "<pre style=\"white-space:pre;overflow-x:auto;line-height:normal;font-family:Menlo,'DejaVu Sans Mono',consolas,'Courier New',monospace\"><span style=\"font-weight: bold\">[</span>TCL: yosys -import<span style=\"font-weight: bold\">]</span> Command name collision: found pre-existing command `cd' -&gt; skip.\n",
       "</pre>\n"
      ],
      "text/plain": [
       "\u001b[1m[\u001b[0mTCL: yosys -import\u001b[1m]\u001b[0m Command name collision: found pre-existing command `cd' -> skip.\n"
      ]
     },
     "metadata": {},
     "output_type": "display_data"
    },
    {
     "data": {
      "text/html": [
       "<pre style=\"white-space:pre;overflow-x:auto;line-height:normal;font-family:Menlo,'DejaVu Sans Mono',consolas,'Courier New',monospace\"><span style=\"font-weight: bold\">[</span>TCL: yosys -import<span style=\"font-weight: bold\">]</span> Command name collision: found pre-existing command `eval' -&gt; skip.\n",
       "</pre>\n"
      ],
      "text/plain": [
       "\u001b[1m[\u001b[0mTCL: yosys -import\u001b[1m]\u001b[0m Command name collision: found pre-existing command `eval' -> skip.\n"
      ]
     },
     "metadata": {},
     "output_type": "display_data"
    },
    {
     "data": {
      "text/html": [
       "<pre style=\"white-space:pre;overflow-x:auto;line-height:normal;font-family:Menlo,'DejaVu Sans Mono',consolas,'Courier New',monospace\"><span style=\"font-weight: bold\">[</span>TCL: yosys -import<span style=\"font-weight: bold\">]</span> Command name collision: found pre-existing command `exec' -&gt; skip.\n",
       "</pre>\n"
      ],
      "text/plain": [
       "\u001b[1m[\u001b[0mTCL: yosys -import\u001b[1m]\u001b[0m Command name collision: found pre-existing command `exec' -> skip.\n"
      ]
     },
     "metadata": {},
     "output_type": "display_data"
    },
    {
     "data": {
      "text/html": [
       "<pre style=\"white-space:pre;overflow-x:auto;line-height:normal;font-family:Menlo,'DejaVu Sans Mono',consolas,'Courier New',monospace\"><span style=\"font-weight: bold\">[</span>TCL: yosys -import<span style=\"font-weight: bold\">]</span> Command name collision: found pre-existing command `read' -&gt; skip.\n",
       "</pre>\n"
      ],
      "text/plain": [
       "\u001b[1m[\u001b[0mTCL: yosys -import\u001b[1m]\u001b[0m Command name collision: found pre-existing command `read' -> skip.\n"
      ]
     },
     "metadata": {},
     "output_type": "display_data"
    },
    {
     "data": {
      "text/html": [
       "<pre style=\"white-space:pre;overflow-x:auto;line-height:normal;font-family:Menlo,'DejaVu Sans Mono',consolas,'Courier New',monospace\"><span style=\"font-weight: bold\">[</span>TCL: yosys -import<span style=\"font-weight: bold\">]</span> Command name collision: found pre-existing command `trace' -&gt; skip.\n",
       "</pre>\n"
      ],
      "text/plain": [
       "\u001b[1m[\u001b[0mTCL: yosys -import\u001b[1m]\u001b[0m Command name collision: found pre-existing command `trace' -> skip.\n"
      ]
     },
     "metadata": {},
     "output_type": "display_data"
    },
    {
     "data": {
      "text/html": [
       "<pre style=\"white-space:pre;overflow-x:auto;line-height:normal;font-family:Menlo,'DejaVu Sans Mono',consolas,'Courier New',monospace\">\n",
       "</pre>\n"
      ],
      "text/plain": [
       "\n"
      ]
     },
     "metadata": {},
     "output_type": "display_data"
    },
    {
     "data": {
      "text/html": [
       "<pre style=\"white-space:pre;overflow-x:auto;line-height:normal;font-family:Menlo,'DejaVu Sans Mono',consolas,'Courier New',monospace\"><span style=\"color: #008080; text-decoration-color: #008080; font-weight: bold\">1</span>. Executing Verilog-<span style=\"color: #008080; text-decoration-color: #008080; font-weight: bold\">2005</span> frontend: .<span style=\"color: #800080; text-decoration-color: #800080\">/src/</span><span style=\"color: #ff00ff; text-decoration-color: #ff00ff\">spm.v</span>\n",
       "</pre>\n"
      ],
      "text/plain": [
       "\u001b[1;36m1\u001b[0m. Executing Verilog-\u001b[1;36m2005\u001b[0m frontend: .\u001b[35m/src/\u001b[0m\u001b[95mspm.v\u001b[0m\n"
      ]
     },
     "metadata": {},
     "output_type": "display_data"
    },
    {
     "data": {
      "text/html": [
       "<pre style=\"white-space:pre;overflow-x:auto;line-height:normal;font-family:Menlo,'DejaVu Sans Mono',consolas,'Courier New',monospace\">Parsing SystemVerilog input from `.<span style=\"color: #800080; text-decoration-color: #800080\">/src/</span><span style=\"color: #ff00ff; text-decoration-color: #ff00ff\">spm.v</span>' to AST representation.\n",
       "</pre>\n"
      ],
      "text/plain": [
       "Parsing SystemVerilog input from `.\u001b[35m/src/\u001b[0m\u001b[95mspm.v\u001b[0m' to AST representation.\n"
      ]
     },
     "metadata": {},
     "output_type": "display_data"
    },
    {
     "data": {
      "text/html": [
       "<pre style=\"white-space:pre;overflow-x:auto;line-height:normal;font-family:Menlo,'DejaVu Sans Mono',consolas,'Courier New',monospace\">Generating RTLIL representation for module `\\spm'.\n",
       "</pre>\n"
      ],
      "text/plain": [
       "Generating RTLIL representation for module `\\spm'.\n"
      ]
     },
     "metadata": {},
     "output_type": "display_data"
    },
    {
     "data": {
      "text/html": [
       "<pre style=\"white-space:pre;overflow-x:auto;line-height:normal;font-family:Menlo,'DejaVu Sans Mono',consolas,'Courier New',monospace\">Generating RTLIL representation for module `\\TCMP'.\n",
       "</pre>\n"
      ],
      "text/plain": [
       "Generating RTLIL representation for module `\\TCMP'.\n"
      ]
     },
     "metadata": {},
     "output_type": "display_data"
    },
    {
     "data": {
      "text/html": [
       "<pre style=\"white-space:pre;overflow-x:auto;line-height:normal;font-family:Menlo,'DejaVu Sans Mono',consolas,'Courier New',monospace\">Generating RTLIL representation for module `\\CSADD'.\n",
       "</pre>\n"
      ],
      "text/plain": [
       "Generating RTLIL representation for module `\\CSADD'.\n"
      ]
     },
     "metadata": {},
     "output_type": "display_data"
    },
    {
     "data": {
      "text/html": [
       "<pre style=\"white-space:pre;overflow-x:auto;line-height:normal;font-family:Menlo,'DejaVu Sans Mono',consolas,'Courier New',monospace\">Successfully finished Verilog frontend.\n",
       "</pre>\n"
      ],
      "text/plain": [
       "Successfully finished Verilog frontend.\n"
      ]
     },
     "metadata": {},
     "output_type": "display_data"
    },
    {
     "data": {
      "text/html": [
       "<pre style=\"white-space:pre;overflow-x:auto;line-height:normal;font-family:Menlo,'DejaVu Sans Mono',consolas,'Courier New',monospace\">\n",
       "</pre>\n"
      ],
      "text/plain": [
       "\n"
      ]
     },
     "metadata": {},
     "output_type": "display_data"
    },
    {
     "data": {
      "text/html": [
       "<pre style=\"white-space:pre;overflow-x:auto;line-height:normal;font-family:Menlo,'DejaVu Sans Mono',consolas,'Courier New',monospace\"><span style=\"color: #008080; text-decoration-color: #008080; font-weight: bold\">2</span>. Generating Graphviz representation of design.\n",
       "</pre>\n"
      ],
      "text/plain": [
       "\u001b[1;36m2\u001b[0m. Generating Graphviz representation of design.\n"
      ]
     },
     "metadata": {},
     "output_type": "display_data"
    },
    {
     "data": {
      "text/html": [
       "<pre style=\"white-space:pre;overflow-x:auto;line-height:normal;font-family:Menlo,'DejaVu Sans Mono',consolas,'Courier New',monospace\">Writing dot description to `<span style=\"color: #800080; text-decoration-color: #800080\">/home/donn/efabless/openlane2/examples/spm/run/1-yosys-synthesis/</span><span style=\"color: #ff00ff; text-decoration-color: #ff00ff\">hierarchy.dot</span>'.\n",
       "</pre>\n"
      ],
      "text/plain": [
       "Writing dot description to `\u001b[35m/home/donn/efabless/openlane2/examples/spm/run/1-yosys-synthesis/\u001b[0m\u001b[95mhierarchy.dot\u001b[0m'.\n"
      ]
     },
     "metadata": {},
     "output_type": "display_data"
    },
    {
     "data": {
      "text/html": [
       "<pre style=\"white-space:pre;overflow-x:auto;line-height:normal;font-family:Menlo,'DejaVu Sans Mono',consolas,'Courier New',monospace\">Dumping module spm to page <span style=\"color: #008080; text-decoration-color: #008080; font-weight: bold\">1</span>.\n",
       "</pre>\n"
      ],
      "text/plain": [
       "Dumping module spm to page \u001b[1;36m1\u001b[0m.\n"
      ]
     },
     "metadata": {},
     "output_type": "display_data"
    },
    {
     "data": {
      "text/html": [
       "<pre style=\"white-space:pre;overflow-x:auto;line-height:normal;font-family:Menlo,'DejaVu Sans Mono',consolas,'Courier New',monospace\">\n",
       "</pre>\n"
      ],
      "text/plain": [
       "\n"
      ]
     },
     "metadata": {},
     "output_type": "display_data"
    },
    {
     "data": {
      "text/html": [
       "<pre style=\"white-space:pre;overflow-x:auto;line-height:normal;font-family:Menlo,'DejaVu Sans Mono',consolas,'Courier New',monospace\"><span style=\"color: #008080; text-decoration-color: #008080; font-weight: bold\">3</span>. Executing HIERARCHY pass <span style=\"font-weight: bold\">(</span>managing design hierarchy<span style=\"font-weight: bold\">)</span>.\n",
       "</pre>\n"
      ],
      "text/plain": [
       "\u001b[1;36m3\u001b[0m. Executing HIERARCHY pass \u001b[1m(\u001b[0mmanaging design hierarchy\u001b[1m)\u001b[0m.\n"
      ]
     },
     "metadata": {},
     "output_type": "display_data"
    },
    {
     "data": {
      "text/html": [
       "<pre style=\"white-space:pre;overflow-x:auto;line-height:normal;font-family:Menlo,'DejaVu Sans Mono',consolas,'Courier New',monospace\">\n",
       "</pre>\n"
      ],
      "text/plain": [
       "\n"
      ]
     },
     "metadata": {},
     "output_type": "display_data"
    },
    {
     "data": {
      "text/html": [
       "<pre style=\"white-space:pre;overflow-x:auto;line-height:normal;font-family:Menlo,'DejaVu Sans Mono',consolas,'Courier New',monospace\"><span style=\"color: #008080; text-decoration-color: #008080; font-weight: bold\">3.1</span>. Analyzing design hierarchy..\n",
       "</pre>\n"
      ],
      "text/plain": [
       "\u001b[1;36m3.1\u001b[0m. Analyzing design hierarchy..\n"
      ]
     },
     "metadata": {},
     "output_type": "display_data"
    },
    {
     "data": {
      "text/html": [
       "<pre style=\"white-space:pre;overflow-x:auto;line-height:normal;font-family:Menlo,'DejaVu Sans Mono',consolas,'Courier New',monospace\">Top module:  \\spm\n",
       "</pre>\n"
      ],
      "text/plain": [
       "Top module:  \\spm\n"
      ]
     },
     "metadata": {},
     "output_type": "display_data"
    },
    {
     "data": {
      "text/html": [
       "<pre style=\"white-space:pre;overflow-x:auto;line-height:normal;font-family:Menlo,'DejaVu Sans Mono',consolas,'Courier New',monospace\">Used module:     \\CSADD\n",
       "</pre>\n"
      ],
      "text/plain": [
       "Used module:     \\CSADD\n"
      ]
     },
     "metadata": {},
     "output_type": "display_data"
    },
    {
     "data": {
      "text/html": [
       "<pre style=\"white-space:pre;overflow-x:auto;line-height:normal;font-family:Menlo,'DejaVu Sans Mono',consolas,'Courier New',monospace\">Used module:     \\TCMP\n",
       "</pre>\n"
      ],
      "text/plain": [
       "Used module:     \\TCMP\n"
      ]
     },
     "metadata": {},
     "output_type": "display_data"
    },
    {
     "data": {
      "text/html": [
       "<pre style=\"white-space:pre;overflow-x:auto;line-height:normal;font-family:Menlo,'DejaVu Sans Mono',consolas,'Courier New',monospace\">\n",
       "</pre>\n"
      ],
      "text/plain": [
       "\n"
      ]
     },
     "metadata": {},
     "output_type": "display_data"
    },
    {
     "data": {
      "text/html": [
       "<pre style=\"white-space:pre;overflow-x:auto;line-height:normal;font-family:Menlo,'DejaVu Sans Mono',consolas,'Courier New',monospace\"><span style=\"color: #008080; text-decoration-color: #008080; font-weight: bold\">3.2</span>. Analyzing design hierarchy..\n",
       "</pre>\n"
      ],
      "text/plain": [
       "\u001b[1;36m3.2\u001b[0m. Analyzing design hierarchy..\n"
      ]
     },
     "metadata": {},
     "output_type": "display_data"
    },
    {
     "data": {
      "text/html": [
       "<pre style=\"white-space:pre;overflow-x:auto;line-height:normal;font-family:Menlo,'DejaVu Sans Mono',consolas,'Courier New',monospace\">Top module:  \\spm\n",
       "</pre>\n"
      ],
      "text/plain": [
       "Top module:  \\spm\n"
      ]
     },
     "metadata": {},
     "output_type": "display_data"
    },
    {
     "data": {
      "text/html": [
       "<pre style=\"white-space:pre;overflow-x:auto;line-height:normal;font-family:Menlo,'DejaVu Sans Mono',consolas,'Courier New',monospace\">Used module:     \\CSADD\n",
       "</pre>\n"
      ],
      "text/plain": [
       "Used module:     \\CSADD\n"
      ]
     },
     "metadata": {},
     "output_type": "display_data"
    },
    {
     "data": {
      "text/html": [
       "<pre style=\"white-space:pre;overflow-x:auto;line-height:normal;font-family:Menlo,'DejaVu Sans Mono',consolas,'Courier New',monospace\">Used module:     \\TCMP\n",
       "</pre>\n"
      ],
      "text/plain": [
       "Used module:     \\TCMP\n"
      ]
     },
     "metadata": {},
     "output_type": "display_data"
    },
    {
     "data": {
      "text/html": [
       "<pre style=\"white-space:pre;overflow-x:auto;line-height:normal;font-family:Menlo,'DejaVu Sans Mono',consolas,'Courier New',monospace\">Removed <span style=\"color: #008080; text-decoration-color: #008080; font-weight: bold\">0</span> unused modules.\n",
       "</pre>\n"
      ],
      "text/plain": [
       "Removed \u001b[1;36m0\u001b[0m unused modules.\n"
      ]
     },
     "metadata": {},
     "output_type": "display_data"
    },
    {
     "data": {
      "text/html": [
       "<pre style=\"white-space:pre;overflow-x:auto;line-height:normal;font-family:Menlo,'DejaVu Sans Mono',consolas,'Courier New',monospace\">\n",
       "</pre>\n"
      ],
      "text/plain": [
       "\n"
      ]
     },
     "metadata": {},
     "output_type": "display_data"
    },
    {
     "data": {
      "text/html": [
       "<pre style=\"white-space:pre;overflow-x:auto;line-height:normal;font-family:Menlo,'DejaVu Sans Mono',consolas,'Courier New',monospace\"><span style=\"color: #008080; text-decoration-color: #008080; font-weight: bold\">4</span>. Executing SYNTH pass.\n",
       "</pre>\n"
      ],
      "text/plain": [
       "\u001b[1;36m4\u001b[0m. Executing SYNTH pass.\n"
      ]
     },
     "metadata": {},
     "output_type": "display_data"
    },
    {
     "data": {
      "text/html": [
       "<pre style=\"white-space:pre;overflow-x:auto;line-height:normal;font-family:Menlo,'DejaVu Sans Mono',consolas,'Courier New',monospace\">\n",
       "</pre>\n"
      ],
      "text/plain": [
       "\n"
      ]
     },
     "metadata": {},
     "output_type": "display_data"
    },
    {
     "data": {
      "text/html": [
       "<pre style=\"white-space:pre;overflow-x:auto;line-height:normal;font-family:Menlo,'DejaVu Sans Mono',consolas,'Courier New',monospace\"><span style=\"color: #008080; text-decoration-color: #008080; font-weight: bold\">4.1</span>. Executing HIERARCHY pass <span style=\"font-weight: bold\">(</span>managing design hierarchy<span style=\"font-weight: bold\">)</span>.\n",
       "</pre>\n"
      ],
      "text/plain": [
       "\u001b[1;36m4.1\u001b[0m. Executing HIERARCHY pass \u001b[1m(\u001b[0mmanaging design hierarchy\u001b[1m)\u001b[0m.\n"
      ]
     },
     "metadata": {},
     "output_type": "display_data"
    },
    {
     "data": {
      "text/html": [
       "<pre style=\"white-space:pre;overflow-x:auto;line-height:normal;font-family:Menlo,'DejaVu Sans Mono',consolas,'Courier New',monospace\">\n",
       "</pre>\n"
      ],
      "text/plain": [
       "\n"
      ]
     },
     "metadata": {},
     "output_type": "display_data"
    },
    {
     "data": {
      "text/html": [
       "<pre style=\"white-space:pre;overflow-x:auto;line-height:normal;font-family:Menlo,'DejaVu Sans Mono',consolas,'Courier New',monospace\"><span style=\"color: #008080; text-decoration-color: #008080; font-weight: bold\">4.1</span>.<span style=\"color: #008080; text-decoration-color: #008080; font-weight: bold\">1</span>. Analyzing design hierarchy..\n",
       "</pre>\n"
      ],
      "text/plain": [
       "\u001b[1;36m4.1\u001b[0m.\u001b[1;36m1\u001b[0m. Analyzing design hierarchy..\n"
      ]
     },
     "metadata": {},
     "output_type": "display_data"
    },
    {
     "data": {
      "text/html": [
       "<pre style=\"white-space:pre;overflow-x:auto;line-height:normal;font-family:Menlo,'DejaVu Sans Mono',consolas,'Courier New',monospace\">Top module:  \\spm\n",
       "</pre>\n"
      ],
      "text/plain": [
       "Top module:  \\spm\n"
      ]
     },
     "metadata": {},
     "output_type": "display_data"
    },
    {
     "data": {
      "text/html": [
       "<pre style=\"white-space:pre;overflow-x:auto;line-height:normal;font-family:Menlo,'DejaVu Sans Mono',consolas,'Courier New',monospace\">Used module:     \\CSADD\n",
       "</pre>\n"
      ],
      "text/plain": [
       "Used module:     \\CSADD\n"
      ]
     },
     "metadata": {},
     "output_type": "display_data"
    },
    {
     "data": {
      "text/html": [
       "<pre style=\"white-space:pre;overflow-x:auto;line-height:normal;font-family:Menlo,'DejaVu Sans Mono',consolas,'Courier New',monospace\">Used module:     \\TCMP\n",
       "</pre>\n"
      ],
      "text/plain": [
       "Used module:     \\TCMP\n"
      ]
     },
     "metadata": {},
     "output_type": "display_data"
    },
    {
     "data": {
      "text/html": [
       "<pre style=\"white-space:pre;overflow-x:auto;line-height:normal;font-family:Menlo,'DejaVu Sans Mono',consolas,'Courier New',monospace\">\n",
       "</pre>\n"
      ],
      "text/plain": [
       "\n"
      ]
     },
     "metadata": {},
     "output_type": "display_data"
    },
    {
     "data": {
      "text/html": [
       "<pre style=\"white-space:pre;overflow-x:auto;line-height:normal;font-family:Menlo,'DejaVu Sans Mono',consolas,'Courier New',monospace\"><span style=\"color: #008080; text-decoration-color: #008080; font-weight: bold\">4.1</span>.<span style=\"color: #008080; text-decoration-color: #008080; font-weight: bold\">2</span>. Analyzing design hierarchy..\n",
       "</pre>\n"
      ],
      "text/plain": [
       "\u001b[1;36m4.1\u001b[0m.\u001b[1;36m2\u001b[0m. Analyzing design hierarchy..\n"
      ]
     },
     "metadata": {},
     "output_type": "display_data"
    },
    {
     "data": {
      "text/html": [
       "<pre style=\"white-space:pre;overflow-x:auto;line-height:normal;font-family:Menlo,'DejaVu Sans Mono',consolas,'Courier New',monospace\">Top module:  \\spm\n",
       "</pre>\n"
      ],
      "text/plain": [
       "Top module:  \\spm\n"
      ]
     },
     "metadata": {},
     "output_type": "display_data"
    },
    {
     "data": {
      "text/html": [
       "<pre style=\"white-space:pre;overflow-x:auto;line-height:normal;font-family:Menlo,'DejaVu Sans Mono',consolas,'Courier New',monospace\">Used module:     \\CSADD\n",
       "</pre>\n"
      ],
      "text/plain": [
       "Used module:     \\CSADD\n"
      ]
     },
     "metadata": {},
     "output_type": "display_data"
    },
    {
     "data": {
      "text/html": [
       "<pre style=\"white-space:pre;overflow-x:auto;line-height:normal;font-family:Menlo,'DejaVu Sans Mono',consolas,'Courier New',monospace\">Used module:     \\TCMP\n",
       "</pre>\n"
      ],
      "text/plain": [
       "Used module:     \\TCMP\n"
      ]
     },
     "metadata": {},
     "output_type": "display_data"
    },
    {
     "data": {
      "text/html": [
       "<pre style=\"white-space:pre;overflow-x:auto;line-height:normal;font-family:Menlo,'DejaVu Sans Mono',consolas,'Courier New',monospace\">Removed <span style=\"color: #008080; text-decoration-color: #008080; font-weight: bold\">0</span> unused modules.\n",
       "</pre>\n"
      ],
      "text/plain": [
       "Removed \u001b[1;36m0\u001b[0m unused modules.\n"
      ]
     },
     "metadata": {},
     "output_type": "display_data"
    },
    {
     "data": {
      "text/html": [
       "<pre style=\"white-space:pre;overflow-x:auto;line-height:normal;font-family:Menlo,'DejaVu Sans Mono',consolas,'Courier New',monospace\">\n",
       "</pre>\n"
      ],
      "text/plain": [
       "\n"
      ]
     },
     "metadata": {},
     "output_type": "display_data"
    },
    {
     "data": {
      "text/html": [
       "<pre style=\"white-space:pre;overflow-x:auto;line-height:normal;font-family:Menlo,'DejaVu Sans Mono',consolas,'Courier New',monospace\"><span style=\"color: #008080; text-decoration-color: #008080; font-weight: bold\">4.2</span>. Executing PROC pass <span style=\"font-weight: bold\">(</span>convert processes to netlists<span style=\"font-weight: bold\">)</span>.\n",
       "</pre>\n"
      ],
      "text/plain": [
       "\u001b[1;36m4.2\u001b[0m. Executing PROC pass \u001b[1m(\u001b[0mconvert processes to netlists\u001b[1m)\u001b[0m.\n"
      ]
     },
     "metadata": {},
     "output_type": "display_data"
    },
    {
     "data": {
      "text/html": [
       "<pre style=\"white-space:pre;overflow-x:auto;line-height:normal;font-family:Menlo,'DejaVu Sans Mono',consolas,'Courier New',monospace\">\n",
       "</pre>\n"
      ],
      "text/plain": [
       "\n"
      ]
     },
     "metadata": {},
     "output_type": "display_data"
    },
    {
     "data": {
      "text/html": [
       "<pre style=\"white-space:pre;overflow-x:auto;line-height:normal;font-family:Menlo,'DejaVu Sans Mono',consolas,'Courier New',monospace\"><span style=\"color: #008080; text-decoration-color: #008080; font-weight: bold\">4.2</span>.<span style=\"color: #008080; text-decoration-color: #008080; font-weight: bold\">1</span>. Executing PROC_CLEAN pass <span style=\"font-weight: bold\">(</span>remove empty switches from decision trees<span style=\"font-weight: bold\">)</span>.\n",
       "</pre>\n"
      ],
      "text/plain": [
       "\u001b[1;36m4.2\u001b[0m.\u001b[1;36m1\u001b[0m. Executing PROC_CLEAN pass \u001b[1m(\u001b[0mremove empty switches from decision trees\u001b[1m)\u001b[0m.\n"
      ]
     },
     "metadata": {},
     "output_type": "display_data"
    },
    {
     "data": {
      "text/html": [
       "<pre style=\"white-space:pre;overflow-x:auto;line-height:normal;font-family:Menlo,'DejaVu Sans Mono',consolas,'Courier New',monospace\">Cleaned up <span style=\"color: #008080; text-decoration-color: #008080; font-weight: bold\">0</span> empty switches.\n",
       "</pre>\n"
      ],
      "text/plain": [
       "Cleaned up \u001b[1;36m0\u001b[0m empty switches.\n"
      ]
     },
     "metadata": {},
     "output_type": "display_data"
    },
    {
     "data": {
      "text/html": [
       "<pre style=\"white-space:pre;overflow-x:auto;line-height:normal;font-family:Menlo,'DejaVu Sans Mono',consolas,'Courier New',monospace\">\n",
       "</pre>\n"
      ],
      "text/plain": [
       "\n"
      ]
     },
     "metadata": {},
     "output_type": "display_data"
    },
    {
     "data": {
      "text/html": [
       "<pre style=\"white-space:pre;overflow-x:auto;line-height:normal;font-family:Menlo,'DejaVu Sans Mono',consolas,'Courier New',monospace\"><span style=\"color: #008080; text-decoration-color: #008080; font-weight: bold\">4.2</span>.<span style=\"color: #008080; text-decoration-color: #008080; font-weight: bold\">2</span>. Executing PROC_RMDEAD pass <span style=\"font-weight: bold\">(</span>remove dead branches from decision trees<span style=\"font-weight: bold\">)</span>.\n",
       "</pre>\n"
      ],
      "text/plain": [
       "\u001b[1;36m4.2\u001b[0m.\u001b[1;36m2\u001b[0m. Executing PROC_RMDEAD pass \u001b[1m(\u001b[0mremove dead branches from decision trees\u001b[1m)\u001b[0m.\n"
      ]
     },
     "metadata": {},
     "output_type": "display_data"
    },
    {
     "data": {
      "text/html": [
       "<pre style=\"white-space:pre;overflow-x:auto;line-height:normal;font-family:Menlo,'DejaVu Sans Mono',consolas,'Courier New',monospace\">Marked <span style=\"color: #008080; text-decoration-color: #008080; font-weight: bold\">1</span> switch rules as full_case in process $proc$.<span style=\"color: #800080; text-decoration-color: #800080\">/src/</span><span style=\"color: #ff00ff; text-decoration-color: #ff00ff\">spm.v</span>:<span style=\"color: #008080; text-decoration-color: #008080; font-weight: bold\">72</span>$<span style=\"color: #008080; text-decoration-color: #008080; font-weight: bold\">40</span> in module CSADD.\n",
       "</pre>\n"
      ],
      "text/plain": [
       "Marked \u001b[1;36m1\u001b[0m switch rules as full_case in process $proc$.\u001b[35m/src/\u001b[0m\u001b[95mspm.v\u001b[0m:\u001b[1;36m72\u001b[0m$\u001b[1;36m40\u001b[0m in module CSADD.\n"
      ]
     },
     "metadata": {},
     "output_type": "display_data"
    },
    {
     "data": {
      "text/html": [
       "<pre style=\"white-space:pre;overflow-x:auto;line-height:normal;font-family:Menlo,'DejaVu Sans Mono',consolas,'Courier New',monospace\">Marked <span style=\"color: #008080; text-decoration-color: #008080; font-weight: bold\">1</span> switch rules as full_case in process $proc$.<span style=\"color: #800080; text-decoration-color: #800080\">/src/</span><span style=\"color: #ff00ff; text-decoration-color: #ff00ff\">spm.v</span>:<span style=\"color: #008080; text-decoration-color: #008080; font-weight: bold\">42</span>$<span style=\"color: #008080; text-decoration-color: #008080; font-weight: bold\">33</span> in module TCMP.\n",
       "</pre>\n"
      ],
      "text/plain": [
       "Marked \u001b[1;36m1\u001b[0m switch rules as full_case in process $proc$.\u001b[35m/src/\u001b[0m\u001b[95mspm.v\u001b[0m:\u001b[1;36m42\u001b[0m$\u001b[1;36m33\u001b[0m in module TCMP.\n"
      ]
     },
     "metadata": {},
     "output_type": "display_data"
    },
    {
     "data": {
      "text/html": [
       "<pre style=\"white-space:pre;overflow-x:auto;line-height:normal;font-family:Menlo,'DejaVu Sans Mono',consolas,'Courier New',monospace\">Removed a total of <span style=\"color: #008080; text-decoration-color: #008080; font-weight: bold\">0</span> dead cases.\n",
       "</pre>\n"
      ],
      "text/plain": [
       "Removed a total of \u001b[1;36m0\u001b[0m dead cases.\n"
      ]
     },
     "metadata": {},
     "output_type": "display_data"
    },
    {
     "data": {
      "text/html": [
       "<pre style=\"white-space:pre;overflow-x:auto;line-height:normal;font-family:Menlo,'DejaVu Sans Mono',consolas,'Courier New',monospace\">\n",
       "</pre>\n"
      ],
      "text/plain": [
       "\n"
      ]
     },
     "metadata": {},
     "output_type": "display_data"
    },
    {
     "data": {
      "text/html": [
       "<pre style=\"white-space:pre;overflow-x:auto;line-height:normal;font-family:Menlo,'DejaVu Sans Mono',consolas,'Courier New',monospace\"><span style=\"color: #008080; text-decoration-color: #008080; font-weight: bold\">4.2</span>.<span style=\"color: #008080; text-decoration-color: #008080; font-weight: bold\">3</span>. Executing PROC_PRUNE pass <span style=\"font-weight: bold\">(</span>remove redundant assignments in processes<span style=\"font-weight: bold\">)</span>.\n",
       "</pre>\n"
      ],
      "text/plain": [
       "\u001b[1;36m4.2\u001b[0m.\u001b[1;36m3\u001b[0m. Executing PROC_PRUNE pass \u001b[1m(\u001b[0mremove redundant assignments in processes\u001b[1m)\u001b[0m.\n"
      ]
     },
     "metadata": {},
     "output_type": "display_data"
    },
    {
     "data": {
      "text/html": [
       "<pre style=\"white-space:pre;overflow-x:auto;line-height:normal;font-family:Menlo,'DejaVu Sans Mono',consolas,'Courier New',monospace\">Removed <span style=\"color: #008080; text-decoration-color: #008080; font-weight: bold\">4</span> redundant assignments.\n",
       "</pre>\n"
      ],
      "text/plain": [
       "Removed \u001b[1;36m4\u001b[0m redundant assignments.\n"
      ]
     },
     "metadata": {},
     "output_type": "display_data"
    },
    {
     "data": {
      "text/html": [
       "<pre style=\"white-space:pre;overflow-x:auto;line-height:normal;font-family:Menlo,'DejaVu Sans Mono',consolas,'Courier New',monospace\">Promoted <span style=\"color: #008080; text-decoration-color: #008080; font-weight: bold\">0</span> assignments to connections.\n",
       "</pre>\n"
      ],
      "text/plain": [
       "Promoted \u001b[1;36m0\u001b[0m assignments to connections.\n"
      ]
     },
     "metadata": {},
     "output_type": "display_data"
    },
    {
     "data": {
      "text/html": [
       "<pre style=\"white-space:pre;overflow-x:auto;line-height:normal;font-family:Menlo,'DejaVu Sans Mono',consolas,'Courier New',monospace\">\n",
       "</pre>\n"
      ],
      "text/plain": [
       "\n"
      ]
     },
     "metadata": {},
     "output_type": "display_data"
    },
    {
     "data": {
      "text/html": [
       "<pre style=\"white-space:pre;overflow-x:auto;line-height:normal;font-family:Menlo,'DejaVu Sans Mono',consolas,'Courier New',monospace\"><span style=\"color: #008080; text-decoration-color: #008080; font-weight: bold\">4.2</span>.<span style=\"color: #008080; text-decoration-color: #008080; font-weight: bold\">4</span>. Executing PROC_INIT pass <span style=\"font-weight: bold\">(</span>extract init attributes<span style=\"font-weight: bold\">)</span>.\n",
       "</pre>\n"
      ],
      "text/plain": [
       "\u001b[1;36m4.2\u001b[0m.\u001b[1;36m4\u001b[0m. Executing PROC_INIT pass \u001b[1m(\u001b[0mextract init attributes\u001b[1m)\u001b[0m.\n"
      ]
     },
     "metadata": {},
     "output_type": "display_data"
    },
    {
     "data": {
      "text/html": [
       "<pre style=\"white-space:pre;overflow-x:auto;line-height:normal;font-family:Menlo,'DejaVu Sans Mono',consolas,'Courier New',monospace\">\n",
       "</pre>\n"
      ],
      "text/plain": [
       "\n"
      ]
     },
     "metadata": {},
     "output_type": "display_data"
    },
    {
     "data": {
      "text/html": [
       "<pre style=\"white-space:pre;overflow-x:auto;line-height:normal;font-family:Menlo,'DejaVu Sans Mono',consolas,'Courier New',monospace\"><span style=\"color: #008080; text-decoration-color: #008080; font-weight: bold\">4.2</span>.<span style=\"color: #008080; text-decoration-color: #008080; font-weight: bold\">5</span>. Executing PROC_ARST pass <span style=\"font-weight: bold\">(</span>detect async resets in processes<span style=\"font-weight: bold\">)</span>.\n",
       "</pre>\n"
      ],
      "text/plain": [
       "\u001b[1;36m4.2\u001b[0m.\u001b[1;36m5\u001b[0m. Executing PROC_ARST pass \u001b[1m(\u001b[0mdetect async resets in processes\u001b[1m)\u001b[0m.\n"
      ]
     },
     "metadata": {},
     "output_type": "display_data"
    },
    {
     "data": {
      "text/html": [
       "<pre style=\"white-space:pre;overflow-x:auto;line-height:normal;font-family:Menlo,'DejaVu Sans Mono',consolas,'Courier New',monospace\">Found async reset \\rst in `\\CSADD.$proc$.<span style=\"color: #800080; text-decoration-color: #800080\">/src/</span><span style=\"color: #ff00ff; text-decoration-color: #ff00ff\">spm.v</span>:<span style=\"color: #008080; text-decoration-color: #008080; font-weight: bold\">72</span>$<span style=\"color: #008080; text-decoration-color: #008080; font-weight: bold\">40</span>'.\n",
       "</pre>\n"
      ],
      "text/plain": [
       "Found async reset \\rst in `\\CSADD.$proc$.\u001b[35m/src/\u001b[0m\u001b[95mspm.v\u001b[0m:\u001b[1;36m72\u001b[0m$\u001b[1;36m40\u001b[0m'.\n"
      ]
     },
     "metadata": {},
     "output_type": "display_data"
    },
    {
     "data": {
      "text/html": [
       "<pre style=\"white-space:pre;overflow-x:auto;line-height:normal;font-family:Menlo,'DejaVu Sans Mono',consolas,'Courier New',monospace\">Found async reset \\rst in `\\TCMP.$proc$.<span style=\"color: #800080; text-decoration-color: #800080\">/src/</span><span style=\"color: #ff00ff; text-decoration-color: #ff00ff\">spm.v</span>:<span style=\"color: #008080; text-decoration-color: #008080; font-weight: bold\">42</span>$<span style=\"color: #008080; text-decoration-color: #008080; font-weight: bold\">33</span>'.\n",
       "</pre>\n"
      ],
      "text/plain": [
       "Found async reset \\rst in `\\TCMP.$proc$.\u001b[35m/src/\u001b[0m\u001b[95mspm.v\u001b[0m:\u001b[1;36m42\u001b[0m$\u001b[1;36m33\u001b[0m'.\n"
      ]
     },
     "metadata": {},
     "output_type": "display_data"
    },
    {
     "data": {
      "text/html": [
       "<pre style=\"white-space:pre;overflow-x:auto;line-height:normal;font-family:Menlo,'DejaVu Sans Mono',consolas,'Courier New',monospace\">\n",
       "</pre>\n"
      ],
      "text/plain": [
       "\n"
      ]
     },
     "metadata": {},
     "output_type": "display_data"
    },
    {
     "data": {
      "text/html": [
       "<pre style=\"white-space:pre;overflow-x:auto;line-height:normal;font-family:Menlo,'DejaVu Sans Mono',consolas,'Courier New',monospace\"><span style=\"color: #008080; text-decoration-color: #008080; font-weight: bold\">4.2</span>.<span style=\"color: #008080; text-decoration-color: #008080; font-weight: bold\">6</span>. Executing PROC_ROM pass <span style=\"font-weight: bold\">(</span>convert switches to ROMs<span style=\"font-weight: bold\">)</span>.\n",
       "</pre>\n"
      ],
      "text/plain": [
       "\u001b[1;36m4.2\u001b[0m.\u001b[1;36m6\u001b[0m. Executing PROC_ROM pass \u001b[1m(\u001b[0mconvert switches to ROMs\u001b[1m)\u001b[0m.\n"
      ]
     },
     "metadata": {},
     "output_type": "display_data"
    },
    {
     "data": {
      "text/html": [
       "<pre style=\"white-space:pre;overflow-x:auto;line-height:normal;font-family:Menlo,'DejaVu Sans Mono',consolas,'Courier New',monospace\">Converted <span style=\"color: #008080; text-decoration-color: #008080; font-weight: bold\">0</span> switches.\n",
       "</pre>\n"
      ],
      "text/plain": [
       "Converted \u001b[1;36m0\u001b[0m switches.\n"
      ]
     },
     "metadata": {},
     "output_type": "display_data"
    },
    {
     "data": {
      "text/html": [
       "<pre style=\"white-space:pre;overflow-x:auto;line-height:normal;font-family:Menlo,'DejaVu Sans Mono',consolas,'Courier New',monospace\">\n",
       "</pre>\n"
      ],
      "text/plain": [
       "\n"
      ]
     },
     "metadata": {},
     "output_type": "display_data"
    },
    {
     "data": {
      "text/html": [
       "<pre style=\"white-space:pre;overflow-x:auto;line-height:normal;font-family:Menlo,'DejaVu Sans Mono',consolas,'Courier New',monospace\"><span style=\"color: #008080; text-decoration-color: #008080; font-weight: bold\">4.2</span>.<span style=\"color: #008080; text-decoration-color: #008080; font-weight: bold\">7</span>. Executing PROC_MUX pass <span style=\"font-weight: bold\">(</span>convert decision trees to multiplexers<span style=\"font-weight: bold\">)</span>.\n",
       "</pre>\n"
      ],
      "text/plain": [
       "\u001b[1;36m4.2\u001b[0m.\u001b[1;36m7\u001b[0m. Executing PROC_MUX pass \u001b[1m(\u001b[0mconvert decision trees to multiplexers\u001b[1m)\u001b[0m.\n"
      ]
     },
     "metadata": {},
     "output_type": "display_data"
    },
    {
     "data": {
      "text/html": [
       "<pre style=\"white-space:pre;overflow-x:auto;line-height:normal;font-family:Menlo,'DejaVu Sans Mono',consolas,'Courier New',monospace\">Creating decoders for process `\\CSADD.$proc$.<span style=\"color: #800080; text-decoration-color: #800080\">/src/</span><span style=\"color: #ff00ff; text-decoration-color: #ff00ff\">spm.v</span>:<span style=\"color: #008080; text-decoration-color: #008080; font-weight: bold\">72</span>$<span style=\"color: #008080; text-decoration-color: #008080; font-weight: bold\">40</span>'.\n",
       "</pre>\n"
      ],
      "text/plain": [
       "Creating decoders for process `\\CSADD.$proc$.\u001b[35m/src/\u001b[0m\u001b[95mspm.v\u001b[0m:\u001b[1;36m72\u001b[0m$\u001b[1;36m40\u001b[0m'.\n"
      ]
     },
     "metadata": {},
     "output_type": "display_data"
    },
    {
     "data": {
      "text/html": [
       "<pre style=\"white-space:pre;overflow-x:auto;line-height:normal;font-family:Menlo,'DejaVu Sans Mono',consolas,'Courier New',monospace\"><span style=\"color: #008080; text-decoration-color: #008080; font-weight: bold\">1</span>/<span style=\"color: #008080; text-decoration-color: #008080; font-weight: bold\">2</span>: $<span style=\"color: #008080; text-decoration-color: #008080; font-weight: bold\">0</span>\\sc<span style=\"font-weight: bold\">[</span><span style=\"color: #00ff00; text-decoration-color: #00ff00; font-weight: bold\">0:0</span><span style=\"font-weight: bold\">]</span>\n",
       "</pre>\n"
      ],
      "text/plain": [
       "\u001b[1;36m1\u001b[0m/\u001b[1;36m2\u001b[0m: $\u001b[1;36m0\u001b[0m\\sc\u001b[1m[\u001b[0m\u001b[1;92m0:0\u001b[0m\u001b[1m]\u001b[0m\n"
      ]
     },
     "metadata": {},
     "output_type": "display_data"
    },
    {
     "data": {
      "text/html": [
       "<pre style=\"white-space:pre;overflow-x:auto;line-height:normal;font-family:Menlo,'DejaVu Sans Mono',consolas,'Courier New',monospace\"><span style=\"color: #008080; text-decoration-color: #008080; font-weight: bold\">2</span>/<span style=\"color: #008080; text-decoration-color: #008080; font-weight: bold\">2</span>: $<span style=\"color: #008080; text-decoration-color: #008080; font-weight: bold\">0</span>\\sum<span style=\"font-weight: bold\">[</span><span style=\"color: #00ff00; text-decoration-color: #00ff00; font-weight: bold\">0:0</span><span style=\"font-weight: bold\">]</span>\n",
       "</pre>\n"
      ],
      "text/plain": [
       "\u001b[1;36m2\u001b[0m/\u001b[1;36m2\u001b[0m: $\u001b[1;36m0\u001b[0m\\sum\u001b[1m[\u001b[0m\u001b[1;92m0:0\u001b[0m\u001b[1m]\u001b[0m\n"
      ]
     },
     "metadata": {},
     "output_type": "display_data"
    },
    {
     "data": {
      "text/html": [
       "<pre style=\"white-space:pre;overflow-x:auto;line-height:normal;font-family:Menlo,'DejaVu Sans Mono',consolas,'Courier New',monospace\">Creating decoders for process `\\TCMP.$proc$.<span style=\"color: #800080; text-decoration-color: #800080\">/src/</span><span style=\"color: #ff00ff; text-decoration-color: #ff00ff\">spm.v</span>:<span style=\"color: #008080; text-decoration-color: #008080; font-weight: bold\">42</span>$<span style=\"color: #008080; text-decoration-color: #008080; font-weight: bold\">33</span>'.\n",
       "</pre>\n"
      ],
      "text/plain": [
       "Creating decoders for process `\\TCMP.$proc$.\u001b[35m/src/\u001b[0m\u001b[95mspm.v\u001b[0m:\u001b[1;36m42\u001b[0m$\u001b[1;36m33\u001b[0m'.\n"
      ]
     },
     "metadata": {},
     "output_type": "display_data"
    },
    {
     "data": {
      "text/html": [
       "<pre style=\"white-space:pre;overflow-x:auto;line-height:normal;font-family:Menlo,'DejaVu Sans Mono',consolas,'Courier New',monospace\"><span style=\"color: #008080; text-decoration-color: #008080; font-weight: bold\">1</span>/<span style=\"color: #008080; text-decoration-color: #008080; font-weight: bold\">2</span>: $<span style=\"color: #008080; text-decoration-color: #008080; font-weight: bold\">0</span>\\s<span style=\"font-weight: bold\">[</span><span style=\"color: #00ff00; text-decoration-color: #00ff00; font-weight: bold\">0:0</span><span style=\"font-weight: bold\">]</span>\n",
       "</pre>\n"
      ],
      "text/plain": [
       "\u001b[1;36m1\u001b[0m/\u001b[1;36m2\u001b[0m: $\u001b[1;36m0\u001b[0m\\s\u001b[1m[\u001b[0m\u001b[1;92m0:0\u001b[0m\u001b[1m]\u001b[0m\n"
      ]
     },
     "metadata": {},
     "output_type": "display_data"
    },
    {
     "data": {
      "text/html": [
       "<pre style=\"white-space:pre;overflow-x:auto;line-height:normal;font-family:Menlo,'DejaVu Sans Mono',consolas,'Courier New',monospace\"><span style=\"color: #008080; text-decoration-color: #008080; font-weight: bold\">2</span>/<span style=\"color: #008080; text-decoration-color: #008080; font-weight: bold\">2</span>: $<span style=\"color: #008080; text-decoration-color: #008080; font-weight: bold\">0</span>\\z<span style=\"font-weight: bold\">[</span><span style=\"color: #00ff00; text-decoration-color: #00ff00; font-weight: bold\">0:0</span><span style=\"font-weight: bold\">]</span>\n",
       "</pre>\n"
      ],
      "text/plain": [
       "\u001b[1;36m2\u001b[0m/\u001b[1;36m2\u001b[0m: $\u001b[1;36m0\u001b[0m\\z\u001b[1m[\u001b[0m\u001b[1;92m0:0\u001b[0m\u001b[1m]\u001b[0m\n"
      ]
     },
     "metadata": {},
     "output_type": "display_data"
    },
    {
     "data": {
      "text/html": [
       "<pre style=\"white-space:pre;overflow-x:auto;line-height:normal;font-family:Menlo,'DejaVu Sans Mono',consolas,'Courier New',monospace\">\n",
       "</pre>\n"
      ],
      "text/plain": [
       "\n"
      ]
     },
     "metadata": {},
     "output_type": "display_data"
    },
    {
     "data": {
      "text/html": [
       "<pre style=\"white-space:pre;overflow-x:auto;line-height:normal;font-family:Menlo,'DejaVu Sans Mono',consolas,'Courier New',monospace\"><span style=\"color: #008080; text-decoration-color: #008080; font-weight: bold\">4.2</span>.<span style=\"color: #008080; text-decoration-color: #008080; font-weight: bold\">8</span>. Executing PROC_DLATCH pass <span style=\"font-weight: bold\">(</span>convert process syncs to latches<span style=\"font-weight: bold\">)</span>.\n",
       "</pre>\n"
      ],
      "text/plain": [
       "\u001b[1;36m4.2\u001b[0m.\u001b[1;36m8\u001b[0m. Executing PROC_DLATCH pass \u001b[1m(\u001b[0mconvert process syncs to latches\u001b[1m)\u001b[0m.\n"
      ]
     },
     "metadata": {},
     "output_type": "display_data"
    },
    {
     "data": {
      "text/html": [
       "<pre style=\"white-space:pre;overflow-x:auto;line-height:normal;font-family:Menlo,'DejaVu Sans Mono',consolas,'Courier New',monospace\">\n",
       "</pre>\n"
      ],
      "text/plain": [
       "\n"
      ]
     },
     "metadata": {},
     "output_type": "display_data"
    },
    {
     "data": {
      "text/html": [
       "<pre style=\"white-space:pre;overflow-x:auto;line-height:normal;font-family:Menlo,'DejaVu Sans Mono',consolas,'Courier New',monospace\"><span style=\"color: #008080; text-decoration-color: #008080; font-weight: bold\">4.2</span>.<span style=\"color: #008080; text-decoration-color: #008080; font-weight: bold\">9</span>. Executing PROC_DFF pass <span style=\"font-weight: bold\">(</span>convert process syncs to FFs<span style=\"font-weight: bold\">)</span>.\n",
       "</pre>\n"
      ],
      "text/plain": [
       "\u001b[1;36m4.2\u001b[0m.\u001b[1;36m9\u001b[0m. Executing PROC_DFF pass \u001b[1m(\u001b[0mconvert process syncs to FFs\u001b[1m)\u001b[0m.\n"
      ]
     },
     "metadata": {},
     "output_type": "display_data"
    },
    {
     "data": {
      "text/html": [
       "<pre style=\"white-space:pre;overflow-x:auto;line-height:normal;font-family:Menlo,'DejaVu Sans Mono',consolas,'Courier New',monospace\">Creating register for signal `\\CSADD.\\sum' using process `\\CSADD.$proc$.<span style=\"color: #800080; text-decoration-color: #800080\">/src/</span><span style=\"color: #ff00ff; text-decoration-color: #ff00ff\">spm.v</span>:<span style=\"color: #008080; text-decoration-color: #008080; font-weight: bold\">72</span>$<span style=\"color: #008080; text-decoration-color: #008080; font-weight: bold\">40</span>'.\n",
       "</pre>\n"
      ],
      "text/plain": [
       "Creating register for signal `\\CSADD.\\sum' using process `\\CSADD.$proc$.\u001b[35m/src/\u001b[0m\u001b[95mspm.v\u001b[0m:\u001b[1;36m72\u001b[0m$\u001b[1;36m40\u001b[0m'.\n"
      ]
     },
     "metadata": {},
     "output_type": "display_data"
    },
    {
     "data": {
      "text/html": [
       "<pre style=\"white-space:pre;overflow-x:auto;line-height:normal;font-family:Menlo,'DejaVu Sans Mono',consolas,'Courier New',monospace\">created $adff cell `$procdff$<span style=\"color: #008080; text-decoration-color: #008080; font-weight: bold\">42</span>' with positive edge clock and positive level reset.\n",
       "</pre>\n"
      ],
      "text/plain": [
       "created $adff cell `$procdff$\u001b[1;36m42\u001b[0m' with positive edge clock and positive level reset.\n"
      ]
     },
     "metadata": {},
     "output_type": "display_data"
    },
    {
     "data": {
      "text/html": [
       "<pre style=\"white-space:pre;overflow-x:auto;line-height:normal;font-family:Menlo,'DejaVu Sans Mono',consolas,'Courier New',monospace\">Creating register for signal `\\CSADD.\\sc' using process `\\CSADD.$proc$.<span style=\"color: #800080; text-decoration-color: #800080\">/src/</span><span style=\"color: #ff00ff; text-decoration-color: #ff00ff\">spm.v</span>:<span style=\"color: #008080; text-decoration-color: #008080; font-weight: bold\">72</span>$<span style=\"color: #008080; text-decoration-color: #008080; font-weight: bold\">40</span>'.\n",
       "</pre>\n"
      ],
      "text/plain": [
       "Creating register for signal `\\CSADD.\\sc' using process `\\CSADD.$proc$.\u001b[35m/src/\u001b[0m\u001b[95mspm.v\u001b[0m:\u001b[1;36m72\u001b[0m$\u001b[1;36m40\u001b[0m'.\n"
      ]
     },
     "metadata": {},
     "output_type": "display_data"
    },
    {
     "data": {
      "text/html": [
       "<pre style=\"white-space:pre;overflow-x:auto;line-height:normal;font-family:Menlo,'DejaVu Sans Mono',consolas,'Courier New',monospace\">created $adff cell `$procdff$<span style=\"color: #008080; text-decoration-color: #008080; font-weight: bold\">43</span>' with positive edge clock and positive level reset.\n",
       "</pre>\n"
      ],
      "text/plain": [
       "created $adff cell `$procdff$\u001b[1;36m43\u001b[0m' with positive edge clock and positive level reset.\n"
      ]
     },
     "metadata": {},
     "output_type": "display_data"
    },
    {
     "data": {
      "text/html": [
       "<pre style=\"white-space:pre;overflow-x:auto;line-height:normal;font-family:Menlo,'DejaVu Sans Mono',consolas,'Courier New',monospace\">Creating register for signal `\\TCMP.\\s' using process `\\TCMP.$proc$.<span style=\"color: #800080; text-decoration-color: #800080\">/src/</span><span style=\"color: #ff00ff; text-decoration-color: #ff00ff\">spm.v</span>:<span style=\"color: #008080; text-decoration-color: #008080; font-weight: bold\">42</span>$<span style=\"color: #008080; text-decoration-color: #008080; font-weight: bold\">33</span>'.\n",
       "</pre>\n"
      ],
      "text/plain": [
       "Creating register for signal `\\TCMP.\\s' using process `\\TCMP.$proc$.\u001b[35m/src/\u001b[0m\u001b[95mspm.v\u001b[0m:\u001b[1;36m42\u001b[0m$\u001b[1;36m33\u001b[0m'.\n"
      ]
     },
     "metadata": {},
     "output_type": "display_data"
    },
    {
     "data": {
      "text/html": [
       "<pre style=\"white-space:pre;overflow-x:auto;line-height:normal;font-family:Menlo,'DejaVu Sans Mono',consolas,'Courier New',monospace\">created $adff cell `$procdff$<span style=\"color: #008080; text-decoration-color: #008080; font-weight: bold\">44</span>' with positive edge clock and positive level reset.\n",
       "</pre>\n"
      ],
      "text/plain": [
       "created $adff cell `$procdff$\u001b[1;36m44\u001b[0m' with positive edge clock and positive level reset.\n"
      ]
     },
     "metadata": {},
     "output_type": "display_data"
    },
    {
     "data": {
      "text/html": [
       "<pre style=\"white-space:pre;overflow-x:auto;line-height:normal;font-family:Menlo,'DejaVu Sans Mono',consolas,'Courier New',monospace\">Creating register for signal `\\TCMP.\\z' using process `\\TCMP.$proc$.<span style=\"color: #800080; text-decoration-color: #800080\">/src/</span><span style=\"color: #ff00ff; text-decoration-color: #ff00ff\">spm.v</span>:<span style=\"color: #008080; text-decoration-color: #008080; font-weight: bold\">42</span>$<span style=\"color: #008080; text-decoration-color: #008080; font-weight: bold\">33</span>'.\n",
       "</pre>\n"
      ],
      "text/plain": [
       "Creating register for signal `\\TCMP.\\z' using process `\\TCMP.$proc$.\u001b[35m/src/\u001b[0m\u001b[95mspm.v\u001b[0m:\u001b[1;36m42\u001b[0m$\u001b[1;36m33\u001b[0m'.\n"
      ]
     },
     "metadata": {},
     "output_type": "display_data"
    },
    {
     "data": {
      "text/html": [
       "<pre style=\"white-space:pre;overflow-x:auto;line-height:normal;font-family:Menlo,'DejaVu Sans Mono',consolas,'Courier New',monospace\">created $adff cell `$procdff$<span style=\"color: #008080; text-decoration-color: #008080; font-weight: bold\">45</span>' with positive edge clock and positive level reset.\n",
       "</pre>\n"
      ],
      "text/plain": [
       "created $adff cell `$procdff$\u001b[1;36m45\u001b[0m' with positive edge clock and positive level reset.\n"
      ]
     },
     "metadata": {},
     "output_type": "display_data"
    },
    {
     "data": {
      "text/html": [
       "<pre style=\"white-space:pre;overflow-x:auto;line-height:normal;font-family:Menlo,'DejaVu Sans Mono',consolas,'Courier New',monospace\">\n",
       "</pre>\n"
      ],
      "text/plain": [
       "\n"
      ]
     },
     "metadata": {},
     "output_type": "display_data"
    },
    {
     "data": {
      "text/html": [
       "<pre style=\"white-space:pre;overflow-x:auto;line-height:normal;font-family:Menlo,'DejaVu Sans Mono',consolas,'Courier New',monospace\"><span style=\"color: #008080; text-decoration-color: #008080; font-weight: bold\">4.2</span>.<span style=\"color: #008080; text-decoration-color: #008080; font-weight: bold\">10</span>. Executing PROC_MEMWR pass <span style=\"font-weight: bold\">(</span>convert process memory writes to cells<span style=\"font-weight: bold\">)</span>.\n",
       "</pre>\n"
      ],
      "text/plain": [
       "\u001b[1;36m4.2\u001b[0m.\u001b[1;36m10\u001b[0m. Executing PROC_MEMWR pass \u001b[1m(\u001b[0mconvert process memory writes to cells\u001b[1m)\u001b[0m.\n"
      ]
     },
     "metadata": {},
     "output_type": "display_data"
    },
    {
     "data": {
      "text/html": [
       "<pre style=\"white-space:pre;overflow-x:auto;line-height:normal;font-family:Menlo,'DejaVu Sans Mono',consolas,'Courier New',monospace\">\n",
       "</pre>\n"
      ],
      "text/plain": [
       "\n"
      ]
     },
     "metadata": {},
     "output_type": "display_data"
    },
    {
     "data": {
      "text/html": [
       "<pre style=\"white-space:pre;overflow-x:auto;line-height:normal;font-family:Menlo,'DejaVu Sans Mono',consolas,'Courier New',monospace\"><span style=\"color: #008080; text-decoration-color: #008080; font-weight: bold\">4.2</span>.<span style=\"color: #008080; text-decoration-color: #008080; font-weight: bold\">11</span>. Executing PROC_CLEAN pass <span style=\"font-weight: bold\">(</span>remove empty switches from decision trees<span style=\"font-weight: bold\">)</span>.\n",
       "</pre>\n"
      ],
      "text/plain": [
       "\u001b[1;36m4.2\u001b[0m.\u001b[1;36m11\u001b[0m. Executing PROC_CLEAN pass \u001b[1m(\u001b[0mremove empty switches from decision trees\u001b[1m)\u001b[0m.\n"
      ]
     },
     "metadata": {},
     "output_type": "display_data"
    },
    {
     "data": {
      "text/html": [
       "<pre style=\"white-space:pre;overflow-x:auto;line-height:normal;font-family:Menlo,'DejaVu Sans Mono',consolas,'Courier New',monospace\">Removing empty process `CSADD.$proc$.<span style=\"color: #800080; text-decoration-color: #800080\">/src/</span><span style=\"color: #ff00ff; text-decoration-color: #ff00ff\">spm.v</span>:<span style=\"color: #008080; text-decoration-color: #008080; font-weight: bold\">72</span>$<span style=\"color: #008080; text-decoration-color: #008080; font-weight: bold\">40</span>'.\n",
       "</pre>\n"
      ],
      "text/plain": [
       "Removing empty process `CSADD.$proc$.\u001b[35m/src/\u001b[0m\u001b[95mspm.v\u001b[0m:\u001b[1;36m72\u001b[0m$\u001b[1;36m40\u001b[0m'.\n"
      ]
     },
     "metadata": {},
     "output_type": "display_data"
    },
    {
     "data": {
      "text/html": [
       "<pre style=\"white-space:pre;overflow-x:auto;line-height:normal;font-family:Menlo,'DejaVu Sans Mono',consolas,'Courier New',monospace\">Removing empty process `TCMP.$proc$.<span style=\"color: #800080; text-decoration-color: #800080\">/src/</span><span style=\"color: #ff00ff; text-decoration-color: #ff00ff\">spm.v</span>:<span style=\"color: #008080; text-decoration-color: #008080; font-weight: bold\">42</span>$<span style=\"color: #008080; text-decoration-color: #008080; font-weight: bold\">33</span>'.\n",
       "</pre>\n"
      ],
      "text/plain": [
       "Removing empty process `TCMP.$proc$.\u001b[35m/src/\u001b[0m\u001b[95mspm.v\u001b[0m:\u001b[1;36m42\u001b[0m$\u001b[1;36m33\u001b[0m'.\n"
      ]
     },
     "metadata": {},
     "output_type": "display_data"
    },
    {
     "data": {
      "text/html": [
       "<pre style=\"white-space:pre;overflow-x:auto;line-height:normal;font-family:Menlo,'DejaVu Sans Mono',consolas,'Courier New',monospace\">Cleaned up <span style=\"color: #008080; text-decoration-color: #008080; font-weight: bold\">0</span> empty switches.\n",
       "</pre>\n"
      ],
      "text/plain": [
       "Cleaned up \u001b[1;36m0\u001b[0m empty switches.\n"
      ]
     },
     "metadata": {},
     "output_type": "display_data"
    },
    {
     "data": {
      "text/html": [
       "<pre style=\"white-space:pre;overflow-x:auto;line-height:normal;font-family:Menlo,'DejaVu Sans Mono',consolas,'Courier New',monospace\">\n",
       "</pre>\n"
      ],
      "text/plain": [
       "\n"
      ]
     },
     "metadata": {},
     "output_type": "display_data"
    },
    {
     "data": {
      "text/html": [
       "<pre style=\"white-space:pre;overflow-x:auto;line-height:normal;font-family:Menlo,'DejaVu Sans Mono',consolas,'Courier New',monospace\"><span style=\"color: #008080; text-decoration-color: #008080; font-weight: bold\">4.2</span>.<span style=\"color: #008080; text-decoration-color: #008080; font-weight: bold\">12</span>. Executing OPT_EXPR pass <span style=\"font-weight: bold\">(</span>perform const folding<span style=\"font-weight: bold\">)</span>.\n",
       "</pre>\n"
      ],
      "text/plain": [
       "\u001b[1;36m4.2\u001b[0m.\u001b[1;36m12\u001b[0m. Executing OPT_EXPR pass \u001b[1m(\u001b[0mperform const folding\u001b[1m)\u001b[0m.\n"
      ]
     },
     "metadata": {},
     "output_type": "display_data"
    },
    {
     "data": {
      "text/html": [
       "<pre style=\"white-space:pre;overflow-x:auto;line-height:normal;font-family:Menlo,'DejaVu Sans Mono',consolas,'Courier New',monospace\">Optimizing module CSADD.\n",
       "</pre>\n"
      ],
      "text/plain": [
       "Optimizing module CSADD.\n"
      ]
     },
     "metadata": {},
     "output_type": "display_data"
    },
    {
     "data": {
      "text/html": [
       "<pre style=\"white-space:pre;overflow-x:auto;line-height:normal;font-family:Menlo,'DejaVu Sans Mono',consolas,'Courier New',monospace\">Optimizing module TCMP.\n",
       "</pre>\n"
      ],
      "text/plain": [
       "Optimizing module TCMP.\n"
      ]
     },
     "metadata": {},
     "output_type": "display_data"
    },
    {
     "data": {
      "text/html": [
       "<pre style=\"white-space:pre;overflow-x:auto;line-height:normal;font-family:Menlo,'DejaVu Sans Mono',consolas,'Courier New',monospace\">Optimizing module spm.\n",
       "</pre>\n"
      ],
      "text/plain": [
       "Optimizing module spm.\n"
      ]
     },
     "metadata": {},
     "output_type": "display_data"
    },
    {
     "data": {
      "text/html": [
       "<pre style=\"white-space:pre;overflow-x:auto;line-height:normal;font-family:Menlo,'DejaVu Sans Mono',consolas,'Courier New',monospace\">\n",
       "</pre>\n"
      ],
      "text/plain": [
       "\n"
      ]
     },
     "metadata": {},
     "output_type": "display_data"
    },
    {
     "data": {
      "text/html": [
       "<pre style=\"white-space:pre;overflow-x:auto;line-height:normal;font-family:Menlo,'DejaVu Sans Mono',consolas,'Courier New',monospace\"><span style=\"color: #008080; text-decoration-color: #008080; font-weight: bold\">4.3</span>. Executing FLATTEN pass <span style=\"font-weight: bold\">(</span>flatten design<span style=\"font-weight: bold\">)</span>.\n",
       "</pre>\n"
      ],
      "text/plain": [
       "\u001b[1;36m4.3\u001b[0m. Executing FLATTEN pass \u001b[1m(\u001b[0mflatten design\u001b[1m)\u001b[0m.\n"
      ]
     },
     "metadata": {},
     "output_type": "display_data"
    },
    {
     "data": {
      "text/html": [
       "<pre style=\"white-space:pre;overflow-x:auto;line-height:normal;font-family:Menlo,'DejaVu Sans Mono',consolas,'Courier New',monospace\">Deleting now unused module CSADD.\n",
       "</pre>\n"
      ],
      "text/plain": [
       "Deleting now unused module CSADD.\n"
      ]
     },
     "metadata": {},
     "output_type": "display_data"
    },
    {
     "data": {
      "text/html": [
       "<pre style=\"white-space:pre;overflow-x:auto;line-height:normal;font-family:Menlo,'DejaVu Sans Mono',consolas,'Courier New',monospace\">Deleting now unused module TCMP.\n",
       "</pre>\n"
      ],
      "text/plain": [
       "Deleting now unused module TCMP.\n"
      ]
     },
     "metadata": {},
     "output_type": "display_data"
    },
    {
     "data": {
      "text/html": [
       "<pre style=\"white-space:pre;overflow-x:auto;line-height:normal;font-family:Menlo,'DejaVu Sans Mono',consolas,'Courier New',monospace\"><span style=\"font-weight: bold\">&lt;</span><span style=\"color: #ff00ff; text-decoration-color: #ff00ff; font-weight: bold\">suppressed</span><span style=\"color: #000000; text-decoration-color: #000000\"> ~</span><span style=\"color: #008080; text-decoration-color: #008080; font-weight: bold\">32</span><span style=\"color: #000000; text-decoration-color: #000000\"> debug messages</span><span style=\"font-weight: bold\">&gt;</span>\n",
       "</pre>\n"
      ],
      "text/plain": [
       "\u001b[1m<\u001b[0m\u001b[1;95msuppressed\u001b[0m\u001b[39m ~\u001b[0m\u001b[1;36m32\u001b[0m\u001b[39m debug messages\u001b[0m\u001b[1m>\u001b[0m\n"
      ]
     },
     "metadata": {},
     "output_type": "display_data"
    },
    {
     "data": {
      "text/html": [
       "<pre style=\"white-space:pre;overflow-x:auto;line-height:normal;font-family:Menlo,'DejaVu Sans Mono',consolas,'Courier New',monospace\">\n",
       "</pre>\n"
      ],
      "text/plain": [
       "\n"
      ]
     },
     "metadata": {},
     "output_type": "display_data"
    },
    {
     "data": {
      "text/html": [
       "<pre style=\"white-space:pre;overflow-x:auto;line-height:normal;font-family:Menlo,'DejaVu Sans Mono',consolas,'Courier New',monospace\"><span style=\"color: #008080; text-decoration-color: #008080; font-weight: bold\">4.4</span>. Executing OPT_EXPR pass <span style=\"font-weight: bold\">(</span>perform const folding<span style=\"font-weight: bold\">)</span>.\n",
       "</pre>\n"
      ],
      "text/plain": [
       "\u001b[1;36m4.4\u001b[0m. Executing OPT_EXPR pass \u001b[1m(\u001b[0mperform const folding\u001b[1m)\u001b[0m.\n"
      ]
     },
     "metadata": {},
     "output_type": "display_data"
    },
    {
     "data": {
      "text/html": [
       "<pre style=\"white-space:pre;overflow-x:auto;line-height:normal;font-family:Menlo,'DejaVu Sans Mono',consolas,'Courier New',monospace\">Optimizing module spm.\n",
       "</pre>\n"
      ],
      "text/plain": [
       "Optimizing module spm.\n"
      ]
     },
     "metadata": {},
     "output_type": "display_data"
    },
    {
     "data": {
      "text/html": [
       "<pre style=\"white-space:pre;overflow-x:auto;line-height:normal;font-family:Menlo,'DejaVu Sans Mono',consolas,'Courier New',monospace\">\n",
       "</pre>\n"
      ],
      "text/plain": [
       "\n"
      ]
     },
     "metadata": {},
     "output_type": "display_data"
    },
    {
     "data": {
      "text/html": [
       "<pre style=\"white-space:pre;overflow-x:auto;line-height:normal;font-family:Menlo,'DejaVu Sans Mono',consolas,'Courier New',monospace\"><span style=\"color: #008080; text-decoration-color: #008080; font-weight: bold\">4.5</span>. Executing OPT_CLEAN pass <span style=\"font-weight: bold\">(</span>remove unused cells and wires<span style=\"font-weight: bold\">)</span>.\n",
       "</pre>\n"
      ],
      "text/plain": [
       "\u001b[1;36m4.5\u001b[0m. Executing OPT_CLEAN pass \u001b[1m(\u001b[0mremove unused cells and wires\u001b[1m)\u001b[0m.\n"
      ]
     },
     "metadata": {},
     "output_type": "display_data"
    },
    {
     "data": {
      "text/html": [
       "<pre style=\"white-space:pre;overflow-x:auto;line-height:normal;font-family:Menlo,'DejaVu Sans Mono',consolas,'Courier New',monospace\">Finding unused cells or wires in module \\spm..\n",
       "</pre>\n"
      ],
      "text/plain": [
       "Finding unused cells or wires in module \\spm..\n"
      ]
     },
     "metadata": {},
     "output_type": "display_data"
    },
    {
     "data": {
      "text/html": [
       "<pre style=\"white-space:pre;overflow-x:auto;line-height:normal;font-family:Menlo,'DejaVu Sans Mono',consolas,'Courier New',monospace\">Removed <span style=\"color: #008080; text-decoration-color: #008080; font-weight: bold\">0</span> unused cells and <span style=\"color: #008080; text-decoration-color: #008080; font-weight: bold\">221</span> unused wires.\n",
       "</pre>\n"
      ],
      "text/plain": [
       "Removed \u001b[1;36m0\u001b[0m unused cells and \u001b[1;36m221\u001b[0m unused wires.\n"
      ]
     },
     "metadata": {},
     "output_type": "display_data"
    },
    {
     "data": {
      "text/html": [
       "<pre style=\"white-space:pre;overflow-x:auto;line-height:normal;font-family:Menlo,'DejaVu Sans Mono',consolas,'Courier New',monospace\"><span style=\"font-weight: bold\">&lt;</span><span style=\"color: #ff00ff; text-decoration-color: #ff00ff; font-weight: bold\">suppressed</span><span style=\"color: #000000; text-decoration-color: #000000\"> ~</span><span style=\"color: #008080; text-decoration-color: #008080; font-weight: bold\">2</span><span style=\"color: #000000; text-decoration-color: #000000\"> debug messages</span><span style=\"font-weight: bold\">&gt;</span>\n",
       "</pre>\n"
      ],
      "text/plain": [
       "\u001b[1m<\u001b[0m\u001b[1;95msuppressed\u001b[0m\u001b[39m ~\u001b[0m\u001b[1;36m2\u001b[0m\u001b[39m debug messages\u001b[0m\u001b[1m>\u001b[0m\n"
      ]
     },
     "metadata": {},
     "output_type": "display_data"
    },
    {
     "data": {
      "text/html": [
       "<pre style=\"white-space:pre;overflow-x:auto;line-height:normal;font-family:Menlo,'DejaVu Sans Mono',consolas,'Courier New',monospace\">\n",
       "</pre>\n"
      ],
      "text/plain": [
       "\n"
      ]
     },
     "metadata": {},
     "output_type": "display_data"
    },
    {
     "data": {
      "text/html": [
       "<pre style=\"white-space:pre;overflow-x:auto;line-height:normal;font-family:Menlo,'DejaVu Sans Mono',consolas,'Courier New',monospace\"><span style=\"color: #008080; text-decoration-color: #008080; font-weight: bold\">4.6</span>. Executing CHECK pass <span style=\"font-weight: bold\">(</span>checking for obvious problems<span style=\"font-weight: bold\">)</span>.\n",
       "</pre>\n"
      ],
      "text/plain": [
       "\u001b[1;36m4.6\u001b[0m. Executing CHECK pass \u001b[1m(\u001b[0mchecking for obvious problems\u001b[1m)\u001b[0m.\n"
      ]
     },
     "metadata": {},
     "output_type": "display_data"
    },
    {
     "data": {
      "text/html": [
       "<pre style=\"white-space:pre;overflow-x:auto;line-height:normal;font-family:Menlo,'DejaVu Sans Mono',consolas,'Courier New',monospace\">Checking module spm<span style=\"color: #808000; text-decoration-color: #808000\">...</span>\n",
       "</pre>\n"
      ],
      "text/plain": [
       "Checking module spm\u001b[33m...\u001b[0m\n"
      ]
     },
     "metadata": {},
     "output_type": "display_data"
    },
    {
     "data": {
      "text/html": [
       "<pre style=\"white-space:pre;overflow-x:auto;line-height:normal;font-family:Menlo,'DejaVu Sans Mono',consolas,'Courier New',monospace\">Found and reported <span style=\"color: #008080; text-decoration-color: #008080; font-weight: bold\">0</span> problems.\n",
       "</pre>\n"
      ],
      "text/plain": [
       "Found and reported \u001b[1;36m0\u001b[0m problems.\n"
      ]
     },
     "metadata": {},
     "output_type": "display_data"
    },
    {
     "data": {
      "text/html": [
       "<pre style=\"white-space:pre;overflow-x:auto;line-height:normal;font-family:Menlo,'DejaVu Sans Mono',consolas,'Courier New',monospace\">\n",
       "</pre>\n"
      ],
      "text/plain": [
       "\n"
      ]
     },
     "metadata": {},
     "output_type": "display_data"
    },
    {
     "data": {
      "text/html": [
       "<pre style=\"white-space:pre;overflow-x:auto;line-height:normal;font-family:Menlo,'DejaVu Sans Mono',consolas,'Courier New',monospace\"><span style=\"color: #008080; text-decoration-color: #008080; font-weight: bold\">4.7</span>. Executing OPT pass <span style=\"font-weight: bold\">(</span>performing simple optimizations<span style=\"font-weight: bold\">)</span>.\n",
       "</pre>\n"
      ],
      "text/plain": [
       "\u001b[1;36m4.7\u001b[0m. Executing OPT pass \u001b[1m(\u001b[0mperforming simple optimizations\u001b[1m)\u001b[0m.\n"
      ]
     },
     "metadata": {},
     "output_type": "display_data"
    },
    {
     "data": {
      "text/html": [
       "<pre style=\"white-space:pre;overflow-x:auto;line-height:normal;font-family:Menlo,'DejaVu Sans Mono',consolas,'Courier New',monospace\">\n",
       "</pre>\n"
      ],
      "text/plain": [
       "\n"
      ]
     },
     "metadata": {},
     "output_type": "display_data"
    },
    {
     "data": {
      "text/html": [
       "<pre style=\"white-space:pre;overflow-x:auto;line-height:normal;font-family:Menlo,'DejaVu Sans Mono',consolas,'Courier New',monospace\"><span style=\"color: #008080; text-decoration-color: #008080; font-weight: bold\">4.7</span>.<span style=\"color: #008080; text-decoration-color: #008080; font-weight: bold\">1</span>. Executing OPT_EXPR pass <span style=\"font-weight: bold\">(</span>perform const folding<span style=\"font-weight: bold\">)</span>.\n",
       "</pre>\n"
      ],
      "text/plain": [
       "\u001b[1;36m4.7\u001b[0m.\u001b[1;36m1\u001b[0m. Executing OPT_EXPR pass \u001b[1m(\u001b[0mperform const folding\u001b[1m)\u001b[0m.\n"
      ]
     },
     "metadata": {},
     "output_type": "display_data"
    },
    {
     "data": {
      "text/html": [
       "<pre style=\"white-space:pre;overflow-x:auto;line-height:normal;font-family:Menlo,'DejaVu Sans Mono',consolas,'Courier New',monospace\">Optimizing module spm.\n",
       "</pre>\n"
      ],
      "text/plain": [
       "Optimizing module spm.\n"
      ]
     },
     "metadata": {},
     "output_type": "display_data"
    },
    {
     "data": {
      "text/html": [
       "<pre style=\"white-space:pre;overflow-x:auto;line-height:normal;font-family:Menlo,'DejaVu Sans Mono',consolas,'Courier New',monospace\">\n",
       "</pre>\n"
      ],
      "text/plain": [
       "\n"
      ]
     },
     "metadata": {},
     "output_type": "display_data"
    },
    {
     "data": {
      "text/html": [
       "<pre style=\"white-space:pre;overflow-x:auto;line-height:normal;font-family:Menlo,'DejaVu Sans Mono',consolas,'Courier New',monospace\"><span style=\"color: #008080; text-decoration-color: #008080; font-weight: bold\">4.7</span>.<span style=\"color: #008080; text-decoration-color: #008080; font-weight: bold\">2</span>. Executing OPT_MERGE pass <span style=\"font-weight: bold\">(</span>detect identical cells<span style=\"font-weight: bold\">)</span>.\n",
       "</pre>\n"
      ],
      "text/plain": [
       "\u001b[1;36m4.7\u001b[0m.\u001b[1;36m2\u001b[0m. Executing OPT_MERGE pass \u001b[1m(\u001b[0mdetect identical cells\u001b[1m)\u001b[0m.\n"
      ]
     },
     "metadata": {},
     "output_type": "display_data"
    },
    {
     "data": {
      "text/html": [
       "<pre style=\"white-space:pre;overflow-x:auto;line-height:normal;font-family:Menlo,'DejaVu Sans Mono',consolas,'Courier New',monospace\">Finding identical cells in module `\\spm'.\n",
       "</pre>\n"
      ],
      "text/plain": [
       "Finding identical cells in module `\\spm'.\n"
      ]
     },
     "metadata": {},
     "output_type": "display_data"
    },
    {
     "data": {
      "text/html": [
       "<pre style=\"white-space:pre;overflow-x:auto;line-height:normal;font-family:Menlo,'DejaVu Sans Mono',consolas,'Courier New',monospace\">Removed a total of <span style=\"color: #008080; text-decoration-color: #008080; font-weight: bold\">0</span> cells.\n",
       "</pre>\n"
      ],
      "text/plain": [
       "Removed a total of \u001b[1;36m0\u001b[0m cells.\n"
      ]
     },
     "metadata": {},
     "output_type": "display_data"
    },
    {
     "data": {
      "text/html": [
       "<pre style=\"white-space:pre;overflow-x:auto;line-height:normal;font-family:Menlo,'DejaVu Sans Mono',consolas,'Courier New',monospace\">\n",
       "</pre>\n"
      ],
      "text/plain": [
       "\n"
      ]
     },
     "metadata": {},
     "output_type": "display_data"
    },
    {
     "data": {
      "text/html": [
       "<pre style=\"white-space:pre;overflow-x:auto;line-height:normal;font-family:Menlo,'DejaVu Sans Mono',consolas,'Courier New',monospace\"><span style=\"color: #008080; text-decoration-color: #008080; font-weight: bold\">4.7</span>.<span style=\"color: #008080; text-decoration-color: #008080; font-weight: bold\">3</span>. Executing OPT_MUXTREE pass <span style=\"font-weight: bold\">(</span>detect dead branches in mux trees<span style=\"font-weight: bold\">)</span>.\n",
       "</pre>\n"
      ],
      "text/plain": [
       "\u001b[1;36m4.7\u001b[0m.\u001b[1;36m3\u001b[0m. Executing OPT_MUXTREE pass \u001b[1m(\u001b[0mdetect dead branches in mux trees\u001b[1m)\u001b[0m.\n"
      ]
     },
     "metadata": {},
     "output_type": "display_data"
    },
    {
     "data": {
      "text/html": [
       "<pre style=\"white-space:pre;overflow-x:auto;line-height:normal;font-family:Menlo,'DejaVu Sans Mono',consolas,'Courier New',monospace\">Running muxtree optimizer on module \\spm..\n",
       "</pre>\n"
      ],
      "text/plain": [
       "Running muxtree optimizer on module \\spm..\n"
      ]
     },
     "metadata": {},
     "output_type": "display_data"
    },
    {
     "data": {
      "text/html": [
       "<pre style=\"white-space:pre;overflow-x:auto;line-height:normal;font-family:Menlo,'DejaVu Sans Mono',consolas,'Courier New',monospace\">Creating internal representation of mux trees.\n",
       "</pre>\n"
      ],
      "text/plain": [
       "Creating internal representation of mux trees.\n"
      ]
     },
     "metadata": {},
     "output_type": "display_data"
    },
    {
     "data": {
      "text/html": [
       "<pre style=\"white-space:pre;overflow-x:auto;line-height:normal;font-family:Menlo,'DejaVu Sans Mono',consolas,'Courier New',monospace\">No muxes found in this module.\n",
       "</pre>\n"
      ],
      "text/plain": [
       "No muxes found in this module.\n"
      ]
     },
     "metadata": {},
     "output_type": "display_data"
    },
    {
     "data": {
      "text/html": [
       "<pre style=\"white-space:pre;overflow-x:auto;line-height:normal;font-family:Menlo,'DejaVu Sans Mono',consolas,'Courier New',monospace\">Removed <span style=\"color: #008080; text-decoration-color: #008080; font-weight: bold\">0</span> multiplexer ports.\n",
       "</pre>\n"
      ],
      "text/plain": [
       "Removed \u001b[1;36m0\u001b[0m multiplexer ports.\n"
      ]
     },
     "metadata": {},
     "output_type": "display_data"
    },
    {
     "data": {
      "text/html": [
       "<pre style=\"white-space:pre;overflow-x:auto;line-height:normal;font-family:Menlo,'DejaVu Sans Mono',consolas,'Courier New',monospace\">\n",
       "</pre>\n"
      ],
      "text/plain": [
       "\n"
      ]
     },
     "metadata": {},
     "output_type": "display_data"
    },
    {
     "data": {
      "text/html": [
       "<pre style=\"white-space:pre;overflow-x:auto;line-height:normal;font-family:Menlo,'DejaVu Sans Mono',consolas,'Courier New',monospace\"><span style=\"color: #008080; text-decoration-color: #008080; font-weight: bold\">4.7</span>.<span style=\"color: #008080; text-decoration-color: #008080; font-weight: bold\">4</span>. Executing OPT_REDUCE pass <span style=\"font-weight: bold\">(</span>consolidate $*mux and $reduce_* inputs<span style=\"font-weight: bold\">)</span>.\n",
       "</pre>\n"
      ],
      "text/plain": [
       "\u001b[1;36m4.7\u001b[0m.\u001b[1;36m4\u001b[0m. Executing OPT_REDUCE pass \u001b[1m(\u001b[0mconsolidate $*mux and $reduce_* inputs\u001b[1m)\u001b[0m.\n"
      ]
     },
     "metadata": {},
     "output_type": "display_data"
    },
    {
     "data": {
      "text/html": [
       "<pre style=\"white-space:pre;overflow-x:auto;line-height:normal;font-family:Menlo,'DejaVu Sans Mono',consolas,'Courier New',monospace\">Optimizing cells in module \\spm.\n",
       "</pre>\n"
      ],
      "text/plain": [
       "Optimizing cells in module \\spm.\n"
      ]
     },
     "metadata": {},
     "output_type": "display_data"
    },
    {
     "data": {
      "text/html": [
       "<pre style=\"white-space:pre;overflow-x:auto;line-height:normal;font-family:Menlo,'DejaVu Sans Mono',consolas,'Courier New',monospace\">Performed a total of <span style=\"color: #008080; text-decoration-color: #008080; font-weight: bold\">0</span> changes.\n",
       "</pre>\n"
      ],
      "text/plain": [
       "Performed a total of \u001b[1;36m0\u001b[0m changes.\n"
      ]
     },
     "metadata": {},
     "output_type": "display_data"
    },
    {
     "data": {
      "text/html": [
       "<pre style=\"white-space:pre;overflow-x:auto;line-height:normal;font-family:Menlo,'DejaVu Sans Mono',consolas,'Courier New',monospace\">\n",
       "</pre>\n"
      ],
      "text/plain": [
       "\n"
      ]
     },
     "metadata": {},
     "output_type": "display_data"
    },
    {
     "data": {
      "text/html": [
       "<pre style=\"white-space:pre;overflow-x:auto;line-height:normal;font-family:Menlo,'DejaVu Sans Mono',consolas,'Courier New',monospace\"><span style=\"color: #008080; text-decoration-color: #008080; font-weight: bold\">4.7</span>.<span style=\"color: #008080; text-decoration-color: #008080; font-weight: bold\">5</span>. Executing OPT_MERGE pass <span style=\"font-weight: bold\">(</span>detect identical cells<span style=\"font-weight: bold\">)</span>.\n",
       "</pre>\n"
      ],
      "text/plain": [
       "\u001b[1;36m4.7\u001b[0m.\u001b[1;36m5\u001b[0m. Executing OPT_MERGE pass \u001b[1m(\u001b[0mdetect identical cells\u001b[1m)\u001b[0m.\n"
      ]
     },
     "metadata": {},
     "output_type": "display_data"
    },
    {
     "data": {
      "text/html": [
       "<pre style=\"white-space:pre;overflow-x:auto;line-height:normal;font-family:Menlo,'DejaVu Sans Mono',consolas,'Courier New',monospace\">Finding identical cells in module `\\spm'.\n",
       "</pre>\n"
      ],
      "text/plain": [
       "Finding identical cells in module `\\spm'.\n"
      ]
     },
     "metadata": {},
     "output_type": "display_data"
    },
    {
     "data": {
      "text/html": [
       "<pre style=\"white-space:pre;overflow-x:auto;line-height:normal;font-family:Menlo,'DejaVu Sans Mono',consolas,'Courier New',monospace\">Removed a total of <span style=\"color: #008080; text-decoration-color: #008080; font-weight: bold\">0</span> cells.\n",
       "</pre>\n"
      ],
      "text/plain": [
       "Removed a total of \u001b[1;36m0\u001b[0m cells.\n"
      ]
     },
     "metadata": {},
     "output_type": "display_data"
    },
    {
     "data": {
      "text/html": [
       "<pre style=\"white-space:pre;overflow-x:auto;line-height:normal;font-family:Menlo,'DejaVu Sans Mono',consolas,'Courier New',monospace\">\n",
       "</pre>\n"
      ],
      "text/plain": [
       "\n"
      ]
     },
     "metadata": {},
     "output_type": "display_data"
    },
    {
     "data": {
      "text/html": [
       "<pre style=\"white-space:pre;overflow-x:auto;line-height:normal;font-family:Menlo,'DejaVu Sans Mono',consolas,'Courier New',monospace\"><span style=\"color: #008080; text-decoration-color: #008080; font-weight: bold\">4.7</span>.<span style=\"color: #008080; text-decoration-color: #008080; font-weight: bold\">6</span>. Executing OPT_DFF pass <span style=\"font-weight: bold\">(</span>perform DFF optimizations<span style=\"font-weight: bold\">)</span>.\n",
       "</pre>\n"
      ],
      "text/plain": [
       "\u001b[1;36m4.7\u001b[0m.\u001b[1;36m6\u001b[0m. Executing OPT_DFF pass \u001b[1m(\u001b[0mperform DFF optimizations\u001b[1m)\u001b[0m.\n"
      ]
     },
     "metadata": {},
     "output_type": "display_data"
    },
    {
     "data": {
      "text/html": [
       "<pre style=\"white-space:pre;overflow-x:auto;line-height:normal;font-family:Menlo,'DejaVu Sans Mono',consolas,'Courier New',monospace\">\n",
       "</pre>\n"
      ],
      "text/plain": [
       "\n"
      ]
     },
     "metadata": {},
     "output_type": "display_data"
    },
    {
     "data": {
      "text/html": [
       "<pre style=\"white-space:pre;overflow-x:auto;line-height:normal;font-family:Menlo,'DejaVu Sans Mono',consolas,'Courier New',monospace\"><span style=\"color: #008080; text-decoration-color: #008080; font-weight: bold\">4.7</span>.<span style=\"color: #008080; text-decoration-color: #008080; font-weight: bold\">7</span>. Executing OPT_CLEAN pass <span style=\"font-weight: bold\">(</span>remove unused cells and wires<span style=\"font-weight: bold\">)</span>.\n",
       "</pre>\n"
      ],
      "text/plain": [
       "\u001b[1;36m4.7\u001b[0m.\u001b[1;36m7\u001b[0m. Executing OPT_CLEAN pass \u001b[1m(\u001b[0mremove unused cells and wires\u001b[1m)\u001b[0m.\n"
      ]
     },
     "metadata": {},
     "output_type": "display_data"
    },
    {
     "data": {
      "text/html": [
       "<pre style=\"white-space:pre;overflow-x:auto;line-height:normal;font-family:Menlo,'DejaVu Sans Mono',consolas,'Courier New',monospace\">Finding unused cells or wires in module \\spm..\n",
       "</pre>\n"
      ],
      "text/plain": [
       "Finding unused cells or wires in module \\spm..\n"
      ]
     },
     "metadata": {},
     "output_type": "display_data"
    },
    {
     "data": {
      "text/html": [
       "<pre style=\"white-space:pre;overflow-x:auto;line-height:normal;font-family:Menlo,'DejaVu Sans Mono',consolas,'Courier New',monospace\">\n",
       "</pre>\n"
      ],
      "text/plain": [
       "\n"
      ]
     },
     "metadata": {},
     "output_type": "display_data"
    },
    {
     "data": {
      "text/html": [
       "<pre style=\"white-space:pre;overflow-x:auto;line-height:normal;font-family:Menlo,'DejaVu Sans Mono',consolas,'Courier New',monospace\"><span style=\"color: #008080; text-decoration-color: #008080; font-weight: bold\">4.7</span>.<span style=\"color: #008080; text-decoration-color: #008080; font-weight: bold\">8</span>. Executing OPT_EXPR pass <span style=\"font-weight: bold\">(</span>perform const folding<span style=\"font-weight: bold\">)</span>.\n",
       "</pre>\n"
      ],
      "text/plain": [
       "\u001b[1;36m4.7\u001b[0m.\u001b[1;36m8\u001b[0m. Executing OPT_EXPR pass \u001b[1m(\u001b[0mperform const folding\u001b[1m)\u001b[0m.\n"
      ]
     },
     "metadata": {},
     "output_type": "display_data"
    },
    {
     "data": {
      "text/html": [
       "<pre style=\"white-space:pre;overflow-x:auto;line-height:normal;font-family:Menlo,'DejaVu Sans Mono',consolas,'Courier New',monospace\">Optimizing module spm.\n",
       "</pre>\n"
      ],
      "text/plain": [
       "Optimizing module spm.\n"
      ]
     },
     "metadata": {},
     "output_type": "display_data"
    },
    {
     "data": {
      "text/html": [
       "<pre style=\"white-space:pre;overflow-x:auto;line-height:normal;font-family:Menlo,'DejaVu Sans Mono',consolas,'Courier New',monospace\">\n",
       "</pre>\n"
      ],
      "text/plain": [
       "\n"
      ]
     },
     "metadata": {},
     "output_type": "display_data"
    },
    {
     "data": {
      "text/html": [
       "<pre style=\"white-space:pre;overflow-x:auto;line-height:normal;font-family:Menlo,'DejaVu Sans Mono',consolas,'Courier New',monospace\"><span style=\"color: #008080; text-decoration-color: #008080; font-weight: bold\">4.7</span>.<span style=\"color: #008080; text-decoration-color: #008080; font-weight: bold\">9</span>. Finished OPT passes. <span style=\"font-weight: bold\">(</span>There is nothing left to do.<span style=\"font-weight: bold\">)</span>\n",
       "</pre>\n"
      ],
      "text/plain": [
       "\u001b[1;36m4.7\u001b[0m.\u001b[1;36m9\u001b[0m. Finished OPT passes. \u001b[1m(\u001b[0mThere is nothing left to do.\u001b[1m)\u001b[0m\n"
      ]
     },
     "metadata": {},
     "output_type": "display_data"
    },
    {
     "data": {
      "text/html": [
       "<pre style=\"white-space:pre;overflow-x:auto;line-height:normal;font-family:Menlo,'DejaVu Sans Mono',consolas,'Courier New',monospace\">\n",
       "</pre>\n"
      ],
      "text/plain": [
       "\n"
      ]
     },
     "metadata": {},
     "output_type": "display_data"
    },
    {
     "data": {
      "text/html": [
       "<pre style=\"white-space:pre;overflow-x:auto;line-height:normal;font-family:Menlo,'DejaVu Sans Mono',consolas,'Courier New',monospace\"><span style=\"color: #008080; text-decoration-color: #008080; font-weight: bold\">4.8</span>. Executing FSM pass <span style=\"font-weight: bold\">(</span>extract and optimize FSM<span style=\"font-weight: bold\">)</span>.\n",
       "</pre>\n"
      ],
      "text/plain": [
       "\u001b[1;36m4.8\u001b[0m. Executing FSM pass \u001b[1m(\u001b[0mextract and optimize FSM\u001b[1m)\u001b[0m.\n"
      ]
     },
     "metadata": {},
     "output_type": "display_data"
    },
    {
     "data": {
      "text/html": [
       "<pre style=\"white-space:pre;overflow-x:auto;line-height:normal;font-family:Menlo,'DejaVu Sans Mono',consolas,'Courier New',monospace\">\n",
       "</pre>\n"
      ],
      "text/plain": [
       "\n"
      ]
     },
     "metadata": {},
     "output_type": "display_data"
    },
    {
     "data": {
      "text/html": [
       "<pre style=\"white-space:pre;overflow-x:auto;line-height:normal;font-family:Menlo,'DejaVu Sans Mono',consolas,'Courier New',monospace\"><span style=\"color: #008080; text-decoration-color: #008080; font-weight: bold\">4.8</span>.<span style=\"color: #008080; text-decoration-color: #008080; font-weight: bold\">1</span>. Executing FSM_DETECT pass <span style=\"font-weight: bold\">(</span>finding FSMs in design<span style=\"font-weight: bold\">)</span>.\n",
       "</pre>\n"
      ],
      "text/plain": [
       "\u001b[1;36m4.8\u001b[0m.\u001b[1;36m1\u001b[0m. Executing FSM_DETECT pass \u001b[1m(\u001b[0mfinding FSMs in design\u001b[1m)\u001b[0m.\n"
      ]
     },
     "metadata": {},
     "output_type": "display_data"
    },
    {
     "data": {
      "text/html": [
       "<pre style=\"white-space:pre;overflow-x:auto;line-height:normal;font-family:Menlo,'DejaVu Sans Mono',consolas,'Courier New',monospace\">\n",
       "</pre>\n"
      ],
      "text/plain": [
       "\n"
      ]
     },
     "metadata": {},
     "output_type": "display_data"
    },
    {
     "data": {
      "text/html": [
       "<pre style=\"white-space:pre;overflow-x:auto;line-height:normal;font-family:Menlo,'DejaVu Sans Mono',consolas,'Courier New',monospace\"><span style=\"color: #008080; text-decoration-color: #008080; font-weight: bold\">4.8</span>.<span style=\"color: #008080; text-decoration-color: #008080; font-weight: bold\">2</span>. Executing FSM_EXTRACT pass <span style=\"font-weight: bold\">(</span>extracting FSM from design<span style=\"font-weight: bold\">)</span>.\n",
       "</pre>\n"
      ],
      "text/plain": [
       "\u001b[1;36m4.8\u001b[0m.\u001b[1;36m2\u001b[0m. Executing FSM_EXTRACT pass \u001b[1m(\u001b[0mextracting FSM from design\u001b[1m)\u001b[0m.\n"
      ]
     },
     "metadata": {},
     "output_type": "display_data"
    },
    {
     "data": {
      "text/html": [
       "<pre style=\"white-space:pre;overflow-x:auto;line-height:normal;font-family:Menlo,'DejaVu Sans Mono',consolas,'Courier New',monospace\">\n",
       "</pre>\n"
      ],
      "text/plain": [
       "\n"
      ]
     },
     "metadata": {},
     "output_type": "display_data"
    },
    {
     "data": {
      "text/html": [
       "<pre style=\"white-space:pre;overflow-x:auto;line-height:normal;font-family:Menlo,'DejaVu Sans Mono',consolas,'Courier New',monospace\"><span style=\"color: #008080; text-decoration-color: #008080; font-weight: bold\">4.8</span>.<span style=\"color: #008080; text-decoration-color: #008080; font-weight: bold\">3</span>. Executing FSM_OPT pass <span style=\"font-weight: bold\">(</span>simple optimizations of FSMs<span style=\"font-weight: bold\">)</span>.\n",
       "</pre>\n"
      ],
      "text/plain": [
       "\u001b[1;36m4.8\u001b[0m.\u001b[1;36m3\u001b[0m. Executing FSM_OPT pass \u001b[1m(\u001b[0msimple optimizations of FSMs\u001b[1m)\u001b[0m.\n"
      ]
     },
     "metadata": {},
     "output_type": "display_data"
    },
    {
     "data": {
      "text/html": [
       "<pre style=\"white-space:pre;overflow-x:auto;line-height:normal;font-family:Menlo,'DejaVu Sans Mono',consolas,'Courier New',monospace\">\n",
       "</pre>\n"
      ],
      "text/plain": [
       "\n"
      ]
     },
     "metadata": {},
     "output_type": "display_data"
    },
    {
     "data": {
      "text/html": [
       "<pre style=\"white-space:pre;overflow-x:auto;line-height:normal;font-family:Menlo,'DejaVu Sans Mono',consolas,'Courier New',monospace\"><span style=\"color: #008080; text-decoration-color: #008080; font-weight: bold\">4.8</span>.<span style=\"color: #008080; text-decoration-color: #008080; font-weight: bold\">4</span>. Executing OPT_CLEAN pass <span style=\"font-weight: bold\">(</span>remove unused cells and wires<span style=\"font-weight: bold\">)</span>.\n",
       "</pre>\n"
      ],
      "text/plain": [
       "\u001b[1;36m4.8\u001b[0m.\u001b[1;36m4\u001b[0m. Executing OPT_CLEAN pass \u001b[1m(\u001b[0mremove unused cells and wires\u001b[1m)\u001b[0m.\n"
      ]
     },
     "metadata": {},
     "output_type": "display_data"
    },
    {
     "data": {
      "text/html": [
       "<pre style=\"white-space:pre;overflow-x:auto;line-height:normal;font-family:Menlo,'DejaVu Sans Mono',consolas,'Courier New',monospace\">Finding unused cells or wires in module \\spm..\n",
       "</pre>\n"
      ],
      "text/plain": [
       "Finding unused cells or wires in module \\spm..\n"
      ]
     },
     "metadata": {},
     "output_type": "display_data"
    },
    {
     "data": {
      "text/html": [
       "<pre style=\"white-space:pre;overflow-x:auto;line-height:normal;font-family:Menlo,'DejaVu Sans Mono',consolas,'Courier New',monospace\">\n",
       "</pre>\n"
      ],
      "text/plain": [
       "\n"
      ]
     },
     "metadata": {},
     "output_type": "display_data"
    },
    {
     "data": {
      "text/html": [
       "<pre style=\"white-space:pre;overflow-x:auto;line-height:normal;font-family:Menlo,'DejaVu Sans Mono',consolas,'Courier New',monospace\"><span style=\"color: #008080; text-decoration-color: #008080; font-weight: bold\">4.8</span>.<span style=\"color: #008080; text-decoration-color: #008080; font-weight: bold\">5</span>. Executing FSM_OPT pass <span style=\"font-weight: bold\">(</span>simple optimizations of FSMs<span style=\"font-weight: bold\">)</span>.\n",
       "</pre>\n"
      ],
      "text/plain": [
       "\u001b[1;36m4.8\u001b[0m.\u001b[1;36m5\u001b[0m. Executing FSM_OPT pass \u001b[1m(\u001b[0msimple optimizations of FSMs\u001b[1m)\u001b[0m.\n"
      ]
     },
     "metadata": {},
     "output_type": "display_data"
    },
    {
     "data": {
      "text/html": [
       "<pre style=\"white-space:pre;overflow-x:auto;line-height:normal;font-family:Menlo,'DejaVu Sans Mono',consolas,'Courier New',monospace\">\n",
       "</pre>\n"
      ],
      "text/plain": [
       "\n"
      ]
     },
     "metadata": {},
     "output_type": "display_data"
    },
    {
     "data": {
      "text/html": [
       "<pre style=\"white-space:pre;overflow-x:auto;line-height:normal;font-family:Menlo,'DejaVu Sans Mono',consolas,'Courier New',monospace\"><span style=\"color: #008080; text-decoration-color: #008080; font-weight: bold\">4.8</span>.<span style=\"color: #008080; text-decoration-color: #008080; font-weight: bold\">6</span>. Executing FSM_RECODE pass <span style=\"font-weight: bold\">(</span>re-assigning FSM state encoding<span style=\"font-weight: bold\">)</span>.\n",
       "</pre>\n"
      ],
      "text/plain": [
       "\u001b[1;36m4.8\u001b[0m.\u001b[1;36m6\u001b[0m. Executing FSM_RECODE pass \u001b[1m(\u001b[0mre-assigning FSM state encoding\u001b[1m)\u001b[0m.\n"
      ]
     },
     "metadata": {},
     "output_type": "display_data"
    },
    {
     "data": {
      "text/html": [
       "<pre style=\"white-space:pre;overflow-x:auto;line-height:normal;font-family:Menlo,'DejaVu Sans Mono',consolas,'Courier New',monospace\">\n",
       "</pre>\n"
      ],
      "text/plain": [
       "\n"
      ]
     },
     "metadata": {},
     "output_type": "display_data"
    },
    {
     "data": {
      "text/html": [
       "<pre style=\"white-space:pre;overflow-x:auto;line-height:normal;font-family:Menlo,'DejaVu Sans Mono',consolas,'Courier New',monospace\"><span style=\"color: #008080; text-decoration-color: #008080; font-weight: bold\">4.8</span>.<span style=\"color: #008080; text-decoration-color: #008080; font-weight: bold\">7</span>. Executing FSM_INFO pass <span style=\"font-weight: bold\">(</span>dumping all available information on FSM cells<span style=\"font-weight: bold\">)</span>.\n",
       "</pre>\n"
      ],
      "text/plain": [
       "\u001b[1;36m4.8\u001b[0m.\u001b[1;36m7\u001b[0m. Executing FSM_INFO pass \u001b[1m(\u001b[0mdumping all available information on FSM cells\u001b[1m)\u001b[0m.\n"
      ]
     },
     "metadata": {},
     "output_type": "display_data"
    },
    {
     "data": {
      "text/html": [
       "<pre style=\"white-space:pre;overflow-x:auto;line-height:normal;font-family:Menlo,'DejaVu Sans Mono',consolas,'Courier New',monospace\">\n",
       "</pre>\n"
      ],
      "text/plain": [
       "\n"
      ]
     },
     "metadata": {},
     "output_type": "display_data"
    },
    {
     "data": {
      "text/html": [
       "<pre style=\"white-space:pre;overflow-x:auto;line-height:normal;font-family:Menlo,'DejaVu Sans Mono',consolas,'Courier New',monospace\"><span style=\"color: #008080; text-decoration-color: #008080; font-weight: bold\">4.8</span>.<span style=\"color: #008080; text-decoration-color: #008080; font-weight: bold\">8</span>. Executing FSM_MAP pass <span style=\"font-weight: bold\">(</span>mapping FSMs to basic logic<span style=\"font-weight: bold\">)</span>.\n",
       "</pre>\n"
      ],
      "text/plain": [
       "\u001b[1;36m4.8\u001b[0m.\u001b[1;36m8\u001b[0m. Executing FSM_MAP pass \u001b[1m(\u001b[0mmapping FSMs to basic logic\u001b[1m)\u001b[0m.\n"
      ]
     },
     "metadata": {},
     "output_type": "display_data"
    },
    {
     "data": {
      "text/html": [
       "<pre style=\"white-space:pre;overflow-x:auto;line-height:normal;font-family:Menlo,'DejaVu Sans Mono',consolas,'Courier New',monospace\">\n",
       "</pre>\n"
      ],
      "text/plain": [
       "\n"
      ]
     },
     "metadata": {},
     "output_type": "display_data"
    },
    {
     "data": {
      "text/html": [
       "<pre style=\"white-space:pre;overflow-x:auto;line-height:normal;font-family:Menlo,'DejaVu Sans Mono',consolas,'Courier New',monospace\"><span style=\"color: #008080; text-decoration-color: #008080; font-weight: bold\">4.9</span>. Executing OPT pass <span style=\"font-weight: bold\">(</span>performing simple optimizations<span style=\"font-weight: bold\">)</span>.\n",
       "</pre>\n"
      ],
      "text/plain": [
       "\u001b[1;36m4.9\u001b[0m. Executing OPT pass \u001b[1m(\u001b[0mperforming simple optimizations\u001b[1m)\u001b[0m.\n"
      ]
     },
     "metadata": {},
     "output_type": "display_data"
    },
    {
     "data": {
      "text/html": [
       "<pre style=\"white-space:pre;overflow-x:auto;line-height:normal;font-family:Menlo,'DejaVu Sans Mono',consolas,'Courier New',monospace\">\n",
       "</pre>\n"
      ],
      "text/plain": [
       "\n"
      ]
     },
     "metadata": {},
     "output_type": "display_data"
    },
    {
     "data": {
      "text/html": [
       "<pre style=\"white-space:pre;overflow-x:auto;line-height:normal;font-family:Menlo,'DejaVu Sans Mono',consolas,'Courier New',monospace\"><span style=\"color: #008080; text-decoration-color: #008080; font-weight: bold\">4.9</span>.<span style=\"color: #008080; text-decoration-color: #008080; font-weight: bold\">1</span>. Executing OPT_EXPR pass <span style=\"font-weight: bold\">(</span>perform const folding<span style=\"font-weight: bold\">)</span>.\n",
       "</pre>\n"
      ],
      "text/plain": [
       "\u001b[1;36m4.9\u001b[0m.\u001b[1;36m1\u001b[0m. Executing OPT_EXPR pass \u001b[1m(\u001b[0mperform const folding\u001b[1m)\u001b[0m.\n"
      ]
     },
     "metadata": {},
     "output_type": "display_data"
    },
    {
     "data": {
      "text/html": [
       "<pre style=\"white-space:pre;overflow-x:auto;line-height:normal;font-family:Menlo,'DejaVu Sans Mono',consolas,'Courier New',monospace\">Optimizing module spm.\n",
       "</pre>\n"
      ],
      "text/plain": [
       "Optimizing module spm.\n"
      ]
     },
     "metadata": {},
     "output_type": "display_data"
    },
    {
     "data": {
      "text/html": [
       "<pre style=\"white-space:pre;overflow-x:auto;line-height:normal;font-family:Menlo,'DejaVu Sans Mono',consolas,'Courier New',monospace\">\n",
       "</pre>\n"
      ],
      "text/plain": [
       "\n"
      ]
     },
     "metadata": {},
     "output_type": "display_data"
    },
    {
     "data": {
      "text/html": [
       "<pre style=\"white-space:pre;overflow-x:auto;line-height:normal;font-family:Menlo,'DejaVu Sans Mono',consolas,'Courier New',monospace\"><span style=\"color: #008080; text-decoration-color: #008080; font-weight: bold\">4.9</span>.<span style=\"color: #008080; text-decoration-color: #008080; font-weight: bold\">2</span>. Executing OPT_MERGE pass <span style=\"font-weight: bold\">(</span>detect identical cells<span style=\"font-weight: bold\">)</span>.\n",
       "</pre>\n"
      ],
      "text/plain": [
       "\u001b[1;36m4.9\u001b[0m.\u001b[1;36m2\u001b[0m. Executing OPT_MERGE pass \u001b[1m(\u001b[0mdetect identical cells\u001b[1m)\u001b[0m.\n"
      ]
     },
     "metadata": {},
     "output_type": "display_data"
    },
    {
     "data": {
      "text/html": [
       "<pre style=\"white-space:pre;overflow-x:auto;line-height:normal;font-family:Menlo,'DejaVu Sans Mono',consolas,'Courier New',monospace\">Finding identical cells in module `\\spm'.\n",
       "</pre>\n"
      ],
      "text/plain": [
       "Finding identical cells in module `\\spm'.\n"
      ]
     },
     "metadata": {},
     "output_type": "display_data"
    },
    {
     "data": {
      "text/html": [
       "<pre style=\"white-space:pre;overflow-x:auto;line-height:normal;font-family:Menlo,'DejaVu Sans Mono',consolas,'Courier New',monospace\">Removed a total of <span style=\"color: #008080; text-decoration-color: #008080; font-weight: bold\">0</span> cells.\n",
       "</pre>\n"
      ],
      "text/plain": [
       "Removed a total of \u001b[1;36m0\u001b[0m cells.\n"
      ]
     },
     "metadata": {},
     "output_type": "display_data"
    },
    {
     "data": {
      "text/html": [
       "<pre style=\"white-space:pre;overflow-x:auto;line-height:normal;font-family:Menlo,'DejaVu Sans Mono',consolas,'Courier New',monospace\">\n",
       "</pre>\n"
      ],
      "text/plain": [
       "\n"
      ]
     },
     "metadata": {},
     "output_type": "display_data"
    },
    {
     "data": {
      "text/html": [
       "<pre style=\"white-space:pre;overflow-x:auto;line-height:normal;font-family:Menlo,'DejaVu Sans Mono',consolas,'Courier New',monospace\"><span style=\"color: #008080; text-decoration-color: #008080; font-weight: bold\">4.9</span>.<span style=\"color: #008080; text-decoration-color: #008080; font-weight: bold\">3</span>. Executing OPT_MUXTREE pass <span style=\"font-weight: bold\">(</span>detect dead branches in mux trees<span style=\"font-weight: bold\">)</span>.\n",
       "</pre>\n"
      ],
      "text/plain": [
       "\u001b[1;36m4.9\u001b[0m.\u001b[1;36m3\u001b[0m. Executing OPT_MUXTREE pass \u001b[1m(\u001b[0mdetect dead branches in mux trees\u001b[1m)\u001b[0m.\n"
      ]
     },
     "metadata": {},
     "output_type": "display_data"
    },
    {
     "data": {
      "text/html": [
       "<pre style=\"white-space:pre;overflow-x:auto;line-height:normal;font-family:Menlo,'DejaVu Sans Mono',consolas,'Courier New',monospace\">Running muxtree optimizer on module \\spm..\n",
       "</pre>\n"
      ],
      "text/plain": [
       "Running muxtree optimizer on module \\spm..\n"
      ]
     },
     "metadata": {},
     "output_type": "display_data"
    },
    {
     "data": {
      "text/html": [
       "<pre style=\"white-space:pre;overflow-x:auto;line-height:normal;font-family:Menlo,'DejaVu Sans Mono',consolas,'Courier New',monospace\">Creating internal representation of mux trees.\n",
       "</pre>\n"
      ],
      "text/plain": [
       "Creating internal representation of mux trees.\n"
      ]
     },
     "metadata": {},
     "output_type": "display_data"
    },
    {
     "data": {
      "text/html": [
       "<pre style=\"white-space:pre;overflow-x:auto;line-height:normal;font-family:Menlo,'DejaVu Sans Mono',consolas,'Courier New',monospace\">No muxes found in this module.\n",
       "</pre>\n"
      ],
      "text/plain": [
       "No muxes found in this module.\n"
      ]
     },
     "metadata": {},
     "output_type": "display_data"
    },
    {
     "data": {
      "text/html": [
       "<pre style=\"white-space:pre;overflow-x:auto;line-height:normal;font-family:Menlo,'DejaVu Sans Mono',consolas,'Courier New',monospace\">Removed <span style=\"color: #008080; text-decoration-color: #008080; font-weight: bold\">0</span> multiplexer ports.\n",
       "</pre>\n"
      ],
      "text/plain": [
       "Removed \u001b[1;36m0\u001b[0m multiplexer ports.\n"
      ]
     },
     "metadata": {},
     "output_type": "display_data"
    },
    {
     "data": {
      "text/html": [
       "<pre style=\"white-space:pre;overflow-x:auto;line-height:normal;font-family:Menlo,'DejaVu Sans Mono',consolas,'Courier New',monospace\">\n",
       "</pre>\n"
      ],
      "text/plain": [
       "\n"
      ]
     },
     "metadata": {},
     "output_type": "display_data"
    },
    {
     "data": {
      "text/html": [
       "<pre style=\"white-space:pre;overflow-x:auto;line-height:normal;font-family:Menlo,'DejaVu Sans Mono',consolas,'Courier New',monospace\"><span style=\"color: #008080; text-decoration-color: #008080; font-weight: bold\">4.9</span>.<span style=\"color: #008080; text-decoration-color: #008080; font-weight: bold\">4</span>. Executing OPT_REDUCE pass <span style=\"font-weight: bold\">(</span>consolidate $*mux and $reduce_* inputs<span style=\"font-weight: bold\">)</span>.\n",
       "</pre>\n"
      ],
      "text/plain": [
       "\u001b[1;36m4.9\u001b[0m.\u001b[1;36m4\u001b[0m. Executing OPT_REDUCE pass \u001b[1m(\u001b[0mconsolidate $*mux and $reduce_* inputs\u001b[1m)\u001b[0m.\n"
      ]
     },
     "metadata": {},
     "output_type": "display_data"
    },
    {
     "data": {
      "text/html": [
       "<pre style=\"white-space:pre;overflow-x:auto;line-height:normal;font-family:Menlo,'DejaVu Sans Mono',consolas,'Courier New',monospace\">Optimizing cells in module \\spm.\n",
       "</pre>\n"
      ],
      "text/plain": [
       "Optimizing cells in module \\spm.\n"
      ]
     },
     "metadata": {},
     "output_type": "display_data"
    },
    {
     "data": {
      "text/html": [
       "<pre style=\"white-space:pre;overflow-x:auto;line-height:normal;font-family:Menlo,'DejaVu Sans Mono',consolas,'Courier New',monospace\">Performed a total of <span style=\"color: #008080; text-decoration-color: #008080; font-weight: bold\">0</span> changes.\n",
       "</pre>\n"
      ],
      "text/plain": [
       "Performed a total of \u001b[1;36m0\u001b[0m changes.\n"
      ]
     },
     "metadata": {},
     "output_type": "display_data"
    },
    {
     "data": {
      "text/html": [
       "<pre style=\"white-space:pre;overflow-x:auto;line-height:normal;font-family:Menlo,'DejaVu Sans Mono',consolas,'Courier New',monospace\">\n",
       "</pre>\n"
      ],
      "text/plain": [
       "\n"
      ]
     },
     "metadata": {},
     "output_type": "display_data"
    },
    {
     "data": {
      "text/html": [
       "<pre style=\"white-space:pre;overflow-x:auto;line-height:normal;font-family:Menlo,'DejaVu Sans Mono',consolas,'Courier New',monospace\"><span style=\"color: #008080; text-decoration-color: #008080; font-weight: bold\">4.9</span>.<span style=\"color: #008080; text-decoration-color: #008080; font-weight: bold\">5</span>. Executing OPT_MERGE pass <span style=\"font-weight: bold\">(</span>detect identical cells<span style=\"font-weight: bold\">)</span>.\n",
       "</pre>\n"
      ],
      "text/plain": [
       "\u001b[1;36m4.9\u001b[0m.\u001b[1;36m5\u001b[0m. Executing OPT_MERGE pass \u001b[1m(\u001b[0mdetect identical cells\u001b[1m)\u001b[0m.\n"
      ]
     },
     "metadata": {},
     "output_type": "display_data"
    },
    {
     "data": {
      "text/html": [
       "<pre style=\"white-space:pre;overflow-x:auto;line-height:normal;font-family:Menlo,'DejaVu Sans Mono',consolas,'Courier New',monospace\">Finding identical cells in module `\\spm'.\n",
       "</pre>\n"
      ],
      "text/plain": [
       "Finding identical cells in module `\\spm'.\n"
      ]
     },
     "metadata": {},
     "output_type": "display_data"
    },
    {
     "data": {
      "text/html": [
       "<pre style=\"white-space:pre;overflow-x:auto;line-height:normal;font-family:Menlo,'DejaVu Sans Mono',consolas,'Courier New',monospace\">Removed a total of <span style=\"color: #008080; text-decoration-color: #008080; font-weight: bold\">0</span> cells.\n",
       "</pre>\n"
      ],
      "text/plain": [
       "Removed a total of \u001b[1;36m0\u001b[0m cells.\n"
      ]
     },
     "metadata": {},
     "output_type": "display_data"
    },
    {
     "data": {
      "text/html": [
       "<pre style=\"white-space:pre;overflow-x:auto;line-height:normal;font-family:Menlo,'DejaVu Sans Mono',consolas,'Courier New',monospace\">\n",
       "</pre>\n"
      ],
      "text/plain": [
       "\n"
      ]
     },
     "metadata": {},
     "output_type": "display_data"
    },
    {
     "data": {
      "text/html": [
       "<pre style=\"white-space:pre;overflow-x:auto;line-height:normal;font-family:Menlo,'DejaVu Sans Mono',consolas,'Courier New',monospace\"><span style=\"color: #008080; text-decoration-color: #008080; font-weight: bold\">4.9</span>.<span style=\"color: #008080; text-decoration-color: #008080; font-weight: bold\">6</span>. Executing OPT_DFF pass <span style=\"font-weight: bold\">(</span>perform DFF optimizations<span style=\"font-weight: bold\">)</span>.\n",
       "</pre>\n"
      ],
      "text/plain": [
       "\u001b[1;36m4.9\u001b[0m.\u001b[1;36m6\u001b[0m. Executing OPT_DFF pass \u001b[1m(\u001b[0mperform DFF optimizations\u001b[1m)\u001b[0m.\n"
      ]
     },
     "metadata": {},
     "output_type": "display_data"
    },
    {
     "data": {
      "text/html": [
       "<pre style=\"white-space:pre;overflow-x:auto;line-height:normal;font-family:Menlo,'DejaVu Sans Mono',consolas,'Courier New',monospace\">\n",
       "</pre>\n"
      ],
      "text/plain": [
       "\n"
      ]
     },
     "metadata": {},
     "output_type": "display_data"
    },
    {
     "data": {
      "text/html": [
       "<pre style=\"white-space:pre;overflow-x:auto;line-height:normal;font-family:Menlo,'DejaVu Sans Mono',consolas,'Courier New',monospace\"><span style=\"color: #008080; text-decoration-color: #008080; font-weight: bold\">4.9</span>.<span style=\"color: #008080; text-decoration-color: #008080; font-weight: bold\">7</span>. Executing OPT_CLEAN pass <span style=\"font-weight: bold\">(</span>remove unused cells and wires<span style=\"font-weight: bold\">)</span>.\n",
       "</pre>\n"
      ],
      "text/plain": [
       "\u001b[1;36m4.9\u001b[0m.\u001b[1;36m7\u001b[0m. Executing OPT_CLEAN pass \u001b[1m(\u001b[0mremove unused cells and wires\u001b[1m)\u001b[0m.\n"
      ]
     },
     "metadata": {},
     "output_type": "display_data"
    },
    {
     "data": {
      "text/html": [
       "<pre style=\"white-space:pre;overflow-x:auto;line-height:normal;font-family:Menlo,'DejaVu Sans Mono',consolas,'Courier New',monospace\">Finding unused cells or wires in module \\spm..\n",
       "</pre>\n"
      ],
      "text/plain": [
       "Finding unused cells or wires in module \\spm..\n"
      ]
     },
     "metadata": {},
     "output_type": "display_data"
    },
    {
     "data": {
      "text/html": [
       "<pre style=\"white-space:pre;overflow-x:auto;line-height:normal;font-family:Menlo,'DejaVu Sans Mono',consolas,'Courier New',monospace\">\n",
       "</pre>\n"
      ],
      "text/plain": [
       "\n"
      ]
     },
     "metadata": {},
     "output_type": "display_data"
    },
    {
     "data": {
      "text/html": [
       "<pre style=\"white-space:pre;overflow-x:auto;line-height:normal;font-family:Menlo,'DejaVu Sans Mono',consolas,'Courier New',monospace\"><span style=\"color: #008080; text-decoration-color: #008080; font-weight: bold\">4.9</span>.<span style=\"color: #008080; text-decoration-color: #008080; font-weight: bold\">8</span>. Executing OPT_EXPR pass <span style=\"font-weight: bold\">(</span>perform const folding<span style=\"font-weight: bold\">)</span>.\n",
       "</pre>\n"
      ],
      "text/plain": [
       "\u001b[1;36m4.9\u001b[0m.\u001b[1;36m8\u001b[0m. Executing OPT_EXPR pass \u001b[1m(\u001b[0mperform const folding\u001b[1m)\u001b[0m.\n"
      ]
     },
     "metadata": {},
     "output_type": "display_data"
    },
    {
     "data": {
      "text/html": [
       "<pre style=\"white-space:pre;overflow-x:auto;line-height:normal;font-family:Menlo,'DejaVu Sans Mono',consolas,'Courier New',monospace\">Optimizing module spm.\n",
       "</pre>\n"
      ],
      "text/plain": [
       "Optimizing module spm.\n"
      ]
     },
     "metadata": {},
     "output_type": "display_data"
    },
    {
     "data": {
      "text/html": [
       "<pre style=\"white-space:pre;overflow-x:auto;line-height:normal;font-family:Menlo,'DejaVu Sans Mono',consolas,'Courier New',monospace\">\n",
       "</pre>\n"
      ],
      "text/plain": [
       "\n"
      ]
     },
     "metadata": {},
     "output_type": "display_data"
    },
    {
     "data": {
      "text/html": [
       "<pre style=\"white-space:pre;overflow-x:auto;line-height:normal;font-family:Menlo,'DejaVu Sans Mono',consolas,'Courier New',monospace\"><span style=\"color: #008080; text-decoration-color: #008080; font-weight: bold\">4.9</span>.<span style=\"color: #008080; text-decoration-color: #008080; font-weight: bold\">9</span>. Finished OPT passes. <span style=\"font-weight: bold\">(</span>There is nothing left to do.<span style=\"font-weight: bold\">)</span>\n",
       "</pre>\n"
      ],
      "text/plain": [
       "\u001b[1;36m4.9\u001b[0m.\u001b[1;36m9\u001b[0m. Finished OPT passes. \u001b[1m(\u001b[0mThere is nothing left to do.\u001b[1m)\u001b[0m\n"
      ]
     },
     "metadata": {},
     "output_type": "display_data"
    },
    {
     "data": {
      "text/html": [
       "<pre style=\"white-space:pre;overflow-x:auto;line-height:normal;font-family:Menlo,'DejaVu Sans Mono',consolas,'Courier New',monospace\">\n",
       "</pre>\n"
      ],
      "text/plain": [
       "\n"
      ]
     },
     "metadata": {},
     "output_type": "display_data"
    },
    {
     "data": {
      "text/html": [
       "<pre style=\"white-space:pre;overflow-x:auto;line-height:normal;font-family:Menlo,'DejaVu Sans Mono',consolas,'Courier New',monospace\"><span style=\"color: #008080; text-decoration-color: #008080; font-weight: bold\">4.10</span>. Executing WREDUCE pass <span style=\"font-weight: bold\">(</span>reducing word size of cells<span style=\"font-weight: bold\">)</span>.\n",
       "</pre>\n"
      ],
      "text/plain": [
       "\u001b[1;36m4.10\u001b[0m. Executing WREDUCE pass \u001b[1m(\u001b[0mreducing word size of cells\u001b[1m)\u001b[0m.\n"
      ]
     },
     "metadata": {},
     "output_type": "display_data"
    },
    {
     "data": {
      "text/html": [
       "<pre style=\"white-space:pre;overflow-x:auto;line-height:normal;font-family:Menlo,'DejaVu Sans Mono',consolas,'Courier New',monospace\">\n",
       "</pre>\n"
      ],
      "text/plain": [
       "\n"
      ]
     },
     "metadata": {},
     "output_type": "display_data"
    },
    {
     "data": {
      "text/html": [
       "<pre style=\"white-space:pre;overflow-x:auto;line-height:normal;font-family:Menlo,'DejaVu Sans Mono',consolas,'Courier New',monospace\"><span style=\"color: #008080; text-decoration-color: #008080; font-weight: bold\">4.11</span>. Executing PEEPOPT pass <span style=\"font-weight: bold\">(</span>run peephole optimizers<span style=\"font-weight: bold\">)</span>.\n",
       "</pre>\n"
      ],
      "text/plain": [
       "\u001b[1;36m4.11\u001b[0m. Executing PEEPOPT pass \u001b[1m(\u001b[0mrun peephole optimizers\u001b[1m)\u001b[0m.\n"
      ]
     },
     "metadata": {},
     "output_type": "display_data"
    },
    {
     "data": {
      "text/html": [
       "<pre style=\"white-space:pre;overflow-x:auto;line-height:normal;font-family:Menlo,'DejaVu Sans Mono',consolas,'Courier New',monospace\">\n",
       "</pre>\n"
      ],
      "text/plain": [
       "\n"
      ]
     },
     "metadata": {},
     "output_type": "display_data"
    },
    {
     "data": {
      "text/html": [
       "<pre style=\"white-space:pre;overflow-x:auto;line-height:normal;font-family:Menlo,'DejaVu Sans Mono',consolas,'Courier New',monospace\"><span style=\"color: #008080; text-decoration-color: #008080; font-weight: bold\">4.12</span>. Executing OPT_CLEAN pass <span style=\"font-weight: bold\">(</span>remove unused cells and wires<span style=\"font-weight: bold\">)</span>.\n",
       "</pre>\n"
      ],
      "text/plain": [
       "\u001b[1;36m4.12\u001b[0m. Executing OPT_CLEAN pass \u001b[1m(\u001b[0mremove unused cells and wires\u001b[1m)\u001b[0m.\n"
      ]
     },
     "metadata": {},
     "output_type": "display_data"
    },
    {
     "data": {
      "text/html": [
       "<pre style=\"white-space:pre;overflow-x:auto;line-height:normal;font-family:Menlo,'DejaVu Sans Mono',consolas,'Courier New',monospace\">Finding unused cells or wires in module \\spm..\n",
       "</pre>\n"
      ],
      "text/plain": [
       "Finding unused cells or wires in module \\spm..\n"
      ]
     },
     "metadata": {},
     "output_type": "display_data"
    },
    {
     "data": {
      "text/html": [
       "<pre style=\"white-space:pre;overflow-x:auto;line-height:normal;font-family:Menlo,'DejaVu Sans Mono',consolas,'Courier New',monospace\">\n",
       "</pre>\n"
      ],
      "text/plain": [
       "\n"
      ]
     },
     "metadata": {},
     "output_type": "display_data"
    },
    {
     "data": {
      "text/html": [
       "<pre style=\"white-space:pre;overflow-x:auto;line-height:normal;font-family:Menlo,'DejaVu Sans Mono',consolas,'Courier New',monospace\"><span style=\"color: #008080; text-decoration-color: #008080; font-weight: bold\">4.13</span>. Executing ALUMACC pass <span style=\"font-weight: bold\">(</span>create $alu and $macc cells<span style=\"font-weight: bold\">)</span>.\n",
       "</pre>\n"
      ],
      "text/plain": [
       "\u001b[1;36m4.13\u001b[0m. Executing ALUMACC pass \u001b[1m(\u001b[0mcreate $alu and $macc cells\u001b[1m)\u001b[0m.\n"
      ]
     },
     "metadata": {},
     "output_type": "display_data"
    },
    {
     "data": {
      "text/html": [
       "<pre style=\"white-space:pre;overflow-x:auto;line-height:normal;font-family:Menlo,'DejaVu Sans Mono',consolas,'Courier New',monospace\">Extracting $alu and $macc cells in module spm:\n",
       "</pre>\n"
      ],
      "text/plain": [
       "Extracting $alu and $macc cells in module spm:\n"
      ]
     },
     "metadata": {},
     "output_type": "display_data"
    },
    {
     "data": {
      "text/html": [
       "<pre style=\"white-space:pre;overflow-x:auto;line-height:normal;font-family:Menlo,'DejaVu Sans Mono',consolas,'Courier New',monospace\">created <span style=\"color: #008080; text-decoration-color: #008080; font-weight: bold\">0</span> $alu and <span style=\"color: #008080; text-decoration-color: #008080; font-weight: bold\">0</span> $macc cells.\n",
       "</pre>\n"
      ],
      "text/plain": [
       "created \u001b[1;36m0\u001b[0m $alu and \u001b[1;36m0\u001b[0m $macc cells.\n"
      ]
     },
     "metadata": {},
     "output_type": "display_data"
    },
    {
     "data": {
      "text/html": [
       "<pre style=\"white-space:pre;overflow-x:auto;line-height:normal;font-family:Menlo,'DejaVu Sans Mono',consolas,'Courier New',monospace\">\n",
       "</pre>\n"
      ],
      "text/plain": [
       "\n"
      ]
     },
     "metadata": {},
     "output_type": "display_data"
    },
    {
     "data": {
      "text/html": [
       "<pre style=\"white-space:pre;overflow-x:auto;line-height:normal;font-family:Menlo,'DejaVu Sans Mono',consolas,'Courier New',monospace\"><span style=\"color: #008080; text-decoration-color: #008080; font-weight: bold\">4.14</span>. Executing SHARE pass <span style=\"font-weight: bold\">(</span>SAT-based resource sharing<span style=\"font-weight: bold\">)</span>.\n",
       "</pre>\n"
      ],
      "text/plain": [
       "\u001b[1;36m4.14\u001b[0m. Executing SHARE pass \u001b[1m(\u001b[0mSAT-based resource sharing\u001b[1m)\u001b[0m.\n"
      ]
     },
     "metadata": {},
     "output_type": "display_data"
    },
    {
     "data": {
      "text/html": [
       "<pre style=\"white-space:pre;overflow-x:auto;line-height:normal;font-family:Menlo,'DejaVu Sans Mono',consolas,'Courier New',monospace\">\n",
       "</pre>\n"
      ],
      "text/plain": [
       "\n"
      ]
     },
     "metadata": {},
     "output_type": "display_data"
    },
    {
     "data": {
      "text/html": [
       "<pre style=\"white-space:pre;overflow-x:auto;line-height:normal;font-family:Menlo,'DejaVu Sans Mono',consolas,'Courier New',monospace\"><span style=\"color: #008080; text-decoration-color: #008080; font-weight: bold\">4.15</span>. Executing OPT pass <span style=\"font-weight: bold\">(</span>performing simple optimizations<span style=\"font-weight: bold\">)</span>.\n",
       "</pre>\n"
      ],
      "text/plain": [
       "\u001b[1;36m4.15\u001b[0m. Executing OPT pass \u001b[1m(\u001b[0mperforming simple optimizations\u001b[1m)\u001b[0m.\n"
      ]
     },
     "metadata": {},
     "output_type": "display_data"
    },
    {
     "data": {
      "text/html": [
       "<pre style=\"white-space:pre;overflow-x:auto;line-height:normal;font-family:Menlo,'DejaVu Sans Mono',consolas,'Courier New',monospace\">\n",
       "</pre>\n"
      ],
      "text/plain": [
       "\n"
      ]
     },
     "metadata": {},
     "output_type": "display_data"
    },
    {
     "data": {
      "text/html": [
       "<pre style=\"white-space:pre;overflow-x:auto;line-height:normal;font-family:Menlo,'DejaVu Sans Mono',consolas,'Courier New',monospace\"><span style=\"color: #008080; text-decoration-color: #008080; font-weight: bold\">4.15</span>.<span style=\"color: #008080; text-decoration-color: #008080; font-weight: bold\">1</span>. Executing OPT_EXPR pass <span style=\"font-weight: bold\">(</span>perform const folding<span style=\"font-weight: bold\">)</span>.\n",
       "</pre>\n"
      ],
      "text/plain": [
       "\u001b[1;36m4.15\u001b[0m.\u001b[1;36m1\u001b[0m. Executing OPT_EXPR pass \u001b[1m(\u001b[0mperform const folding\u001b[1m)\u001b[0m.\n"
      ]
     },
     "metadata": {},
     "output_type": "display_data"
    },
    {
     "data": {
      "text/html": [
       "<pre style=\"white-space:pre;overflow-x:auto;line-height:normal;font-family:Menlo,'DejaVu Sans Mono',consolas,'Courier New',monospace\">Optimizing module spm.\n",
       "</pre>\n"
      ],
      "text/plain": [
       "Optimizing module spm.\n"
      ]
     },
     "metadata": {},
     "output_type": "display_data"
    },
    {
     "data": {
      "text/html": [
       "<pre style=\"white-space:pre;overflow-x:auto;line-height:normal;font-family:Menlo,'DejaVu Sans Mono',consolas,'Courier New',monospace\">\n",
       "</pre>\n"
      ],
      "text/plain": [
       "\n"
      ]
     },
     "metadata": {},
     "output_type": "display_data"
    },
    {
     "data": {
      "text/html": [
       "<pre style=\"white-space:pre;overflow-x:auto;line-height:normal;font-family:Menlo,'DejaVu Sans Mono',consolas,'Courier New',monospace\"><span style=\"color: #008080; text-decoration-color: #008080; font-weight: bold\">4.15</span>.<span style=\"color: #008080; text-decoration-color: #008080; font-weight: bold\">2</span>. Executing OPT_MERGE pass <span style=\"font-weight: bold\">(</span>detect identical cells<span style=\"font-weight: bold\">)</span>.\n",
       "</pre>\n"
      ],
      "text/plain": [
       "\u001b[1;36m4.15\u001b[0m.\u001b[1;36m2\u001b[0m. Executing OPT_MERGE pass \u001b[1m(\u001b[0mdetect identical cells\u001b[1m)\u001b[0m.\n"
      ]
     },
     "metadata": {},
     "output_type": "display_data"
    },
    {
     "data": {
      "text/html": [
       "<pre style=\"white-space:pre;overflow-x:auto;line-height:normal;font-family:Menlo,'DejaVu Sans Mono',consolas,'Courier New',monospace\">Finding identical cells in module `\\spm'.\n",
       "</pre>\n"
      ],
      "text/plain": [
       "Finding identical cells in module `\\spm'.\n"
      ]
     },
     "metadata": {},
     "output_type": "display_data"
    },
    {
     "data": {
      "text/html": [
       "<pre style=\"white-space:pre;overflow-x:auto;line-height:normal;font-family:Menlo,'DejaVu Sans Mono',consolas,'Courier New',monospace\">Removed a total of <span style=\"color: #008080; text-decoration-color: #008080; font-weight: bold\">0</span> cells.\n",
       "</pre>\n"
      ],
      "text/plain": [
       "Removed a total of \u001b[1;36m0\u001b[0m cells.\n"
      ]
     },
     "metadata": {},
     "output_type": "display_data"
    },
    {
     "data": {
      "text/html": [
       "<pre style=\"white-space:pre;overflow-x:auto;line-height:normal;font-family:Menlo,'DejaVu Sans Mono',consolas,'Courier New',monospace\">\n",
       "</pre>\n"
      ],
      "text/plain": [
       "\n"
      ]
     },
     "metadata": {},
     "output_type": "display_data"
    },
    {
     "data": {
      "text/html": [
       "<pre style=\"white-space:pre;overflow-x:auto;line-height:normal;font-family:Menlo,'DejaVu Sans Mono',consolas,'Courier New',monospace\"><span style=\"color: #008080; text-decoration-color: #008080; font-weight: bold\">4.15</span>.<span style=\"color: #008080; text-decoration-color: #008080; font-weight: bold\">3</span>. Executing OPT_MUXTREE pass <span style=\"font-weight: bold\">(</span>detect dead branches in mux trees<span style=\"font-weight: bold\">)</span>.\n",
       "</pre>\n"
      ],
      "text/plain": [
       "\u001b[1;36m4.15\u001b[0m.\u001b[1;36m3\u001b[0m. Executing OPT_MUXTREE pass \u001b[1m(\u001b[0mdetect dead branches in mux trees\u001b[1m)\u001b[0m.\n"
      ]
     },
     "metadata": {},
     "output_type": "display_data"
    },
    {
     "data": {
      "text/html": [
       "<pre style=\"white-space:pre;overflow-x:auto;line-height:normal;font-family:Menlo,'DejaVu Sans Mono',consolas,'Courier New',monospace\">Running muxtree optimizer on module \\spm..\n",
       "</pre>\n"
      ],
      "text/plain": [
       "Running muxtree optimizer on module \\spm..\n"
      ]
     },
     "metadata": {},
     "output_type": "display_data"
    },
    {
     "data": {
      "text/html": [
       "<pre style=\"white-space:pre;overflow-x:auto;line-height:normal;font-family:Menlo,'DejaVu Sans Mono',consolas,'Courier New',monospace\">Creating internal representation of mux trees.\n",
       "</pre>\n"
      ],
      "text/plain": [
       "Creating internal representation of mux trees.\n"
      ]
     },
     "metadata": {},
     "output_type": "display_data"
    },
    {
     "data": {
      "text/html": [
       "<pre style=\"white-space:pre;overflow-x:auto;line-height:normal;font-family:Menlo,'DejaVu Sans Mono',consolas,'Courier New',monospace\">No muxes found in this module.\n",
       "</pre>\n"
      ],
      "text/plain": [
       "No muxes found in this module.\n"
      ]
     },
     "metadata": {},
     "output_type": "display_data"
    },
    {
     "data": {
      "text/html": [
       "<pre style=\"white-space:pre;overflow-x:auto;line-height:normal;font-family:Menlo,'DejaVu Sans Mono',consolas,'Courier New',monospace\">Removed <span style=\"color: #008080; text-decoration-color: #008080; font-weight: bold\">0</span> multiplexer ports.\n",
       "</pre>\n"
      ],
      "text/plain": [
       "Removed \u001b[1;36m0\u001b[0m multiplexer ports.\n"
      ]
     },
     "metadata": {},
     "output_type": "display_data"
    },
    {
     "data": {
      "text/html": [
       "<pre style=\"white-space:pre;overflow-x:auto;line-height:normal;font-family:Menlo,'DejaVu Sans Mono',consolas,'Courier New',monospace\">\n",
       "</pre>\n"
      ],
      "text/plain": [
       "\n"
      ]
     },
     "metadata": {},
     "output_type": "display_data"
    },
    {
     "data": {
      "text/html": [
       "<pre style=\"white-space:pre;overflow-x:auto;line-height:normal;font-family:Menlo,'DejaVu Sans Mono',consolas,'Courier New',monospace\"><span style=\"color: #008080; text-decoration-color: #008080; font-weight: bold\">4.15</span>.<span style=\"color: #008080; text-decoration-color: #008080; font-weight: bold\">4</span>. Executing OPT_REDUCE pass <span style=\"font-weight: bold\">(</span>consolidate $*mux and $reduce_* inputs<span style=\"font-weight: bold\">)</span>.\n",
       "</pre>\n"
      ],
      "text/plain": [
       "\u001b[1;36m4.15\u001b[0m.\u001b[1;36m4\u001b[0m. Executing OPT_REDUCE pass \u001b[1m(\u001b[0mconsolidate $*mux and $reduce_* inputs\u001b[1m)\u001b[0m.\n"
      ]
     },
     "metadata": {},
     "output_type": "display_data"
    },
    {
     "data": {
      "text/html": [
       "<pre style=\"white-space:pre;overflow-x:auto;line-height:normal;font-family:Menlo,'DejaVu Sans Mono',consolas,'Courier New',monospace\">Optimizing cells in module \\spm.\n",
       "</pre>\n"
      ],
      "text/plain": [
       "Optimizing cells in module \\spm.\n"
      ]
     },
     "metadata": {},
     "output_type": "display_data"
    },
    {
     "data": {
      "text/html": [
       "<pre style=\"white-space:pre;overflow-x:auto;line-height:normal;font-family:Menlo,'DejaVu Sans Mono',consolas,'Courier New',monospace\">Performed a total of <span style=\"color: #008080; text-decoration-color: #008080; font-weight: bold\">0</span> changes.\n",
       "</pre>\n"
      ],
      "text/plain": [
       "Performed a total of \u001b[1;36m0\u001b[0m changes.\n"
      ]
     },
     "metadata": {},
     "output_type": "display_data"
    },
    {
     "data": {
      "text/html": [
       "<pre style=\"white-space:pre;overflow-x:auto;line-height:normal;font-family:Menlo,'DejaVu Sans Mono',consolas,'Courier New',monospace\">\n",
       "</pre>\n"
      ],
      "text/plain": [
       "\n"
      ]
     },
     "metadata": {},
     "output_type": "display_data"
    },
    {
     "data": {
      "text/html": [
       "<pre style=\"white-space:pre;overflow-x:auto;line-height:normal;font-family:Menlo,'DejaVu Sans Mono',consolas,'Courier New',monospace\"><span style=\"color: #008080; text-decoration-color: #008080; font-weight: bold\">4.15</span>.<span style=\"color: #008080; text-decoration-color: #008080; font-weight: bold\">5</span>. Executing OPT_MERGE pass <span style=\"font-weight: bold\">(</span>detect identical cells<span style=\"font-weight: bold\">)</span>.\n",
       "</pre>\n"
      ],
      "text/plain": [
       "\u001b[1;36m4.15\u001b[0m.\u001b[1;36m5\u001b[0m. Executing OPT_MERGE pass \u001b[1m(\u001b[0mdetect identical cells\u001b[1m)\u001b[0m.\n"
      ]
     },
     "metadata": {},
     "output_type": "display_data"
    },
    {
     "data": {
      "text/html": [
       "<pre style=\"white-space:pre;overflow-x:auto;line-height:normal;font-family:Menlo,'DejaVu Sans Mono',consolas,'Courier New',monospace\">Finding identical cells in module `\\spm'.\n",
       "</pre>\n"
      ],
      "text/plain": [
       "Finding identical cells in module `\\spm'.\n"
      ]
     },
     "metadata": {},
     "output_type": "display_data"
    },
    {
     "data": {
      "text/html": [
       "<pre style=\"white-space:pre;overflow-x:auto;line-height:normal;font-family:Menlo,'DejaVu Sans Mono',consolas,'Courier New',monospace\">Removed a total of <span style=\"color: #008080; text-decoration-color: #008080; font-weight: bold\">0</span> cells.\n",
       "</pre>\n"
      ],
      "text/plain": [
       "Removed a total of \u001b[1;36m0\u001b[0m cells.\n"
      ]
     },
     "metadata": {},
     "output_type": "display_data"
    },
    {
     "data": {
      "text/html": [
       "<pre style=\"white-space:pre;overflow-x:auto;line-height:normal;font-family:Menlo,'DejaVu Sans Mono',consolas,'Courier New',monospace\">\n",
       "</pre>\n"
      ],
      "text/plain": [
       "\n"
      ]
     },
     "metadata": {},
     "output_type": "display_data"
    },
    {
     "data": {
      "text/html": [
       "<pre style=\"white-space:pre;overflow-x:auto;line-height:normal;font-family:Menlo,'DejaVu Sans Mono',consolas,'Courier New',monospace\"><span style=\"color: #008080; text-decoration-color: #008080; font-weight: bold\">4.15</span>.<span style=\"color: #008080; text-decoration-color: #008080; font-weight: bold\">6</span>. Executing OPT_DFF pass <span style=\"font-weight: bold\">(</span>perform DFF optimizations<span style=\"font-weight: bold\">)</span>.\n",
       "</pre>\n"
      ],
      "text/plain": [
       "\u001b[1;36m4.15\u001b[0m.\u001b[1;36m6\u001b[0m. Executing OPT_DFF pass \u001b[1m(\u001b[0mperform DFF optimizations\u001b[1m)\u001b[0m.\n"
      ]
     },
     "metadata": {},
     "output_type": "display_data"
    },
    {
     "data": {
      "text/html": [
       "<pre style=\"white-space:pre;overflow-x:auto;line-height:normal;font-family:Menlo,'DejaVu Sans Mono',consolas,'Courier New',monospace\">\n",
       "</pre>\n"
      ],
      "text/plain": [
       "\n"
      ]
     },
     "metadata": {},
     "output_type": "display_data"
    },
    {
     "data": {
      "text/html": [
       "<pre style=\"white-space:pre;overflow-x:auto;line-height:normal;font-family:Menlo,'DejaVu Sans Mono',consolas,'Courier New',monospace\"><span style=\"color: #008080; text-decoration-color: #008080; font-weight: bold\">4.15</span>.<span style=\"color: #008080; text-decoration-color: #008080; font-weight: bold\">7</span>. Executing OPT_CLEAN pass <span style=\"font-weight: bold\">(</span>remove unused cells and wires<span style=\"font-weight: bold\">)</span>.\n",
       "</pre>\n"
      ],
      "text/plain": [
       "\u001b[1;36m4.15\u001b[0m.\u001b[1;36m7\u001b[0m. Executing OPT_CLEAN pass \u001b[1m(\u001b[0mremove unused cells and wires\u001b[1m)\u001b[0m.\n"
      ]
     },
     "metadata": {},
     "output_type": "display_data"
    },
    {
     "data": {
      "text/html": [
       "<pre style=\"white-space:pre;overflow-x:auto;line-height:normal;font-family:Menlo,'DejaVu Sans Mono',consolas,'Courier New',monospace\">Finding unused cells or wires in module \\spm..\n",
       "</pre>\n"
      ],
      "text/plain": [
       "Finding unused cells or wires in module \\spm..\n"
      ]
     },
     "metadata": {},
     "output_type": "display_data"
    },
    {
     "data": {
      "text/html": [
       "<pre style=\"white-space:pre;overflow-x:auto;line-height:normal;font-family:Menlo,'DejaVu Sans Mono',consolas,'Courier New',monospace\">\n",
       "</pre>\n"
      ],
      "text/plain": [
       "\n"
      ]
     },
     "metadata": {},
     "output_type": "display_data"
    },
    {
     "data": {
      "text/html": [
       "<pre style=\"white-space:pre;overflow-x:auto;line-height:normal;font-family:Menlo,'DejaVu Sans Mono',consolas,'Courier New',monospace\"><span style=\"color: #008080; text-decoration-color: #008080; font-weight: bold\">4.15</span>.<span style=\"color: #008080; text-decoration-color: #008080; font-weight: bold\">8</span>. Executing OPT_EXPR pass <span style=\"font-weight: bold\">(</span>perform const folding<span style=\"font-weight: bold\">)</span>.\n",
       "</pre>\n"
      ],
      "text/plain": [
       "\u001b[1;36m4.15\u001b[0m.\u001b[1;36m8\u001b[0m. Executing OPT_EXPR pass \u001b[1m(\u001b[0mperform const folding\u001b[1m)\u001b[0m.\n"
      ]
     },
     "metadata": {},
     "output_type": "display_data"
    },
    {
     "data": {
      "text/html": [
       "<pre style=\"white-space:pre;overflow-x:auto;line-height:normal;font-family:Menlo,'DejaVu Sans Mono',consolas,'Courier New',monospace\">Optimizing module spm.\n",
       "</pre>\n"
      ],
      "text/plain": [
       "Optimizing module spm.\n"
      ]
     },
     "metadata": {},
     "output_type": "display_data"
    },
    {
     "data": {
      "text/html": [
       "<pre style=\"white-space:pre;overflow-x:auto;line-height:normal;font-family:Menlo,'DejaVu Sans Mono',consolas,'Courier New',monospace\">\n",
       "</pre>\n"
      ],
      "text/plain": [
       "\n"
      ]
     },
     "metadata": {},
     "output_type": "display_data"
    },
    {
     "data": {
      "text/html": [
       "<pre style=\"white-space:pre;overflow-x:auto;line-height:normal;font-family:Menlo,'DejaVu Sans Mono',consolas,'Courier New',monospace\"><span style=\"color: #008080; text-decoration-color: #008080; font-weight: bold\">4.15</span>.<span style=\"color: #008080; text-decoration-color: #008080; font-weight: bold\">9</span>. Finished OPT passes. <span style=\"font-weight: bold\">(</span>There is nothing left to do.<span style=\"font-weight: bold\">)</span>\n",
       "</pre>\n"
      ],
      "text/plain": [
       "\u001b[1;36m4.15\u001b[0m.\u001b[1;36m9\u001b[0m. Finished OPT passes. \u001b[1m(\u001b[0mThere is nothing left to do.\u001b[1m)\u001b[0m\n"
      ]
     },
     "metadata": {},
     "output_type": "display_data"
    },
    {
     "data": {
      "text/html": [
       "<pre style=\"white-space:pre;overflow-x:auto;line-height:normal;font-family:Menlo,'DejaVu Sans Mono',consolas,'Courier New',monospace\">\n",
       "</pre>\n"
      ],
      "text/plain": [
       "\n"
      ]
     },
     "metadata": {},
     "output_type": "display_data"
    },
    {
     "data": {
      "text/html": [
       "<pre style=\"white-space:pre;overflow-x:auto;line-height:normal;font-family:Menlo,'DejaVu Sans Mono',consolas,'Courier New',monospace\"><span style=\"color: #008080; text-decoration-color: #008080; font-weight: bold\">4.16</span>. Executing MEMORY pass.\n",
       "</pre>\n"
      ],
      "text/plain": [
       "\u001b[1;36m4.16\u001b[0m. Executing MEMORY pass.\n"
      ]
     },
     "metadata": {},
     "output_type": "display_data"
    },
    {
     "data": {
      "text/html": [
       "<pre style=\"white-space:pre;overflow-x:auto;line-height:normal;font-family:Menlo,'DejaVu Sans Mono',consolas,'Courier New',monospace\">\n",
       "</pre>\n"
      ],
      "text/plain": [
       "\n"
      ]
     },
     "metadata": {},
     "output_type": "display_data"
    },
    {
     "data": {
      "text/html": [
       "<pre style=\"white-space:pre;overflow-x:auto;line-height:normal;font-family:Menlo,'DejaVu Sans Mono',consolas,'Courier New',monospace\"><span style=\"color: #008080; text-decoration-color: #008080; font-weight: bold\">4.16</span>.<span style=\"color: #008080; text-decoration-color: #008080; font-weight: bold\">1</span>. Executing OPT_MEM pass <span style=\"font-weight: bold\">(</span>optimize memories<span style=\"font-weight: bold\">)</span>.\n",
       "</pre>\n"
      ],
      "text/plain": [
       "\u001b[1;36m4.16\u001b[0m.\u001b[1;36m1\u001b[0m. Executing OPT_MEM pass \u001b[1m(\u001b[0moptimize memories\u001b[1m)\u001b[0m.\n"
      ]
     },
     "metadata": {},
     "output_type": "display_data"
    },
    {
     "data": {
      "text/html": [
       "<pre style=\"white-space:pre;overflow-x:auto;line-height:normal;font-family:Menlo,'DejaVu Sans Mono',consolas,'Courier New',monospace\">Performed a total of <span style=\"color: #008080; text-decoration-color: #008080; font-weight: bold\">0</span> transformations.\n",
       "</pre>\n"
      ],
      "text/plain": [
       "Performed a total of \u001b[1;36m0\u001b[0m transformations.\n"
      ]
     },
     "metadata": {},
     "output_type": "display_data"
    },
    {
     "data": {
      "text/html": [
       "<pre style=\"white-space:pre;overflow-x:auto;line-height:normal;font-family:Menlo,'DejaVu Sans Mono',consolas,'Courier New',monospace\">\n",
       "</pre>\n"
      ],
      "text/plain": [
       "\n"
      ]
     },
     "metadata": {},
     "output_type": "display_data"
    },
    {
     "data": {
      "text/html": [
       "<pre style=\"white-space:pre;overflow-x:auto;line-height:normal;font-family:Menlo,'DejaVu Sans Mono',consolas,'Courier New',monospace\"><span style=\"color: #008080; text-decoration-color: #008080; font-weight: bold\">4.16</span>.<span style=\"color: #008080; text-decoration-color: #008080; font-weight: bold\">2</span>. Executing OPT_MEM_PRIORITY pass <span style=\"font-weight: bold\">(</span>removing unnecessary memory write priority relations<span style=\"font-weight: bold\">)</span>.\n",
       "</pre>\n"
      ],
      "text/plain": [
       "\u001b[1;36m4.16\u001b[0m.\u001b[1;36m2\u001b[0m. Executing OPT_MEM_PRIORITY pass \u001b[1m(\u001b[0mremoving unnecessary memory write priority relations\u001b[1m)\u001b[0m.\n"
      ]
     },
     "metadata": {},
     "output_type": "display_data"
    },
    {
     "data": {
      "text/html": [
       "<pre style=\"white-space:pre;overflow-x:auto;line-height:normal;font-family:Menlo,'DejaVu Sans Mono',consolas,'Courier New',monospace\">Performed a total of <span style=\"color: #008080; text-decoration-color: #008080; font-weight: bold\">0</span> transformations.\n",
       "</pre>\n"
      ],
      "text/plain": [
       "Performed a total of \u001b[1;36m0\u001b[0m transformations.\n"
      ]
     },
     "metadata": {},
     "output_type": "display_data"
    },
    {
     "data": {
      "text/html": [
       "<pre style=\"white-space:pre;overflow-x:auto;line-height:normal;font-family:Menlo,'DejaVu Sans Mono',consolas,'Courier New',monospace\">\n",
       "</pre>\n"
      ],
      "text/plain": [
       "\n"
      ]
     },
     "metadata": {},
     "output_type": "display_data"
    },
    {
     "data": {
      "text/html": [
       "<pre style=\"white-space:pre;overflow-x:auto;line-height:normal;font-family:Menlo,'DejaVu Sans Mono',consolas,'Courier New',monospace\"><span style=\"color: #008080; text-decoration-color: #008080; font-weight: bold\">4.16</span>.<span style=\"color: #008080; text-decoration-color: #008080; font-weight: bold\">3</span>. Executing OPT_MEM_FEEDBACK pass <span style=\"font-weight: bold\">(</span>finding memory read-to-write feedback paths<span style=\"font-weight: bold\">)</span>.\n",
       "</pre>\n"
      ],
      "text/plain": [
       "\u001b[1;36m4.16\u001b[0m.\u001b[1;36m3\u001b[0m. Executing OPT_MEM_FEEDBACK pass \u001b[1m(\u001b[0mfinding memory read-to-write feedback paths\u001b[1m)\u001b[0m.\n"
      ]
     },
     "metadata": {},
     "output_type": "display_data"
    },
    {
     "data": {
      "text/html": [
       "<pre style=\"white-space:pre;overflow-x:auto;line-height:normal;font-family:Menlo,'DejaVu Sans Mono',consolas,'Courier New',monospace\">\n",
       "</pre>\n"
      ],
      "text/plain": [
       "\n"
      ]
     },
     "metadata": {},
     "output_type": "display_data"
    },
    {
     "data": {
      "text/html": [
       "<pre style=\"white-space:pre;overflow-x:auto;line-height:normal;font-family:Menlo,'DejaVu Sans Mono',consolas,'Courier New',monospace\"><span style=\"color: #008080; text-decoration-color: #008080; font-weight: bold\">4.16</span>.<span style=\"color: #008080; text-decoration-color: #008080; font-weight: bold\">4</span>. Executing MEMORY_BMUX2ROM pass <span style=\"font-weight: bold\">(</span>converting muxes to ROMs<span style=\"font-weight: bold\">)</span>.\n",
       "</pre>\n"
      ],
      "text/plain": [
       "\u001b[1;36m4.16\u001b[0m.\u001b[1;36m4\u001b[0m. Executing MEMORY_BMUX2ROM pass \u001b[1m(\u001b[0mconverting muxes to ROMs\u001b[1m)\u001b[0m.\n"
      ]
     },
     "metadata": {},
     "output_type": "display_data"
    },
    {
     "data": {
      "text/html": [
       "<pre style=\"white-space:pre;overflow-x:auto;line-height:normal;font-family:Menlo,'DejaVu Sans Mono',consolas,'Courier New',monospace\">\n",
       "</pre>\n"
      ],
      "text/plain": [
       "\n"
      ]
     },
     "metadata": {},
     "output_type": "display_data"
    },
    {
     "data": {
      "text/html": [
       "<pre style=\"white-space:pre;overflow-x:auto;line-height:normal;font-family:Menlo,'DejaVu Sans Mono',consolas,'Courier New',monospace\"><span style=\"color: #008080; text-decoration-color: #008080; font-weight: bold\">4.16</span>.<span style=\"color: #008080; text-decoration-color: #008080; font-weight: bold\">5</span>. Executing MEMORY_DFF pass <span style=\"font-weight: bold\">(</span>merging $dff cells to $memrd<span style=\"font-weight: bold\">)</span>.\n",
       "</pre>\n"
      ],
      "text/plain": [
       "\u001b[1;36m4.16\u001b[0m.\u001b[1;36m5\u001b[0m. Executing MEMORY_DFF pass \u001b[1m(\u001b[0mmerging $dff cells to $memrd\u001b[1m)\u001b[0m.\n"
      ]
     },
     "metadata": {},
     "output_type": "display_data"
    },
    {
     "data": {
      "text/html": [
       "<pre style=\"white-space:pre;overflow-x:auto;line-height:normal;font-family:Menlo,'DejaVu Sans Mono',consolas,'Courier New',monospace\">\n",
       "</pre>\n"
      ],
      "text/plain": [
       "\n"
      ]
     },
     "metadata": {},
     "output_type": "display_data"
    },
    {
     "data": {
      "text/html": [
       "<pre style=\"white-space:pre;overflow-x:auto;line-height:normal;font-family:Menlo,'DejaVu Sans Mono',consolas,'Courier New',monospace\"><span style=\"color: #008080; text-decoration-color: #008080; font-weight: bold\">4.16</span>.<span style=\"color: #008080; text-decoration-color: #008080; font-weight: bold\">6</span>. Executing OPT_CLEAN pass <span style=\"font-weight: bold\">(</span>remove unused cells and wires<span style=\"font-weight: bold\">)</span>.\n",
       "</pre>\n"
      ],
      "text/plain": [
       "\u001b[1;36m4.16\u001b[0m.\u001b[1;36m6\u001b[0m. Executing OPT_CLEAN pass \u001b[1m(\u001b[0mremove unused cells and wires\u001b[1m)\u001b[0m.\n"
      ]
     },
     "metadata": {},
     "output_type": "display_data"
    },
    {
     "data": {
      "text/html": [
       "<pre style=\"white-space:pre;overflow-x:auto;line-height:normal;font-family:Menlo,'DejaVu Sans Mono',consolas,'Courier New',monospace\">Finding unused cells or wires in module \\spm..\n",
       "</pre>\n"
      ],
      "text/plain": [
       "Finding unused cells or wires in module \\spm..\n"
      ]
     },
     "metadata": {},
     "output_type": "display_data"
    },
    {
     "data": {
      "text/html": [
       "<pre style=\"white-space:pre;overflow-x:auto;line-height:normal;font-family:Menlo,'DejaVu Sans Mono',consolas,'Courier New',monospace\">\n",
       "</pre>\n"
      ],
      "text/plain": [
       "\n"
      ]
     },
     "metadata": {},
     "output_type": "display_data"
    },
    {
     "data": {
      "text/html": [
       "<pre style=\"white-space:pre;overflow-x:auto;line-height:normal;font-family:Menlo,'DejaVu Sans Mono',consolas,'Courier New',monospace\"><span style=\"color: #008080; text-decoration-color: #008080; font-weight: bold\">4.16</span>.<span style=\"color: #008080; text-decoration-color: #008080; font-weight: bold\">7</span>. Executing MEMORY_SHARE pass <span style=\"font-weight: bold\">(</span>consolidating $memrd/$memwr cells<span style=\"font-weight: bold\">)</span>.\n",
       "</pre>\n"
      ],
      "text/plain": [
       "\u001b[1;36m4.16\u001b[0m.\u001b[1;36m7\u001b[0m. Executing MEMORY_SHARE pass \u001b[1m(\u001b[0mconsolidating $memrd/$memwr cells\u001b[1m)\u001b[0m.\n"
      ]
     },
     "metadata": {},
     "output_type": "display_data"
    },
    {
     "data": {
      "text/html": [
       "<pre style=\"white-space:pre;overflow-x:auto;line-height:normal;font-family:Menlo,'DejaVu Sans Mono',consolas,'Courier New',monospace\">\n",
       "</pre>\n"
      ],
      "text/plain": [
       "\n"
      ]
     },
     "metadata": {},
     "output_type": "display_data"
    },
    {
     "data": {
      "text/html": [
       "<pre style=\"white-space:pre;overflow-x:auto;line-height:normal;font-family:Menlo,'DejaVu Sans Mono',consolas,'Courier New',monospace\"><span style=\"color: #008080; text-decoration-color: #008080; font-weight: bold\">4.16</span>.<span style=\"color: #008080; text-decoration-color: #008080; font-weight: bold\">8</span>. Executing OPT_MEM_WIDEN pass <span style=\"font-weight: bold\">(</span>optimize memories where all ports are wide<span style=\"font-weight: bold\">)</span>.\n",
       "</pre>\n"
      ],
      "text/plain": [
       "\u001b[1;36m4.16\u001b[0m.\u001b[1;36m8\u001b[0m. Executing OPT_MEM_WIDEN pass \u001b[1m(\u001b[0moptimize memories where all ports are wide\u001b[1m)\u001b[0m.\n"
      ]
     },
     "metadata": {},
     "output_type": "display_data"
    },
    {
     "data": {
      "text/html": [
       "<pre style=\"white-space:pre;overflow-x:auto;line-height:normal;font-family:Menlo,'DejaVu Sans Mono',consolas,'Courier New',monospace\">Performed a total of <span style=\"color: #008080; text-decoration-color: #008080; font-weight: bold\">0</span> transformations.\n",
       "</pre>\n"
      ],
      "text/plain": [
       "Performed a total of \u001b[1;36m0\u001b[0m transformations.\n"
      ]
     },
     "metadata": {},
     "output_type": "display_data"
    },
    {
     "data": {
      "text/html": [
       "<pre style=\"white-space:pre;overflow-x:auto;line-height:normal;font-family:Menlo,'DejaVu Sans Mono',consolas,'Courier New',monospace\">\n",
       "</pre>\n"
      ],
      "text/plain": [
       "\n"
      ]
     },
     "metadata": {},
     "output_type": "display_data"
    },
    {
     "data": {
      "text/html": [
       "<pre style=\"white-space:pre;overflow-x:auto;line-height:normal;font-family:Menlo,'DejaVu Sans Mono',consolas,'Courier New',monospace\"><span style=\"color: #008080; text-decoration-color: #008080; font-weight: bold\">4.16</span>.<span style=\"color: #008080; text-decoration-color: #008080; font-weight: bold\">9</span>. Executing OPT_CLEAN pass <span style=\"font-weight: bold\">(</span>remove unused cells and wires<span style=\"font-weight: bold\">)</span>.\n",
       "</pre>\n"
      ],
      "text/plain": [
       "\u001b[1;36m4.16\u001b[0m.\u001b[1;36m9\u001b[0m. Executing OPT_CLEAN pass \u001b[1m(\u001b[0mremove unused cells and wires\u001b[1m)\u001b[0m.\n"
      ]
     },
     "metadata": {},
     "output_type": "display_data"
    },
    {
     "data": {
      "text/html": [
       "<pre style=\"white-space:pre;overflow-x:auto;line-height:normal;font-family:Menlo,'DejaVu Sans Mono',consolas,'Courier New',monospace\">Finding unused cells or wires in module \\spm..\n",
       "</pre>\n"
      ],
      "text/plain": [
       "Finding unused cells or wires in module \\spm..\n"
      ]
     },
     "metadata": {},
     "output_type": "display_data"
    },
    {
     "data": {
      "text/html": [
       "<pre style=\"white-space:pre;overflow-x:auto;line-height:normal;font-family:Menlo,'DejaVu Sans Mono',consolas,'Courier New',monospace\">\n",
       "</pre>\n"
      ],
      "text/plain": [
       "\n"
      ]
     },
     "metadata": {},
     "output_type": "display_data"
    },
    {
     "data": {
      "text/html": [
       "<pre style=\"white-space:pre;overflow-x:auto;line-height:normal;font-family:Menlo,'DejaVu Sans Mono',consolas,'Courier New',monospace\"><span style=\"color: #008080; text-decoration-color: #008080; font-weight: bold\">4.16</span>.<span style=\"color: #008080; text-decoration-color: #008080; font-weight: bold\">10</span>. Executing MEMORY_COLLECT pass <span style=\"font-weight: bold\">(</span>generating $mem cells<span style=\"font-weight: bold\">)</span>.\n",
       "</pre>\n"
      ],
      "text/plain": [
       "\u001b[1;36m4.16\u001b[0m.\u001b[1;36m10\u001b[0m. Executing MEMORY_COLLECT pass \u001b[1m(\u001b[0mgenerating $mem cells\u001b[1m)\u001b[0m.\n"
      ]
     },
     "metadata": {},
     "output_type": "display_data"
    },
    {
     "data": {
      "text/html": [
       "<pre style=\"white-space:pre;overflow-x:auto;line-height:normal;font-family:Menlo,'DejaVu Sans Mono',consolas,'Courier New',monospace\">\n",
       "</pre>\n"
      ],
      "text/plain": [
       "\n"
      ]
     },
     "metadata": {},
     "output_type": "display_data"
    },
    {
     "data": {
      "text/html": [
       "<pre style=\"white-space:pre;overflow-x:auto;line-height:normal;font-family:Menlo,'DejaVu Sans Mono',consolas,'Courier New',monospace\"><span style=\"color: #008080; text-decoration-color: #008080; font-weight: bold\">4.17</span>. Executing OPT_CLEAN pass <span style=\"font-weight: bold\">(</span>remove unused cells and wires<span style=\"font-weight: bold\">)</span>.\n",
       "</pre>\n"
      ],
      "text/plain": [
       "\u001b[1;36m4.17\u001b[0m. Executing OPT_CLEAN pass \u001b[1m(\u001b[0mremove unused cells and wires\u001b[1m)\u001b[0m.\n"
      ]
     },
     "metadata": {},
     "output_type": "display_data"
    },
    {
     "data": {
      "text/html": [
       "<pre style=\"white-space:pre;overflow-x:auto;line-height:normal;font-family:Menlo,'DejaVu Sans Mono',consolas,'Courier New',monospace\">Finding unused cells or wires in module \\spm..\n",
       "</pre>\n"
      ],
      "text/plain": [
       "Finding unused cells or wires in module \\spm..\n"
      ]
     },
     "metadata": {},
     "output_type": "display_data"
    },
    {
     "data": {
      "text/html": [
       "<pre style=\"white-space:pre;overflow-x:auto;line-height:normal;font-family:Menlo,'DejaVu Sans Mono',consolas,'Courier New',monospace\">\n",
       "</pre>\n"
      ],
      "text/plain": [
       "\n"
      ]
     },
     "metadata": {},
     "output_type": "display_data"
    },
    {
     "data": {
      "text/html": [
       "<pre style=\"white-space:pre;overflow-x:auto;line-height:normal;font-family:Menlo,'DejaVu Sans Mono',consolas,'Courier New',monospace\"><span style=\"color: #008080; text-decoration-color: #008080; font-weight: bold\">4.18</span>. Executing OPT pass <span style=\"font-weight: bold\">(</span>performing simple optimizations<span style=\"font-weight: bold\">)</span>.\n",
       "</pre>\n"
      ],
      "text/plain": [
       "\u001b[1;36m4.18\u001b[0m. Executing OPT pass \u001b[1m(\u001b[0mperforming simple optimizations\u001b[1m)\u001b[0m.\n"
      ]
     },
     "metadata": {},
     "output_type": "display_data"
    },
    {
     "data": {
      "text/html": [
       "<pre style=\"white-space:pre;overflow-x:auto;line-height:normal;font-family:Menlo,'DejaVu Sans Mono',consolas,'Courier New',monospace\">\n",
       "</pre>\n"
      ],
      "text/plain": [
       "\n"
      ]
     },
     "metadata": {},
     "output_type": "display_data"
    },
    {
     "data": {
      "text/html": [
       "<pre style=\"white-space:pre;overflow-x:auto;line-height:normal;font-family:Menlo,'DejaVu Sans Mono',consolas,'Courier New',monospace\"><span style=\"color: #008080; text-decoration-color: #008080; font-weight: bold\">4.18</span>.<span style=\"color: #008080; text-decoration-color: #008080; font-weight: bold\">1</span>. Executing OPT_EXPR pass <span style=\"font-weight: bold\">(</span>perform const folding<span style=\"font-weight: bold\">)</span>.\n",
       "</pre>\n"
      ],
      "text/plain": [
       "\u001b[1;36m4.18\u001b[0m.\u001b[1;36m1\u001b[0m. Executing OPT_EXPR pass \u001b[1m(\u001b[0mperform const folding\u001b[1m)\u001b[0m.\n"
      ]
     },
     "metadata": {},
     "output_type": "display_data"
    },
    {
     "data": {
      "text/html": [
       "<pre style=\"white-space:pre;overflow-x:auto;line-height:normal;font-family:Menlo,'DejaVu Sans Mono',consolas,'Courier New',monospace\">Optimizing module spm.\n",
       "</pre>\n"
      ],
      "text/plain": [
       "Optimizing module spm.\n"
      ]
     },
     "metadata": {},
     "output_type": "display_data"
    },
    {
     "data": {
      "text/html": [
       "<pre style=\"white-space:pre;overflow-x:auto;line-height:normal;font-family:Menlo,'DejaVu Sans Mono',consolas,'Courier New',monospace\">\n",
       "</pre>\n"
      ],
      "text/plain": [
       "\n"
      ]
     },
     "metadata": {},
     "output_type": "display_data"
    },
    {
     "data": {
      "text/html": [
       "<pre style=\"white-space:pre;overflow-x:auto;line-height:normal;font-family:Menlo,'DejaVu Sans Mono',consolas,'Courier New',monospace\"><span style=\"color: #008080; text-decoration-color: #008080; font-weight: bold\">4.18</span>.<span style=\"color: #008080; text-decoration-color: #008080; font-weight: bold\">2</span>. Executing OPT_MERGE pass <span style=\"font-weight: bold\">(</span>detect identical cells<span style=\"font-weight: bold\">)</span>.\n",
       "</pre>\n"
      ],
      "text/plain": [
       "\u001b[1;36m4.18\u001b[0m.\u001b[1;36m2\u001b[0m. Executing OPT_MERGE pass \u001b[1m(\u001b[0mdetect identical cells\u001b[1m)\u001b[0m.\n"
      ]
     },
     "metadata": {},
     "output_type": "display_data"
    },
    {
     "data": {
      "text/html": [
       "<pre style=\"white-space:pre;overflow-x:auto;line-height:normal;font-family:Menlo,'DejaVu Sans Mono',consolas,'Courier New',monospace\">Finding identical cells in module `\\spm'.\n",
       "</pre>\n"
      ],
      "text/plain": [
       "Finding identical cells in module `\\spm'.\n"
      ]
     },
     "metadata": {},
     "output_type": "display_data"
    },
    {
     "data": {
      "text/html": [
       "<pre style=\"white-space:pre;overflow-x:auto;line-height:normal;font-family:Menlo,'DejaVu Sans Mono',consolas,'Courier New',monospace\">Removed a total of <span style=\"color: #008080; text-decoration-color: #008080; font-weight: bold\">0</span> cells.\n",
       "</pre>\n"
      ],
      "text/plain": [
       "Removed a total of \u001b[1;36m0\u001b[0m cells.\n"
      ]
     },
     "metadata": {},
     "output_type": "display_data"
    },
    {
     "data": {
      "text/html": [
       "<pre style=\"white-space:pre;overflow-x:auto;line-height:normal;font-family:Menlo,'DejaVu Sans Mono',consolas,'Courier New',monospace\">\n",
       "</pre>\n"
      ],
      "text/plain": [
       "\n"
      ]
     },
     "metadata": {},
     "output_type": "display_data"
    },
    {
     "data": {
      "text/html": [
       "<pre style=\"white-space:pre;overflow-x:auto;line-height:normal;font-family:Menlo,'DejaVu Sans Mono',consolas,'Courier New',monospace\"><span style=\"color: #008080; text-decoration-color: #008080; font-weight: bold\">4.18</span>.<span style=\"color: #008080; text-decoration-color: #008080; font-weight: bold\">3</span>. Executing OPT_DFF pass <span style=\"font-weight: bold\">(</span>perform DFF optimizations<span style=\"font-weight: bold\">)</span>.\n",
       "</pre>\n"
      ],
      "text/plain": [
       "\u001b[1;36m4.18\u001b[0m.\u001b[1;36m3\u001b[0m. Executing OPT_DFF pass \u001b[1m(\u001b[0mperform DFF optimizations\u001b[1m)\u001b[0m.\n"
      ]
     },
     "metadata": {},
     "output_type": "display_data"
    },
    {
     "data": {
      "text/html": [
       "<pre style=\"white-space:pre;overflow-x:auto;line-height:normal;font-family:Menlo,'DejaVu Sans Mono',consolas,'Courier New',monospace\">\n",
       "</pre>\n"
      ],
      "text/plain": [
       "\n"
      ]
     },
     "metadata": {},
     "output_type": "display_data"
    },
    {
     "data": {
      "text/html": [
       "<pre style=\"white-space:pre;overflow-x:auto;line-height:normal;font-family:Menlo,'DejaVu Sans Mono',consolas,'Courier New',monospace\"><span style=\"color: #008080; text-decoration-color: #008080; font-weight: bold\">4.18</span>.<span style=\"color: #008080; text-decoration-color: #008080; font-weight: bold\">4</span>. Executing OPT_CLEAN pass <span style=\"font-weight: bold\">(</span>remove unused cells and wires<span style=\"font-weight: bold\">)</span>.\n",
       "</pre>\n"
      ],
      "text/plain": [
       "\u001b[1;36m4.18\u001b[0m.\u001b[1;36m4\u001b[0m. Executing OPT_CLEAN pass \u001b[1m(\u001b[0mremove unused cells and wires\u001b[1m)\u001b[0m.\n"
      ]
     },
     "metadata": {},
     "output_type": "display_data"
    },
    {
     "data": {
      "text/html": [
       "<pre style=\"white-space:pre;overflow-x:auto;line-height:normal;font-family:Menlo,'DejaVu Sans Mono',consolas,'Courier New',monospace\">Finding unused cells or wires in module \\spm..\n",
       "</pre>\n"
      ],
      "text/plain": [
       "Finding unused cells or wires in module \\spm..\n"
      ]
     },
     "metadata": {},
     "output_type": "display_data"
    },
    {
     "data": {
      "text/html": [
       "<pre style=\"white-space:pre;overflow-x:auto;line-height:normal;font-family:Menlo,'DejaVu Sans Mono',consolas,'Courier New',monospace\">\n",
       "</pre>\n"
      ],
      "text/plain": [
       "\n"
      ]
     },
     "metadata": {},
     "output_type": "display_data"
    },
    {
     "data": {
      "text/html": [
       "<pre style=\"white-space:pre;overflow-x:auto;line-height:normal;font-family:Menlo,'DejaVu Sans Mono',consolas,'Courier New',monospace\"><span style=\"color: #008080; text-decoration-color: #008080; font-weight: bold\">4.18</span>.<span style=\"color: #008080; text-decoration-color: #008080; font-weight: bold\">5</span>. Finished fast OPT passes.\n",
       "</pre>\n"
      ],
      "text/plain": [
       "\u001b[1;36m4.18\u001b[0m.\u001b[1;36m5\u001b[0m. Finished fast OPT passes.\n"
      ]
     },
     "metadata": {},
     "output_type": "display_data"
    },
    {
     "data": {
      "text/html": [
       "<pre style=\"white-space:pre;overflow-x:auto;line-height:normal;font-family:Menlo,'DejaVu Sans Mono',consolas,'Courier New',monospace\">\n",
       "</pre>\n"
      ],
      "text/plain": [
       "\n"
      ]
     },
     "metadata": {},
     "output_type": "display_data"
    },
    {
     "data": {
      "text/html": [
       "<pre style=\"white-space:pre;overflow-x:auto;line-height:normal;font-family:Menlo,'DejaVu Sans Mono',consolas,'Courier New',monospace\"><span style=\"color: #008080; text-decoration-color: #008080; font-weight: bold\">4.19</span>. Executing MEMORY_MAP pass <span style=\"font-weight: bold\">(</span>converting memories to logic and flip-flops<span style=\"font-weight: bold\">)</span>.\n",
       "</pre>\n"
      ],
      "text/plain": [
       "\u001b[1;36m4.19\u001b[0m. Executing MEMORY_MAP pass \u001b[1m(\u001b[0mconverting memories to logic and flip-flops\u001b[1m)\u001b[0m.\n"
      ]
     },
     "metadata": {},
     "output_type": "display_data"
    },
    {
     "data": {
      "text/html": [
       "<pre style=\"white-space:pre;overflow-x:auto;line-height:normal;font-family:Menlo,'DejaVu Sans Mono',consolas,'Courier New',monospace\">\n",
       "</pre>\n"
      ],
      "text/plain": [
       "\n"
      ]
     },
     "metadata": {},
     "output_type": "display_data"
    },
    {
     "data": {
      "text/html": [
       "<pre style=\"white-space:pre;overflow-x:auto;line-height:normal;font-family:Menlo,'DejaVu Sans Mono',consolas,'Courier New',monospace\"><span style=\"color: #008080; text-decoration-color: #008080; font-weight: bold\">4.20</span>. Executing OPT pass <span style=\"font-weight: bold\">(</span>performing simple optimizations<span style=\"font-weight: bold\">)</span>.\n",
       "</pre>\n"
      ],
      "text/plain": [
       "\u001b[1;36m4.20\u001b[0m. Executing OPT pass \u001b[1m(\u001b[0mperforming simple optimizations\u001b[1m)\u001b[0m.\n"
      ]
     },
     "metadata": {},
     "output_type": "display_data"
    },
    {
     "data": {
      "text/html": [
       "<pre style=\"white-space:pre;overflow-x:auto;line-height:normal;font-family:Menlo,'DejaVu Sans Mono',consolas,'Courier New',monospace\">\n",
       "</pre>\n"
      ],
      "text/plain": [
       "\n"
      ]
     },
     "metadata": {},
     "output_type": "display_data"
    },
    {
     "data": {
      "text/html": [
       "<pre style=\"white-space:pre;overflow-x:auto;line-height:normal;font-family:Menlo,'DejaVu Sans Mono',consolas,'Courier New',monospace\"><span style=\"color: #008080; text-decoration-color: #008080; font-weight: bold\">4.20</span>.<span style=\"color: #008080; text-decoration-color: #008080; font-weight: bold\">1</span>. Executing OPT_EXPR pass <span style=\"font-weight: bold\">(</span>perform const folding<span style=\"font-weight: bold\">)</span>.\n",
       "</pre>\n"
      ],
      "text/plain": [
       "\u001b[1;36m4.20\u001b[0m.\u001b[1;36m1\u001b[0m. Executing OPT_EXPR pass \u001b[1m(\u001b[0mperform const folding\u001b[1m)\u001b[0m.\n"
      ]
     },
     "metadata": {},
     "output_type": "display_data"
    },
    {
     "data": {
      "text/html": [
       "<pre style=\"white-space:pre;overflow-x:auto;line-height:normal;font-family:Menlo,'DejaVu Sans Mono',consolas,'Courier New',monospace\">Optimizing module spm.\n",
       "</pre>\n"
      ],
      "text/plain": [
       "Optimizing module spm.\n"
      ]
     },
     "metadata": {},
     "output_type": "display_data"
    },
    {
     "data": {
      "text/html": [
       "<pre style=\"white-space:pre;overflow-x:auto;line-height:normal;font-family:Menlo,'DejaVu Sans Mono',consolas,'Courier New',monospace\">\n",
       "</pre>\n"
      ],
      "text/plain": [
       "\n"
      ]
     },
     "metadata": {},
     "output_type": "display_data"
    },
    {
     "data": {
      "text/html": [
       "<pre style=\"white-space:pre;overflow-x:auto;line-height:normal;font-family:Menlo,'DejaVu Sans Mono',consolas,'Courier New',monospace\"><span style=\"color: #008080; text-decoration-color: #008080; font-weight: bold\">4.20</span>.<span style=\"color: #008080; text-decoration-color: #008080; font-weight: bold\">2</span>. Executing OPT_MERGE pass <span style=\"font-weight: bold\">(</span>detect identical cells<span style=\"font-weight: bold\">)</span>.\n",
       "</pre>\n"
      ],
      "text/plain": [
       "\u001b[1;36m4.20\u001b[0m.\u001b[1;36m2\u001b[0m. Executing OPT_MERGE pass \u001b[1m(\u001b[0mdetect identical cells\u001b[1m)\u001b[0m.\n"
      ]
     },
     "metadata": {},
     "output_type": "display_data"
    },
    {
     "data": {
      "text/html": [
       "<pre style=\"white-space:pre;overflow-x:auto;line-height:normal;font-family:Menlo,'DejaVu Sans Mono',consolas,'Courier New',monospace\">Finding identical cells in module `\\spm'.\n",
       "</pre>\n"
      ],
      "text/plain": [
       "Finding identical cells in module `\\spm'.\n"
      ]
     },
     "metadata": {},
     "output_type": "display_data"
    },
    {
     "data": {
      "text/html": [
       "<pre style=\"white-space:pre;overflow-x:auto;line-height:normal;font-family:Menlo,'DejaVu Sans Mono',consolas,'Courier New',monospace\">Removed a total of <span style=\"color: #008080; text-decoration-color: #008080; font-weight: bold\">0</span> cells.\n",
       "</pre>\n"
      ],
      "text/plain": [
       "Removed a total of \u001b[1;36m0\u001b[0m cells.\n"
      ]
     },
     "metadata": {},
     "output_type": "display_data"
    },
    {
     "data": {
      "text/html": [
       "<pre style=\"white-space:pre;overflow-x:auto;line-height:normal;font-family:Menlo,'DejaVu Sans Mono',consolas,'Courier New',monospace\">\n",
       "</pre>\n"
      ],
      "text/plain": [
       "\n"
      ]
     },
     "metadata": {},
     "output_type": "display_data"
    },
    {
     "data": {
      "text/html": [
       "<pre style=\"white-space:pre;overflow-x:auto;line-height:normal;font-family:Menlo,'DejaVu Sans Mono',consolas,'Courier New',monospace\"><span style=\"color: #008080; text-decoration-color: #008080; font-weight: bold\">4.20</span>.<span style=\"color: #008080; text-decoration-color: #008080; font-weight: bold\">3</span>. Executing OPT_MUXTREE pass <span style=\"font-weight: bold\">(</span>detect dead branches in mux trees<span style=\"font-weight: bold\">)</span>.\n",
       "</pre>\n"
      ],
      "text/plain": [
       "\u001b[1;36m4.20\u001b[0m.\u001b[1;36m3\u001b[0m. Executing OPT_MUXTREE pass \u001b[1m(\u001b[0mdetect dead branches in mux trees\u001b[1m)\u001b[0m.\n"
      ]
     },
     "metadata": {},
     "output_type": "display_data"
    },
    {
     "data": {
      "text/html": [
       "<pre style=\"white-space:pre;overflow-x:auto;line-height:normal;font-family:Menlo,'DejaVu Sans Mono',consolas,'Courier New',monospace\">Running muxtree optimizer on module \\spm..\n",
       "</pre>\n"
      ],
      "text/plain": [
       "Running muxtree optimizer on module \\spm..\n"
      ]
     },
     "metadata": {},
     "output_type": "display_data"
    },
    {
     "data": {
      "text/html": [
       "<pre style=\"white-space:pre;overflow-x:auto;line-height:normal;font-family:Menlo,'DejaVu Sans Mono',consolas,'Courier New',monospace\">Creating internal representation of mux trees.\n",
       "</pre>\n"
      ],
      "text/plain": [
       "Creating internal representation of mux trees.\n"
      ]
     },
     "metadata": {},
     "output_type": "display_data"
    },
    {
     "data": {
      "text/html": [
       "<pre style=\"white-space:pre;overflow-x:auto;line-height:normal;font-family:Menlo,'DejaVu Sans Mono',consolas,'Courier New',monospace\">No muxes found in this module.\n",
       "</pre>\n"
      ],
      "text/plain": [
       "No muxes found in this module.\n"
      ]
     },
     "metadata": {},
     "output_type": "display_data"
    },
    {
     "data": {
      "text/html": [
       "<pre style=\"white-space:pre;overflow-x:auto;line-height:normal;font-family:Menlo,'DejaVu Sans Mono',consolas,'Courier New',monospace\">Removed <span style=\"color: #008080; text-decoration-color: #008080; font-weight: bold\">0</span> multiplexer ports.\n",
       "</pre>\n"
      ],
      "text/plain": [
       "Removed \u001b[1;36m0\u001b[0m multiplexer ports.\n"
      ]
     },
     "metadata": {},
     "output_type": "display_data"
    },
    {
     "data": {
      "text/html": [
       "<pre style=\"white-space:pre;overflow-x:auto;line-height:normal;font-family:Menlo,'DejaVu Sans Mono',consolas,'Courier New',monospace\">\n",
       "</pre>\n"
      ],
      "text/plain": [
       "\n"
      ]
     },
     "metadata": {},
     "output_type": "display_data"
    },
    {
     "data": {
      "text/html": [
       "<pre style=\"white-space:pre;overflow-x:auto;line-height:normal;font-family:Menlo,'DejaVu Sans Mono',consolas,'Courier New',monospace\"><span style=\"color: #008080; text-decoration-color: #008080; font-weight: bold\">4.20</span>.<span style=\"color: #008080; text-decoration-color: #008080; font-weight: bold\">4</span>. Executing OPT_REDUCE pass <span style=\"font-weight: bold\">(</span>consolidate $*mux and $reduce_* inputs<span style=\"font-weight: bold\">)</span>.\n",
       "</pre>\n"
      ],
      "text/plain": [
       "\u001b[1;36m4.20\u001b[0m.\u001b[1;36m4\u001b[0m. Executing OPT_REDUCE pass \u001b[1m(\u001b[0mconsolidate $*mux and $reduce_* inputs\u001b[1m)\u001b[0m.\n"
      ]
     },
     "metadata": {},
     "output_type": "display_data"
    },
    {
     "data": {
      "text/html": [
       "<pre style=\"white-space:pre;overflow-x:auto;line-height:normal;font-family:Menlo,'DejaVu Sans Mono',consolas,'Courier New',monospace\">Optimizing cells in module \\spm.\n",
       "</pre>\n"
      ],
      "text/plain": [
       "Optimizing cells in module \\spm.\n"
      ]
     },
     "metadata": {},
     "output_type": "display_data"
    },
    {
     "data": {
      "text/html": [
       "<pre style=\"white-space:pre;overflow-x:auto;line-height:normal;font-family:Menlo,'DejaVu Sans Mono',consolas,'Courier New',monospace\">Performed a total of <span style=\"color: #008080; text-decoration-color: #008080; font-weight: bold\">0</span> changes.\n",
       "</pre>\n"
      ],
      "text/plain": [
       "Performed a total of \u001b[1;36m0\u001b[0m changes.\n"
      ]
     },
     "metadata": {},
     "output_type": "display_data"
    },
    {
     "data": {
      "text/html": [
       "<pre style=\"white-space:pre;overflow-x:auto;line-height:normal;font-family:Menlo,'DejaVu Sans Mono',consolas,'Courier New',monospace\">\n",
       "</pre>\n"
      ],
      "text/plain": [
       "\n"
      ]
     },
     "metadata": {},
     "output_type": "display_data"
    },
    {
     "data": {
      "text/html": [
       "<pre style=\"white-space:pre;overflow-x:auto;line-height:normal;font-family:Menlo,'DejaVu Sans Mono',consolas,'Courier New',monospace\"><span style=\"color: #008080; text-decoration-color: #008080; font-weight: bold\">4.20</span>.<span style=\"color: #008080; text-decoration-color: #008080; font-weight: bold\">5</span>. Executing OPT_MERGE pass <span style=\"font-weight: bold\">(</span>detect identical cells<span style=\"font-weight: bold\">)</span>.\n",
       "</pre>\n"
      ],
      "text/plain": [
       "\u001b[1;36m4.20\u001b[0m.\u001b[1;36m5\u001b[0m. Executing OPT_MERGE pass \u001b[1m(\u001b[0mdetect identical cells\u001b[1m)\u001b[0m.\n"
      ]
     },
     "metadata": {},
     "output_type": "display_data"
    },
    {
     "data": {
      "text/html": [
       "<pre style=\"white-space:pre;overflow-x:auto;line-height:normal;font-family:Menlo,'DejaVu Sans Mono',consolas,'Courier New',monospace\">Finding identical cells in module `\\spm'.\n",
       "</pre>\n"
      ],
      "text/plain": [
       "Finding identical cells in module `\\spm'.\n"
      ]
     },
     "metadata": {},
     "output_type": "display_data"
    },
    {
     "data": {
      "text/html": [
       "<pre style=\"white-space:pre;overflow-x:auto;line-height:normal;font-family:Menlo,'DejaVu Sans Mono',consolas,'Courier New',monospace\">Removed a total of <span style=\"color: #008080; text-decoration-color: #008080; font-weight: bold\">0</span> cells.\n",
       "</pre>\n"
      ],
      "text/plain": [
       "Removed a total of \u001b[1;36m0\u001b[0m cells.\n"
      ]
     },
     "metadata": {},
     "output_type": "display_data"
    },
    {
     "data": {
      "text/html": [
       "<pre style=\"white-space:pre;overflow-x:auto;line-height:normal;font-family:Menlo,'DejaVu Sans Mono',consolas,'Courier New',monospace\">\n",
       "</pre>\n"
      ],
      "text/plain": [
       "\n"
      ]
     },
     "metadata": {},
     "output_type": "display_data"
    },
    {
     "data": {
      "text/html": [
       "<pre style=\"white-space:pre;overflow-x:auto;line-height:normal;font-family:Menlo,'DejaVu Sans Mono',consolas,'Courier New',monospace\"><span style=\"color: #008080; text-decoration-color: #008080; font-weight: bold\">4.20</span>.<span style=\"color: #008080; text-decoration-color: #008080; font-weight: bold\">6</span>. Executing OPT_SHARE pass.\n",
       "</pre>\n"
      ],
      "text/plain": [
       "\u001b[1;36m4.20\u001b[0m.\u001b[1;36m6\u001b[0m. Executing OPT_SHARE pass.\n"
      ]
     },
     "metadata": {},
     "output_type": "display_data"
    },
    {
     "data": {
      "text/html": [
       "<pre style=\"white-space:pre;overflow-x:auto;line-height:normal;font-family:Menlo,'DejaVu Sans Mono',consolas,'Courier New',monospace\">\n",
       "</pre>\n"
      ],
      "text/plain": [
       "\n"
      ]
     },
     "metadata": {},
     "output_type": "display_data"
    },
    {
     "data": {
      "text/html": [
       "<pre style=\"white-space:pre;overflow-x:auto;line-height:normal;font-family:Menlo,'DejaVu Sans Mono',consolas,'Courier New',monospace\"><span style=\"color: #008080; text-decoration-color: #008080; font-weight: bold\">4.20</span>.<span style=\"color: #008080; text-decoration-color: #008080; font-weight: bold\">7</span>. Executing OPT_DFF pass <span style=\"font-weight: bold\">(</span>perform DFF optimizations<span style=\"font-weight: bold\">)</span>.\n",
       "</pre>\n"
      ],
      "text/plain": [
       "\u001b[1;36m4.20\u001b[0m.\u001b[1;36m7\u001b[0m. Executing OPT_DFF pass \u001b[1m(\u001b[0mperform DFF optimizations\u001b[1m)\u001b[0m.\n"
      ]
     },
     "metadata": {},
     "output_type": "display_data"
    },
    {
     "data": {
      "text/html": [
       "<pre style=\"white-space:pre;overflow-x:auto;line-height:normal;font-family:Menlo,'DejaVu Sans Mono',consolas,'Courier New',monospace\">\n",
       "</pre>\n"
      ],
      "text/plain": [
       "\n"
      ]
     },
     "metadata": {},
     "output_type": "display_data"
    },
    {
     "data": {
      "text/html": [
       "<pre style=\"white-space:pre;overflow-x:auto;line-height:normal;font-family:Menlo,'DejaVu Sans Mono',consolas,'Courier New',monospace\"><span style=\"color: #008080; text-decoration-color: #008080; font-weight: bold\">4.20</span>.<span style=\"color: #008080; text-decoration-color: #008080; font-weight: bold\">8</span>. Executing OPT_CLEAN pass <span style=\"font-weight: bold\">(</span>remove unused cells and wires<span style=\"font-weight: bold\">)</span>.\n",
       "</pre>\n"
      ],
      "text/plain": [
       "\u001b[1;36m4.20\u001b[0m.\u001b[1;36m8\u001b[0m. Executing OPT_CLEAN pass \u001b[1m(\u001b[0mremove unused cells and wires\u001b[1m)\u001b[0m.\n"
      ]
     },
     "metadata": {},
     "output_type": "display_data"
    },
    {
     "data": {
      "text/html": [
       "<pre style=\"white-space:pre;overflow-x:auto;line-height:normal;font-family:Menlo,'DejaVu Sans Mono',consolas,'Courier New',monospace\">Finding unused cells or wires in module \\spm..\n",
       "</pre>\n"
      ],
      "text/plain": [
       "Finding unused cells or wires in module \\spm..\n"
      ]
     },
     "metadata": {},
     "output_type": "display_data"
    },
    {
     "data": {
      "text/html": [
       "<pre style=\"white-space:pre;overflow-x:auto;line-height:normal;font-family:Menlo,'DejaVu Sans Mono',consolas,'Courier New',monospace\">\n",
       "</pre>\n"
      ],
      "text/plain": [
       "\n"
      ]
     },
     "metadata": {},
     "output_type": "display_data"
    },
    {
     "data": {
      "text/html": [
       "<pre style=\"white-space:pre;overflow-x:auto;line-height:normal;font-family:Menlo,'DejaVu Sans Mono',consolas,'Courier New',monospace\"><span style=\"color: #008080; text-decoration-color: #008080; font-weight: bold\">4.20</span>.<span style=\"color: #008080; text-decoration-color: #008080; font-weight: bold\">9</span>. Executing OPT_EXPR pass <span style=\"font-weight: bold\">(</span>perform const folding<span style=\"font-weight: bold\">)</span>.\n",
       "</pre>\n"
      ],
      "text/plain": [
       "\u001b[1;36m4.20\u001b[0m.\u001b[1;36m9\u001b[0m. Executing OPT_EXPR pass \u001b[1m(\u001b[0mperform const folding\u001b[1m)\u001b[0m.\n"
      ]
     },
     "metadata": {},
     "output_type": "display_data"
    },
    {
     "data": {
      "text/html": [
       "<pre style=\"white-space:pre;overflow-x:auto;line-height:normal;font-family:Menlo,'DejaVu Sans Mono',consolas,'Courier New',monospace\">Optimizing module spm.\n",
       "</pre>\n"
      ],
      "text/plain": [
       "Optimizing module spm.\n"
      ]
     },
     "metadata": {},
     "output_type": "display_data"
    },
    {
     "data": {
      "text/html": [
       "<pre style=\"white-space:pre;overflow-x:auto;line-height:normal;font-family:Menlo,'DejaVu Sans Mono',consolas,'Courier New',monospace\">\n",
       "</pre>\n"
      ],
      "text/plain": [
       "\n"
      ]
     },
     "metadata": {},
     "output_type": "display_data"
    },
    {
     "data": {
      "text/html": [
       "<pre style=\"white-space:pre;overflow-x:auto;line-height:normal;font-family:Menlo,'DejaVu Sans Mono',consolas,'Courier New',monospace\"><span style=\"color: #008080; text-decoration-color: #008080; font-weight: bold\">4.20</span>.<span style=\"color: #008080; text-decoration-color: #008080; font-weight: bold\">10</span>. Finished OPT passes. <span style=\"font-weight: bold\">(</span>There is nothing left to do.<span style=\"font-weight: bold\">)</span>\n",
       "</pre>\n"
      ],
      "text/plain": [
       "\u001b[1;36m4.20\u001b[0m.\u001b[1;36m10\u001b[0m. Finished OPT passes. \u001b[1m(\u001b[0mThere is nothing left to do.\u001b[1m)\u001b[0m\n"
      ]
     },
     "metadata": {},
     "output_type": "display_data"
    },
    {
     "data": {
      "text/html": [
       "<pre style=\"white-space:pre;overflow-x:auto;line-height:normal;font-family:Menlo,'DejaVu Sans Mono',consolas,'Courier New',monospace\">\n",
       "</pre>\n"
      ],
      "text/plain": [
       "\n"
      ]
     },
     "metadata": {},
     "output_type": "display_data"
    },
    {
     "data": {
      "text/html": [
       "<pre style=\"white-space:pre;overflow-x:auto;line-height:normal;font-family:Menlo,'DejaVu Sans Mono',consolas,'Courier New',monospace\"><span style=\"color: #008080; text-decoration-color: #008080; font-weight: bold\">4.21</span>. Executing TECHMAP pass <span style=\"font-weight: bold\">(</span>map to technology primitives<span style=\"font-weight: bold\">)</span>.\n",
       "</pre>\n"
      ],
      "text/plain": [
       "\u001b[1;36m4.21\u001b[0m. Executing TECHMAP pass \u001b[1m(\u001b[0mmap to technology primitives\u001b[1m)\u001b[0m.\n"
      ]
     },
     "metadata": {},
     "output_type": "display_data"
    },
    {
     "data": {
      "text/html": [
       "<pre style=\"white-space:pre;overflow-x:auto;line-height:normal;font-family:Menlo,'DejaVu Sans Mono',consolas,'Courier New',monospace\">\n",
       "</pre>\n"
      ],
      "text/plain": [
       "\n"
      ]
     },
     "metadata": {},
     "output_type": "display_data"
    },
    {
     "data": {
      "text/html": [
       "<pre style=\"white-space:pre;overflow-x:auto;line-height:normal;font-family:Menlo,'DejaVu Sans Mono',consolas,'Courier New',monospace\"><span style=\"color: #008080; text-decoration-color: #008080; font-weight: bold\">4.21</span>.<span style=\"color: #008080; text-decoration-color: #008080; font-weight: bold\">1</span>. Executing Verilog-<span style=\"color: #008080; text-decoration-color: #008080; font-weight: bold\">2005</span> frontend: \n",
       "<span style=\"color: #800080; text-decoration-color: #800080\">/nix/store/7rrb45i6djpyrabz63i63wx6dszbcx13-yosys-7e588664e7efa36ff473f0497feacaad57f5e90c/bin/../share/yosys/</span><span style=\"color: #ff00ff; text-decoration-color: #ff00ff\">techm</span>\n",
       "<span style=\"color: #ff00ff; text-decoration-color: #ff00ff\">ap.v</span>\n",
       "</pre>\n"
      ],
      "text/plain": [
       "\u001b[1;36m4.21\u001b[0m.\u001b[1;36m1\u001b[0m. Executing Verilog-\u001b[1;36m2005\u001b[0m frontend: \n",
       "\u001b[35m/nix/store/7rrb45i6djpyrabz63i63wx6dszbcx13-yosys-7e588664e7efa36ff473f0497feacaad57f5e90c/bin/../share/yosys/\u001b[0m\u001b[95mtechm\u001b[0m\n",
       "\u001b[95map.v\u001b[0m\n"
      ]
     },
     "metadata": {},
     "output_type": "display_data"
    },
    {
     "data": {
      "text/html": [
       "<pre style=\"white-space:pre;overflow-x:auto;line-height:normal;font-family:Menlo,'DejaVu Sans Mono',consolas,'Courier New',monospace\">Parsing Verilog input from \n",
       "`<span style=\"color: #800080; text-decoration-color: #800080\">/nix/store/7rrb45i6djpyrabz63i63wx6dszbcx13-yosys-7e588664e7efa36ff473f0497feacaad57f5e90c/bin/../share/yosys/</span><span style=\"color: #ff00ff; text-decoration-color: #ff00ff\">tech</span>\n",
       "<span style=\"color: #ff00ff; text-decoration-color: #ff00ff\">map.v</span>' to AST representation.\n",
       "</pre>\n"
      ],
      "text/plain": [
       "Parsing Verilog input from \n",
       "`\u001b[35m/nix/store/7rrb45i6djpyrabz63i63wx6dszbcx13-yosys-7e588664e7efa36ff473f0497feacaad57f5e90c/bin/../share/yosys/\u001b[0m\u001b[95mtech\u001b[0m\n",
       "\u001b[95mmap.v\u001b[0m' to AST representation.\n"
      ]
     },
     "metadata": {},
     "output_type": "display_data"
    },
    {
     "data": {
      "text/html": [
       "<pre style=\"white-space:pre;overflow-x:auto;line-height:normal;font-family:Menlo,'DejaVu Sans Mono',consolas,'Courier New',monospace\">Generating RTLIL representation for module `\\_90_simplemap_bool_ops'.\n",
       "</pre>\n"
      ],
      "text/plain": [
       "Generating RTLIL representation for module `\\_90_simplemap_bool_ops'.\n"
      ]
     },
     "metadata": {},
     "output_type": "display_data"
    },
    {
     "data": {
      "text/html": [
       "<pre style=\"white-space:pre;overflow-x:auto;line-height:normal;font-family:Menlo,'DejaVu Sans Mono',consolas,'Courier New',monospace\">Generating RTLIL representation for module `\\_90_simplemap_reduce_ops'.\n",
       "</pre>\n"
      ],
      "text/plain": [
       "Generating RTLIL representation for module `\\_90_simplemap_reduce_ops'.\n"
      ]
     },
     "metadata": {},
     "output_type": "display_data"
    },
    {
     "data": {
      "text/html": [
       "<pre style=\"white-space:pre;overflow-x:auto;line-height:normal;font-family:Menlo,'DejaVu Sans Mono',consolas,'Courier New',monospace\">Generating RTLIL representation for module `\\_90_simplemap_logic_ops'.\n",
       "</pre>\n"
      ],
      "text/plain": [
       "Generating RTLIL representation for module `\\_90_simplemap_logic_ops'.\n"
      ]
     },
     "metadata": {},
     "output_type": "display_data"
    },
    {
     "data": {
      "text/html": [
       "<pre style=\"white-space:pre;overflow-x:auto;line-height:normal;font-family:Menlo,'DejaVu Sans Mono',consolas,'Courier New',monospace\">Generating RTLIL representation for module `\\_90_simplemap_compare_ops'.\n",
       "</pre>\n"
      ],
      "text/plain": [
       "Generating RTLIL representation for module `\\_90_simplemap_compare_ops'.\n"
      ]
     },
     "metadata": {},
     "output_type": "display_data"
    },
    {
     "data": {
      "text/html": [
       "<pre style=\"white-space:pre;overflow-x:auto;line-height:normal;font-family:Menlo,'DejaVu Sans Mono',consolas,'Courier New',monospace\">Generating RTLIL representation for module `\\_90_simplemap_various'.\n",
       "</pre>\n"
      ],
      "text/plain": [
       "Generating RTLIL representation for module `\\_90_simplemap_various'.\n"
      ]
     },
     "metadata": {},
     "output_type": "display_data"
    },
    {
     "data": {
      "text/html": [
       "<pre style=\"white-space:pre;overflow-x:auto;line-height:normal;font-family:Menlo,'DejaVu Sans Mono',consolas,'Courier New',monospace\">Generating RTLIL representation for module `\\_90_simplemap_registers'.\n",
       "</pre>\n"
      ],
      "text/plain": [
       "Generating RTLIL representation for module `\\_90_simplemap_registers'.\n"
      ]
     },
     "metadata": {},
     "output_type": "display_data"
    },
    {
     "data": {
      "text/html": [
       "<pre style=\"white-space:pre;overflow-x:auto;line-height:normal;font-family:Menlo,'DejaVu Sans Mono',consolas,'Courier New',monospace\">Generating RTLIL representation for module `\\_90_shift_ops_shr_shl_sshl_sshr'.\n",
       "</pre>\n"
      ],
      "text/plain": [
       "Generating RTLIL representation for module `\\_90_shift_ops_shr_shl_sshl_sshr'.\n"
      ]
     },
     "metadata": {},
     "output_type": "display_data"
    },
    {
     "data": {
      "text/html": [
       "<pre style=\"white-space:pre;overflow-x:auto;line-height:normal;font-family:Menlo,'DejaVu Sans Mono',consolas,'Courier New',monospace\">Generating RTLIL representation for module `\\_90_shift_shiftx'.\n",
       "</pre>\n"
      ],
      "text/plain": [
       "Generating RTLIL representation for module `\\_90_shift_shiftx'.\n"
      ]
     },
     "metadata": {},
     "output_type": "display_data"
    },
    {
     "data": {
      "text/html": [
       "<pre style=\"white-space:pre;overflow-x:auto;line-height:normal;font-family:Menlo,'DejaVu Sans Mono',consolas,'Courier New',monospace\">Generating RTLIL representation for module `\\_90_fa'.\n",
       "</pre>\n"
      ],
      "text/plain": [
       "Generating RTLIL representation for module `\\_90_fa'.\n"
      ]
     },
     "metadata": {},
     "output_type": "display_data"
    },
    {
     "data": {
      "text/html": [
       "<pre style=\"white-space:pre;overflow-x:auto;line-height:normal;font-family:Menlo,'DejaVu Sans Mono',consolas,'Courier New',monospace\">Generating RTLIL representation for module `\\_90_lcu'.\n",
       "</pre>\n"
      ],
      "text/plain": [
       "Generating RTLIL representation for module `\\_90_lcu'.\n"
      ]
     },
     "metadata": {},
     "output_type": "display_data"
    },
    {
     "data": {
      "text/html": [
       "<pre style=\"white-space:pre;overflow-x:auto;line-height:normal;font-family:Menlo,'DejaVu Sans Mono',consolas,'Courier New',monospace\">Generating RTLIL representation for module `\\_90_alu'.\n",
       "</pre>\n"
      ],
      "text/plain": [
       "Generating RTLIL representation for module `\\_90_alu'.\n"
      ]
     },
     "metadata": {},
     "output_type": "display_data"
    },
    {
     "data": {
      "text/html": [
       "<pre style=\"white-space:pre;overflow-x:auto;line-height:normal;font-family:Menlo,'DejaVu Sans Mono',consolas,'Courier New',monospace\">Generating RTLIL representation for module `\\_90_macc'.\n",
       "</pre>\n"
      ],
      "text/plain": [
       "Generating RTLIL representation for module `\\_90_macc'.\n"
      ]
     },
     "metadata": {},
     "output_type": "display_data"
    },
    {
     "data": {
      "text/html": [
       "<pre style=\"white-space:pre;overflow-x:auto;line-height:normal;font-family:Menlo,'DejaVu Sans Mono',consolas,'Courier New',monospace\">Generating RTLIL representation for module `\\_90_alumacc'.\n",
       "</pre>\n"
      ],
      "text/plain": [
       "Generating RTLIL representation for module `\\_90_alumacc'.\n"
      ]
     },
     "metadata": {},
     "output_type": "display_data"
    },
    {
     "data": {
      "text/html": [
       "<pre style=\"white-space:pre;overflow-x:auto;line-height:normal;font-family:Menlo,'DejaVu Sans Mono',consolas,'Courier New',monospace\">Generating RTLIL representation for module `\\$__div_mod_u'.\n",
       "</pre>\n"
      ],
      "text/plain": [
       "Generating RTLIL representation for module `\\$__div_mod_u'.\n"
      ]
     },
     "metadata": {},
     "output_type": "display_data"
    },
    {
     "data": {
      "text/html": [
       "<pre style=\"white-space:pre;overflow-x:auto;line-height:normal;font-family:Menlo,'DejaVu Sans Mono',consolas,'Courier New',monospace\">Generating RTLIL representation for module `\\$__div_mod_trunc'.\n",
       "</pre>\n"
      ],
      "text/plain": [
       "Generating RTLIL representation for module `\\$__div_mod_trunc'.\n"
      ]
     },
     "metadata": {},
     "output_type": "display_data"
    },
    {
     "data": {
      "text/html": [
       "<pre style=\"white-space:pre;overflow-x:auto;line-height:normal;font-family:Menlo,'DejaVu Sans Mono',consolas,'Courier New',monospace\">Generating RTLIL representation for module `\\_90_div'.\n",
       "</pre>\n"
      ],
      "text/plain": [
       "Generating RTLIL representation for module `\\_90_div'.\n"
      ]
     },
     "metadata": {},
     "output_type": "display_data"
    },
    {
     "data": {
      "text/html": [
       "<pre style=\"white-space:pre;overflow-x:auto;line-height:normal;font-family:Menlo,'DejaVu Sans Mono',consolas,'Courier New',monospace\">Generating RTLIL representation for module `\\_90_mod'.\n",
       "</pre>\n"
      ],
      "text/plain": [
       "Generating RTLIL representation for module `\\_90_mod'.\n"
      ]
     },
     "metadata": {},
     "output_type": "display_data"
    },
    {
     "data": {
      "text/html": [
       "<pre style=\"white-space:pre;overflow-x:auto;line-height:normal;font-family:Menlo,'DejaVu Sans Mono',consolas,'Courier New',monospace\">Generating RTLIL representation for module `\\$__div_mod_floor'.\n",
       "</pre>\n"
      ],
      "text/plain": [
       "Generating RTLIL representation for module `\\$__div_mod_floor'.\n"
      ]
     },
     "metadata": {},
     "output_type": "display_data"
    },
    {
     "data": {
      "text/html": [
       "<pre style=\"white-space:pre;overflow-x:auto;line-height:normal;font-family:Menlo,'DejaVu Sans Mono',consolas,'Courier New',monospace\">Generating RTLIL representation for module `\\_90_divfloor'.\n",
       "</pre>\n"
      ],
      "text/plain": [
       "Generating RTLIL representation for module `\\_90_divfloor'.\n"
      ]
     },
     "metadata": {},
     "output_type": "display_data"
    },
    {
     "data": {
      "text/html": [
       "<pre style=\"white-space:pre;overflow-x:auto;line-height:normal;font-family:Menlo,'DejaVu Sans Mono',consolas,'Courier New',monospace\">Generating RTLIL representation for module `\\_90_modfloor'.\n",
       "</pre>\n"
      ],
      "text/plain": [
       "Generating RTLIL representation for module `\\_90_modfloor'.\n"
      ]
     },
     "metadata": {},
     "output_type": "display_data"
    },
    {
     "data": {
      "text/html": [
       "<pre style=\"white-space:pre;overflow-x:auto;line-height:normal;font-family:Menlo,'DejaVu Sans Mono',consolas,'Courier New',monospace\">Generating RTLIL representation for module `\\_90_pow'.\n",
       "</pre>\n"
      ],
      "text/plain": [
       "Generating RTLIL representation for module `\\_90_pow'.\n"
      ]
     },
     "metadata": {},
     "output_type": "display_data"
    },
    {
     "data": {
      "text/html": [
       "<pre style=\"white-space:pre;overflow-x:auto;line-height:normal;font-family:Menlo,'DejaVu Sans Mono',consolas,'Courier New',monospace\">Generating RTLIL representation for module `\\_90_pmux'.\n",
       "</pre>\n"
      ],
      "text/plain": [
       "Generating RTLIL representation for module `\\_90_pmux'.\n"
      ]
     },
     "metadata": {},
     "output_type": "display_data"
    },
    {
     "data": {
      "text/html": [
       "<pre style=\"white-space:pre;overflow-x:auto;line-height:normal;font-family:Menlo,'DejaVu Sans Mono',consolas,'Courier New',monospace\">Generating RTLIL representation for module `\\_90_demux'.\n",
       "</pre>\n"
      ],
      "text/plain": [
       "Generating RTLIL representation for module `\\_90_demux'.\n"
      ]
     },
     "metadata": {},
     "output_type": "display_data"
    },
    {
     "data": {
      "text/html": [
       "<pre style=\"white-space:pre;overflow-x:auto;line-height:normal;font-family:Menlo,'DejaVu Sans Mono',consolas,'Courier New',monospace\">Generating RTLIL representation for module `\\_90_lut'.\n",
       "</pre>\n"
      ],
      "text/plain": [
       "Generating RTLIL representation for module `\\_90_lut'.\n"
      ]
     },
     "metadata": {},
     "output_type": "display_data"
    },
    {
     "data": {
      "text/html": [
       "<pre style=\"white-space:pre;overflow-x:auto;line-height:normal;font-family:Menlo,'DejaVu Sans Mono',consolas,'Courier New',monospace\">Successfully finished Verilog frontend.\n",
       "</pre>\n"
      ],
      "text/plain": [
       "Successfully finished Verilog frontend.\n"
      ]
     },
     "metadata": {},
     "output_type": "display_data"
    },
    {
     "data": {
      "text/html": [
       "<pre style=\"white-space:pre;overflow-x:auto;line-height:normal;font-family:Menlo,'DejaVu Sans Mono',consolas,'Courier New',monospace\">\n",
       "</pre>\n"
      ],
      "text/plain": [
       "\n"
      ]
     },
     "metadata": {},
     "output_type": "display_data"
    },
    {
     "data": {
      "text/html": [
       "<pre style=\"white-space:pre;overflow-x:auto;line-height:normal;font-family:Menlo,'DejaVu Sans Mono',consolas,'Courier New',monospace\"><span style=\"color: #008080; text-decoration-color: #008080; font-weight: bold\">4.21</span>.<span style=\"color: #008080; text-decoration-color: #008080; font-weight: bold\">2</span>. Continuing TECHMAP pass.\n",
       "</pre>\n"
      ],
      "text/plain": [
       "\u001b[1;36m4.21\u001b[0m.\u001b[1;36m2\u001b[0m. Continuing TECHMAP pass.\n"
      ]
     },
     "metadata": {},
     "output_type": "display_data"
    },
    {
     "data": {
      "text/html": [
       "<pre style=\"white-space:pre;overflow-x:auto;line-height:normal;font-family:Menlo,'DejaVu Sans Mono',consolas,'Courier New',monospace\">Using extmapper simplemap for cells of type $and.\n",
       "</pre>\n"
      ],
      "text/plain": [
       "Using extmapper simplemap for cells of type $and.\n"
      ]
     },
     "metadata": {},
     "output_type": "display_data"
    },
    {
     "data": {
      "text/html": [
       "<pre style=\"white-space:pre;overflow-x:auto;line-height:normal;font-family:Menlo,'DejaVu Sans Mono',consolas,'Courier New',monospace\">Using extmapper simplemap for cells of type $adff.\n",
       "</pre>\n"
      ],
      "text/plain": [
       "Using extmapper simplemap for cells of type $adff.\n"
      ]
     },
     "metadata": {},
     "output_type": "display_data"
    },
    {
     "data": {
      "text/html": [
       "<pre style=\"white-space:pre;overflow-x:auto;line-height:normal;font-family:Menlo,'DejaVu Sans Mono',consolas,'Courier New',monospace\">Using extmapper simplemap for cells of type $xor.\n",
       "</pre>\n"
      ],
      "text/plain": [
       "Using extmapper simplemap for cells of type $xor.\n"
      ]
     },
     "metadata": {},
     "output_type": "display_data"
    },
    {
     "data": {
      "text/html": [
       "<pre style=\"white-space:pre;overflow-x:auto;line-height:normal;font-family:Menlo,'DejaVu Sans Mono',consolas,'Courier New',monospace\">Using extmapper simplemap for cells of type $or.\n",
       "</pre>\n"
      ],
      "text/plain": [
       "Using extmapper simplemap for cells of type $or.\n"
      ]
     },
     "metadata": {},
     "output_type": "display_data"
    },
    {
     "data": {
      "text/html": [
       "<pre style=\"white-space:pre;overflow-x:auto;line-height:normal;font-family:Menlo,'DejaVu Sans Mono',consolas,'Courier New',monospace\">No more expansions possible.\n",
       "</pre>\n"
      ],
      "text/plain": [
       "No more expansions possible.\n"
      ]
     },
     "metadata": {},
     "output_type": "display_data"
    },
    {
     "data": {
      "text/html": [
       "<pre style=\"white-space:pre;overflow-x:auto;line-height:normal;font-family:Menlo,'DejaVu Sans Mono',consolas,'Courier New',monospace\"><span style=\"font-weight: bold\">&lt;</span><span style=\"color: #ff00ff; text-decoration-color: #ff00ff; font-weight: bold\">suppressed</span><span style=\"color: #000000; text-decoration-color: #000000\"> ~</span><span style=\"color: #008080; text-decoration-color: #008080; font-weight: bold\">326</span><span style=\"color: #000000; text-decoration-color: #000000\"> debug messages</span><span style=\"font-weight: bold\">&gt;</span>\n",
       "</pre>\n"
      ],
      "text/plain": [
       "\u001b[1m<\u001b[0m\u001b[1;95msuppressed\u001b[0m\u001b[39m ~\u001b[0m\u001b[1;36m326\u001b[0m\u001b[39m debug messages\u001b[0m\u001b[1m>\u001b[0m\n"
      ]
     },
     "metadata": {},
     "output_type": "display_data"
    },
    {
     "data": {
      "text/html": [
       "<pre style=\"white-space:pre;overflow-x:auto;line-height:normal;font-family:Menlo,'DejaVu Sans Mono',consolas,'Courier New',monospace\">\n",
       "</pre>\n"
      ],
      "text/plain": [
       "\n"
      ]
     },
     "metadata": {},
     "output_type": "display_data"
    },
    {
     "data": {
      "text/html": [
       "<pre style=\"white-space:pre;overflow-x:auto;line-height:normal;font-family:Menlo,'DejaVu Sans Mono',consolas,'Courier New',monospace\"><span style=\"color: #008080; text-decoration-color: #008080; font-weight: bold\">4.22</span>. Executing OPT pass <span style=\"font-weight: bold\">(</span>performing simple optimizations<span style=\"font-weight: bold\">)</span>.\n",
       "</pre>\n"
      ],
      "text/plain": [
       "\u001b[1;36m4.22\u001b[0m. Executing OPT pass \u001b[1m(\u001b[0mperforming simple optimizations\u001b[1m)\u001b[0m.\n"
      ]
     },
     "metadata": {},
     "output_type": "display_data"
    },
    {
     "data": {
      "text/html": [
       "<pre style=\"white-space:pre;overflow-x:auto;line-height:normal;font-family:Menlo,'DejaVu Sans Mono',consolas,'Courier New',monospace\">\n",
       "</pre>\n"
      ],
      "text/plain": [
       "\n"
      ]
     },
     "metadata": {},
     "output_type": "display_data"
    },
    {
     "data": {
      "text/html": [
       "<pre style=\"white-space:pre;overflow-x:auto;line-height:normal;font-family:Menlo,'DejaVu Sans Mono',consolas,'Courier New',monospace\"><span style=\"color: #008080; text-decoration-color: #008080; font-weight: bold\">4.22</span>.<span style=\"color: #008080; text-decoration-color: #008080; font-weight: bold\">1</span>. Executing OPT_EXPR pass <span style=\"font-weight: bold\">(</span>perform const folding<span style=\"font-weight: bold\">)</span>.\n",
       "</pre>\n"
      ],
      "text/plain": [
       "\u001b[1;36m4.22\u001b[0m.\u001b[1;36m1\u001b[0m. Executing OPT_EXPR pass \u001b[1m(\u001b[0mperform const folding\u001b[1m)\u001b[0m.\n"
      ]
     },
     "metadata": {},
     "output_type": "display_data"
    },
    {
     "data": {
      "text/html": [
       "<pre style=\"white-space:pre;overflow-x:auto;line-height:normal;font-family:Menlo,'DejaVu Sans Mono',consolas,'Courier New',monospace\">Optimizing module spm.\n",
       "</pre>\n"
      ],
      "text/plain": [
       "Optimizing module spm.\n"
      ]
     },
     "metadata": {},
     "output_type": "display_data"
    },
    {
     "data": {
      "text/html": [
       "<pre style=\"white-space:pre;overflow-x:auto;line-height:normal;font-family:Menlo,'DejaVu Sans Mono',consolas,'Courier New',monospace\">\n",
       "</pre>\n"
      ],
      "text/plain": [
       "\n"
      ]
     },
     "metadata": {},
     "output_type": "display_data"
    },
    {
     "data": {
      "text/html": [
       "<pre style=\"white-space:pre;overflow-x:auto;line-height:normal;font-family:Menlo,'DejaVu Sans Mono',consolas,'Courier New',monospace\"><span style=\"color: #008080; text-decoration-color: #008080; font-weight: bold\">4.22</span>.<span style=\"color: #008080; text-decoration-color: #008080; font-weight: bold\">2</span>. Executing OPT_MERGE pass <span style=\"font-weight: bold\">(</span>detect identical cells<span style=\"font-weight: bold\">)</span>.\n",
       "</pre>\n"
      ],
      "text/plain": [
       "\u001b[1;36m4.22\u001b[0m.\u001b[1;36m2\u001b[0m. Executing OPT_MERGE pass \u001b[1m(\u001b[0mdetect identical cells\u001b[1m)\u001b[0m.\n"
      ]
     },
     "metadata": {},
     "output_type": "display_data"
    },
    {
     "data": {
      "text/html": [
       "<pre style=\"white-space:pre;overflow-x:auto;line-height:normal;font-family:Menlo,'DejaVu Sans Mono',consolas,'Courier New',monospace\">Finding identical cells in module `\\spm'.\n",
       "</pre>\n"
      ],
      "text/plain": [
       "Finding identical cells in module `\\spm'.\n"
      ]
     },
     "metadata": {},
     "output_type": "display_data"
    },
    {
     "data": {
      "text/html": [
       "<pre style=\"white-space:pre;overflow-x:auto;line-height:normal;font-family:Menlo,'DejaVu Sans Mono',consolas,'Courier New',monospace\">Removed a total of <span style=\"color: #008080; text-decoration-color: #008080; font-weight: bold\">0</span> cells.\n",
       "</pre>\n"
      ],
      "text/plain": [
       "Removed a total of \u001b[1;36m0\u001b[0m cells.\n"
      ]
     },
     "metadata": {},
     "output_type": "display_data"
    },
    {
     "data": {
      "text/html": [
       "<pre style=\"white-space:pre;overflow-x:auto;line-height:normal;font-family:Menlo,'DejaVu Sans Mono',consolas,'Courier New',monospace\">\n",
       "</pre>\n"
      ],
      "text/plain": [
       "\n"
      ]
     },
     "metadata": {},
     "output_type": "display_data"
    },
    {
     "data": {
      "text/html": [
       "<pre style=\"white-space:pre;overflow-x:auto;line-height:normal;font-family:Menlo,'DejaVu Sans Mono',consolas,'Courier New',monospace\"><span style=\"color: #008080; text-decoration-color: #008080; font-weight: bold\">4.22</span>.<span style=\"color: #008080; text-decoration-color: #008080; font-weight: bold\">3</span>. Executing OPT_DFF pass <span style=\"font-weight: bold\">(</span>perform DFF optimizations<span style=\"font-weight: bold\">)</span>.\n",
       "</pre>\n"
      ],
      "text/plain": [
       "\u001b[1;36m4.22\u001b[0m.\u001b[1;36m3\u001b[0m. Executing OPT_DFF pass \u001b[1m(\u001b[0mperform DFF optimizations\u001b[1m)\u001b[0m.\n"
      ]
     },
     "metadata": {},
     "output_type": "display_data"
    },
    {
     "data": {
      "text/html": [
       "<pre style=\"white-space:pre;overflow-x:auto;line-height:normal;font-family:Menlo,'DejaVu Sans Mono',consolas,'Courier New',monospace\">\n",
       "</pre>\n"
      ],
      "text/plain": [
       "\n"
      ]
     },
     "metadata": {},
     "output_type": "display_data"
    },
    {
     "data": {
      "text/html": [
       "<pre style=\"white-space:pre;overflow-x:auto;line-height:normal;font-family:Menlo,'DejaVu Sans Mono',consolas,'Courier New',monospace\"><span style=\"color: #008080; text-decoration-color: #008080; font-weight: bold\">4.22</span>.<span style=\"color: #008080; text-decoration-color: #008080; font-weight: bold\">4</span>. Executing OPT_CLEAN pass <span style=\"font-weight: bold\">(</span>remove unused cells and wires<span style=\"font-weight: bold\">)</span>.\n",
       "</pre>\n"
      ],
      "text/plain": [
       "\u001b[1;36m4.22\u001b[0m.\u001b[1;36m4\u001b[0m. Executing OPT_CLEAN pass \u001b[1m(\u001b[0mremove unused cells and wires\u001b[1m)\u001b[0m.\n"
      ]
     },
     "metadata": {},
     "output_type": "display_data"
    },
    {
     "data": {
      "text/html": [
       "<pre style=\"white-space:pre;overflow-x:auto;line-height:normal;font-family:Menlo,'DejaVu Sans Mono',consolas,'Courier New',monospace\">Finding unused cells or wires in module \\spm..\n",
       "</pre>\n"
      ],
      "text/plain": [
       "Finding unused cells or wires in module \\spm..\n"
      ]
     },
     "metadata": {},
     "output_type": "display_data"
    },
    {
     "data": {
      "text/html": [
       "<pre style=\"white-space:pre;overflow-x:auto;line-height:normal;font-family:Menlo,'DejaVu Sans Mono',consolas,'Courier New',monospace\">\n",
       "</pre>\n"
      ],
      "text/plain": [
       "\n"
      ]
     },
     "metadata": {},
     "output_type": "display_data"
    },
    {
     "data": {
      "text/html": [
       "<pre style=\"white-space:pre;overflow-x:auto;line-height:normal;font-family:Menlo,'DejaVu Sans Mono',consolas,'Courier New',monospace\"><span style=\"color: #008080; text-decoration-color: #008080; font-weight: bold\">4.22</span>.<span style=\"color: #008080; text-decoration-color: #008080; font-weight: bold\">5</span>. Finished fast OPT passes.\n",
       "</pre>\n"
      ],
      "text/plain": [
       "\u001b[1;36m4.22\u001b[0m.\u001b[1;36m5\u001b[0m. Finished fast OPT passes.\n"
      ]
     },
     "metadata": {},
     "output_type": "display_data"
    },
    {
     "data": {
      "text/html": [
       "<pre style=\"white-space:pre;overflow-x:auto;line-height:normal;font-family:Menlo,'DejaVu Sans Mono',consolas,'Courier New',monospace\">\n",
       "</pre>\n"
      ],
      "text/plain": [
       "\n"
      ]
     },
     "metadata": {},
     "output_type": "display_data"
    },
    {
     "data": {
      "text/html": [
       "<pre style=\"white-space:pre;overflow-x:auto;line-height:normal;font-family:Menlo,'DejaVu Sans Mono',consolas,'Courier New',monospace\"><span style=\"color: #008080; text-decoration-color: #008080; font-weight: bold\">4.23</span>. Executing ABC pass <span style=\"font-weight: bold\">(</span>technology mapping using ABC<span style=\"font-weight: bold\">)</span>.\n",
       "</pre>\n"
      ],
      "text/plain": [
       "\u001b[1;36m4.23\u001b[0m. Executing ABC pass \u001b[1m(\u001b[0mtechnology mapping using ABC\u001b[1m)\u001b[0m.\n"
      ]
     },
     "metadata": {},
     "output_type": "display_data"
    },
    {
     "data": {
      "text/html": [
       "<pre style=\"white-space:pre;overflow-x:auto;line-height:normal;font-family:Menlo,'DejaVu Sans Mono',consolas,'Courier New',monospace\">\n",
       "</pre>\n"
      ],
      "text/plain": [
       "\n"
      ]
     },
     "metadata": {},
     "output_type": "display_data"
    },
    {
     "data": {
      "text/html": [
       "<pre style=\"white-space:pre;overflow-x:auto;line-height:normal;font-family:Menlo,'DejaVu Sans Mono',consolas,'Courier New',monospace\"><span style=\"color: #008080; text-decoration-color: #008080; font-weight: bold\">4.23</span>.<span style=\"color: #008080; text-decoration-color: #008080; font-weight: bold\">1</span>. Extracting gate netlist of module `\\spm' to `<span style=\"font-weight: bold\">&lt;</span><span style=\"color: #ff00ff; text-decoration-color: #ff00ff; font-weight: bold\">abc-temp-dir</span><span style=\"font-weight: bold\">&gt;</span><span style=\"color: #800080; text-decoration-color: #800080\">/</span><span style=\"color: #ff00ff; text-decoration-color: #ff00ff\">input.blif</span>'..\n",
       "</pre>\n"
      ],
      "text/plain": [
       "\u001b[1;36m4.23\u001b[0m.\u001b[1;36m1\u001b[0m. Extracting gate netlist of module `\\spm' to `\u001b[1m<\u001b[0m\u001b[1;95mabc-temp-dir\u001b[0m\u001b[1m>\u001b[0m\u001b[35m/\u001b[0m\u001b[95minput.blif\u001b[0m'..\n"
      ]
     },
     "metadata": {},
     "output_type": "display_data"
    },
    {
     "data": {
      "text/html": [
       "<pre style=\"white-space:pre;overflow-x:auto;line-height:normal;font-family:Menlo,'DejaVu Sans Mono',consolas,'Courier New',monospace\">Extracted <span style=\"color: #008080; text-decoration-color: #008080; font-weight: bold\">189</span> gates and <span style=\"color: #008080; text-decoration-color: #008080; font-weight: bold\">285</span> wires to a netlist network with <span style=\"color: #008080; text-decoration-color: #008080; font-weight: bold\">96</span> inputs and <span style=\"color: #008080; text-decoration-color: #008080; font-weight: bold\">64</span> outputs.\n",
       "</pre>\n"
      ],
      "text/plain": [
       "Extracted \u001b[1;36m189\u001b[0m gates and \u001b[1;36m285\u001b[0m wires to a netlist network with \u001b[1;36m96\u001b[0m inputs and \u001b[1;36m64\u001b[0m outputs.\n"
      ]
     },
     "metadata": {},
     "output_type": "display_data"
    },
    {
     "data": {
      "text/html": [
       "<pre style=\"white-space:pre;overflow-x:auto;line-height:normal;font-family:Menlo,'DejaVu Sans Mono',consolas,'Courier New',monospace\">\n",
       "</pre>\n"
      ],
      "text/plain": [
       "\n"
      ]
     },
     "metadata": {},
     "output_type": "display_data"
    },
    {
     "data": {
      "text/html": [
       "<pre style=\"white-space:pre;overflow-x:auto;line-height:normal;font-family:Menlo,'DejaVu Sans Mono',consolas,'Courier New',monospace\"><span style=\"color: #00ff00; text-decoration-color: #00ff00; font-weight: bold\">4.23.1.1</span>. Executing ABC.\n",
       "</pre>\n"
      ],
      "text/plain": [
       "\u001b[1;92m4.23.1.1\u001b[0m. Executing ABC.\n"
      ]
     },
     "metadata": {},
     "output_type": "display_data"
    },
    {
     "data": {
      "text/html": [
       "<pre style=\"white-space:pre;overflow-x:auto;line-height:normal;font-family:Menlo,'DejaVu Sans Mono',consolas,'Courier New',monospace\">Running ABC command: <span style=\"color: #008000; text-decoration-color: #008000\">\"&lt;yosys-exe-dir&gt;/yosys-abc\"</span> -s -f <span style=\"font-weight: bold\">&lt;</span><span style=\"color: #ff00ff; text-decoration-color: #ff00ff; font-weight: bold\">abc-temp-dir</span><span style=\"font-weight: bold\">&gt;</span><span style=\"color: #800080; text-decoration-color: #800080\">/</span><span style=\"color: #ff00ff; text-decoration-color: #ff00ff\">abc.script</span> <span style=\"color: #008080; text-decoration-color: #008080; font-weight: bold\">2</span>&gt;&amp;<span style=\"color: #008080; text-decoration-color: #008080; font-weight: bold\">1</span>\n",
       "</pre>\n"
      ],
      "text/plain": [
       "Running ABC command: \u001b[32m\"\u001b[0m\u001b[32m<\u001b[0m\u001b[32myosys-exe-dir\u001b[0m\u001b[32m>\u001b[0m\u001b[32m/yosys-abc\"\u001b[0m -s -f \u001b[1m<\u001b[0m\u001b[1;95mabc-temp-dir\u001b[0m\u001b[1m>\u001b[0m\u001b[35m/\u001b[0m\u001b[95mabc.script\u001b[0m \u001b[1;36m2\u001b[0m>&\u001b[1;36m1\u001b[0m\n"
      ]
     },
     "metadata": {},
     "output_type": "display_data"
    },
    {
     "data": {
      "text/html": [
       "<pre style=\"white-space:pre;overflow-x:auto;line-height:normal;font-family:Menlo,'DejaVu Sans Mono',consolas,'Courier New',monospace\">ABC: ABC command line: <span style=\"color: #008000; text-decoration-color: #008000\">\"source &lt;abc-temp-dir&gt;/abc.script\"</span>.\n",
       "</pre>\n"
      ],
      "text/plain": [
       "ABC: ABC command line: \u001b[32m\"source \u001b[0m\u001b[32m<\u001b[0m\u001b[32mabc-temp-dir\u001b[0m\u001b[32m>\u001b[0m\u001b[32m/abc.script\"\u001b[0m.\n"
      ]
     },
     "metadata": {},
     "output_type": "display_data"
    },
    {
     "data": {
      "text/html": [
       "<pre style=\"white-space:pre;overflow-x:auto;line-height:normal;font-family:Menlo,'DejaVu Sans Mono',consolas,'Courier New',monospace\">ABC:\n",
       "</pre>\n"
      ],
      "text/plain": [
       "ABC:\n"
      ]
     },
     "metadata": {},
     "output_type": "display_data"
    },
    {
     "data": {
      "text/html": [
       "<pre style=\"white-space:pre;overflow-x:auto;line-height:normal;font-family:Menlo,'DejaVu Sans Mono',consolas,'Courier New',monospace\">ABC: + read_blif <span style=\"font-weight: bold\">&lt;</span><span style=\"color: #ff00ff; text-decoration-color: #ff00ff; font-weight: bold\">abc-temp-dir</span><span style=\"font-weight: bold\">&gt;</span><span style=\"color: #800080; text-decoration-color: #800080\">/</span><span style=\"color: #ff00ff; text-decoration-color: #ff00ff\">input.blif</span>\n",
       "</pre>\n"
      ],
      "text/plain": [
       "ABC: + read_blif \u001b[1m<\u001b[0m\u001b[1;95mabc-temp-dir\u001b[0m\u001b[1m>\u001b[0m\u001b[35m/\u001b[0m\u001b[95minput.blif\u001b[0m\n"
      ]
     },
     "metadata": {},
     "output_type": "display_data"
    },
    {
     "data": {
      "text/html": [
       "<pre style=\"white-space:pre;overflow-x:auto;line-height:normal;font-family:Menlo,'DejaVu Sans Mono',consolas,'Courier New',monospace\">ABC: + read_library <span style=\"font-weight: bold\">&lt;</span><span style=\"color: #ff00ff; text-decoration-color: #ff00ff; font-weight: bold\">abc-temp-dir</span><span style=\"font-weight: bold\">&gt;</span><span style=\"color: #800080; text-decoration-color: #800080\">/</span><span style=\"color: #ff00ff; text-decoration-color: #ff00ff\">stdcells.genlib</span>\n",
       "</pre>\n"
      ],
      "text/plain": [
       "ABC: + read_library \u001b[1m<\u001b[0m\u001b[1;95mabc-temp-dir\u001b[0m\u001b[1m>\u001b[0m\u001b[35m/\u001b[0m\u001b[95mstdcells.genlib\u001b[0m\n"
      ]
     },
     "metadata": {},
     "output_type": "display_data"
    },
    {
     "data": {
      "text/html": [
       "<pre style=\"white-space:pre;overflow-x:auto;line-height:normal;font-family:Menlo,'DejaVu Sans Mono',consolas,'Courier New',monospace\">ABC: Entered genlib library with <span style=\"color: #008080; text-decoration-color: #008080; font-weight: bold\">13</span> gates from file <span style=\"color: #008000; text-decoration-color: #008000\">\"&lt;abc-temp-dir&gt;/stdcells.genlib\"</span>.\n",
       "</pre>\n"
      ],
      "text/plain": [
       "ABC: Entered genlib library with \u001b[1;36m13\u001b[0m gates from file \u001b[32m\"\u001b[0m\u001b[32m<\u001b[0m\u001b[32mabc-temp-dir\u001b[0m\u001b[32m>\u001b[0m\u001b[32m/stdcells.genlib\"\u001b[0m.\n"
      ]
     },
     "metadata": {},
     "output_type": "display_data"
    },
    {
     "data": {
      "text/html": [
       "<pre style=\"white-space:pre;overflow-x:auto;line-height:normal;font-family:Menlo,'DejaVu Sans Mono',consolas,'Courier New',monospace\">ABC: + strash\n",
       "</pre>\n"
      ],
      "text/plain": [
       "ABC: + strash\n"
      ]
     },
     "metadata": {},
     "output_type": "display_data"
    },
    {
     "data": {
      "text/html": [
       "<pre style=\"white-space:pre;overflow-x:auto;line-height:normal;font-family:Menlo,'DejaVu Sans Mono',consolas,'Courier New',monospace\">ABC: + dretime\n",
       "</pre>\n"
      ],
      "text/plain": [
       "ABC: + dretime\n"
      ]
     },
     "metadata": {},
     "output_type": "display_data"
    },
    {
     "data": {
      "text/html": [
       "<pre style=\"white-space:pre;overflow-x:auto;line-height:normal;font-family:Menlo,'DejaVu Sans Mono',consolas,'Courier New',monospace\">ABC: + map\n",
       "</pre>\n"
      ],
      "text/plain": [
       "ABC: + map\n"
      ]
     },
     "metadata": {},
     "output_type": "display_data"
    },
    {
     "data": {
      "text/html": [
       "<pre style=\"white-space:pre;overflow-x:auto;line-height:normal;font-family:Menlo,'DejaVu Sans Mono',consolas,'Courier New',monospace\">ABC: + write_blif <span style=\"font-weight: bold\">&lt;</span><span style=\"color: #ff00ff; text-decoration-color: #ff00ff; font-weight: bold\">abc-temp-dir</span><span style=\"font-weight: bold\">&gt;</span><span style=\"color: #800080; text-decoration-color: #800080\">/</span><span style=\"color: #ff00ff; text-decoration-color: #ff00ff\">output.blif</span>\n",
       "</pre>\n"
      ],
      "text/plain": [
       "ABC: + write_blif \u001b[1m<\u001b[0m\u001b[1;95mabc-temp-dir\u001b[0m\u001b[1m>\u001b[0m\u001b[35m/\u001b[0m\u001b[95moutput.blif\u001b[0m\n"
      ]
     },
     "metadata": {},
     "output_type": "display_data"
    },
    {
     "data": {
      "text/html": [
       "<pre style=\"white-space:pre;overflow-x:auto;line-height:normal;font-family:Menlo,'DejaVu Sans Mono',consolas,'Courier New',monospace\">\n",
       "</pre>\n"
      ],
      "text/plain": [
       "\n"
      ]
     },
     "metadata": {},
     "output_type": "display_data"
    },
    {
     "data": {
      "text/html": [
       "<pre style=\"white-space:pre;overflow-x:auto;line-height:normal;font-family:Menlo,'DejaVu Sans Mono',consolas,'Courier New',monospace\"><span style=\"color: #00ff00; text-decoration-color: #00ff00; font-weight: bold\">4.23.1.2</span>. Re-integrating ABC results.\n",
       "</pre>\n"
      ],
      "text/plain": [
       "\u001b[1;92m4.23.1.2\u001b[0m. Re-integrating ABC results.\n"
      ]
     },
     "metadata": {},
     "output_type": "display_data"
    },
    {
     "data": {
      "text/html": [
       "<pre style=\"white-space:pre;overflow-x:auto;line-height:normal;font-family:Menlo,'DejaVu Sans Mono',consolas,'Courier New',monospace\">ABC RESULTS:                OR cells:        <span style=\"color: #008080; text-decoration-color: #008080; font-weight: bold\">1</span>\n",
       "</pre>\n"
      ],
      "text/plain": [
       "ABC RESULTS:                OR cells:        \u001b[1;36m1\u001b[0m\n"
      ]
     },
     "metadata": {},
     "output_type": "display_data"
    },
    {
     "data": {
      "text/html": [
       "<pre style=\"white-space:pre;overflow-x:auto;line-height:normal;font-family:Menlo,'DejaVu Sans Mono',consolas,'Courier New',monospace\">ABC RESULTS:               AND cells:       <span style=\"color: #008080; text-decoration-color: #008080; font-weight: bold\">32</span>\n",
       "</pre>\n"
      ],
      "text/plain": [
       "ABC RESULTS:               AND cells:       \u001b[1;36m32\u001b[0m\n"
      ]
     },
     "metadata": {},
     "output_type": "display_data"
    },
    {
     "data": {
      "text/html": [
       "<pre style=\"white-space:pre;overflow-x:auto;line-height:normal;font-family:Menlo,'DejaVu Sans Mono',consolas,'Courier New',monospace\">ABC RESULTS:              NAND cells:       <span style=\"color: #008080; text-decoration-color: #008080; font-weight: bold\">31</span>\n",
       "</pre>\n"
      ],
      "text/plain": [
       "ABC RESULTS:              NAND cells:       \u001b[1;36m31\u001b[0m\n"
      ]
     },
     "metadata": {},
     "output_type": "display_data"
    },
    {
     "data": {
      "text/html": [
       "<pre style=\"white-space:pre;overflow-x:auto;line-height:normal;font-family:Menlo,'DejaVu Sans Mono',consolas,'Courier New',monospace\">ABC RESULTS:              XNOR cells:       <span style=\"color: #008080; text-decoration-color: #008080; font-weight: bold\">31</span>\n",
       "</pre>\n"
      ],
      "text/plain": [
       "ABC RESULTS:              XNOR cells:       \u001b[1;36m31\u001b[0m\n"
      ]
     },
     "metadata": {},
     "output_type": "display_data"
    },
    {
     "data": {
      "text/html": [
       "<pre style=\"white-space:pre;overflow-x:auto;line-height:normal;font-family:Menlo,'DejaVu Sans Mono',consolas,'Courier New',monospace\">ABC RESULTS:               NOR cells:       <span style=\"color: #008080; text-decoration-color: #008080; font-weight: bold\">31</span>\n",
       "</pre>\n"
      ],
      "text/plain": [
       "ABC RESULTS:               NOR cells:       \u001b[1;36m31\u001b[0m\n"
      ]
     },
     "metadata": {},
     "output_type": "display_data"
    },
    {
     "data": {
      "text/html": [
       "<pre style=\"white-space:pre;overflow-x:auto;line-height:normal;font-family:Menlo,'DejaVu Sans Mono',consolas,'Courier New',monospace\">ABC RESULTS:               XOR cells:       <span style=\"color: #008080; text-decoration-color: #008080; font-weight: bold\">63</span>\n",
       "</pre>\n"
      ],
      "text/plain": [
       "ABC RESULTS:               XOR cells:       \u001b[1;36m63\u001b[0m\n"
      ]
     },
     "metadata": {},
     "output_type": "display_data"
    },
    {
     "data": {
      "text/html": [
       "<pre style=\"white-space:pre;overflow-x:auto;line-height:normal;font-family:Menlo,'DejaVu Sans Mono',consolas,'Courier New',monospace\">ABC RESULTS:        internal signals:      <span style=\"color: #008080; text-decoration-color: #008080; font-weight: bold\">125</span>\n",
       "</pre>\n"
      ],
      "text/plain": [
       "ABC RESULTS:        internal signals:      \u001b[1;36m125\u001b[0m\n"
      ]
     },
     "metadata": {},
     "output_type": "display_data"
    },
    {
     "data": {
      "text/html": [
       "<pre style=\"white-space:pre;overflow-x:auto;line-height:normal;font-family:Menlo,'DejaVu Sans Mono',consolas,'Courier New',monospace\">ABC RESULTS:           input signals:       <span style=\"color: #008080; text-decoration-color: #008080; font-weight: bold\">96</span>\n",
       "</pre>\n"
      ],
      "text/plain": [
       "ABC RESULTS:           input signals:       \u001b[1;36m96\u001b[0m\n"
      ]
     },
     "metadata": {},
     "output_type": "display_data"
    },
    {
     "data": {
      "text/html": [
       "<pre style=\"white-space:pre;overflow-x:auto;line-height:normal;font-family:Menlo,'DejaVu Sans Mono',consolas,'Courier New',monospace\">ABC RESULTS:          output signals:       <span style=\"color: #008080; text-decoration-color: #008080; font-weight: bold\">64</span>\n",
       "</pre>\n"
      ],
      "text/plain": [
       "ABC RESULTS:          output signals:       \u001b[1;36m64\u001b[0m\n"
      ]
     },
     "metadata": {},
     "output_type": "display_data"
    },
    {
     "data": {
      "text/html": [
       "<pre style=\"white-space:pre;overflow-x:auto;line-height:normal;font-family:Menlo,'DejaVu Sans Mono',consolas,'Courier New',monospace\">Removing temp directory.\n",
       "</pre>\n"
      ],
      "text/plain": [
       "Removing temp directory.\n"
      ]
     },
     "metadata": {},
     "output_type": "display_data"
    },
    {
     "data": {
      "text/html": [
       "<pre style=\"white-space:pre;overflow-x:auto;line-height:normal;font-family:Menlo,'DejaVu Sans Mono',consolas,'Courier New',monospace\">\n",
       "</pre>\n"
      ],
      "text/plain": [
       "\n"
      ]
     },
     "metadata": {},
     "output_type": "display_data"
    },
    {
     "data": {
      "text/html": [
       "<pre style=\"white-space:pre;overflow-x:auto;line-height:normal;font-family:Menlo,'DejaVu Sans Mono',consolas,'Courier New',monospace\"><span style=\"color: #008080; text-decoration-color: #008080; font-weight: bold\">4.24</span>. Executing OPT pass <span style=\"font-weight: bold\">(</span>performing simple optimizations<span style=\"font-weight: bold\">)</span>.\n",
       "</pre>\n"
      ],
      "text/plain": [
       "\u001b[1;36m4.24\u001b[0m. Executing OPT pass \u001b[1m(\u001b[0mperforming simple optimizations\u001b[1m)\u001b[0m.\n"
      ]
     },
     "metadata": {},
     "output_type": "display_data"
    },
    {
     "data": {
      "text/html": [
       "<pre style=\"white-space:pre;overflow-x:auto;line-height:normal;font-family:Menlo,'DejaVu Sans Mono',consolas,'Courier New',monospace\">\n",
       "</pre>\n"
      ],
      "text/plain": [
       "\n"
      ]
     },
     "metadata": {},
     "output_type": "display_data"
    },
    {
     "data": {
      "text/html": [
       "<pre style=\"white-space:pre;overflow-x:auto;line-height:normal;font-family:Menlo,'DejaVu Sans Mono',consolas,'Courier New',monospace\"><span style=\"color: #008080; text-decoration-color: #008080; font-weight: bold\">4.24</span>.<span style=\"color: #008080; text-decoration-color: #008080; font-weight: bold\">1</span>. Executing OPT_EXPR pass <span style=\"font-weight: bold\">(</span>perform const folding<span style=\"font-weight: bold\">)</span>.\n",
       "</pre>\n"
      ],
      "text/plain": [
       "\u001b[1;36m4.24\u001b[0m.\u001b[1;36m1\u001b[0m. Executing OPT_EXPR pass \u001b[1m(\u001b[0mperform const folding\u001b[1m)\u001b[0m.\n"
      ]
     },
     "metadata": {},
     "output_type": "display_data"
    },
    {
     "data": {
      "text/html": [
       "<pre style=\"white-space:pre;overflow-x:auto;line-height:normal;font-family:Menlo,'DejaVu Sans Mono',consolas,'Courier New',monospace\">Optimizing module spm.\n",
       "</pre>\n"
      ],
      "text/plain": [
       "Optimizing module spm.\n"
      ]
     },
     "metadata": {},
     "output_type": "display_data"
    },
    {
     "data": {
      "text/html": [
       "<pre style=\"white-space:pre;overflow-x:auto;line-height:normal;font-family:Menlo,'DejaVu Sans Mono',consolas,'Courier New',monospace\">\n",
       "</pre>\n"
      ],
      "text/plain": [
       "\n"
      ]
     },
     "metadata": {},
     "output_type": "display_data"
    },
    {
     "data": {
      "text/html": [
       "<pre style=\"white-space:pre;overflow-x:auto;line-height:normal;font-family:Menlo,'DejaVu Sans Mono',consolas,'Courier New',monospace\"><span style=\"color: #008080; text-decoration-color: #008080; font-weight: bold\">4.24</span>.<span style=\"color: #008080; text-decoration-color: #008080; font-weight: bold\">2</span>. Executing OPT_MERGE pass <span style=\"font-weight: bold\">(</span>detect identical cells<span style=\"font-weight: bold\">)</span>.\n",
       "</pre>\n"
      ],
      "text/plain": [
       "\u001b[1;36m4.24\u001b[0m.\u001b[1;36m2\u001b[0m. Executing OPT_MERGE pass \u001b[1m(\u001b[0mdetect identical cells\u001b[1m)\u001b[0m.\n"
      ]
     },
     "metadata": {},
     "output_type": "display_data"
    },
    {
     "data": {
      "text/html": [
       "<pre style=\"white-space:pre;overflow-x:auto;line-height:normal;font-family:Menlo,'DejaVu Sans Mono',consolas,'Courier New',monospace\">Finding identical cells in module `\\spm'.\n",
       "</pre>\n"
      ],
      "text/plain": [
       "Finding identical cells in module `\\spm'.\n"
      ]
     },
     "metadata": {},
     "output_type": "display_data"
    },
    {
     "data": {
      "text/html": [
       "<pre style=\"white-space:pre;overflow-x:auto;line-height:normal;font-family:Menlo,'DejaVu Sans Mono',consolas,'Courier New',monospace\">Removed a total of <span style=\"color: #008080; text-decoration-color: #008080; font-weight: bold\">0</span> cells.\n",
       "</pre>\n"
      ],
      "text/plain": [
       "Removed a total of \u001b[1;36m0\u001b[0m cells.\n"
      ]
     },
     "metadata": {},
     "output_type": "display_data"
    },
    {
     "data": {
      "text/html": [
       "<pre style=\"white-space:pre;overflow-x:auto;line-height:normal;font-family:Menlo,'DejaVu Sans Mono',consolas,'Courier New',monospace\">\n",
       "</pre>\n"
      ],
      "text/plain": [
       "\n"
      ]
     },
     "metadata": {},
     "output_type": "display_data"
    },
    {
     "data": {
      "text/html": [
       "<pre style=\"white-space:pre;overflow-x:auto;line-height:normal;font-family:Menlo,'DejaVu Sans Mono',consolas,'Courier New',monospace\"><span style=\"color: #008080; text-decoration-color: #008080; font-weight: bold\">4.24</span>.<span style=\"color: #008080; text-decoration-color: #008080; font-weight: bold\">3</span>. Executing OPT_DFF pass <span style=\"font-weight: bold\">(</span>perform DFF optimizations<span style=\"font-weight: bold\">)</span>.\n",
       "</pre>\n"
      ],
      "text/plain": [
       "\u001b[1;36m4.24\u001b[0m.\u001b[1;36m3\u001b[0m. Executing OPT_DFF pass \u001b[1m(\u001b[0mperform DFF optimizations\u001b[1m)\u001b[0m.\n"
      ]
     },
     "metadata": {},
     "output_type": "display_data"
    },
    {
     "data": {
      "text/html": [
       "<pre style=\"white-space:pre;overflow-x:auto;line-height:normal;font-family:Menlo,'DejaVu Sans Mono',consolas,'Courier New',monospace\">\n",
       "</pre>\n"
      ],
      "text/plain": [
       "\n"
      ]
     },
     "metadata": {},
     "output_type": "display_data"
    },
    {
     "data": {
      "text/html": [
       "<pre style=\"white-space:pre;overflow-x:auto;line-height:normal;font-family:Menlo,'DejaVu Sans Mono',consolas,'Courier New',monospace\"><span style=\"color: #008080; text-decoration-color: #008080; font-weight: bold\">4.24</span>.<span style=\"color: #008080; text-decoration-color: #008080; font-weight: bold\">4</span>. Executing OPT_CLEAN pass <span style=\"font-weight: bold\">(</span>remove unused cells and wires<span style=\"font-weight: bold\">)</span>.\n",
       "</pre>\n"
      ],
      "text/plain": [
       "\u001b[1;36m4.24\u001b[0m.\u001b[1;36m4\u001b[0m. Executing OPT_CLEAN pass \u001b[1m(\u001b[0mremove unused cells and wires\u001b[1m)\u001b[0m.\n"
      ]
     },
     "metadata": {},
     "output_type": "display_data"
    },
    {
     "data": {
      "text/html": [
       "<pre style=\"white-space:pre;overflow-x:auto;line-height:normal;font-family:Menlo,'DejaVu Sans Mono',consolas,'Courier New',monospace\">Finding unused cells or wires in module \\spm..\n",
       "</pre>\n"
      ],
      "text/plain": [
       "Finding unused cells or wires in module \\spm..\n"
      ]
     },
     "metadata": {},
     "output_type": "display_data"
    },
    {
     "data": {
      "text/html": [
       "<pre style=\"white-space:pre;overflow-x:auto;line-height:normal;font-family:Menlo,'DejaVu Sans Mono',consolas,'Courier New',monospace\">Removed <span style=\"color: #008080; text-decoration-color: #008080; font-weight: bold\">0</span> unused cells and <span style=\"color: #008080; text-decoration-color: #008080; font-weight: bold\">285</span> unused wires.\n",
       "</pre>\n"
      ],
      "text/plain": [
       "Removed \u001b[1;36m0\u001b[0m unused cells and \u001b[1;36m285\u001b[0m unused wires.\n"
      ]
     },
     "metadata": {},
     "output_type": "display_data"
    },
    {
     "data": {
      "text/html": [
       "<pre style=\"white-space:pre;overflow-x:auto;line-height:normal;font-family:Menlo,'DejaVu Sans Mono',consolas,'Courier New',monospace\"><span style=\"font-weight: bold\">&lt;</span><span style=\"color: #ff00ff; text-decoration-color: #ff00ff; font-weight: bold\">suppressed</span><span style=\"color: #000000; text-decoration-color: #000000\"> ~</span><span style=\"color: #008080; text-decoration-color: #008080; font-weight: bold\">126</span><span style=\"color: #000000; text-decoration-color: #000000\"> debug messages</span><span style=\"font-weight: bold\">&gt;</span>\n",
       "</pre>\n"
      ],
      "text/plain": [
       "\u001b[1m<\u001b[0m\u001b[1;95msuppressed\u001b[0m\u001b[39m ~\u001b[0m\u001b[1;36m126\u001b[0m\u001b[39m debug messages\u001b[0m\u001b[1m>\u001b[0m\n"
      ]
     },
     "metadata": {},
     "output_type": "display_data"
    },
    {
     "data": {
      "text/html": [
       "<pre style=\"white-space:pre;overflow-x:auto;line-height:normal;font-family:Menlo,'DejaVu Sans Mono',consolas,'Courier New',monospace\">\n",
       "</pre>\n"
      ],
      "text/plain": [
       "\n"
      ]
     },
     "metadata": {},
     "output_type": "display_data"
    },
    {
     "data": {
      "text/html": [
       "<pre style=\"white-space:pre;overflow-x:auto;line-height:normal;font-family:Menlo,'DejaVu Sans Mono',consolas,'Courier New',monospace\"><span style=\"color: #008080; text-decoration-color: #008080; font-weight: bold\">4.24</span>.<span style=\"color: #008080; text-decoration-color: #008080; font-weight: bold\">5</span>. Finished fast OPT passes.\n",
       "</pre>\n"
      ],
      "text/plain": [
       "\u001b[1;36m4.24\u001b[0m.\u001b[1;36m5\u001b[0m. Finished fast OPT passes.\n"
      ]
     },
     "metadata": {},
     "output_type": "display_data"
    },
    {
     "data": {
      "text/html": [
       "<pre style=\"white-space:pre;overflow-x:auto;line-height:normal;font-family:Menlo,'DejaVu Sans Mono',consolas,'Courier New',monospace\">\n",
       "</pre>\n"
      ],
      "text/plain": [
       "\n"
      ]
     },
     "metadata": {},
     "output_type": "display_data"
    },
    {
     "data": {
      "text/html": [
       "<pre style=\"white-space:pre;overflow-x:auto;line-height:normal;font-family:Menlo,'DejaVu Sans Mono',consolas,'Courier New',monospace\"><span style=\"color: #008080; text-decoration-color: #008080; font-weight: bold\">4.25</span>. Executing HIERARCHY pass <span style=\"font-weight: bold\">(</span>managing design hierarchy<span style=\"font-weight: bold\">)</span>.\n",
       "</pre>\n"
      ],
      "text/plain": [
       "\u001b[1;36m4.25\u001b[0m. Executing HIERARCHY pass \u001b[1m(\u001b[0mmanaging design hierarchy\u001b[1m)\u001b[0m.\n"
      ]
     },
     "metadata": {},
     "output_type": "display_data"
    },
    {
     "data": {
      "text/html": [
       "<pre style=\"white-space:pre;overflow-x:auto;line-height:normal;font-family:Menlo,'DejaVu Sans Mono',consolas,'Courier New',monospace\">\n",
       "</pre>\n"
      ],
      "text/plain": [
       "\n"
      ]
     },
     "metadata": {},
     "output_type": "display_data"
    },
    {
     "data": {
      "text/html": [
       "<pre style=\"white-space:pre;overflow-x:auto;line-height:normal;font-family:Menlo,'DejaVu Sans Mono',consolas,'Courier New',monospace\"><span style=\"color: #008080; text-decoration-color: #008080; font-weight: bold\">4.25</span>.<span style=\"color: #008080; text-decoration-color: #008080; font-weight: bold\">1</span>. Analyzing design hierarchy..\n",
       "</pre>\n"
      ],
      "text/plain": [
       "\u001b[1;36m4.25\u001b[0m.\u001b[1;36m1\u001b[0m. Analyzing design hierarchy..\n"
      ]
     },
     "metadata": {},
     "output_type": "display_data"
    },
    {
     "data": {
      "text/html": [
       "<pre style=\"white-space:pre;overflow-x:auto;line-height:normal;font-family:Menlo,'DejaVu Sans Mono',consolas,'Courier New',monospace\">Top module:  \\spm\n",
       "</pre>\n"
      ],
      "text/plain": [
       "Top module:  \\spm\n"
      ]
     },
     "metadata": {},
     "output_type": "display_data"
    },
    {
     "data": {
      "text/html": [
       "<pre style=\"white-space:pre;overflow-x:auto;line-height:normal;font-family:Menlo,'DejaVu Sans Mono',consolas,'Courier New',monospace\">\n",
       "</pre>\n"
      ],
      "text/plain": [
       "\n"
      ]
     },
     "metadata": {},
     "output_type": "display_data"
    },
    {
     "data": {
      "text/html": [
       "<pre style=\"white-space:pre;overflow-x:auto;line-height:normal;font-family:Menlo,'DejaVu Sans Mono',consolas,'Courier New',monospace\"><span style=\"color: #008080; text-decoration-color: #008080; font-weight: bold\">4.25</span>.<span style=\"color: #008080; text-decoration-color: #008080; font-weight: bold\">2</span>. Analyzing design hierarchy..\n",
       "</pre>\n"
      ],
      "text/plain": [
       "\u001b[1;36m4.25\u001b[0m.\u001b[1;36m2\u001b[0m. Analyzing design hierarchy..\n"
      ]
     },
     "metadata": {},
     "output_type": "display_data"
    },
    {
     "data": {
      "text/html": [
       "<pre style=\"white-space:pre;overflow-x:auto;line-height:normal;font-family:Menlo,'DejaVu Sans Mono',consolas,'Courier New',monospace\">Top module:  \\spm\n",
       "</pre>\n"
      ],
      "text/plain": [
       "Top module:  \\spm\n"
      ]
     },
     "metadata": {},
     "output_type": "display_data"
    },
    {
     "data": {
      "text/html": [
       "<pre style=\"white-space:pre;overflow-x:auto;line-height:normal;font-family:Menlo,'DejaVu Sans Mono',consolas,'Courier New',monospace\">Removed <span style=\"color: #008080; text-decoration-color: #008080; font-weight: bold\">0</span> unused modules.\n",
       "</pre>\n"
      ],
      "text/plain": [
       "Removed \u001b[1;36m0\u001b[0m unused modules.\n"
      ]
     },
     "metadata": {},
     "output_type": "display_data"
    },
    {
     "data": {
      "text/html": [
       "<pre style=\"white-space:pre;overflow-x:auto;line-height:normal;font-family:Menlo,'DejaVu Sans Mono',consolas,'Courier New',monospace\">\n",
       "</pre>\n"
      ],
      "text/plain": [
       "\n"
      ]
     },
     "metadata": {},
     "output_type": "display_data"
    },
    {
     "data": {
      "text/html": [
       "<pre style=\"white-space:pre;overflow-x:auto;line-height:normal;font-family:Menlo,'DejaVu Sans Mono',consolas,'Courier New',monospace\"><span style=\"color: #008080; text-decoration-color: #008080; font-weight: bold\">4.26</span>. Printing statistics.\n",
       "</pre>\n"
      ],
      "text/plain": [
       "\u001b[1;36m4.26\u001b[0m. Printing statistics.\n"
      ]
     },
     "metadata": {},
     "output_type": "display_data"
    },
    {
     "data": {
      "text/html": [
       "<pre style=\"white-space:pre;overflow-x:auto;line-height:normal;font-family:Menlo,'DejaVu Sans Mono',consolas,'Courier New',monospace\">\n",
       "</pre>\n"
      ],
      "text/plain": [
       "\n"
      ]
     },
     "metadata": {},
     "output_type": "display_data"
    },
    {
     "data": {
      "text/html": [
       "<pre style=\"white-space:pre;overflow-x:auto;line-height:normal;font-family:Menlo,'DejaVu Sans Mono',consolas,'Courier New',monospace\">=== spm ===\n",
       "</pre>\n"
      ],
      "text/plain": [
       "=== spm ===\n"
      ]
     },
     "metadata": {},
     "output_type": "display_data"
    },
    {
     "data": {
      "text/html": [
       "<pre style=\"white-space:pre;overflow-x:auto;line-height:normal;font-family:Menlo,'DejaVu Sans Mono',consolas,'Courier New',monospace\">\n",
       "</pre>\n"
      ],
      "text/plain": [
       "\n"
      ]
     },
     "metadata": {},
     "output_type": "display_data"
    },
    {
     "data": {
      "text/html": [
       "<pre style=\"white-space:pre;overflow-x:auto;line-height:normal;font-family:Menlo,'DejaVu Sans Mono',consolas,'Courier New',monospace\">Number of wires:                <span style=\"color: #008080; text-decoration-color: #008080; font-weight: bold\">354</span>\n",
       "</pre>\n"
      ],
      "text/plain": [
       "Number of wires:                \u001b[1;36m354\u001b[0m\n"
      ]
     },
     "metadata": {},
     "output_type": "display_data"
    },
    {
     "data": {
      "text/html": [
       "<pre style=\"white-space:pre;overflow-x:auto;line-height:normal;font-family:Menlo,'DejaVu Sans Mono',consolas,'Courier New',monospace\">Number of wire bits:            <span style=\"color: #008080; text-decoration-color: #008080; font-weight: bold\">415</span>\n",
       "</pre>\n"
      ],
      "text/plain": [
       "Number of wire bits:            \u001b[1;36m415\u001b[0m\n"
      ]
     },
     "metadata": {},
     "output_type": "display_data"
    },
    {
     "data": {
      "text/html": [
       "<pre style=\"white-space:pre;overflow-x:auto;line-height:normal;font-family:Menlo,'DejaVu Sans Mono',consolas,'Courier New',monospace\">Number of public wires:         <span style=\"color: #008080; text-decoration-color: #008080; font-weight: bold\">196</span>\n",
       "</pre>\n"
      ],
      "text/plain": [
       "Number of public wires:         \u001b[1;36m196\u001b[0m\n"
      ]
     },
     "metadata": {},
     "output_type": "display_data"
    },
    {
     "data": {
      "text/html": [
       "<pre style=\"white-space:pre;overflow-x:auto;line-height:normal;font-family:Menlo,'DejaVu Sans Mono',consolas,'Courier New',monospace\">Number of public wire bits:     <span style=\"color: #008080; text-decoration-color: #008080; font-weight: bold\">257</span>\n",
       "</pre>\n"
      ],
      "text/plain": [
       "Number of public wire bits:     \u001b[1;36m257\u001b[0m\n"
      ]
     },
     "metadata": {},
     "output_type": "display_data"
    },
    {
     "data": {
      "text/html": [
       "<pre style=\"white-space:pre;overflow-x:auto;line-height:normal;font-family:Menlo,'DejaVu Sans Mono',consolas,'Courier New',monospace\">Number of memories:               <span style=\"color: #008080; text-decoration-color: #008080; font-weight: bold\">0</span>\n",
       "</pre>\n"
      ],
      "text/plain": [
       "Number of memories:               \u001b[1;36m0\u001b[0m\n"
      ]
     },
     "metadata": {},
     "output_type": "display_data"
    },
    {
     "data": {
      "text/html": [
       "<pre style=\"white-space:pre;overflow-x:auto;line-height:normal;font-family:Menlo,'DejaVu Sans Mono',consolas,'Courier New',monospace\">Number of memory bits:            <span style=\"color: #008080; text-decoration-color: #008080; font-weight: bold\">0</span>\n",
       "</pre>\n"
      ],
      "text/plain": [
       "Number of memory bits:            \u001b[1;36m0\u001b[0m\n"
      ]
     },
     "metadata": {},
     "output_type": "display_data"
    },
    {
     "data": {
      "text/html": [
       "<pre style=\"white-space:pre;overflow-x:auto;line-height:normal;font-family:Menlo,'DejaVu Sans Mono',consolas,'Courier New',monospace\">Number of processes:              <span style=\"color: #008080; text-decoration-color: #008080; font-weight: bold\">0</span>\n",
       "</pre>\n"
      ],
      "text/plain": [
       "Number of processes:              \u001b[1;36m0\u001b[0m\n"
      ]
     },
     "metadata": {},
     "output_type": "display_data"
    },
    {
     "data": {
      "text/html": [
       "<pre style=\"white-space:pre;overflow-x:auto;line-height:normal;font-family:Menlo,'DejaVu Sans Mono',consolas,'Courier New',monospace\">Number of cells:                <span style=\"color: #008080; text-decoration-color: #008080; font-weight: bold\">253</span>\n",
       "</pre>\n"
      ],
      "text/plain": [
       "Number of cells:                \u001b[1;36m253\u001b[0m\n"
      ]
     },
     "metadata": {},
     "output_type": "display_data"
    },
    {
     "data": {
      "text/html": [
       "<pre style=\"white-space:pre;overflow-x:auto;line-height:normal;font-family:Menlo,'DejaVu Sans Mono',consolas,'Courier New',monospace\">$_AND_                         <span style=\"color: #008080; text-decoration-color: #008080; font-weight: bold\">32</span>\n",
       "</pre>\n"
      ],
      "text/plain": [
       "$_AND_                         \u001b[1;36m32\u001b[0m\n"
      ]
     },
     "metadata": {},
     "output_type": "display_data"
    },
    {
     "data": {
      "text/html": [
       "<pre style=\"white-space:pre;overflow-x:auto;line-height:normal;font-family:Menlo,'DejaVu Sans Mono',consolas,'Courier New',monospace\">$_DFF_PP0_                     <span style=\"color: #008080; text-decoration-color: #008080; font-weight: bold\">64</span>\n",
       "</pre>\n"
      ],
      "text/plain": [
       "$_DFF_PP0_                     \u001b[1;36m64\u001b[0m\n"
      ]
     },
     "metadata": {},
     "output_type": "display_data"
    },
    {
     "data": {
      "text/html": [
       "<pre style=\"white-space:pre;overflow-x:auto;line-height:normal;font-family:Menlo,'DejaVu Sans Mono',consolas,'Courier New',monospace\">$_NAND_                        <span style=\"color: #008080; text-decoration-color: #008080; font-weight: bold\">31</span>\n",
       "</pre>\n"
      ],
      "text/plain": [
       "$_NAND_                        \u001b[1;36m31\u001b[0m\n"
      ]
     },
     "metadata": {},
     "output_type": "display_data"
    },
    {
     "data": {
      "text/html": [
       "<pre style=\"white-space:pre;overflow-x:auto;line-height:normal;font-family:Menlo,'DejaVu Sans Mono',consolas,'Courier New',monospace\">$_NOR_                         <span style=\"color: #008080; text-decoration-color: #008080; font-weight: bold\">31</span>\n",
       "</pre>\n"
      ],
      "text/plain": [
       "$_NOR_                         \u001b[1;36m31\u001b[0m\n"
      ]
     },
     "metadata": {},
     "output_type": "display_data"
    },
    {
     "data": {
      "text/html": [
       "<pre style=\"white-space:pre;overflow-x:auto;line-height:normal;font-family:Menlo,'DejaVu Sans Mono',consolas,'Courier New',monospace\">$_OR_                           <span style=\"color: #008080; text-decoration-color: #008080; font-weight: bold\">1</span>\n",
       "</pre>\n"
      ],
      "text/plain": [
       "$_OR_                           \u001b[1;36m1\u001b[0m\n"
      ]
     },
     "metadata": {},
     "output_type": "display_data"
    },
    {
     "data": {
      "text/html": [
       "<pre style=\"white-space:pre;overflow-x:auto;line-height:normal;font-family:Menlo,'DejaVu Sans Mono',consolas,'Courier New',monospace\">$_XNOR_                        <span style=\"color: #008080; text-decoration-color: #008080; font-weight: bold\">31</span>\n",
       "</pre>\n"
      ],
      "text/plain": [
       "$_XNOR_                        \u001b[1;36m31\u001b[0m\n"
      ]
     },
     "metadata": {},
     "output_type": "display_data"
    },
    {
     "data": {
      "text/html": [
       "<pre style=\"white-space:pre;overflow-x:auto;line-height:normal;font-family:Menlo,'DejaVu Sans Mono',consolas,'Courier New',monospace\">$_XOR_                         <span style=\"color: #008080; text-decoration-color: #008080; font-weight: bold\">63</span>\n",
       "</pre>\n"
      ],
      "text/plain": [
       "$_XOR_                         \u001b[1;36m63\u001b[0m\n"
      ]
     },
     "metadata": {},
     "output_type": "display_data"
    },
    {
     "data": {
      "text/html": [
       "<pre style=\"white-space:pre;overflow-x:auto;line-height:normal;font-family:Menlo,'DejaVu Sans Mono',consolas,'Courier New',monospace\">\n",
       "</pre>\n"
      ],
      "text/plain": [
       "\n"
      ]
     },
     "metadata": {},
     "output_type": "display_data"
    },
    {
     "data": {
      "text/html": [
       "<pre style=\"white-space:pre;overflow-x:auto;line-height:normal;font-family:Menlo,'DejaVu Sans Mono',consolas,'Courier New',monospace\"><span style=\"color: #008080; text-decoration-color: #008080; font-weight: bold\">4.27</span>. Executing CHECK pass <span style=\"font-weight: bold\">(</span>checking for obvious problems<span style=\"font-weight: bold\">)</span>.\n",
       "</pre>\n"
      ],
      "text/plain": [
       "\u001b[1;36m4.27\u001b[0m. Executing CHECK pass \u001b[1m(\u001b[0mchecking for obvious problems\u001b[1m)\u001b[0m.\n"
      ]
     },
     "metadata": {},
     "output_type": "display_data"
    },
    {
     "data": {
      "text/html": [
       "<pre style=\"white-space:pre;overflow-x:auto;line-height:normal;font-family:Menlo,'DejaVu Sans Mono',consolas,'Courier New',monospace\">Checking module spm<span style=\"color: #808000; text-decoration-color: #808000\">...</span>\n",
       "</pre>\n"
      ],
      "text/plain": [
       "Checking module spm\u001b[33m...\u001b[0m\n"
      ]
     },
     "metadata": {},
     "output_type": "display_data"
    },
    {
     "data": {
      "text/html": [
       "<pre style=\"white-space:pre;overflow-x:auto;line-height:normal;font-family:Menlo,'DejaVu Sans Mono',consolas,'Courier New',monospace\">Found and reported <span style=\"color: #008080; text-decoration-color: #008080; font-weight: bold\">0</span> problems.\n",
       "</pre>\n"
      ],
      "text/plain": [
       "Found and reported \u001b[1;36m0\u001b[0m problems.\n"
      ]
     },
     "metadata": {},
     "output_type": "display_data"
    },
    {
     "data": {
      "text/html": [
       "<pre style=\"white-space:pre;overflow-x:auto;line-height:normal;font-family:Menlo,'DejaVu Sans Mono',consolas,'Courier New',monospace\">\n",
       "</pre>\n"
      ],
      "text/plain": [
       "\n"
      ]
     },
     "metadata": {},
     "output_type": "display_data"
    },
    {
     "data": {
      "text/html": [
       "<pre style=\"white-space:pre;overflow-x:auto;line-height:normal;font-family:Menlo,'DejaVu Sans Mono',consolas,'Courier New',monospace\"><span style=\"color: #008080; text-decoration-color: #008080; font-weight: bold\">5</span>. Generating Graphviz representation of design.\n",
       "</pre>\n"
      ],
      "text/plain": [
       "\u001b[1;36m5\u001b[0m. Generating Graphviz representation of design.\n"
      ]
     },
     "metadata": {},
     "output_type": "display_data"
    },
    {
     "data": {
      "text/html": [
       "<pre style=\"white-space:pre;overflow-x:auto;line-height:normal;font-family:Menlo,'DejaVu Sans Mono',consolas,'Courier New',monospace\">Writing dot description to `<span style=\"color: #800080; text-decoration-color: #800080\">/home/donn/efabless/openlane2/examples/spm/run/1-yosys-synthesis/</span><span style=\"color: #ff00ff; text-decoration-color: #ff00ff\">post_techmap.dot</span>'.\n",
       "</pre>\n"
      ],
      "text/plain": [
       "Writing dot description to `\u001b[35m/home/donn/efabless/openlane2/examples/spm/run/1-yosys-synthesis/\u001b[0m\u001b[95mpost_techmap.dot\u001b[0m'.\n"
      ]
     },
     "metadata": {},
     "output_type": "display_data"
    },
    {
     "data": {
      "text/html": [
       "<pre style=\"white-space:pre;overflow-x:auto;line-height:normal;font-family:Menlo,'DejaVu Sans Mono',consolas,'Courier New',monospace\">Dumping module spm to page <span style=\"color: #008080; text-decoration-color: #008080; font-weight: bold\">1</span>.\n",
       "</pre>\n"
      ],
      "text/plain": [
       "Dumping module spm to page \u001b[1;36m1\u001b[0m.\n"
      ]
     },
     "metadata": {},
     "output_type": "display_data"
    },
    {
     "data": {
      "text/html": [
       "<pre style=\"white-space:pre;overflow-x:auto;line-height:normal;font-family:Menlo,'DejaVu Sans Mono',consolas,'Courier New',monospace\">\n",
       "</pre>\n"
      ],
      "text/plain": [
       "\n"
      ]
     },
     "metadata": {},
     "output_type": "display_data"
    },
    {
     "data": {
      "text/html": [
       "<pre style=\"white-space:pre;overflow-x:auto;line-height:normal;font-family:Menlo,'DejaVu Sans Mono',consolas,'Courier New',monospace\"><span style=\"color: #008080; text-decoration-color: #008080; font-weight: bold\">6</span>. Executing SHARE pass <span style=\"font-weight: bold\">(</span>SAT-based resource sharing<span style=\"font-weight: bold\">)</span>.\n",
       "</pre>\n"
      ],
      "text/plain": [
       "\u001b[1;36m6\u001b[0m. Executing SHARE pass \u001b[1m(\u001b[0mSAT-based resource sharing\u001b[1m)\u001b[0m.\n"
      ]
     },
     "metadata": {},
     "output_type": "display_data"
    },
    {
     "data": {
      "text/html": [
       "<pre style=\"white-space:pre;overflow-x:auto;line-height:normal;font-family:Menlo,'DejaVu Sans Mono',consolas,'Courier New',monospace\">\n",
       "</pre>\n"
      ],
      "text/plain": [
       "\n"
      ]
     },
     "metadata": {},
     "output_type": "display_data"
    },
    {
     "data": {
      "text/html": [
       "<pre style=\"white-space:pre;overflow-x:auto;line-height:normal;font-family:Menlo,'DejaVu Sans Mono',consolas,'Courier New',monospace\"><span style=\"color: #008080; text-decoration-color: #008080; font-weight: bold\">7</span>. Executing OPT pass <span style=\"font-weight: bold\">(</span>performing simple optimizations<span style=\"font-weight: bold\">)</span>.\n",
       "</pre>\n"
      ],
      "text/plain": [
       "\u001b[1;36m7\u001b[0m. Executing OPT pass \u001b[1m(\u001b[0mperforming simple optimizations\u001b[1m)\u001b[0m.\n"
      ]
     },
     "metadata": {},
     "output_type": "display_data"
    },
    {
     "data": {
      "text/html": [
       "<pre style=\"white-space:pre;overflow-x:auto;line-height:normal;font-family:Menlo,'DejaVu Sans Mono',consolas,'Courier New',monospace\">\n",
       "</pre>\n"
      ],
      "text/plain": [
       "\n"
      ]
     },
     "metadata": {},
     "output_type": "display_data"
    },
    {
     "data": {
      "text/html": [
       "<pre style=\"white-space:pre;overflow-x:auto;line-height:normal;font-family:Menlo,'DejaVu Sans Mono',consolas,'Courier New',monospace\"><span style=\"color: #008080; text-decoration-color: #008080; font-weight: bold\">7.1</span>. Executing OPT_EXPR pass <span style=\"font-weight: bold\">(</span>perform const folding<span style=\"font-weight: bold\">)</span>.\n",
       "</pre>\n"
      ],
      "text/plain": [
       "\u001b[1;36m7.1\u001b[0m. Executing OPT_EXPR pass \u001b[1m(\u001b[0mperform const folding\u001b[1m)\u001b[0m.\n"
      ]
     },
     "metadata": {},
     "output_type": "display_data"
    },
    {
     "data": {
      "text/html": [
       "<pre style=\"white-space:pre;overflow-x:auto;line-height:normal;font-family:Menlo,'DejaVu Sans Mono',consolas,'Courier New',monospace\">Optimizing module spm.\n",
       "</pre>\n"
      ],
      "text/plain": [
       "Optimizing module spm.\n"
      ]
     },
     "metadata": {},
     "output_type": "display_data"
    },
    {
     "data": {
      "text/html": [
       "<pre style=\"white-space:pre;overflow-x:auto;line-height:normal;font-family:Menlo,'DejaVu Sans Mono',consolas,'Courier New',monospace\">\n",
       "</pre>\n"
      ],
      "text/plain": [
       "\n"
      ]
     },
     "metadata": {},
     "output_type": "display_data"
    },
    {
     "data": {
      "text/html": [
       "<pre style=\"white-space:pre;overflow-x:auto;line-height:normal;font-family:Menlo,'DejaVu Sans Mono',consolas,'Courier New',monospace\"><span style=\"color: #008080; text-decoration-color: #008080; font-weight: bold\">7.2</span>. Executing OPT_MERGE pass <span style=\"font-weight: bold\">(</span>detect identical cells<span style=\"font-weight: bold\">)</span>.\n",
       "</pre>\n"
      ],
      "text/plain": [
       "\u001b[1;36m7.2\u001b[0m. Executing OPT_MERGE pass \u001b[1m(\u001b[0mdetect identical cells\u001b[1m)\u001b[0m.\n"
      ]
     },
     "metadata": {},
     "output_type": "display_data"
    },
    {
     "data": {
      "text/html": [
       "<pre style=\"white-space:pre;overflow-x:auto;line-height:normal;font-family:Menlo,'DejaVu Sans Mono',consolas,'Courier New',monospace\">Finding identical cells in module `\\spm'.\n",
       "</pre>\n"
      ],
      "text/plain": [
       "Finding identical cells in module `\\spm'.\n"
      ]
     },
     "metadata": {},
     "output_type": "display_data"
    },
    {
     "data": {
      "text/html": [
       "<pre style=\"white-space:pre;overflow-x:auto;line-height:normal;font-family:Menlo,'DejaVu Sans Mono',consolas,'Courier New',monospace\">Removed a total of <span style=\"color: #008080; text-decoration-color: #008080; font-weight: bold\">0</span> cells.\n",
       "</pre>\n"
      ],
      "text/plain": [
       "Removed a total of \u001b[1;36m0\u001b[0m cells.\n"
      ]
     },
     "metadata": {},
     "output_type": "display_data"
    },
    {
     "data": {
      "text/html": [
       "<pre style=\"white-space:pre;overflow-x:auto;line-height:normal;font-family:Menlo,'DejaVu Sans Mono',consolas,'Courier New',monospace\">\n",
       "</pre>\n"
      ],
      "text/plain": [
       "\n"
      ]
     },
     "metadata": {},
     "output_type": "display_data"
    },
    {
     "data": {
      "text/html": [
       "<pre style=\"white-space:pre;overflow-x:auto;line-height:normal;font-family:Menlo,'DejaVu Sans Mono',consolas,'Courier New',monospace\"><span style=\"color: #008080; text-decoration-color: #008080; font-weight: bold\">7.3</span>. Executing OPT_MUXTREE pass <span style=\"font-weight: bold\">(</span>detect dead branches in mux trees<span style=\"font-weight: bold\">)</span>.\n",
       "</pre>\n"
      ],
      "text/plain": [
       "\u001b[1;36m7.3\u001b[0m. Executing OPT_MUXTREE pass \u001b[1m(\u001b[0mdetect dead branches in mux trees\u001b[1m)\u001b[0m.\n"
      ]
     },
     "metadata": {},
     "output_type": "display_data"
    },
    {
     "data": {
      "text/html": [
       "<pre style=\"white-space:pre;overflow-x:auto;line-height:normal;font-family:Menlo,'DejaVu Sans Mono',consolas,'Courier New',monospace\">Running muxtree optimizer on module \\spm..\n",
       "</pre>\n"
      ],
      "text/plain": [
       "Running muxtree optimizer on module \\spm..\n"
      ]
     },
     "metadata": {},
     "output_type": "display_data"
    },
    {
     "data": {
      "text/html": [
       "<pre style=\"white-space:pre;overflow-x:auto;line-height:normal;font-family:Menlo,'DejaVu Sans Mono',consolas,'Courier New',monospace\">Creating internal representation of mux trees.\n",
       "</pre>\n"
      ],
      "text/plain": [
       "Creating internal representation of mux trees.\n"
      ]
     },
     "metadata": {},
     "output_type": "display_data"
    },
    {
     "data": {
      "text/html": [
       "<pre style=\"white-space:pre;overflow-x:auto;line-height:normal;font-family:Menlo,'DejaVu Sans Mono',consolas,'Courier New',monospace\">No muxes found in this module.\n",
       "</pre>\n"
      ],
      "text/plain": [
       "No muxes found in this module.\n"
      ]
     },
     "metadata": {},
     "output_type": "display_data"
    },
    {
     "data": {
      "text/html": [
       "<pre style=\"white-space:pre;overflow-x:auto;line-height:normal;font-family:Menlo,'DejaVu Sans Mono',consolas,'Courier New',monospace\">Removed <span style=\"color: #008080; text-decoration-color: #008080; font-weight: bold\">0</span> multiplexer ports.\n",
       "</pre>\n"
      ],
      "text/plain": [
       "Removed \u001b[1;36m0\u001b[0m multiplexer ports.\n"
      ]
     },
     "metadata": {},
     "output_type": "display_data"
    },
    {
     "data": {
      "text/html": [
       "<pre style=\"white-space:pre;overflow-x:auto;line-height:normal;font-family:Menlo,'DejaVu Sans Mono',consolas,'Courier New',monospace\">\n",
       "</pre>\n"
      ],
      "text/plain": [
       "\n"
      ]
     },
     "metadata": {},
     "output_type": "display_data"
    },
    {
     "data": {
      "text/html": [
       "<pre style=\"white-space:pre;overflow-x:auto;line-height:normal;font-family:Menlo,'DejaVu Sans Mono',consolas,'Courier New',monospace\"><span style=\"color: #008080; text-decoration-color: #008080; font-weight: bold\">7.4</span>. Executing OPT_REDUCE pass <span style=\"font-weight: bold\">(</span>consolidate $*mux and $reduce_* inputs<span style=\"font-weight: bold\">)</span>.\n",
       "</pre>\n"
      ],
      "text/plain": [
       "\u001b[1;36m7.4\u001b[0m. Executing OPT_REDUCE pass \u001b[1m(\u001b[0mconsolidate $*mux and $reduce_* inputs\u001b[1m)\u001b[0m.\n"
      ]
     },
     "metadata": {},
     "output_type": "display_data"
    },
    {
     "data": {
      "text/html": [
       "<pre style=\"white-space:pre;overflow-x:auto;line-height:normal;font-family:Menlo,'DejaVu Sans Mono',consolas,'Courier New',monospace\">Optimizing cells in module \\spm.\n",
       "</pre>\n"
      ],
      "text/plain": [
       "Optimizing cells in module \\spm.\n"
      ]
     },
     "metadata": {},
     "output_type": "display_data"
    },
    {
     "data": {
      "text/html": [
       "<pre style=\"white-space:pre;overflow-x:auto;line-height:normal;font-family:Menlo,'DejaVu Sans Mono',consolas,'Courier New',monospace\">Performed a total of <span style=\"color: #008080; text-decoration-color: #008080; font-weight: bold\">0</span> changes.\n",
       "</pre>\n"
      ],
      "text/plain": [
       "Performed a total of \u001b[1;36m0\u001b[0m changes.\n"
      ]
     },
     "metadata": {},
     "output_type": "display_data"
    },
    {
     "data": {
      "text/html": [
       "<pre style=\"white-space:pre;overflow-x:auto;line-height:normal;font-family:Menlo,'DejaVu Sans Mono',consolas,'Courier New',monospace\">\n",
       "</pre>\n"
      ],
      "text/plain": [
       "\n"
      ]
     },
     "metadata": {},
     "output_type": "display_data"
    },
    {
     "data": {
      "text/html": [
       "<pre style=\"white-space:pre;overflow-x:auto;line-height:normal;font-family:Menlo,'DejaVu Sans Mono',consolas,'Courier New',monospace\"><span style=\"color: #008080; text-decoration-color: #008080; font-weight: bold\">7.5</span>. Executing OPT_MERGE pass <span style=\"font-weight: bold\">(</span>detect identical cells<span style=\"font-weight: bold\">)</span>.\n",
       "</pre>\n"
      ],
      "text/plain": [
       "\u001b[1;36m7.5\u001b[0m. Executing OPT_MERGE pass \u001b[1m(\u001b[0mdetect identical cells\u001b[1m)\u001b[0m.\n"
      ]
     },
     "metadata": {},
     "output_type": "display_data"
    },
    {
     "data": {
      "text/html": [
       "<pre style=\"white-space:pre;overflow-x:auto;line-height:normal;font-family:Menlo,'DejaVu Sans Mono',consolas,'Courier New',monospace\">Finding identical cells in module `\\spm'.\n",
       "</pre>\n"
      ],
      "text/plain": [
       "Finding identical cells in module `\\spm'.\n"
      ]
     },
     "metadata": {},
     "output_type": "display_data"
    },
    {
     "data": {
      "text/html": [
       "<pre style=\"white-space:pre;overflow-x:auto;line-height:normal;font-family:Menlo,'DejaVu Sans Mono',consolas,'Courier New',monospace\">Removed a total of <span style=\"color: #008080; text-decoration-color: #008080; font-weight: bold\">0</span> cells.\n",
       "</pre>\n"
      ],
      "text/plain": [
       "Removed a total of \u001b[1;36m0\u001b[0m cells.\n"
      ]
     },
     "metadata": {},
     "output_type": "display_data"
    },
    {
     "data": {
      "text/html": [
       "<pre style=\"white-space:pre;overflow-x:auto;line-height:normal;font-family:Menlo,'DejaVu Sans Mono',consolas,'Courier New',monospace\">\n",
       "</pre>\n"
      ],
      "text/plain": [
       "\n"
      ]
     },
     "metadata": {},
     "output_type": "display_data"
    },
    {
     "data": {
      "text/html": [
       "<pre style=\"white-space:pre;overflow-x:auto;line-height:normal;font-family:Menlo,'DejaVu Sans Mono',consolas,'Courier New',monospace\"><span style=\"color: #008080; text-decoration-color: #008080; font-weight: bold\">7.6</span>. Executing OPT_DFF pass <span style=\"font-weight: bold\">(</span>perform DFF optimizations<span style=\"font-weight: bold\">)</span>.\n",
       "</pre>\n"
      ],
      "text/plain": [
       "\u001b[1;36m7.6\u001b[0m. Executing OPT_DFF pass \u001b[1m(\u001b[0mperform DFF optimizations\u001b[1m)\u001b[0m.\n"
      ]
     },
     "metadata": {},
     "output_type": "display_data"
    },
    {
     "data": {
      "text/html": [
       "<pre style=\"white-space:pre;overflow-x:auto;line-height:normal;font-family:Menlo,'DejaVu Sans Mono',consolas,'Courier New',monospace\">\n",
       "</pre>\n"
      ],
      "text/plain": [
       "\n"
      ]
     },
     "metadata": {},
     "output_type": "display_data"
    },
    {
     "data": {
      "text/html": [
       "<pre style=\"white-space:pre;overflow-x:auto;line-height:normal;font-family:Menlo,'DejaVu Sans Mono',consolas,'Courier New',monospace\"><span style=\"color: #008080; text-decoration-color: #008080; font-weight: bold\">7.7</span>. Executing OPT_CLEAN pass <span style=\"font-weight: bold\">(</span>remove unused cells and wires<span style=\"font-weight: bold\">)</span>.\n",
       "</pre>\n"
      ],
      "text/plain": [
       "\u001b[1;36m7.7\u001b[0m. Executing OPT_CLEAN pass \u001b[1m(\u001b[0mremove unused cells and wires\u001b[1m)\u001b[0m.\n"
      ]
     },
     "metadata": {},
     "output_type": "display_data"
    },
    {
     "data": {
      "text/html": [
       "<pre style=\"white-space:pre;overflow-x:auto;line-height:normal;font-family:Menlo,'DejaVu Sans Mono',consolas,'Courier New',monospace\">Finding unused cells or wires in module \\spm..\n",
       "</pre>\n"
      ],
      "text/plain": [
       "Finding unused cells or wires in module \\spm..\n"
      ]
     },
     "metadata": {},
     "output_type": "display_data"
    },
    {
     "data": {
      "text/html": [
       "<pre style=\"white-space:pre;overflow-x:auto;line-height:normal;font-family:Menlo,'DejaVu Sans Mono',consolas,'Courier New',monospace\">\n",
       "</pre>\n"
      ],
      "text/plain": [
       "\n"
      ]
     },
     "metadata": {},
     "output_type": "display_data"
    },
    {
     "data": {
      "text/html": [
       "<pre style=\"white-space:pre;overflow-x:auto;line-height:normal;font-family:Menlo,'DejaVu Sans Mono',consolas,'Courier New',monospace\"><span style=\"color: #008080; text-decoration-color: #008080; font-weight: bold\">7.8</span>. Executing OPT_EXPR pass <span style=\"font-weight: bold\">(</span>perform const folding<span style=\"font-weight: bold\">)</span>.\n",
       "</pre>\n"
      ],
      "text/plain": [
       "\u001b[1;36m7.8\u001b[0m. Executing OPT_EXPR pass \u001b[1m(\u001b[0mperform const folding\u001b[1m)\u001b[0m.\n"
      ]
     },
     "metadata": {},
     "output_type": "display_data"
    },
    {
     "data": {
      "text/html": [
       "<pre style=\"white-space:pre;overflow-x:auto;line-height:normal;font-family:Menlo,'DejaVu Sans Mono',consolas,'Courier New',monospace\">Optimizing module spm.\n",
       "</pre>\n"
      ],
      "text/plain": [
       "Optimizing module spm.\n"
      ]
     },
     "metadata": {},
     "output_type": "display_data"
    },
    {
     "data": {
      "text/html": [
       "<pre style=\"white-space:pre;overflow-x:auto;line-height:normal;font-family:Menlo,'DejaVu Sans Mono',consolas,'Courier New',monospace\">\n",
       "</pre>\n"
      ],
      "text/plain": [
       "\n"
      ]
     },
     "metadata": {},
     "output_type": "display_data"
    },
    {
     "data": {
      "text/html": [
       "<pre style=\"white-space:pre;overflow-x:auto;line-height:normal;font-family:Menlo,'DejaVu Sans Mono',consolas,'Courier New',monospace\"><span style=\"color: #008080; text-decoration-color: #008080; font-weight: bold\">7.9</span>. Finished OPT passes. <span style=\"font-weight: bold\">(</span>There is nothing left to do.<span style=\"font-weight: bold\">)</span>\n",
       "</pre>\n"
      ],
      "text/plain": [
       "\u001b[1;36m7.9\u001b[0m. Finished OPT passes. \u001b[1m(\u001b[0mThere is nothing left to do.\u001b[1m)\u001b[0m\n"
      ]
     },
     "metadata": {},
     "output_type": "display_data"
    },
    {
     "data": {
      "text/html": [
       "<pre style=\"white-space:pre;overflow-x:auto;line-height:normal;font-family:Menlo,'DejaVu Sans Mono',consolas,'Courier New',monospace\">\n",
       "</pre>\n"
      ],
      "text/plain": [
       "\n"
      ]
     },
     "metadata": {},
     "output_type": "display_data"
    },
    {
     "data": {
      "text/html": [
       "<pre style=\"white-space:pre;overflow-x:auto;line-height:normal;font-family:Menlo,'DejaVu Sans Mono',consolas,'Courier New',monospace\"><span style=\"color: #008080; text-decoration-color: #008080; font-weight: bold\">8</span>. Executing OPT_CLEAN pass <span style=\"font-weight: bold\">(</span>remove unused cells and wires<span style=\"font-weight: bold\">)</span>.\n",
       "</pre>\n"
      ],
      "text/plain": [
       "\u001b[1;36m8\u001b[0m. Executing OPT_CLEAN pass \u001b[1m(\u001b[0mremove unused cells and wires\u001b[1m)\u001b[0m.\n"
      ]
     },
     "metadata": {},
     "output_type": "display_data"
    },
    {
     "data": {
      "text/html": [
       "<pre style=\"white-space:pre;overflow-x:auto;line-height:normal;font-family:Menlo,'DejaVu Sans Mono',consolas,'Courier New',monospace\">Finding unused cells or wires in module \\spm..\n",
       "</pre>\n"
      ],
      "text/plain": [
       "Finding unused cells or wires in module \\spm..\n"
      ]
     },
     "metadata": {},
     "output_type": "display_data"
    },
    {
     "data": {
      "text/html": [
       "<pre style=\"white-space:pre;overflow-x:auto;line-height:normal;font-family:Menlo,'DejaVu Sans Mono',consolas,'Courier New',monospace\">Removed <span style=\"color: #008080; text-decoration-color: #008080; font-weight: bold\">0</span> unused cells and <span style=\"color: #008080; text-decoration-color: #008080; font-weight: bold\">97</span> unused wires.\n",
       "</pre>\n"
      ],
      "text/plain": [
       "Removed \u001b[1;36m0\u001b[0m unused cells and \u001b[1;36m97\u001b[0m unused wires.\n"
      ]
     },
     "metadata": {},
     "output_type": "display_data"
    },
    {
     "data": {
      "text/html": [
       "<pre style=\"white-space:pre;overflow-x:auto;line-height:normal;font-family:Menlo,'DejaVu Sans Mono',consolas,'Courier New',monospace\"><span style=\"font-weight: bold\">&lt;</span><span style=\"color: #ff00ff; text-decoration-color: #ff00ff; font-weight: bold\">suppressed</span><span style=\"color: #000000; text-decoration-color: #000000\"> ~</span><span style=\"color: #008080; text-decoration-color: #008080; font-weight: bold\">97</span><span style=\"color: #000000; text-decoration-color: #000000\"> debug messages</span><span style=\"font-weight: bold\">&gt;</span>\n",
       "</pre>\n"
      ],
      "text/plain": [
       "\u001b[1m<\u001b[0m\u001b[1;95msuppressed\u001b[0m\u001b[39m ~\u001b[0m\u001b[1;36m97\u001b[0m\u001b[39m debug messages\u001b[0m\u001b[1m>\u001b[0m\n"
      ]
     },
     "metadata": {},
     "output_type": "display_data"
    },
    {
     "data": {
      "text/html": [
       "<pre style=\"white-space:pre;overflow-x:auto;line-height:normal;font-family:Menlo,'DejaVu Sans Mono',consolas,'Courier New',monospace\"><span style=\"font-weight: bold\">{</span>\n",
       "</pre>\n"
      ],
      "text/plain": [
       "\u001b[1m{\u001b[0m\n"
      ]
     },
     "metadata": {},
     "output_type": "display_data"
    },
    {
     "data": {
      "text/html": [
       "<pre style=\"white-space:pre;overflow-x:auto;line-height:normal;font-family:Menlo,'DejaVu Sans Mono',consolas,'Courier New',monospace\"><span style=\"color: #008000; text-decoration-color: #008000\">\"creator\"</span>: <span style=\"color: #008000; text-decoration-color: #008000\">\"Yosys 0.26 (git sha1 7e588664e7e, gcc 11.3.0 -fPIC -Os)\"</span>,\n",
       "</pre>\n"
      ],
      "text/plain": [
       "\u001b[32m\"creator\"\u001b[0m: \u001b[32m\"Yosys 0.26 \u001b[0m\u001b[32m(\u001b[0m\u001b[32mgit sha1 7e588664e7e, gcc 11.3.0 -fPIC -Os\u001b[0m\u001b[32m)\u001b[0m\u001b[32m\"\u001b[0m,\n"
      ]
     },
     "metadata": {},
     "output_type": "display_data"
    },
    {
     "data": {
      "text/html": [
       "<pre style=\"white-space:pre;overflow-x:auto;line-height:normal;font-family:Menlo,'DejaVu Sans Mono',consolas,'Courier New',monospace\"><span style=\"color: #008000; text-decoration-color: #008000\">\"invocation\"</span>: <span style=\"color: #008000; text-decoration-color: #008000\">\"stat -json \"</span>,\n",
       "</pre>\n"
      ],
      "text/plain": [
       "\u001b[32m\"invocation\"\u001b[0m: \u001b[32m\"stat -json \"\u001b[0m,\n"
      ]
     },
     "metadata": {},
     "output_type": "display_data"
    },
    {
     "data": {
      "text/html": [
       "<pre style=\"white-space:pre;overflow-x:auto;line-height:normal;font-family:Menlo,'DejaVu Sans Mono',consolas,'Courier New',monospace\"><span style=\"color: #008000; text-decoration-color: #008000\">\"modules\"</span>: <span style=\"font-weight: bold\">{</span>\n",
       "</pre>\n"
      ],
      "text/plain": [
       "\u001b[32m\"modules\"\u001b[0m: \u001b[1m{\u001b[0m\n"
      ]
     },
     "metadata": {},
     "output_type": "display_data"
    },
    {
     "data": {
      "text/html": [
       "<pre style=\"white-space:pre;overflow-x:auto;line-height:normal;font-family:Menlo,'DejaVu Sans Mono',consolas,'Courier New',monospace\"><span style=\"color: #008000; text-decoration-color: #008000\">\"\\\\spm\"</span>: <span style=\"font-weight: bold\">{</span>\n",
       "</pre>\n"
      ],
      "text/plain": [
       "\u001b[32m\"\\\\spm\"\u001b[0m: \u001b[1m{\u001b[0m\n"
      ]
     },
     "metadata": {},
     "output_type": "display_data"
    },
    {
     "data": {
      "text/html": [
       "<pre style=\"white-space:pre;overflow-x:auto;line-height:normal;font-family:Menlo,'DejaVu Sans Mono',consolas,'Courier New',monospace\"><span style=\"color: #008000; text-decoration-color: #008000\">\"num_wires\"</span>:         <span style=\"color: #008080; text-decoration-color: #008080; font-weight: bold\">257</span>,\n",
       "</pre>\n"
      ],
      "text/plain": [
       "\u001b[32m\"num_wires\"\u001b[0m:         \u001b[1;36m257\u001b[0m,\n"
      ]
     },
     "metadata": {},
     "output_type": "display_data"
    },
    {
     "data": {
      "text/html": [
       "<pre style=\"white-space:pre;overflow-x:auto;line-height:normal;font-family:Menlo,'DejaVu Sans Mono',consolas,'Courier New',monospace\"><span style=\"color: #008000; text-decoration-color: #008000\">\"num_wire_bits\"</span>:     <span style=\"color: #008080; text-decoration-color: #008080; font-weight: bold\">288</span>,\n",
       "</pre>\n"
      ],
      "text/plain": [
       "\u001b[32m\"num_wire_bits\"\u001b[0m:     \u001b[1;36m288\u001b[0m,\n"
      ]
     },
     "metadata": {},
     "output_type": "display_data"
    },
    {
     "data": {
      "text/html": [
       "<pre style=\"white-space:pre;overflow-x:auto;line-height:normal;font-family:Menlo,'DejaVu Sans Mono',consolas,'Courier New',monospace\"><span style=\"color: #008000; text-decoration-color: #008000\">\"num_pub_wires\"</span>:     <span style=\"color: #008080; text-decoration-color: #008080; font-weight: bold\">99</span>,\n",
       "</pre>\n"
      ],
      "text/plain": [
       "\u001b[32m\"num_pub_wires\"\u001b[0m:     \u001b[1;36m99\u001b[0m,\n"
      ]
     },
     "metadata": {},
     "output_type": "display_data"
    },
    {
     "data": {
      "text/html": [
       "<pre style=\"white-space:pre;overflow-x:auto;line-height:normal;font-family:Menlo,'DejaVu Sans Mono',consolas,'Courier New',monospace\"><span style=\"color: #008000; text-decoration-color: #008000\">\"num_pub_wire_bits\"</span>: <span style=\"color: #008080; text-decoration-color: #008080; font-weight: bold\">130</span>,\n",
       "</pre>\n"
      ],
      "text/plain": [
       "\u001b[32m\"num_pub_wire_bits\"\u001b[0m: \u001b[1;36m130\u001b[0m,\n"
      ]
     },
     "metadata": {},
     "output_type": "display_data"
    },
    {
     "data": {
      "text/html": [
       "<pre style=\"white-space:pre;overflow-x:auto;line-height:normal;font-family:Menlo,'DejaVu Sans Mono',consolas,'Courier New',monospace\"><span style=\"color: #008000; text-decoration-color: #008000\">\"num_memories\"</span>:      <span style=\"color: #008080; text-decoration-color: #008080; font-weight: bold\">0</span>,\n",
       "</pre>\n"
      ],
      "text/plain": [
       "\u001b[32m\"num_memories\"\u001b[0m:      \u001b[1;36m0\u001b[0m,\n"
      ]
     },
     "metadata": {},
     "output_type": "display_data"
    },
    {
     "data": {
      "text/html": [
       "<pre style=\"white-space:pre;overflow-x:auto;line-height:normal;font-family:Menlo,'DejaVu Sans Mono',consolas,'Courier New',monospace\"><span style=\"color: #008000; text-decoration-color: #008000\">\"num_memory_bits\"</span>:   <span style=\"color: #008080; text-decoration-color: #008080; font-weight: bold\">0</span>,\n",
       "</pre>\n"
      ],
      "text/plain": [
       "\u001b[32m\"num_memory_bits\"\u001b[0m:   \u001b[1;36m0\u001b[0m,\n"
      ]
     },
     "metadata": {},
     "output_type": "display_data"
    },
    {
     "data": {
      "text/html": [
       "<pre style=\"white-space:pre;overflow-x:auto;line-height:normal;font-family:Menlo,'DejaVu Sans Mono',consolas,'Courier New',monospace\"><span style=\"color: #008000; text-decoration-color: #008000\">\"num_processes\"</span>:     <span style=\"color: #008080; text-decoration-color: #008080; font-weight: bold\">0</span>,\n",
       "</pre>\n"
      ],
      "text/plain": [
       "\u001b[32m\"num_processes\"\u001b[0m:     \u001b[1;36m0\u001b[0m,\n"
      ]
     },
     "metadata": {},
     "output_type": "display_data"
    },
    {
     "data": {
      "text/html": [
       "<pre style=\"white-space:pre;overflow-x:auto;line-height:normal;font-family:Menlo,'DejaVu Sans Mono',consolas,'Courier New',monospace\"><span style=\"color: #008000; text-decoration-color: #008000\">\"num_cells\"</span>:         <span style=\"color: #008080; text-decoration-color: #008080; font-weight: bold\">253</span>,\n",
       "</pre>\n"
      ],
      "text/plain": [
       "\u001b[32m\"num_cells\"\u001b[0m:         \u001b[1;36m253\u001b[0m,\n"
      ]
     },
     "metadata": {},
     "output_type": "display_data"
    },
    {
     "data": {
      "text/html": [
       "<pre style=\"white-space:pre;overflow-x:auto;line-height:normal;font-family:Menlo,'DejaVu Sans Mono',consolas,'Courier New',monospace\"><span style=\"color: #008000; text-decoration-color: #008000\">\"num_cells_by_type\"</span>: <span style=\"font-weight: bold\">{</span>\n",
       "</pre>\n"
      ],
      "text/plain": [
       "\u001b[32m\"num_cells_by_type\"\u001b[0m: \u001b[1m{\u001b[0m\n"
      ]
     },
     "metadata": {},
     "output_type": "display_data"
    },
    {
     "data": {
      "text/html": [
       "<pre style=\"white-space:pre;overflow-x:auto;line-height:normal;font-family:Menlo,'DejaVu Sans Mono',consolas,'Courier New',monospace\"><span style=\"color: #008000; text-decoration-color: #008000\">\"$_AND_\"</span>: <span style=\"color: #008080; text-decoration-color: #008080; font-weight: bold\">32</span>,\n",
       "</pre>\n"
      ],
      "text/plain": [
       "\u001b[32m\"$_AND_\"\u001b[0m: \u001b[1;36m32\u001b[0m,\n"
      ]
     },
     "metadata": {},
     "output_type": "display_data"
    },
    {
     "data": {
      "text/html": [
       "<pre style=\"white-space:pre;overflow-x:auto;line-height:normal;font-family:Menlo,'DejaVu Sans Mono',consolas,'Courier New',monospace\"><span style=\"color: #008000; text-decoration-color: #008000\">\"$_DFF_PP0_\"</span>: <span style=\"color: #008080; text-decoration-color: #008080; font-weight: bold\">64</span>,\n",
       "</pre>\n"
      ],
      "text/plain": [
       "\u001b[32m\"$_DFF_PP0_\"\u001b[0m: \u001b[1;36m64\u001b[0m,\n"
      ]
     },
     "metadata": {},
     "output_type": "display_data"
    },
    {
     "data": {
      "text/html": [
       "<pre style=\"white-space:pre;overflow-x:auto;line-height:normal;font-family:Menlo,'DejaVu Sans Mono',consolas,'Courier New',monospace\"><span style=\"color: #008000; text-decoration-color: #008000\">\"$_NAND_\"</span>: <span style=\"color: #008080; text-decoration-color: #008080; font-weight: bold\">31</span>,\n",
       "</pre>\n"
      ],
      "text/plain": [
       "\u001b[32m\"$_NAND_\"\u001b[0m: \u001b[1;36m31\u001b[0m,\n"
      ]
     },
     "metadata": {},
     "output_type": "display_data"
    },
    {
     "data": {
      "text/html": [
       "<pre style=\"white-space:pre;overflow-x:auto;line-height:normal;font-family:Menlo,'DejaVu Sans Mono',consolas,'Courier New',monospace\"><span style=\"color: #008000; text-decoration-color: #008000\">\"$_NOR_\"</span>: <span style=\"color: #008080; text-decoration-color: #008080; font-weight: bold\">31</span>,\n",
       "</pre>\n"
      ],
      "text/plain": [
       "\u001b[32m\"$_NOR_\"\u001b[0m: \u001b[1;36m31\u001b[0m,\n"
      ]
     },
     "metadata": {},
     "output_type": "display_data"
    },
    {
     "data": {
      "text/html": [
       "<pre style=\"white-space:pre;overflow-x:auto;line-height:normal;font-family:Menlo,'DejaVu Sans Mono',consolas,'Courier New',monospace\"><span style=\"color: #008000; text-decoration-color: #008000\">\"$_OR_\"</span>: <span style=\"color: #008080; text-decoration-color: #008080; font-weight: bold\">1</span>,\n",
       "</pre>\n"
      ],
      "text/plain": [
       "\u001b[32m\"$_OR_\"\u001b[0m: \u001b[1;36m1\u001b[0m,\n"
      ]
     },
     "metadata": {},
     "output_type": "display_data"
    },
    {
     "data": {
      "text/html": [
       "<pre style=\"white-space:pre;overflow-x:auto;line-height:normal;font-family:Menlo,'DejaVu Sans Mono',consolas,'Courier New',monospace\"><span style=\"color: #008000; text-decoration-color: #008000\">\"$_XNOR_\"</span>: <span style=\"color: #008080; text-decoration-color: #008080; font-weight: bold\">31</span>,\n",
       "</pre>\n"
      ],
      "text/plain": [
       "\u001b[32m\"$_XNOR_\"\u001b[0m: \u001b[1;36m31\u001b[0m,\n"
      ]
     },
     "metadata": {},
     "output_type": "display_data"
    },
    {
     "data": {
      "text/html": [
       "<pre style=\"white-space:pre;overflow-x:auto;line-height:normal;font-family:Menlo,'DejaVu Sans Mono',consolas,'Courier New',monospace\"><span style=\"color: #008000; text-decoration-color: #008000\">\"$_XOR_\"</span>: <span style=\"color: #008080; text-decoration-color: #008080; font-weight: bold\">63</span>\n",
       "</pre>\n"
      ],
      "text/plain": [
       "\u001b[32m\"$_XOR_\"\u001b[0m: \u001b[1;36m63\u001b[0m\n"
      ]
     },
     "metadata": {},
     "output_type": "display_data"
    },
    {
     "data": {
      "text/html": [
       "<pre style=\"white-space:pre;overflow-x:auto;line-height:normal;font-family:Menlo,'DejaVu Sans Mono',consolas,'Courier New',monospace\"><span style=\"font-weight: bold\">}</span>\n",
       "</pre>\n"
      ],
      "text/plain": [
       "\u001b[1m}\u001b[0m\n"
      ]
     },
     "metadata": {},
     "output_type": "display_data"
    },
    {
     "data": {
      "text/html": [
       "<pre style=\"white-space:pre;overflow-x:auto;line-height:normal;font-family:Menlo,'DejaVu Sans Mono',consolas,'Courier New',monospace\"><span style=\"font-weight: bold\">}</span>\n",
       "</pre>\n"
      ],
      "text/plain": [
       "\u001b[1m}\u001b[0m\n"
      ]
     },
     "metadata": {},
     "output_type": "display_data"
    },
    {
     "data": {
      "text/html": [
       "<pre style=\"white-space:pre;overflow-x:auto;line-height:normal;font-family:Menlo,'DejaVu Sans Mono',consolas,'Courier New',monospace\"><span style=\"font-weight: bold\">}</span>,\n",
       "</pre>\n"
      ],
      "text/plain": [
       "\u001b[1m}\u001b[0m,\n"
      ]
     },
     "metadata": {},
     "output_type": "display_data"
    },
    {
     "data": {
      "text/html": [
       "<pre style=\"white-space:pre;overflow-x:auto;line-height:normal;font-family:Menlo,'DejaVu Sans Mono',consolas,'Courier New',monospace\"><span style=\"color: #008000; text-decoration-color: #008000\">\"design\"</span>: <span style=\"font-weight: bold\">{</span>\n",
       "</pre>\n"
      ],
      "text/plain": [
       "\u001b[32m\"design\"\u001b[0m: \u001b[1m{\u001b[0m\n"
      ]
     },
     "metadata": {},
     "output_type": "display_data"
    },
    {
     "data": {
      "text/html": [
       "<pre style=\"white-space:pre;overflow-x:auto;line-height:normal;font-family:Menlo,'DejaVu Sans Mono',consolas,'Courier New',monospace\"><span style=\"color: #008000; text-decoration-color: #008000\">\"num_wires\"</span>:         <span style=\"color: #008080; text-decoration-color: #008080; font-weight: bold\">257</span>,\n",
       "</pre>\n"
      ],
      "text/plain": [
       "\u001b[32m\"num_wires\"\u001b[0m:         \u001b[1;36m257\u001b[0m,\n"
      ]
     },
     "metadata": {},
     "output_type": "display_data"
    },
    {
     "data": {
      "text/html": [
       "<pre style=\"white-space:pre;overflow-x:auto;line-height:normal;font-family:Menlo,'DejaVu Sans Mono',consolas,'Courier New',monospace\"><span style=\"color: #008000; text-decoration-color: #008000\">\"num_wire_bits\"</span>:     <span style=\"color: #008080; text-decoration-color: #008080; font-weight: bold\">288</span>,\n",
       "</pre>\n"
      ],
      "text/plain": [
       "\u001b[32m\"num_wire_bits\"\u001b[0m:     \u001b[1;36m288\u001b[0m,\n"
      ]
     },
     "metadata": {},
     "output_type": "display_data"
    },
    {
     "data": {
      "text/html": [
       "<pre style=\"white-space:pre;overflow-x:auto;line-height:normal;font-family:Menlo,'DejaVu Sans Mono',consolas,'Courier New',monospace\"><span style=\"color: #008000; text-decoration-color: #008000\">\"num_pub_wires\"</span>:     <span style=\"color: #008080; text-decoration-color: #008080; font-weight: bold\">99</span>,\n",
       "</pre>\n"
      ],
      "text/plain": [
       "\u001b[32m\"num_pub_wires\"\u001b[0m:     \u001b[1;36m99\u001b[0m,\n"
      ]
     },
     "metadata": {},
     "output_type": "display_data"
    },
    {
     "data": {
      "text/html": [
       "<pre style=\"white-space:pre;overflow-x:auto;line-height:normal;font-family:Menlo,'DejaVu Sans Mono',consolas,'Courier New',monospace\"><span style=\"color: #008000; text-decoration-color: #008000\">\"num_pub_wire_bits\"</span>: <span style=\"color: #008080; text-decoration-color: #008080; font-weight: bold\">130</span>,\n",
       "</pre>\n"
      ],
      "text/plain": [
       "\u001b[32m\"num_pub_wire_bits\"\u001b[0m: \u001b[1;36m130\u001b[0m,\n"
      ]
     },
     "metadata": {},
     "output_type": "display_data"
    },
    {
     "data": {
      "text/html": [
       "<pre style=\"white-space:pre;overflow-x:auto;line-height:normal;font-family:Menlo,'DejaVu Sans Mono',consolas,'Courier New',monospace\"><span style=\"color: #008000; text-decoration-color: #008000\">\"num_memories\"</span>:      <span style=\"color: #008080; text-decoration-color: #008080; font-weight: bold\">0</span>,\n",
       "</pre>\n"
      ],
      "text/plain": [
       "\u001b[32m\"num_memories\"\u001b[0m:      \u001b[1;36m0\u001b[0m,\n"
      ]
     },
     "metadata": {},
     "output_type": "display_data"
    },
    {
     "data": {
      "text/html": [
       "<pre style=\"white-space:pre;overflow-x:auto;line-height:normal;font-family:Menlo,'DejaVu Sans Mono',consolas,'Courier New',monospace\"><span style=\"color: #008000; text-decoration-color: #008000\">\"num_memory_bits\"</span>:   <span style=\"color: #008080; text-decoration-color: #008080; font-weight: bold\">0</span>,\n",
       "</pre>\n"
      ],
      "text/plain": [
       "\u001b[32m\"num_memory_bits\"\u001b[0m:   \u001b[1;36m0\u001b[0m,\n"
      ]
     },
     "metadata": {},
     "output_type": "display_data"
    },
    {
     "data": {
      "text/html": [
       "<pre style=\"white-space:pre;overflow-x:auto;line-height:normal;font-family:Menlo,'DejaVu Sans Mono',consolas,'Courier New',monospace\"><span style=\"color: #008000; text-decoration-color: #008000\">\"num_processes\"</span>:     <span style=\"color: #008080; text-decoration-color: #008080; font-weight: bold\">0</span>,\n",
       "</pre>\n"
      ],
      "text/plain": [
       "\u001b[32m\"num_processes\"\u001b[0m:     \u001b[1;36m0\u001b[0m,\n"
      ]
     },
     "metadata": {},
     "output_type": "display_data"
    },
    {
     "data": {
      "text/html": [
       "<pre style=\"white-space:pre;overflow-x:auto;line-height:normal;font-family:Menlo,'DejaVu Sans Mono',consolas,'Courier New',monospace\"><span style=\"color: #008000; text-decoration-color: #008000\">\"num_cells\"</span>:         <span style=\"color: #008080; text-decoration-color: #008080; font-weight: bold\">253</span>,\n",
       "</pre>\n"
      ],
      "text/plain": [
       "\u001b[32m\"num_cells\"\u001b[0m:         \u001b[1;36m253\u001b[0m,\n"
      ]
     },
     "metadata": {},
     "output_type": "display_data"
    },
    {
     "data": {
      "text/html": [
       "<pre style=\"white-space:pre;overflow-x:auto;line-height:normal;font-family:Menlo,'DejaVu Sans Mono',consolas,'Courier New',monospace\"><span style=\"color: #008000; text-decoration-color: #008000\">\"num_cells_by_type\"</span>: <span style=\"font-weight: bold\">{</span>\n",
       "</pre>\n"
      ],
      "text/plain": [
       "\u001b[32m\"num_cells_by_type\"\u001b[0m: \u001b[1m{\u001b[0m\n"
      ]
     },
     "metadata": {},
     "output_type": "display_data"
    },
    {
     "data": {
      "text/html": [
       "<pre style=\"white-space:pre;overflow-x:auto;line-height:normal;font-family:Menlo,'DejaVu Sans Mono',consolas,'Courier New',monospace\"><span style=\"color: #008000; text-decoration-color: #008000\">\"$_AND_\"</span>: <span style=\"color: #008080; text-decoration-color: #008080; font-weight: bold\">32</span>,\n",
       "</pre>\n"
      ],
      "text/plain": [
       "\u001b[32m\"$_AND_\"\u001b[0m: \u001b[1;36m32\u001b[0m,\n"
      ]
     },
     "metadata": {},
     "output_type": "display_data"
    },
    {
     "data": {
      "text/html": [
       "<pre style=\"white-space:pre;overflow-x:auto;line-height:normal;font-family:Menlo,'DejaVu Sans Mono',consolas,'Courier New',monospace\"><span style=\"color: #008000; text-decoration-color: #008000\">\"$_DFF_PP0_\"</span>: <span style=\"color: #008080; text-decoration-color: #008080; font-weight: bold\">64</span>,\n",
       "</pre>\n"
      ],
      "text/plain": [
       "\u001b[32m\"$_DFF_PP0_\"\u001b[0m: \u001b[1;36m64\u001b[0m,\n"
      ]
     },
     "metadata": {},
     "output_type": "display_data"
    },
    {
     "data": {
      "text/html": [
       "<pre style=\"white-space:pre;overflow-x:auto;line-height:normal;font-family:Menlo,'DejaVu Sans Mono',consolas,'Courier New',monospace\"><span style=\"color: #008000; text-decoration-color: #008000\">\"$_NAND_\"</span>: <span style=\"color: #008080; text-decoration-color: #008080; font-weight: bold\">31</span>,\n",
       "</pre>\n"
      ],
      "text/plain": [
       "\u001b[32m\"$_NAND_\"\u001b[0m: \u001b[1;36m31\u001b[0m,\n"
      ]
     },
     "metadata": {},
     "output_type": "display_data"
    },
    {
     "data": {
      "text/html": [
       "<pre style=\"white-space:pre;overflow-x:auto;line-height:normal;font-family:Menlo,'DejaVu Sans Mono',consolas,'Courier New',monospace\"><span style=\"color: #008000; text-decoration-color: #008000\">\"$_NOR_\"</span>: <span style=\"color: #008080; text-decoration-color: #008080; font-weight: bold\">31</span>,\n",
       "</pre>\n"
      ],
      "text/plain": [
       "\u001b[32m\"$_NOR_\"\u001b[0m: \u001b[1;36m31\u001b[0m,\n"
      ]
     },
     "metadata": {},
     "output_type": "display_data"
    },
    {
     "data": {
      "text/html": [
       "<pre style=\"white-space:pre;overflow-x:auto;line-height:normal;font-family:Menlo,'DejaVu Sans Mono',consolas,'Courier New',monospace\"><span style=\"color: #008000; text-decoration-color: #008000\">\"$_OR_\"</span>: <span style=\"color: #008080; text-decoration-color: #008080; font-weight: bold\">1</span>,\n",
       "</pre>\n"
      ],
      "text/plain": [
       "\u001b[32m\"$_OR_\"\u001b[0m: \u001b[1;36m1\u001b[0m,\n"
      ]
     },
     "metadata": {},
     "output_type": "display_data"
    },
    {
     "data": {
      "text/html": [
       "<pre style=\"white-space:pre;overflow-x:auto;line-height:normal;font-family:Menlo,'DejaVu Sans Mono',consolas,'Courier New',monospace\"><span style=\"color: #008000; text-decoration-color: #008000\">\"$_XNOR_\"</span>: <span style=\"color: #008080; text-decoration-color: #008080; font-weight: bold\">31</span>,\n",
       "</pre>\n"
      ],
      "text/plain": [
       "\u001b[32m\"$_XNOR_\"\u001b[0m: \u001b[1;36m31\u001b[0m,\n"
      ]
     },
     "metadata": {},
     "output_type": "display_data"
    },
    {
     "data": {
      "text/html": [
       "<pre style=\"white-space:pre;overflow-x:auto;line-height:normal;font-family:Menlo,'DejaVu Sans Mono',consolas,'Courier New',monospace\"><span style=\"color: #008000; text-decoration-color: #008000\">\"$_XOR_\"</span>: <span style=\"color: #008080; text-decoration-color: #008080; font-weight: bold\">63</span>\n",
       "</pre>\n"
      ],
      "text/plain": [
       "\u001b[32m\"$_XOR_\"\u001b[0m: \u001b[1;36m63\u001b[0m\n"
      ]
     },
     "metadata": {},
     "output_type": "display_data"
    },
    {
     "data": {
      "text/html": [
       "<pre style=\"white-space:pre;overflow-x:auto;line-height:normal;font-family:Menlo,'DejaVu Sans Mono',consolas,'Courier New',monospace\"><span style=\"font-weight: bold\">}</span>\n",
       "</pre>\n"
      ],
      "text/plain": [
       "\u001b[1m}\u001b[0m\n"
      ]
     },
     "metadata": {},
     "output_type": "display_data"
    },
    {
     "data": {
      "text/html": [
       "<pre style=\"white-space:pre;overflow-x:auto;line-height:normal;font-family:Menlo,'DejaVu Sans Mono',consolas,'Courier New',monospace\"><span style=\"font-weight: bold\">}</span>\n",
       "</pre>\n"
      ],
      "text/plain": [
       "\u001b[1m}\u001b[0m\n"
      ]
     },
     "metadata": {},
     "output_type": "display_data"
    },
    {
     "data": {
      "text/html": [
       "<pre style=\"white-space:pre;overflow-x:auto;line-height:normal;font-family:Menlo,'DejaVu Sans Mono',consolas,'Courier New',monospace\"><span style=\"font-weight: bold\">}</span>\n",
       "</pre>\n"
      ],
      "text/plain": [
       "\u001b[1m}\u001b[0m\n"
      ]
     },
     "metadata": {},
     "output_type": "display_data"
    },
    {
     "data": {
      "text/html": [
       "<pre style=\"white-space:pre;overflow-x:auto;line-height:normal;font-family:Menlo,'DejaVu Sans Mono',consolas,'Courier New',monospace\">\n",
       "</pre>\n"
      ],
      "text/plain": [
       "\n"
      ]
     },
     "metadata": {},
     "output_type": "display_data"
    },
    {
     "data": {
      "text/html": [
       "<pre style=\"white-space:pre;overflow-x:auto;line-height:normal;font-family:Menlo,'DejaVu Sans Mono',consolas,'Courier New',monospace\"><span style=\"color: #008080; text-decoration-color: #008080; font-weight: bold\">9</span>. Executing TECHMAP pass <span style=\"font-weight: bold\">(</span>map to technology primitives<span style=\"font-weight: bold\">)</span>.\n",
       "</pre>\n"
      ],
      "text/plain": [
       "\u001b[1;36m9\u001b[0m. Executing TECHMAP pass \u001b[1m(\u001b[0mmap to technology primitives\u001b[1m)\u001b[0m.\n"
      ]
     },
     "metadata": {},
     "output_type": "display_data"
    },
    {
     "data": {
      "text/html": [
       "<pre style=\"white-space:pre;overflow-x:auto;line-height:normal;font-family:Menlo,'DejaVu Sans Mono',consolas,'Courier New',monospace\">\n",
       "</pre>\n"
      ],
      "text/plain": [
       "\n"
      ]
     },
     "metadata": {},
     "output_type": "display_data"
    },
    {
     "data": {
      "text/html": [
       "<pre style=\"white-space:pre;overflow-x:auto;line-height:normal;font-family:Menlo,'DejaVu Sans Mono',consolas,'Courier New',monospace\"><span style=\"color: #008080; text-decoration-color: #008080; font-weight: bold\">9.1</span>. Executing Verilog-<span style=\"color: #008080; text-decoration-color: #008080; font-weight: bold\">2005</span> frontend: <span style=\"color: #800080; text-decoration-color: #800080\">/home/donn/.volare/sky130A/libs.tech/openlane/sky130_fd_sc_hd/</span><span style=\"color: #ff00ff; text-decoration-color: #ff00ff\">latch_map.v</span>\n",
       "</pre>\n"
      ],
      "text/plain": [
       "\u001b[1;36m9.1\u001b[0m. Executing Verilog-\u001b[1;36m2005\u001b[0m frontend: \u001b[35m/home/donn/.volare/sky130A/libs.tech/openlane/sky130_fd_sc_hd/\u001b[0m\u001b[95mlatch_map.v\u001b[0m\n"
      ]
     },
     "metadata": {},
     "output_type": "display_data"
    },
    {
     "data": {
      "text/html": [
       "<pre style=\"white-space:pre;overflow-x:auto;line-height:normal;font-family:Menlo,'DejaVu Sans Mono',consolas,'Courier New',monospace\">Parsing Verilog input from `<span style=\"color: #800080; text-decoration-color: #800080\">/home/donn/.volare/sky130A/libs.tech/openlane/sky130_fd_sc_hd/</span><span style=\"color: #ff00ff; text-decoration-color: #ff00ff\">latch_map.v</span>' to AST \n",
       "representation.\n",
       "</pre>\n"
      ],
      "text/plain": [
       "Parsing Verilog input from `\u001b[35m/home/donn/.volare/sky130A/libs.tech/openlane/sky130_fd_sc_hd/\u001b[0m\u001b[95mlatch_map.v\u001b[0m' to AST \n",
       "representation.\n"
      ]
     },
     "metadata": {},
     "output_type": "display_data"
    },
    {
     "data": {
      "text/html": [
       "<pre style=\"white-space:pre;overflow-x:auto;line-height:normal;font-family:Menlo,'DejaVu Sans Mono',consolas,'Courier New',monospace\">Generating RTLIL representation for module `\\$_DLATCH_P_'.\n",
       "</pre>\n"
      ],
      "text/plain": [
       "Generating RTLIL representation for module `\\$_DLATCH_P_'.\n"
      ]
     },
     "metadata": {},
     "output_type": "display_data"
    },
    {
     "data": {
      "text/html": [
       "<pre style=\"white-space:pre;overflow-x:auto;line-height:normal;font-family:Menlo,'DejaVu Sans Mono',consolas,'Courier New',monospace\">Generating RTLIL representation for module `\\$_DLATCH_N_'.\n",
       "</pre>\n"
      ],
      "text/plain": [
       "Generating RTLIL representation for module `\\$_DLATCH_N_'.\n"
      ]
     },
     "metadata": {},
     "output_type": "display_data"
    },
    {
     "data": {
      "text/html": [
       "<pre style=\"white-space:pre;overflow-x:auto;line-height:normal;font-family:Menlo,'DejaVu Sans Mono',consolas,'Courier New',monospace\">Successfully finished Verilog frontend.\n",
       "</pre>\n"
      ],
      "text/plain": [
       "Successfully finished Verilog frontend.\n"
      ]
     },
     "metadata": {},
     "output_type": "display_data"
    },
    {
     "data": {
      "text/html": [
       "<pre style=\"white-space:pre;overflow-x:auto;line-height:normal;font-family:Menlo,'DejaVu Sans Mono',consolas,'Courier New',monospace\">\n",
       "</pre>\n"
      ],
      "text/plain": [
       "\n"
      ]
     },
     "metadata": {},
     "output_type": "display_data"
    },
    {
     "data": {
      "text/html": [
       "<pre style=\"white-space:pre;overflow-x:auto;line-height:normal;font-family:Menlo,'DejaVu Sans Mono',consolas,'Courier New',monospace\"><span style=\"color: #008080; text-decoration-color: #008080; font-weight: bold\">9.2</span>. Continuing TECHMAP pass.\n",
       "</pre>\n"
      ],
      "text/plain": [
       "\u001b[1;36m9.2\u001b[0m. Continuing TECHMAP pass.\n"
      ]
     },
     "metadata": {},
     "output_type": "display_data"
    },
    {
     "data": {
      "text/html": [
       "<pre style=\"white-space:pre;overflow-x:auto;line-height:normal;font-family:Menlo,'DejaVu Sans Mono',consolas,'Courier New',monospace\">No more expansions possible.\n",
       "</pre>\n"
      ],
      "text/plain": [
       "No more expansions possible.\n"
      ]
     },
     "metadata": {},
     "output_type": "display_data"
    },
    {
     "data": {
      "text/html": [
       "<pre style=\"white-space:pre;overflow-x:auto;line-height:normal;font-family:Menlo,'DejaVu Sans Mono',consolas,'Courier New',monospace\"><span style=\"font-weight: bold\">&lt;</span><span style=\"color: #ff00ff; text-decoration-color: #ff00ff; font-weight: bold\">suppressed</span><span style=\"color: #000000; text-decoration-color: #000000\"> ~</span><span style=\"color: #008080; text-decoration-color: #008080; font-weight: bold\">4</span><span style=\"color: #000000; text-decoration-color: #000000\"> debug messages</span><span style=\"font-weight: bold\">&gt;</span>\n",
       "</pre>\n"
      ],
      "text/plain": [
       "\u001b[1m<\u001b[0m\u001b[1;95msuppressed\u001b[0m\u001b[39m ~\u001b[0m\u001b[1;36m4\u001b[0m\u001b[39m debug messages\u001b[0m\u001b[1m>\u001b[0m\n"
      ]
     },
     "metadata": {},
     "output_type": "display_data"
    },
    {
     "data": {
      "text/html": [
       "<pre style=\"white-space:pre;overflow-x:auto;line-height:normal;font-family:Menlo,'DejaVu Sans Mono',consolas,'Courier New',monospace\">\n",
       "</pre>\n"
      ],
      "text/plain": [
       "\n"
      ]
     },
     "metadata": {},
     "output_type": "display_data"
    },
    {
     "data": {
      "text/html": [
       "<pre style=\"white-space:pre;overflow-x:auto;line-height:normal;font-family:Menlo,'DejaVu Sans Mono',consolas,'Courier New',monospace\"><span style=\"color: #008080; text-decoration-color: #008080; font-weight: bold\">10</span>. Executing SIMPLEMAP pass <span style=\"font-weight: bold\">(</span>map simple cells to gate primitives<span style=\"font-weight: bold\">)</span>.\n",
       "</pre>\n"
      ],
      "text/plain": [
       "\u001b[1;36m10\u001b[0m. Executing SIMPLEMAP pass \u001b[1m(\u001b[0mmap simple cells to gate primitives\u001b[1m)\u001b[0m.\n"
      ]
     },
     "metadata": {},
     "output_type": "display_data"
    },
    {
     "data": {
      "text/html": [
       "<pre style=\"white-space:pre;overflow-x:auto;line-height:normal;font-family:Menlo,'DejaVu Sans Mono',consolas,'Courier New',monospace\">\n",
       "</pre>\n"
      ],
      "text/plain": [
       "\n"
      ]
     },
     "metadata": {},
     "output_type": "display_data"
    },
    {
     "data": {
      "text/html": [
       "<pre style=\"white-space:pre;overflow-x:auto;line-height:normal;font-family:Menlo,'DejaVu Sans Mono',consolas,'Courier New',monospace\"><span style=\"color: #008080; text-decoration-color: #008080; font-weight: bold\">11</span>. Executing DFFLIBMAP pass <span style=\"font-weight: bold\">(</span>mapping DFF cells to sequential cells from liberty file<span style=\"font-weight: bold\">)</span>.\n",
       "</pre>\n"
      ],
      "text/plain": [
       "\u001b[1;36m11\u001b[0m. Executing DFFLIBMAP pass \u001b[1m(\u001b[0mmapping DFF cells to sequential cells from liberty file\u001b[1m)\u001b[0m.\n"
      ]
     },
     "metadata": {},
     "output_type": "display_data"
    },
    {
     "data": {
      "text/html": [
       "<pre style=\"white-space:pre;overflow-x:auto;line-height:normal;font-family:Menlo,'DejaVu Sans Mono',consolas,'Courier New',monospace\">cell sky130_fd_sc_hd__dfxtp_2 <span style=\"font-weight: bold\">(</span>noninv, <span style=\"color: #808000; text-decoration-color: #808000\">pins</span>=<span style=\"color: #008080; text-decoration-color: #008080; font-weight: bold\">3</span>, <span style=\"color: #808000; text-decoration-color: #808000\">area</span>=<span style=\"color: #008080; text-decoration-color: #008080; font-weight: bold\">21.27</span><span style=\"font-weight: bold\">)</span> is a direct match for cell type $_DFF_P_.\n",
       "</pre>\n"
      ],
      "text/plain": [
       "cell sky130_fd_sc_hd__dfxtp_2 \u001b[1m(\u001b[0mnoninv, \u001b[33mpins\u001b[0m=\u001b[1;36m3\u001b[0m, \u001b[33marea\u001b[0m=\u001b[1;36m21\u001b[0m\u001b[1;36m.27\u001b[0m\u001b[1m)\u001b[0m is a direct match for cell type $_DFF_P_.\n"
      ]
     },
     "metadata": {},
     "output_type": "display_data"
    },
    {
     "data": {
      "text/html": [
       "<pre style=\"white-space:pre;overflow-x:auto;line-height:normal;font-family:Menlo,'DejaVu Sans Mono',consolas,'Courier New',monospace\">cell sky130_fd_sc_hd__dfrtp_2 <span style=\"font-weight: bold\">(</span>noninv, <span style=\"color: #808000; text-decoration-color: #808000\">pins</span>=<span style=\"color: #008080; text-decoration-color: #008080; font-weight: bold\">4</span>, <span style=\"color: #808000; text-decoration-color: #808000\">area</span>=<span style=\"color: #008080; text-decoration-color: #008080; font-weight: bold\">26.28</span><span style=\"font-weight: bold\">)</span> is a direct match for cell type $_DFF_PN0_.\n",
       "</pre>\n"
      ],
      "text/plain": [
       "cell sky130_fd_sc_hd__dfrtp_2 \u001b[1m(\u001b[0mnoninv, \u001b[33mpins\u001b[0m=\u001b[1;36m4\u001b[0m, \u001b[33marea\u001b[0m=\u001b[1;36m26\u001b[0m\u001b[1;36m.28\u001b[0m\u001b[1m)\u001b[0m is a direct match for cell type $_DFF_PN0_.\n"
      ]
     },
     "metadata": {},
     "output_type": "display_data"
    },
    {
     "data": {
      "text/html": [
       "<pre style=\"white-space:pre;overflow-x:auto;line-height:normal;font-family:Menlo,'DejaVu Sans Mono',consolas,'Courier New',monospace\">cell sky130_fd_sc_hd__dfstp_2 <span style=\"font-weight: bold\">(</span>noninv, <span style=\"color: #808000; text-decoration-color: #808000\">pins</span>=<span style=\"color: #008080; text-decoration-color: #008080; font-weight: bold\">4</span>, <span style=\"color: #808000; text-decoration-color: #808000\">area</span>=<span style=\"color: #008080; text-decoration-color: #008080; font-weight: bold\">26.28</span><span style=\"font-weight: bold\">)</span> is a direct match for cell type $_DFF_PN1_.\n",
       "</pre>\n"
      ],
      "text/plain": [
       "cell sky130_fd_sc_hd__dfstp_2 \u001b[1m(\u001b[0mnoninv, \u001b[33mpins\u001b[0m=\u001b[1;36m4\u001b[0m, \u001b[33marea\u001b[0m=\u001b[1;36m26\u001b[0m\u001b[1;36m.28\u001b[0m\u001b[1m)\u001b[0m is a direct match for cell type $_DFF_PN1_.\n"
      ]
     },
     "metadata": {},
     "output_type": "display_data"
    },
    {
     "data": {
      "text/html": [
       "<pre style=\"white-space:pre;overflow-x:auto;line-height:normal;font-family:Menlo,'DejaVu Sans Mono',consolas,'Courier New',monospace\">cell sky130_fd_sc_hd__dfbbn_2 <span style=\"font-weight: bold\">(</span>noninv, <span style=\"color: #808000; text-decoration-color: #808000\">pins</span>=<span style=\"color: #008080; text-decoration-color: #008080; font-weight: bold\">6</span>, <span style=\"color: #808000; text-decoration-color: #808000\">area</span>=<span style=\"color: #008080; text-decoration-color: #008080; font-weight: bold\">35.03</span><span style=\"font-weight: bold\">)</span> is a direct match for cell type $_DFFSR_NNN_.\n",
       "</pre>\n"
      ],
      "text/plain": [
       "cell sky130_fd_sc_hd__dfbbn_2 \u001b[1m(\u001b[0mnoninv, \u001b[33mpins\u001b[0m=\u001b[1;36m6\u001b[0m, \u001b[33marea\u001b[0m=\u001b[1;36m35\u001b[0m\u001b[1;36m.03\u001b[0m\u001b[1m)\u001b[0m is a direct match for cell type $_DFFSR_NNN_.\n"
      ]
     },
     "metadata": {},
     "output_type": "display_data"
    },
    {
     "data": {
      "text/html": [
       "<pre style=\"white-space:pre;overflow-x:auto;line-height:normal;font-family:Menlo,'DejaVu Sans Mono',consolas,'Courier New',monospace\">final dff cell mappings:\n",
       "</pre>\n"
      ],
      "text/plain": [
       "final dff cell mappings:\n"
      ]
     },
     "metadata": {},
     "output_type": "display_data"
    },
    {
     "data": {
      "text/html": [
       "<pre style=\"white-space:pre;overflow-x:auto;line-height:normal;font-family:Menlo,'DejaVu Sans Mono',consolas,'Courier New',monospace\">unmapped dff cell: $_DFF_N_\n",
       "</pre>\n"
      ],
      "text/plain": [
       "unmapped dff cell: $_DFF_N_\n"
      ]
     },
     "metadata": {},
     "output_type": "display_data"
    },
    {
     "data": {
      "text/html": [
       "<pre style=\"white-space:pre;overflow-x:auto;line-height:normal;font-family:Menlo,'DejaVu Sans Mono',consolas,'Courier New',monospace\">\\sky130_fd_sc_hd__dfxtp_2 _DFF_P_ <span style=\"font-weight: bold\">(</span><span style=\"color: #800080; text-decoration-color: #800080; font-weight: bold\">.CLK</span><span style=\"font-weight: bold\">(</span> C<span style=\"font-weight: bold\">)</span>, <span style=\"color: #800080; text-decoration-color: #800080; font-weight: bold\">.D</span><span style=\"font-weight: bold\">(</span> D<span style=\"font-weight: bold\">)</span>, <span style=\"color: #800080; text-decoration-color: #800080; font-weight: bold\">.Q</span><span style=\"font-weight: bold\">(</span> Q<span style=\"font-weight: bold\">))</span>;\n",
       "</pre>\n"
      ],
      "text/plain": [
       "\\sky130_fd_sc_hd__dfxtp_2 _DFF_P_ \u001b[1m(\u001b[0m\u001b[1;35m.CLK\u001b[0m\u001b[1m(\u001b[0m C\u001b[1m)\u001b[0m, \u001b[1;35m.D\u001b[0m\u001b[1m(\u001b[0m D\u001b[1m)\u001b[0m, \u001b[1;35m.Q\u001b[0m\u001b[1m(\u001b[0m Q\u001b[1m)\u001b[0m\u001b[1m)\u001b[0m;\n"
      ]
     },
     "metadata": {},
     "output_type": "display_data"
    },
    {
     "data": {
      "text/html": [
       "<pre style=\"white-space:pre;overflow-x:auto;line-height:normal;font-family:Menlo,'DejaVu Sans Mono',consolas,'Courier New',monospace\">unmapped dff cell: $_DFF_NN0_\n",
       "</pre>\n"
      ],
      "text/plain": [
       "unmapped dff cell: $_DFF_NN0_\n"
      ]
     },
     "metadata": {},
     "output_type": "display_data"
    },
    {
     "data": {
      "text/html": [
       "<pre style=\"white-space:pre;overflow-x:auto;line-height:normal;font-family:Menlo,'DejaVu Sans Mono',consolas,'Courier New',monospace\">unmapped dff cell: $_DFF_NN1_\n",
       "</pre>\n"
      ],
      "text/plain": [
       "unmapped dff cell: $_DFF_NN1_\n"
      ]
     },
     "metadata": {},
     "output_type": "display_data"
    },
    {
     "data": {
      "text/html": [
       "<pre style=\"white-space:pre;overflow-x:auto;line-height:normal;font-family:Menlo,'DejaVu Sans Mono',consolas,'Courier New',monospace\">unmapped dff cell: $_DFF_NP0_\n",
       "</pre>\n"
      ],
      "text/plain": [
       "unmapped dff cell: $_DFF_NP0_\n"
      ]
     },
     "metadata": {},
     "output_type": "display_data"
    },
    {
     "data": {
      "text/html": [
       "<pre style=\"white-space:pre;overflow-x:auto;line-height:normal;font-family:Menlo,'DejaVu Sans Mono',consolas,'Courier New',monospace\">unmapped dff cell: $_DFF_NP1_\n",
       "</pre>\n"
      ],
      "text/plain": [
       "unmapped dff cell: $_DFF_NP1_\n"
      ]
     },
     "metadata": {},
     "output_type": "display_data"
    },
    {
     "data": {
      "text/html": [
       "<pre style=\"white-space:pre;overflow-x:auto;line-height:normal;font-family:Menlo,'DejaVu Sans Mono',consolas,'Courier New',monospace\">\\sky130_fd_sc_hd__dfrtp_2 _DFF_PN0_ <span style=\"font-weight: bold\">(</span><span style=\"color: #800080; text-decoration-color: #800080; font-weight: bold\">.CLK</span><span style=\"font-weight: bold\">(</span> C<span style=\"font-weight: bold\">)</span>, <span style=\"color: #800080; text-decoration-color: #800080; font-weight: bold\">.D</span><span style=\"font-weight: bold\">(</span> D<span style=\"font-weight: bold\">)</span>, <span style=\"color: #800080; text-decoration-color: #800080; font-weight: bold\">.Q</span><span style=\"font-weight: bold\">(</span> Q<span style=\"font-weight: bold\">)</span>, <span style=\"color: #800080; text-decoration-color: #800080; font-weight: bold\">.RESET_B</span><span style=\"font-weight: bold\">(</span> R<span style=\"font-weight: bold\">))</span>;\n",
       "</pre>\n"
      ],
      "text/plain": [
       "\\sky130_fd_sc_hd__dfrtp_2 _DFF_PN0_ \u001b[1m(\u001b[0m\u001b[1;35m.CLK\u001b[0m\u001b[1m(\u001b[0m C\u001b[1m)\u001b[0m, \u001b[1;35m.D\u001b[0m\u001b[1m(\u001b[0m D\u001b[1m)\u001b[0m, \u001b[1;35m.Q\u001b[0m\u001b[1m(\u001b[0m Q\u001b[1m)\u001b[0m, \u001b[1;35m.RESET_B\u001b[0m\u001b[1m(\u001b[0m R\u001b[1m)\u001b[0m\u001b[1m)\u001b[0m;\n"
      ]
     },
     "metadata": {},
     "output_type": "display_data"
    },
    {
     "data": {
      "text/html": [
       "<pre style=\"white-space:pre;overflow-x:auto;line-height:normal;font-family:Menlo,'DejaVu Sans Mono',consolas,'Courier New',monospace\">\\sky130_fd_sc_hd__dfstp_2 _DFF_PN1_ <span style=\"font-weight: bold\">(</span><span style=\"color: #800080; text-decoration-color: #800080; font-weight: bold\">.CLK</span><span style=\"font-weight: bold\">(</span> C<span style=\"font-weight: bold\">)</span>, <span style=\"color: #800080; text-decoration-color: #800080; font-weight: bold\">.D</span><span style=\"font-weight: bold\">(</span> D<span style=\"font-weight: bold\">)</span>, <span style=\"color: #800080; text-decoration-color: #800080; font-weight: bold\">.Q</span><span style=\"font-weight: bold\">(</span> Q<span style=\"font-weight: bold\">)</span>, <span style=\"color: #800080; text-decoration-color: #800080; font-weight: bold\">.SET_B</span><span style=\"font-weight: bold\">(</span> R<span style=\"font-weight: bold\">))</span>;\n",
       "</pre>\n"
      ],
      "text/plain": [
       "\\sky130_fd_sc_hd__dfstp_2 _DFF_PN1_ \u001b[1m(\u001b[0m\u001b[1;35m.CLK\u001b[0m\u001b[1m(\u001b[0m C\u001b[1m)\u001b[0m, \u001b[1;35m.D\u001b[0m\u001b[1m(\u001b[0m D\u001b[1m)\u001b[0m, \u001b[1;35m.Q\u001b[0m\u001b[1m(\u001b[0m Q\u001b[1m)\u001b[0m, \u001b[1;35m.SET_B\u001b[0m\u001b[1m(\u001b[0m R\u001b[1m)\u001b[0m\u001b[1m)\u001b[0m;\n"
      ]
     },
     "metadata": {},
     "output_type": "display_data"
    },
    {
     "data": {
      "text/html": [
       "<pre style=\"white-space:pre;overflow-x:auto;line-height:normal;font-family:Menlo,'DejaVu Sans Mono',consolas,'Courier New',monospace\">unmapped dff cell: $_DFF_PP0_\n",
       "</pre>\n"
      ],
      "text/plain": [
       "unmapped dff cell: $_DFF_PP0_\n"
      ]
     },
     "metadata": {},
     "output_type": "display_data"
    },
    {
     "data": {
      "text/html": [
       "<pre style=\"white-space:pre;overflow-x:auto;line-height:normal;font-family:Menlo,'DejaVu Sans Mono',consolas,'Courier New',monospace\">unmapped dff cell: $_DFF_PP1_\n",
       "</pre>\n"
      ],
      "text/plain": [
       "unmapped dff cell: $_DFF_PP1_\n"
      ]
     },
     "metadata": {},
     "output_type": "display_data"
    },
    {
     "data": {
      "text/html": [
       "<pre style=\"white-space:pre;overflow-x:auto;line-height:normal;font-family:Menlo,'DejaVu Sans Mono',consolas,'Courier New',monospace\">\\sky130_fd_sc_hd__dfbbn_2 _DFFSR_NNN_ <span style=\"font-weight: bold\">(</span><span style=\"color: #800080; text-decoration-color: #800080; font-weight: bold\">.CLK_N</span><span style=\"font-weight: bold\">(</span> C<span style=\"font-weight: bold\">)</span>, <span style=\"color: #800080; text-decoration-color: #800080; font-weight: bold\">.D</span><span style=\"font-weight: bold\">(</span> D<span style=\"font-weight: bold\">)</span>, <span style=\"color: #800080; text-decoration-color: #800080; font-weight: bold\">.Q</span><span style=\"font-weight: bold\">(</span> Q<span style=\"font-weight: bold\">)</span>, <span style=\"color: #800080; text-decoration-color: #800080; font-weight: bold\">.Q_N</span><span style=\"font-weight: bold\">(</span>~Q<span style=\"font-weight: bold\">)</span>, <span style=\"color: #800080; text-decoration-color: #800080; font-weight: bold\">.RESET_B</span><span style=\"font-weight: bold\">(</span> R<span style=\"font-weight: bold\">)</span>, <span style=\"color: #800080; text-decoration-color: #800080; font-weight: bold\">.SET_B</span><span style=\"font-weight: bold\">(</span> S<span style=\"font-weight: bold\">))</span>;\n",
       "</pre>\n"
      ],
      "text/plain": [
       "\\sky130_fd_sc_hd__dfbbn_2 _DFFSR_NNN_ \u001b[1m(\u001b[0m\u001b[1;35m.CLK_N\u001b[0m\u001b[1m(\u001b[0m C\u001b[1m)\u001b[0m, \u001b[1;35m.D\u001b[0m\u001b[1m(\u001b[0m D\u001b[1m)\u001b[0m, \u001b[1;35m.Q\u001b[0m\u001b[1m(\u001b[0m Q\u001b[1m)\u001b[0m, \u001b[1;35m.Q_N\u001b[0m\u001b[1m(\u001b[0m~Q\u001b[1m)\u001b[0m, \u001b[1;35m.RESET_B\u001b[0m\u001b[1m(\u001b[0m R\u001b[1m)\u001b[0m, \u001b[1;35m.SET_B\u001b[0m\u001b[1m(\u001b[0m S\u001b[1m)\u001b[0m\u001b[1m)\u001b[0m;\n"
      ]
     },
     "metadata": {},
     "output_type": "display_data"
    },
    {
     "data": {
      "text/html": [
       "<pre style=\"white-space:pre;overflow-x:auto;line-height:normal;font-family:Menlo,'DejaVu Sans Mono',consolas,'Courier New',monospace\">unmapped dff cell: $_DFFSR_NNP_\n",
       "</pre>\n"
      ],
      "text/plain": [
       "unmapped dff cell: $_DFFSR_NNP_\n"
      ]
     },
     "metadata": {},
     "output_type": "display_data"
    },
    {
     "data": {
      "text/html": [
       "<pre style=\"white-space:pre;overflow-x:auto;line-height:normal;font-family:Menlo,'DejaVu Sans Mono',consolas,'Courier New',monospace\">unmapped dff cell: $_DFFSR_NPN_\n",
       "</pre>\n"
      ],
      "text/plain": [
       "unmapped dff cell: $_DFFSR_NPN_\n"
      ]
     },
     "metadata": {},
     "output_type": "display_data"
    },
    {
     "data": {
      "text/html": [
       "<pre style=\"white-space:pre;overflow-x:auto;line-height:normal;font-family:Menlo,'DejaVu Sans Mono',consolas,'Courier New',monospace\">unmapped dff cell: $_DFFSR_NPP_\n",
       "</pre>\n"
      ],
      "text/plain": [
       "unmapped dff cell: $_DFFSR_NPP_\n"
      ]
     },
     "metadata": {},
     "output_type": "display_data"
    },
    {
     "data": {
      "text/html": [
       "<pre style=\"white-space:pre;overflow-x:auto;line-height:normal;font-family:Menlo,'DejaVu Sans Mono',consolas,'Courier New',monospace\">unmapped dff cell: $_DFFSR_PNN_\n",
       "</pre>\n"
      ],
      "text/plain": [
       "unmapped dff cell: $_DFFSR_PNN_\n"
      ]
     },
     "metadata": {},
     "output_type": "display_data"
    },
    {
     "data": {
      "text/html": [
       "<pre style=\"white-space:pre;overflow-x:auto;line-height:normal;font-family:Menlo,'DejaVu Sans Mono',consolas,'Courier New',monospace\">unmapped dff cell: $_DFFSR_PNP_\n",
       "</pre>\n"
      ],
      "text/plain": [
       "unmapped dff cell: $_DFFSR_PNP_\n"
      ]
     },
     "metadata": {},
     "output_type": "display_data"
    },
    {
     "data": {
      "text/html": [
       "<pre style=\"white-space:pre;overflow-x:auto;line-height:normal;font-family:Menlo,'DejaVu Sans Mono',consolas,'Courier New',monospace\">unmapped dff cell: $_DFFSR_PPN_\n",
       "</pre>\n"
      ],
      "text/plain": [
       "unmapped dff cell: $_DFFSR_PPN_\n"
      ]
     },
     "metadata": {},
     "output_type": "display_data"
    },
    {
     "data": {
      "text/html": [
       "<pre style=\"white-space:pre;overflow-x:auto;line-height:normal;font-family:Menlo,'DejaVu Sans Mono',consolas,'Courier New',monospace\">unmapped dff cell: $_DFFSR_PPP_\n",
       "</pre>\n"
      ],
      "text/plain": [
       "unmapped dff cell: $_DFFSR_PPP_\n"
      ]
     },
     "metadata": {},
     "output_type": "display_data"
    },
    {
     "data": {
      "text/html": [
       "<pre style=\"white-space:pre;overflow-x:auto;line-height:normal;font-family:Menlo,'DejaVu Sans Mono',consolas,'Courier New',monospace\">\n",
       "</pre>\n"
      ],
      "text/plain": [
       "\n"
      ]
     },
     "metadata": {},
     "output_type": "display_data"
    },
    {
     "data": {
      "text/html": [
       "<pre style=\"white-space:pre;overflow-x:auto;line-height:normal;font-family:Menlo,'DejaVu Sans Mono',consolas,'Courier New',monospace\"><span style=\"color: #008080; text-decoration-color: #008080; font-weight: bold\">11.1</span>. Executing DFFLEGALIZE pass <span style=\"font-weight: bold\">(</span>convert FFs to types supported by the target<span style=\"font-weight: bold\">)</span>.\n",
       "</pre>\n"
      ],
      "text/plain": [
       "\u001b[1;36m11.1\u001b[0m. Executing DFFLEGALIZE pass \u001b[1m(\u001b[0mconvert FFs to types supported by the target\u001b[1m)\u001b[0m.\n"
      ]
     },
     "metadata": {},
     "output_type": "display_data"
    },
    {
     "data": {
      "text/html": [
       "<pre style=\"white-space:pre;overflow-x:auto;line-height:normal;font-family:Menlo,'DejaVu Sans Mono',consolas,'Courier New',monospace\">Mapping DFF cells in module `\\spm':\n",
       "</pre>\n"
      ],
      "text/plain": [
       "Mapping DFF cells in module `\\spm':\n"
      ]
     },
     "metadata": {},
     "output_type": "display_data"
    },
    {
     "data": {
      "text/html": [
       "<pre style=\"white-space:pre;overflow-x:auto;line-height:normal;font-family:Menlo,'DejaVu Sans Mono',consolas,'Courier New',monospace\">mapped <span style=\"color: #008080; text-decoration-color: #008080; font-weight: bold\">64</span> $_DFF_PN0_ cells to \\sky130_fd_sc_hd__dfrtp_2 cells.\n",
       "</pre>\n"
      ],
      "text/plain": [
       "mapped \u001b[1;36m64\u001b[0m $_DFF_PN0_ cells to \\sky130_fd_sc_hd__dfrtp_2 cells.\n"
      ]
     },
     "metadata": {},
     "output_type": "display_data"
    },
    {
     "data": {
      "text/html": [
       "<pre style=\"white-space:pre;overflow-x:auto;line-height:normal;font-family:Menlo,'DejaVu Sans Mono',consolas,'Courier New',monospace\"><span style=\"font-weight: bold\">{</span>\n",
       "</pre>\n"
      ],
      "text/plain": [
       "\u001b[1m{\u001b[0m\n"
      ]
     },
     "metadata": {},
     "output_type": "display_data"
    },
    {
     "data": {
      "text/html": [
       "<pre style=\"white-space:pre;overflow-x:auto;line-height:normal;font-family:Menlo,'DejaVu Sans Mono',consolas,'Courier New',monospace\"><span style=\"color: #008000; text-decoration-color: #008000\">\"creator\"</span>: <span style=\"color: #008000; text-decoration-color: #008000\">\"Yosys 0.26 (git sha1 7e588664e7e, gcc 11.3.0 -fPIC -Os)\"</span>,\n",
       "</pre>\n"
      ],
      "text/plain": [
       "\u001b[32m\"creator\"\u001b[0m: \u001b[32m\"Yosys 0.26 \u001b[0m\u001b[32m(\u001b[0m\u001b[32mgit sha1 7e588664e7e, gcc 11.3.0 -fPIC -Os\u001b[0m\u001b[32m)\u001b[0m\u001b[32m\"\u001b[0m,\n"
      ]
     },
     "metadata": {},
     "output_type": "display_data"
    },
    {
     "data": {
      "text/html": [
       "<pre style=\"white-space:pre;overflow-x:auto;line-height:normal;font-family:Menlo,'DejaVu Sans Mono',consolas,'Courier New',monospace\"><span style=\"color: #008000; text-decoration-color: #008000\">\"invocation\"</span>: <span style=\"color: #008000; text-decoration-color: #008000\">\"stat -json \"</span>,\n",
       "</pre>\n"
      ],
      "text/plain": [
       "\u001b[32m\"invocation\"\u001b[0m: \u001b[32m\"stat -json \"\u001b[0m,\n"
      ]
     },
     "metadata": {},
     "output_type": "display_data"
    },
    {
     "data": {
      "text/html": [
       "<pre style=\"white-space:pre;overflow-x:auto;line-height:normal;font-family:Menlo,'DejaVu Sans Mono',consolas,'Courier New',monospace\"><span style=\"color: #008000; text-decoration-color: #008000\">\"modules\"</span>: <span style=\"font-weight: bold\">{</span>\n",
       "</pre>\n"
      ],
      "text/plain": [
       "\u001b[32m\"modules\"\u001b[0m: \u001b[1m{\u001b[0m\n"
      ]
     },
     "metadata": {},
     "output_type": "display_data"
    },
    {
     "data": {
      "text/html": [
       "<pre style=\"white-space:pre;overflow-x:auto;line-height:normal;font-family:Menlo,'DejaVu Sans Mono',consolas,'Courier New',monospace\"><span style=\"color: #008000; text-decoration-color: #008000\">\"\\\\spm\"</span>: <span style=\"font-weight: bold\">{</span>\n",
       "</pre>\n"
      ],
      "text/plain": [
       "\u001b[32m\"\\\\spm\"\u001b[0m: \u001b[1m{\u001b[0m\n"
      ]
     },
     "metadata": {},
     "output_type": "display_data"
    },
    {
     "data": {
      "text/html": [
       "<pre style=\"white-space:pre;overflow-x:auto;line-height:normal;font-family:Menlo,'DejaVu Sans Mono',consolas,'Courier New',monospace\"><span style=\"color: #008000; text-decoration-color: #008000\">\"num_wires\"</span>:         <span style=\"color: #008080; text-decoration-color: #008080; font-weight: bold\">321</span>,\n",
       "</pre>\n"
      ],
      "text/plain": [
       "\u001b[32m\"num_wires\"\u001b[0m:         \u001b[1;36m321\u001b[0m,\n"
      ]
     },
     "metadata": {},
     "output_type": "display_data"
    },
    {
     "data": {
      "text/html": [
       "<pre style=\"white-space:pre;overflow-x:auto;line-height:normal;font-family:Menlo,'DejaVu Sans Mono',consolas,'Courier New',monospace\"><span style=\"color: #008000; text-decoration-color: #008000\">\"num_wire_bits\"</span>:     <span style=\"color: #008080; text-decoration-color: #008080; font-weight: bold\">352</span>,\n",
       "</pre>\n"
      ],
      "text/plain": [
       "\u001b[32m\"num_wire_bits\"\u001b[0m:     \u001b[1;36m352\u001b[0m,\n"
      ]
     },
     "metadata": {},
     "output_type": "display_data"
    },
    {
     "data": {
      "text/html": [
       "<pre style=\"white-space:pre;overflow-x:auto;line-height:normal;font-family:Menlo,'DejaVu Sans Mono',consolas,'Courier New',monospace\"><span style=\"color: #008000; text-decoration-color: #008000\">\"num_pub_wires\"</span>:     <span style=\"color: #008080; text-decoration-color: #008080; font-weight: bold\">99</span>,\n",
       "</pre>\n"
      ],
      "text/plain": [
       "\u001b[32m\"num_pub_wires\"\u001b[0m:     \u001b[1;36m99\u001b[0m,\n"
      ]
     },
     "metadata": {},
     "output_type": "display_data"
    },
    {
     "data": {
      "text/html": [
       "<pre style=\"white-space:pre;overflow-x:auto;line-height:normal;font-family:Menlo,'DejaVu Sans Mono',consolas,'Courier New',monospace\"><span style=\"color: #008000; text-decoration-color: #008000\">\"num_pub_wire_bits\"</span>: <span style=\"color: #008080; text-decoration-color: #008080; font-weight: bold\">130</span>,\n",
       "</pre>\n"
      ],
      "text/plain": [
       "\u001b[32m\"num_pub_wire_bits\"\u001b[0m: \u001b[1;36m130\u001b[0m,\n"
      ]
     },
     "metadata": {},
     "output_type": "display_data"
    },
    {
     "data": {
      "text/html": [
       "<pre style=\"white-space:pre;overflow-x:auto;line-height:normal;font-family:Menlo,'DejaVu Sans Mono',consolas,'Courier New',monospace\"><span style=\"color: #008000; text-decoration-color: #008000\">\"num_memories\"</span>:      <span style=\"color: #008080; text-decoration-color: #008080; font-weight: bold\">0</span>,\n",
       "</pre>\n"
      ],
      "text/plain": [
       "\u001b[32m\"num_memories\"\u001b[0m:      \u001b[1;36m0\u001b[0m,\n"
      ]
     },
     "metadata": {},
     "output_type": "display_data"
    },
    {
     "data": {
      "text/html": [
       "<pre style=\"white-space:pre;overflow-x:auto;line-height:normal;font-family:Menlo,'DejaVu Sans Mono',consolas,'Courier New',monospace\"><span style=\"color: #008000; text-decoration-color: #008000\">\"num_memory_bits\"</span>:   <span style=\"color: #008080; text-decoration-color: #008080; font-weight: bold\">0</span>,\n",
       "</pre>\n"
      ],
      "text/plain": [
       "\u001b[32m\"num_memory_bits\"\u001b[0m:   \u001b[1;36m0\u001b[0m,\n"
      ]
     },
     "metadata": {},
     "output_type": "display_data"
    },
    {
     "data": {
      "text/html": [
       "<pre style=\"white-space:pre;overflow-x:auto;line-height:normal;font-family:Menlo,'DejaVu Sans Mono',consolas,'Courier New',monospace\"><span style=\"color: #008000; text-decoration-color: #008000\">\"num_processes\"</span>:     <span style=\"color: #008080; text-decoration-color: #008080; font-weight: bold\">0</span>,\n",
       "</pre>\n"
      ],
      "text/plain": [
       "\u001b[32m\"num_processes\"\u001b[0m:     \u001b[1;36m0\u001b[0m,\n"
      ]
     },
     "metadata": {},
     "output_type": "display_data"
    },
    {
     "data": {
      "text/html": [
       "<pre style=\"white-space:pre;overflow-x:auto;line-height:normal;font-family:Menlo,'DejaVu Sans Mono',consolas,'Courier New',monospace\"><span style=\"color: #008000; text-decoration-color: #008000\">\"num_cells\"</span>:         <span style=\"color: #008080; text-decoration-color: #008080; font-weight: bold\">317</span>,\n",
       "</pre>\n"
      ],
      "text/plain": [
       "\u001b[32m\"num_cells\"\u001b[0m:         \u001b[1;36m317\u001b[0m,\n"
      ]
     },
     "metadata": {},
     "output_type": "display_data"
    },
    {
     "data": {
      "text/html": [
       "<pre style=\"white-space:pre;overflow-x:auto;line-height:normal;font-family:Menlo,'DejaVu Sans Mono',consolas,'Courier New',monospace\"><span style=\"color: #008000; text-decoration-color: #008000\">\"num_cells_by_type\"</span>: <span style=\"font-weight: bold\">{</span>\n",
       "</pre>\n"
      ],
      "text/plain": [
       "\u001b[32m\"num_cells_by_type\"\u001b[0m: \u001b[1m{\u001b[0m\n"
      ]
     },
     "metadata": {},
     "output_type": "display_data"
    },
    {
     "data": {
      "text/html": [
       "<pre style=\"white-space:pre;overflow-x:auto;line-height:normal;font-family:Menlo,'DejaVu Sans Mono',consolas,'Courier New',monospace\"><span style=\"color: #008000; text-decoration-color: #008000\">\"$_AND_\"</span>: <span style=\"color: #008080; text-decoration-color: #008080; font-weight: bold\">32</span>,\n",
       "</pre>\n"
      ],
      "text/plain": [
       "\u001b[32m\"$_AND_\"\u001b[0m: \u001b[1;36m32\u001b[0m,\n"
      ]
     },
     "metadata": {},
     "output_type": "display_data"
    },
    {
     "data": {
      "text/html": [
       "<pre style=\"white-space:pre;overflow-x:auto;line-height:normal;font-family:Menlo,'DejaVu Sans Mono',consolas,'Courier New',monospace\"><span style=\"color: #008000; text-decoration-color: #008000\">\"$_NAND_\"</span>: <span style=\"color: #008080; text-decoration-color: #008080; font-weight: bold\">31</span>,\n",
       "</pre>\n"
      ],
      "text/plain": [
       "\u001b[32m\"$_NAND_\"\u001b[0m: \u001b[1;36m31\u001b[0m,\n"
      ]
     },
     "metadata": {},
     "output_type": "display_data"
    },
    {
     "data": {
      "text/html": [
       "<pre style=\"white-space:pre;overflow-x:auto;line-height:normal;font-family:Menlo,'DejaVu Sans Mono',consolas,'Courier New',monospace\"><span style=\"color: #008000; text-decoration-color: #008000\">\"$_NOR_\"</span>: <span style=\"color: #008080; text-decoration-color: #008080; font-weight: bold\">31</span>,\n",
       "</pre>\n"
      ],
      "text/plain": [
       "\u001b[32m\"$_NOR_\"\u001b[0m: \u001b[1;36m31\u001b[0m,\n"
      ]
     },
     "metadata": {},
     "output_type": "display_data"
    },
    {
     "data": {
      "text/html": [
       "<pre style=\"white-space:pre;overflow-x:auto;line-height:normal;font-family:Menlo,'DejaVu Sans Mono',consolas,'Courier New',monospace\"><span style=\"color: #008000; text-decoration-color: #008000\">\"$_NOT_\"</span>: <span style=\"color: #008080; text-decoration-color: #008080; font-weight: bold\">64</span>,\n",
       "</pre>\n"
      ],
      "text/plain": [
       "\u001b[32m\"$_NOT_\"\u001b[0m: \u001b[1;36m64\u001b[0m,\n"
      ]
     },
     "metadata": {},
     "output_type": "display_data"
    },
    {
     "data": {
      "text/html": [
       "<pre style=\"white-space:pre;overflow-x:auto;line-height:normal;font-family:Menlo,'DejaVu Sans Mono',consolas,'Courier New',monospace\"><span style=\"color: #008000; text-decoration-color: #008000\">\"$_OR_\"</span>: <span style=\"color: #008080; text-decoration-color: #008080; font-weight: bold\">1</span>,\n",
       "</pre>\n"
      ],
      "text/plain": [
       "\u001b[32m\"$_OR_\"\u001b[0m: \u001b[1;36m1\u001b[0m,\n"
      ]
     },
     "metadata": {},
     "output_type": "display_data"
    },
    {
     "data": {
      "text/html": [
       "<pre style=\"white-space:pre;overflow-x:auto;line-height:normal;font-family:Menlo,'DejaVu Sans Mono',consolas,'Courier New',monospace\"><span style=\"color: #008000; text-decoration-color: #008000\">\"$_XNOR_\"</span>: <span style=\"color: #008080; text-decoration-color: #008080; font-weight: bold\">31</span>,\n",
       "</pre>\n"
      ],
      "text/plain": [
       "\u001b[32m\"$_XNOR_\"\u001b[0m: \u001b[1;36m31\u001b[0m,\n"
      ]
     },
     "metadata": {},
     "output_type": "display_data"
    },
    {
     "data": {
      "text/html": [
       "<pre style=\"white-space:pre;overflow-x:auto;line-height:normal;font-family:Menlo,'DejaVu Sans Mono',consolas,'Courier New',monospace\"><span style=\"color: #008000; text-decoration-color: #008000\">\"$_XOR_\"</span>: <span style=\"color: #008080; text-decoration-color: #008080; font-weight: bold\">63</span>,\n",
       "</pre>\n"
      ],
      "text/plain": [
       "\u001b[32m\"$_XOR_\"\u001b[0m: \u001b[1;36m63\u001b[0m,\n"
      ]
     },
     "metadata": {},
     "output_type": "display_data"
    },
    {
     "data": {
      "text/html": [
       "<pre style=\"white-space:pre;overflow-x:auto;line-height:normal;font-family:Menlo,'DejaVu Sans Mono',consolas,'Courier New',monospace\"><span style=\"color: #008000; text-decoration-color: #008000\">\"sky130_fd_sc_hd__dfrtp_2\"</span>: <span style=\"color: #008080; text-decoration-color: #008080; font-weight: bold\">64</span>\n",
       "</pre>\n"
      ],
      "text/plain": [
       "\u001b[32m\"sky130_fd_sc_hd__dfrtp_2\"\u001b[0m: \u001b[1;36m64\u001b[0m\n"
      ]
     },
     "metadata": {},
     "output_type": "display_data"
    },
    {
     "data": {
      "text/html": [
       "<pre style=\"white-space:pre;overflow-x:auto;line-height:normal;font-family:Menlo,'DejaVu Sans Mono',consolas,'Courier New',monospace\"><span style=\"font-weight: bold\">}</span>\n",
       "</pre>\n"
      ],
      "text/plain": [
       "\u001b[1m}\u001b[0m\n"
      ]
     },
     "metadata": {},
     "output_type": "display_data"
    },
    {
     "data": {
      "text/html": [
       "<pre style=\"white-space:pre;overflow-x:auto;line-height:normal;font-family:Menlo,'DejaVu Sans Mono',consolas,'Courier New',monospace\"><span style=\"font-weight: bold\">}</span>\n",
       "</pre>\n"
      ],
      "text/plain": [
       "\u001b[1m}\u001b[0m\n"
      ]
     },
     "metadata": {},
     "output_type": "display_data"
    },
    {
     "data": {
      "text/html": [
       "<pre style=\"white-space:pre;overflow-x:auto;line-height:normal;font-family:Menlo,'DejaVu Sans Mono',consolas,'Courier New',monospace\"><span style=\"font-weight: bold\">}</span>,\n",
       "</pre>\n"
      ],
      "text/plain": [
       "\u001b[1m}\u001b[0m,\n"
      ]
     },
     "metadata": {},
     "output_type": "display_data"
    },
    {
     "data": {
      "text/html": [
       "<pre style=\"white-space:pre;overflow-x:auto;line-height:normal;font-family:Menlo,'DejaVu Sans Mono',consolas,'Courier New',monospace\"><span style=\"color: #008000; text-decoration-color: #008000\">\"design\"</span>: <span style=\"font-weight: bold\">{</span>\n",
       "</pre>\n"
      ],
      "text/plain": [
       "\u001b[32m\"design\"\u001b[0m: \u001b[1m{\u001b[0m\n"
      ]
     },
     "metadata": {},
     "output_type": "display_data"
    },
    {
     "data": {
      "text/html": [
       "<pre style=\"white-space:pre;overflow-x:auto;line-height:normal;font-family:Menlo,'DejaVu Sans Mono',consolas,'Courier New',monospace\"><span style=\"color: #008000; text-decoration-color: #008000\">\"num_wires\"</span>:         <span style=\"color: #008080; text-decoration-color: #008080; font-weight: bold\">321</span>,\n",
       "</pre>\n"
      ],
      "text/plain": [
       "\u001b[32m\"num_wires\"\u001b[0m:         \u001b[1;36m321\u001b[0m,\n"
      ]
     },
     "metadata": {},
     "output_type": "display_data"
    },
    {
     "data": {
      "text/html": [
       "<pre style=\"white-space:pre;overflow-x:auto;line-height:normal;font-family:Menlo,'DejaVu Sans Mono',consolas,'Courier New',monospace\"><span style=\"color: #008000; text-decoration-color: #008000\">\"num_wire_bits\"</span>:     <span style=\"color: #008080; text-decoration-color: #008080; font-weight: bold\">352</span>,\n",
       "</pre>\n"
      ],
      "text/plain": [
       "\u001b[32m\"num_wire_bits\"\u001b[0m:     \u001b[1;36m352\u001b[0m,\n"
      ]
     },
     "metadata": {},
     "output_type": "display_data"
    },
    {
     "data": {
      "text/html": [
       "<pre style=\"white-space:pre;overflow-x:auto;line-height:normal;font-family:Menlo,'DejaVu Sans Mono',consolas,'Courier New',monospace\"><span style=\"color: #008000; text-decoration-color: #008000\">\"num_pub_wires\"</span>:     <span style=\"color: #008080; text-decoration-color: #008080; font-weight: bold\">99</span>,\n",
       "</pre>\n"
      ],
      "text/plain": [
       "\u001b[32m\"num_pub_wires\"\u001b[0m:     \u001b[1;36m99\u001b[0m,\n"
      ]
     },
     "metadata": {},
     "output_type": "display_data"
    },
    {
     "data": {
      "text/html": [
       "<pre style=\"white-space:pre;overflow-x:auto;line-height:normal;font-family:Menlo,'DejaVu Sans Mono',consolas,'Courier New',monospace\"><span style=\"color: #008000; text-decoration-color: #008000\">\"num_pub_wire_bits\"</span>: <span style=\"color: #008080; text-decoration-color: #008080; font-weight: bold\">130</span>,\n",
       "</pre>\n"
      ],
      "text/plain": [
       "\u001b[32m\"num_pub_wire_bits\"\u001b[0m: \u001b[1;36m130\u001b[0m,\n"
      ]
     },
     "metadata": {},
     "output_type": "display_data"
    },
    {
     "data": {
      "text/html": [
       "<pre style=\"white-space:pre;overflow-x:auto;line-height:normal;font-family:Menlo,'DejaVu Sans Mono',consolas,'Courier New',monospace\"><span style=\"color: #008000; text-decoration-color: #008000\">\"num_memories\"</span>:      <span style=\"color: #008080; text-decoration-color: #008080; font-weight: bold\">0</span>,\n",
       "</pre>\n"
      ],
      "text/plain": [
       "\u001b[32m\"num_memories\"\u001b[0m:      \u001b[1;36m0\u001b[0m,\n"
      ]
     },
     "metadata": {},
     "output_type": "display_data"
    },
    {
     "data": {
      "text/html": [
       "<pre style=\"white-space:pre;overflow-x:auto;line-height:normal;font-family:Menlo,'DejaVu Sans Mono',consolas,'Courier New',monospace\"><span style=\"color: #008000; text-decoration-color: #008000\">\"num_memory_bits\"</span>:   <span style=\"color: #008080; text-decoration-color: #008080; font-weight: bold\">0</span>,\n",
       "</pre>\n"
      ],
      "text/plain": [
       "\u001b[32m\"num_memory_bits\"\u001b[0m:   \u001b[1;36m0\u001b[0m,\n"
      ]
     },
     "metadata": {},
     "output_type": "display_data"
    },
    {
     "data": {
      "text/html": [
       "<pre style=\"white-space:pre;overflow-x:auto;line-height:normal;font-family:Menlo,'DejaVu Sans Mono',consolas,'Courier New',monospace\"><span style=\"color: #008000; text-decoration-color: #008000\">\"num_processes\"</span>:     <span style=\"color: #008080; text-decoration-color: #008080; font-weight: bold\">0</span>,\n",
       "</pre>\n"
      ],
      "text/plain": [
       "\u001b[32m\"num_processes\"\u001b[0m:     \u001b[1;36m0\u001b[0m,\n"
      ]
     },
     "metadata": {},
     "output_type": "display_data"
    },
    {
     "data": {
      "text/html": [
       "<pre style=\"white-space:pre;overflow-x:auto;line-height:normal;font-family:Menlo,'DejaVu Sans Mono',consolas,'Courier New',monospace\"><span style=\"color: #008000; text-decoration-color: #008000\">\"num_cells\"</span>:         <span style=\"color: #008080; text-decoration-color: #008080; font-weight: bold\">317</span>,\n",
       "</pre>\n"
      ],
      "text/plain": [
       "\u001b[32m\"num_cells\"\u001b[0m:         \u001b[1;36m317\u001b[0m,\n"
      ]
     },
     "metadata": {},
     "output_type": "display_data"
    },
    {
     "data": {
      "text/html": [
       "<pre style=\"white-space:pre;overflow-x:auto;line-height:normal;font-family:Menlo,'DejaVu Sans Mono',consolas,'Courier New',monospace\"><span style=\"color: #008000; text-decoration-color: #008000\">\"num_cells_by_type\"</span>: <span style=\"font-weight: bold\">{</span>\n",
       "</pre>\n"
      ],
      "text/plain": [
       "\u001b[32m\"num_cells_by_type\"\u001b[0m: \u001b[1m{\u001b[0m\n"
      ]
     },
     "metadata": {},
     "output_type": "display_data"
    },
    {
     "data": {
      "text/html": [
       "<pre style=\"white-space:pre;overflow-x:auto;line-height:normal;font-family:Menlo,'DejaVu Sans Mono',consolas,'Courier New',monospace\"><span style=\"color: #008000; text-decoration-color: #008000\">\"$_AND_\"</span>: <span style=\"color: #008080; text-decoration-color: #008080; font-weight: bold\">32</span>,\n",
       "</pre>\n"
      ],
      "text/plain": [
       "\u001b[32m\"$_AND_\"\u001b[0m: \u001b[1;36m32\u001b[0m,\n"
      ]
     },
     "metadata": {},
     "output_type": "display_data"
    },
    {
     "data": {
      "text/html": [
       "<pre style=\"white-space:pre;overflow-x:auto;line-height:normal;font-family:Menlo,'DejaVu Sans Mono',consolas,'Courier New',monospace\"><span style=\"color: #008000; text-decoration-color: #008000\">\"$_NAND_\"</span>: <span style=\"color: #008080; text-decoration-color: #008080; font-weight: bold\">31</span>,\n",
       "</pre>\n"
      ],
      "text/plain": [
       "\u001b[32m\"$_NAND_\"\u001b[0m: \u001b[1;36m31\u001b[0m,\n"
      ]
     },
     "metadata": {},
     "output_type": "display_data"
    },
    {
     "data": {
      "text/html": [
       "<pre style=\"white-space:pre;overflow-x:auto;line-height:normal;font-family:Menlo,'DejaVu Sans Mono',consolas,'Courier New',monospace\"><span style=\"color: #008000; text-decoration-color: #008000\">\"$_NOR_\"</span>: <span style=\"color: #008080; text-decoration-color: #008080; font-weight: bold\">31</span>,\n",
       "</pre>\n"
      ],
      "text/plain": [
       "\u001b[32m\"$_NOR_\"\u001b[0m: \u001b[1;36m31\u001b[0m,\n"
      ]
     },
     "metadata": {},
     "output_type": "display_data"
    },
    {
     "data": {
      "text/html": [
       "<pre style=\"white-space:pre;overflow-x:auto;line-height:normal;font-family:Menlo,'DejaVu Sans Mono',consolas,'Courier New',monospace\"><span style=\"color: #008000; text-decoration-color: #008000\">\"$_NOT_\"</span>: <span style=\"color: #008080; text-decoration-color: #008080; font-weight: bold\">64</span>,\n",
       "</pre>\n"
      ],
      "text/plain": [
       "\u001b[32m\"$_NOT_\"\u001b[0m: \u001b[1;36m64\u001b[0m,\n"
      ]
     },
     "metadata": {},
     "output_type": "display_data"
    },
    {
     "data": {
      "text/html": [
       "<pre style=\"white-space:pre;overflow-x:auto;line-height:normal;font-family:Menlo,'DejaVu Sans Mono',consolas,'Courier New',monospace\"><span style=\"color: #008000; text-decoration-color: #008000\">\"$_OR_\"</span>: <span style=\"color: #008080; text-decoration-color: #008080; font-weight: bold\">1</span>,\n",
       "</pre>\n"
      ],
      "text/plain": [
       "\u001b[32m\"$_OR_\"\u001b[0m: \u001b[1;36m1\u001b[0m,\n"
      ]
     },
     "metadata": {},
     "output_type": "display_data"
    },
    {
     "data": {
      "text/html": [
       "<pre style=\"white-space:pre;overflow-x:auto;line-height:normal;font-family:Menlo,'DejaVu Sans Mono',consolas,'Courier New',monospace\"><span style=\"color: #008000; text-decoration-color: #008000\">\"$_XNOR_\"</span>: <span style=\"color: #008080; text-decoration-color: #008080; font-weight: bold\">31</span>,\n",
       "</pre>\n"
      ],
      "text/plain": [
       "\u001b[32m\"$_XNOR_\"\u001b[0m: \u001b[1;36m31\u001b[0m,\n"
      ]
     },
     "metadata": {},
     "output_type": "display_data"
    },
    {
     "data": {
      "text/html": [
       "<pre style=\"white-space:pre;overflow-x:auto;line-height:normal;font-family:Menlo,'DejaVu Sans Mono',consolas,'Courier New',monospace\"><span style=\"color: #008000; text-decoration-color: #008000\">\"$_XOR_\"</span>: <span style=\"color: #008080; text-decoration-color: #008080; font-weight: bold\">63</span>,\n",
       "</pre>\n"
      ],
      "text/plain": [
       "\u001b[32m\"$_XOR_\"\u001b[0m: \u001b[1;36m63\u001b[0m,\n"
      ]
     },
     "metadata": {},
     "output_type": "display_data"
    },
    {
     "data": {
      "text/html": [
       "<pre style=\"white-space:pre;overflow-x:auto;line-height:normal;font-family:Menlo,'DejaVu Sans Mono',consolas,'Courier New',monospace\"><span style=\"color: #008000; text-decoration-color: #008000\">\"sky130_fd_sc_hd__dfrtp_2\"</span>: <span style=\"color: #008080; text-decoration-color: #008080; font-weight: bold\">64</span>\n",
       "</pre>\n"
      ],
      "text/plain": [
       "\u001b[32m\"sky130_fd_sc_hd__dfrtp_2\"\u001b[0m: \u001b[1;36m64\u001b[0m\n"
      ]
     },
     "metadata": {},
     "output_type": "display_data"
    },
    {
     "data": {
      "text/html": [
       "<pre style=\"white-space:pre;overflow-x:auto;line-height:normal;font-family:Menlo,'DejaVu Sans Mono',consolas,'Courier New',monospace\"><span style=\"font-weight: bold\">}</span>\n",
       "</pre>\n"
      ],
      "text/plain": [
       "\u001b[1m}\u001b[0m\n"
      ]
     },
     "metadata": {},
     "output_type": "display_data"
    },
    {
     "data": {
      "text/html": [
       "<pre style=\"white-space:pre;overflow-x:auto;line-height:normal;font-family:Menlo,'DejaVu Sans Mono',consolas,'Courier New',monospace\"><span style=\"font-weight: bold\">}</span>\n",
       "</pre>\n"
      ],
      "text/plain": [
       "\u001b[1m}\u001b[0m\n"
      ]
     },
     "metadata": {},
     "output_type": "display_data"
    },
    {
     "data": {
      "text/html": [
       "<pre style=\"white-space:pre;overflow-x:auto;line-height:normal;font-family:Menlo,'DejaVu Sans Mono',consolas,'Courier New',monospace\"><span style=\"font-weight: bold\">}</span>\n",
       "</pre>\n"
      ],
      "text/plain": [
       "\u001b[1m}\u001b[0m\n"
      ]
     },
     "metadata": {},
     "output_type": "display_data"
    },
    {
     "data": {
      "text/html": [
       "<pre style=\"white-space:pre;overflow-x:auto;line-height:normal;font-family:Menlo,'DejaVu Sans Mono',consolas,'Courier New',monospace\">\n",
       "</pre>\n"
      ],
      "text/plain": [
       "\n"
      ]
     },
     "metadata": {},
     "output_type": "display_data"
    },
    {
     "data": {
      "text/html": [
       "<pre style=\"white-space:pre;overflow-x:auto;line-height:normal;font-family:Menlo,'DejaVu Sans Mono',consolas,'Courier New',monospace\"><span style=\"font-weight: bold\">[</span>INFO<span style=\"font-weight: bold\">]</span> USING STRATEGY AREA <span style=\"color: #008080; text-decoration-color: #008080; font-weight: bold\">0</span>\n",
       "</pre>\n"
      ],
      "text/plain": [
       "\u001b[1m[\u001b[0mINFO\u001b[1m]\u001b[0m USING STRATEGY AREA \u001b[1;36m0\u001b[0m\n"
      ]
     },
     "metadata": {},
     "output_type": "display_data"
    },
    {
     "data": {
      "text/html": [
       "<pre style=\"white-space:pre;overflow-x:auto;line-height:normal;font-family:Menlo,'DejaVu Sans Mono',consolas,'Courier New',monospace\">\n",
       "</pre>\n"
      ],
      "text/plain": [
       "\n"
      ]
     },
     "metadata": {},
     "output_type": "display_data"
    },
    {
     "data": {
      "text/html": [
       "<pre style=\"white-space:pre;overflow-x:auto;line-height:normal;font-family:Menlo,'DejaVu Sans Mono',consolas,'Courier New',monospace\"><span style=\"color: #008080; text-decoration-color: #008080; font-weight: bold\">12</span>. Executing ABC pass <span style=\"font-weight: bold\">(</span>technology mapping using ABC<span style=\"font-weight: bold\">)</span>.\n",
       "</pre>\n"
      ],
      "text/plain": [
       "\u001b[1;36m12\u001b[0m. Executing ABC pass \u001b[1m(\u001b[0mtechnology mapping using ABC\u001b[1m)\u001b[0m.\n"
      ]
     },
     "metadata": {},
     "output_type": "display_data"
    },
    {
     "data": {
      "text/html": [
       "<pre style=\"white-space:pre;overflow-x:auto;line-height:normal;font-family:Menlo,'DejaVu Sans Mono',consolas,'Courier New',monospace\">\n",
       "</pre>\n"
      ],
      "text/plain": [
       "\n"
      ]
     },
     "metadata": {},
     "output_type": "display_data"
    },
    {
     "data": {
      "text/html": [
       "<pre style=\"white-space:pre;overflow-x:auto;line-height:normal;font-family:Menlo,'DejaVu Sans Mono',consolas,'Courier New',monospace\"><span style=\"color: #008080; text-decoration-color: #008080; font-weight: bold\">12.1</span>. Extracting gate netlist of module `\\spm' to `<span style=\"color: #800080; text-decoration-color: #800080\">/run/user/1000/yosys-abc-xOHBsv/</span><span style=\"color: #ff00ff; text-decoration-color: #ff00ff\">input.blif</span>'..\n",
       "</pre>\n"
      ],
      "text/plain": [
       "\u001b[1;36m12.1\u001b[0m. Extracting gate netlist of module `\\spm' to `\u001b[35m/run/user/1000/yosys-abc-xOHBsv/\u001b[0m\u001b[95minput.blif\u001b[0m'..\n"
      ]
     },
     "metadata": {},
     "output_type": "display_data"
    },
    {
     "data": {
      "text/html": [
       "<pre style=\"white-space:pre;overflow-x:auto;line-height:normal;font-family:Menlo,'DejaVu Sans Mono',consolas,'Courier New',monospace\">Extracted <span style=\"color: #008080; text-decoration-color: #008080; font-weight: bold\">253</span> gates and <span style=\"color: #008080; text-decoration-color: #008080; font-weight: bold\">350</span> wires to a netlist network with <span style=\"color: #008080; text-decoration-color: #008080; font-weight: bold\">97</span> inputs and <span style=\"color: #008080; text-decoration-color: #008080; font-weight: bold\">128</span> outputs.\n",
       "</pre>\n"
      ],
      "text/plain": [
       "Extracted \u001b[1;36m253\u001b[0m gates and \u001b[1;36m350\u001b[0m wires to a netlist network with \u001b[1;36m97\u001b[0m inputs and \u001b[1;36m128\u001b[0m outputs.\n"
      ]
     },
     "metadata": {},
     "output_type": "display_data"
    },
    {
     "data": {
      "text/html": [
       "<pre style=\"white-space:pre;overflow-x:auto;line-height:normal;font-family:Menlo,'DejaVu Sans Mono',consolas,'Courier New',monospace\">\n",
       "</pre>\n"
      ],
      "text/plain": [
       "\n"
      ]
     },
     "metadata": {},
     "output_type": "display_data"
    },
    {
     "data": {
      "text/html": [
       "<pre style=\"white-space:pre;overflow-x:auto;line-height:normal;font-family:Menlo,'DejaVu Sans Mono',consolas,'Courier New',monospace\"><span style=\"color: #008080; text-decoration-color: #008080; font-weight: bold\">12.1</span>.<span style=\"color: #008080; text-decoration-color: #008080; font-weight: bold\">1</span>. Executing ABC.\n",
       "</pre>\n"
      ],
      "text/plain": [
       "\u001b[1;36m12.1\u001b[0m.\u001b[1;36m1\u001b[0m. Executing ABC.\n"
      ]
     },
     "metadata": {},
     "output_type": "display_data"
    },
    {
     "data": {
      "text/html": [
       "<pre style=\"white-space:pre;overflow-x:auto;line-height:normal;font-family:Menlo,'DejaVu Sans Mono',consolas,'Courier New',monospace\">Running ABC command: \n",
       "<span style=\"color: #008000; text-decoration-color: #008000\">\"/nix/store/7rrb45i6djpyrabz63i63wx6dszbcx13-yosys-7e588664e7efa36ff473f0497feacaad57f5e90c/bin/yosys-abc\"</span> -s -f \n",
       "<span style=\"color: #800080; text-decoration-color: #800080\">/run/user/1000/yosys-abc-xOHBsv/</span><span style=\"color: #ff00ff; text-decoration-color: #ff00ff\">abc.script</span> <span style=\"color: #008080; text-decoration-color: #008080; font-weight: bold\">2</span>&gt;&amp;<span style=\"color: #008080; text-decoration-color: #008080; font-weight: bold\">1</span>\n",
       "</pre>\n"
      ],
      "text/plain": [
       "Running ABC command: \n",
       "\u001b[32m\"/nix/store/7rrb45i6djpyrabz63i63wx6dszbcx13-yosys-7e588664e7efa36ff473f0497feacaad57f5e90c/bin/yosys-abc\"\u001b[0m -s -f \n",
       "\u001b[35m/run/user/1000/yosys-abc-xOHBsv/\u001b[0m\u001b[95mabc.script\u001b[0m \u001b[1;36m2\u001b[0m>&\u001b[1;36m1\u001b[0m\n"
      ]
     },
     "metadata": {},
     "output_type": "display_data"
    },
    {
     "data": {
      "text/html": [
       "<pre style=\"white-space:pre;overflow-x:auto;line-height:normal;font-family:Menlo,'DejaVu Sans Mono',consolas,'Courier New',monospace\">ABC: ABC command line: <span style=\"color: #008000; text-decoration-color: #008000\">\"source /run/user/1000/yosys-abc-xOHBsv/abc.script\"</span>.\n",
       "</pre>\n"
      ],
      "text/plain": [
       "ABC: ABC command line: \u001b[32m\"source /run/user/1000/yosys-abc-xOHBsv/abc.script\"\u001b[0m.\n"
      ]
     },
     "metadata": {},
     "output_type": "display_data"
    },
    {
     "data": {
      "text/html": [
       "<pre style=\"white-space:pre;overflow-x:auto;line-height:normal;font-family:Menlo,'DejaVu Sans Mono',consolas,'Courier New',monospace\">ABC:\n",
       "</pre>\n"
      ],
      "text/plain": [
       "ABC:\n"
      ]
     },
     "metadata": {},
     "output_type": "display_data"
    },
    {
     "data": {
      "text/html": [
       "<pre style=\"white-space:pre;overflow-x:auto;line-height:normal;font-family:Menlo,'DejaVu Sans Mono',consolas,'Courier New',monospace\">ABC: + read_blif <span style=\"color: #800080; text-decoration-color: #800080\">/run/user/1000/yosys-abc-xOHBsv/</span><span style=\"color: #ff00ff; text-decoration-color: #ff00ff\">input.blif</span>\n",
       "</pre>\n"
      ],
      "text/plain": [
       "ABC: + read_blif \u001b[35m/run/user/1000/yosys-abc-xOHBsv/\u001b[0m\u001b[95minput.blif\u001b[0m\n"
      ]
     },
     "metadata": {},
     "output_type": "display_data"
    },
    {
     "data": {
      "text/html": [
       "<pre style=\"white-space:pre;overflow-x:auto;line-height:normal;font-family:Menlo,'DejaVu Sans Mono',consolas,'Courier New',monospace\">ABC: + read_lib -w <span style=\"color: #800080; text-decoration-color: #800080\">/home/donn/efabless/openlane2/examples/spm/run/tmp/</span><span style=\"color: #ff00ff; text-decoration-color: #ff00ff\">1253325b58e54c66b8f6b98937d4dbd5.lib</span>\n",
       "</pre>\n"
      ],
      "text/plain": [
       "ABC: + read_lib -w \u001b[35m/home/donn/efabless/openlane2/examples/spm/run/tmp/\u001b[0m\u001b[95m1253325b58e54c66b8f6b98937d4dbd5.lib\u001b[0m\n"
      ]
     },
     "metadata": {},
     "output_type": "display_data"
    },
    {
     "data": {
      "text/html": [
       "<pre style=\"white-space:pre;overflow-x:auto;line-height:normal;font-family:Menlo,'DejaVu Sans Mono',consolas,'Courier New',monospace\">ABC: Parsing finished successfully.  Parsing time =     <span style=\"color: #008080; text-decoration-color: #008080; font-weight: bold\">0.04</span> sec\n",
       "</pre>\n"
      ],
      "text/plain": [
       "ABC: Parsing finished successfully.  Parsing time =     \u001b[1;36m0.04\u001b[0m sec\n"
      ]
     },
     "metadata": {},
     "output_type": "display_data"
    },
    {
     "data": {
      "text/html": [
       "<pre style=\"white-space:pre;overflow-x:auto;line-height:normal;font-family:Menlo,'DejaVu Sans Mono',consolas,'Courier New',monospace\">ABC: <span style=\"color: #800080; text-decoration-color: #800080; font-weight: bold\">Scl_LibertyReadGenlib</span><span style=\"font-weight: bold\">()</span> skipped sequential cell <span style=\"color: #008000; text-decoration-color: #008000\">\"sky130_fd_sc_hd__dfbbn_2\"</span>.\n",
       "</pre>\n"
      ],
      "text/plain": [
       "ABC: \u001b[1;35mScl_LibertyReadGenlib\u001b[0m\u001b[1m(\u001b[0m\u001b[1m)\u001b[0m skipped sequential cell \u001b[32m\"sky130_fd_sc_hd__dfbbn_2\"\u001b[0m.\n"
      ]
     },
     "metadata": {},
     "output_type": "display_data"
    },
    {
     "data": {
      "text/html": [
       "<pre style=\"white-space:pre;overflow-x:auto;line-height:normal;font-family:Menlo,'DejaVu Sans Mono',consolas,'Courier New',monospace\">ABC: <span style=\"color: #800080; text-decoration-color: #800080; font-weight: bold\">Scl_LibertyReadGenlib</span><span style=\"font-weight: bold\">()</span> skipped sequential cell <span style=\"color: #008000; text-decoration-color: #008000\">\"sky130_fd_sc_hd__dfrbp_2\"</span>.\n",
       "</pre>\n"
      ],
      "text/plain": [
       "ABC: \u001b[1;35mScl_LibertyReadGenlib\u001b[0m\u001b[1m(\u001b[0m\u001b[1m)\u001b[0m skipped sequential cell \u001b[32m\"sky130_fd_sc_hd__dfrbp_2\"\u001b[0m.\n"
      ]
     },
     "metadata": {},
     "output_type": "display_data"
    },
    {
     "data": {
      "text/html": [
       "<pre style=\"white-space:pre;overflow-x:auto;line-height:normal;font-family:Menlo,'DejaVu Sans Mono',consolas,'Courier New',monospace\">ABC: <span style=\"color: #800080; text-decoration-color: #800080; font-weight: bold\">Scl_LibertyReadGenlib</span><span style=\"font-weight: bold\">()</span> skipped sequential cell <span style=\"color: #008000; text-decoration-color: #008000\">\"sky130_fd_sc_hd__dfrtp_2\"</span>.\n",
       "</pre>\n"
      ],
      "text/plain": [
       "ABC: \u001b[1;35mScl_LibertyReadGenlib\u001b[0m\u001b[1m(\u001b[0m\u001b[1m)\u001b[0m skipped sequential cell \u001b[32m\"sky130_fd_sc_hd__dfrtp_2\"\u001b[0m.\n"
      ]
     },
     "metadata": {},
     "output_type": "display_data"
    },
    {
     "data": {
      "text/html": [
       "<pre style=\"white-space:pre;overflow-x:auto;line-height:normal;font-family:Menlo,'DejaVu Sans Mono',consolas,'Courier New',monospace\">ABC: <span style=\"color: #800080; text-decoration-color: #800080; font-weight: bold\">Scl_LibertyReadGenlib</span><span style=\"font-weight: bold\">()</span> skipped sequential cell <span style=\"color: #008000; text-decoration-color: #008000\">\"sky130_fd_sc_hd__dfrtp_4\"</span>.\n",
       "</pre>\n"
      ],
      "text/plain": [
       "ABC: \u001b[1;35mScl_LibertyReadGenlib\u001b[0m\u001b[1m(\u001b[0m\u001b[1m)\u001b[0m skipped sequential cell \u001b[32m\"sky130_fd_sc_hd__dfrtp_4\"\u001b[0m.\n"
      ]
     },
     "metadata": {},
     "output_type": "display_data"
    },
    {
     "data": {
      "text/html": [
       "<pre style=\"white-space:pre;overflow-x:auto;line-height:normal;font-family:Menlo,'DejaVu Sans Mono',consolas,'Courier New',monospace\">ABC: <span style=\"color: #800080; text-decoration-color: #800080; font-weight: bold\">Scl_LibertyReadGenlib</span><span style=\"font-weight: bold\">()</span> skipped sequential cell <span style=\"color: #008000; text-decoration-color: #008000\">\"sky130_fd_sc_hd__dfsbp_2\"</span>.\n",
       "</pre>\n"
      ],
      "text/plain": [
       "ABC: \u001b[1;35mScl_LibertyReadGenlib\u001b[0m\u001b[1m(\u001b[0m\u001b[1m)\u001b[0m skipped sequential cell \u001b[32m\"sky130_fd_sc_hd__dfsbp_2\"\u001b[0m.\n"
      ]
     },
     "metadata": {},
     "output_type": "display_data"
    },
    {
     "data": {
      "text/html": [
       "<pre style=\"white-space:pre;overflow-x:auto;line-height:normal;font-family:Menlo,'DejaVu Sans Mono',consolas,'Courier New',monospace\">ABC: <span style=\"color: #800080; text-decoration-color: #800080; font-weight: bold\">Scl_LibertyReadGenlib</span><span style=\"font-weight: bold\">()</span> skipped sequential cell <span style=\"color: #008000; text-decoration-color: #008000\">\"sky130_fd_sc_hd__dfstp_2\"</span>.\n",
       "</pre>\n"
      ],
      "text/plain": [
       "ABC: \u001b[1;35mScl_LibertyReadGenlib\u001b[0m\u001b[1m(\u001b[0m\u001b[1m)\u001b[0m skipped sequential cell \u001b[32m\"sky130_fd_sc_hd__dfstp_2\"\u001b[0m.\n"
      ]
     },
     "metadata": {},
     "output_type": "display_data"
    },
    {
     "data": {
      "text/html": [
       "<pre style=\"white-space:pre;overflow-x:auto;line-height:normal;font-family:Menlo,'DejaVu Sans Mono',consolas,'Courier New',monospace\">ABC: <span style=\"color: #800080; text-decoration-color: #800080; font-weight: bold\">Scl_LibertyReadGenlib</span><span style=\"font-weight: bold\">()</span> skipped sequential cell <span style=\"color: #008000; text-decoration-color: #008000\">\"sky130_fd_sc_hd__dfstp_4\"</span>.\n",
       "</pre>\n"
      ],
      "text/plain": [
       "ABC: \u001b[1;35mScl_LibertyReadGenlib\u001b[0m\u001b[1m(\u001b[0m\u001b[1m)\u001b[0m skipped sequential cell \u001b[32m\"sky130_fd_sc_hd__dfstp_4\"\u001b[0m.\n"
      ]
     },
     "metadata": {},
     "output_type": "display_data"
    },
    {
     "data": {
      "text/html": [
       "<pre style=\"white-space:pre;overflow-x:auto;line-height:normal;font-family:Menlo,'DejaVu Sans Mono',consolas,'Courier New',monospace\">ABC: <span style=\"color: #800080; text-decoration-color: #800080; font-weight: bold\">Scl_LibertyReadGenlib</span><span style=\"font-weight: bold\">()</span> skipped sequential cell <span style=\"color: #008000; text-decoration-color: #008000\">\"sky130_fd_sc_hd__dfxbp_2\"</span>.\n",
       "</pre>\n"
      ],
      "text/plain": [
       "ABC: \u001b[1;35mScl_LibertyReadGenlib\u001b[0m\u001b[1m(\u001b[0m\u001b[1m)\u001b[0m skipped sequential cell \u001b[32m\"sky130_fd_sc_hd__dfxbp_2\"\u001b[0m.\n"
      ]
     },
     "metadata": {},
     "output_type": "display_data"
    },
    {
     "data": {
      "text/html": [
       "<pre style=\"white-space:pre;overflow-x:auto;line-height:normal;font-family:Menlo,'DejaVu Sans Mono',consolas,'Courier New',monospace\">ABC: <span style=\"color: #800080; text-decoration-color: #800080; font-weight: bold\">Scl_LibertyReadGenlib</span><span style=\"font-weight: bold\">()</span> skipped sequential cell <span style=\"color: #008000; text-decoration-color: #008000\">\"sky130_fd_sc_hd__dfxtp_2\"</span>.\n",
       "</pre>\n"
      ],
      "text/plain": [
       "ABC: \u001b[1;35mScl_LibertyReadGenlib\u001b[0m\u001b[1m(\u001b[0m\u001b[1m)\u001b[0m skipped sequential cell \u001b[32m\"sky130_fd_sc_hd__dfxtp_2\"\u001b[0m.\n"
      ]
     },
     "metadata": {},
     "output_type": "display_data"
    },
    {
     "data": {
      "text/html": [
       "<pre style=\"white-space:pre;overflow-x:auto;line-height:normal;font-family:Menlo,'DejaVu Sans Mono',consolas,'Courier New',monospace\">ABC: <span style=\"color: #800080; text-decoration-color: #800080; font-weight: bold\">Scl_LibertyReadGenlib</span><span style=\"font-weight: bold\">()</span> skipped sequential cell <span style=\"color: #008000; text-decoration-color: #008000\">\"sky130_fd_sc_hd__dfxtp_4\"</span>.\n",
       "</pre>\n"
      ],
      "text/plain": [
       "ABC: \u001b[1;35mScl_LibertyReadGenlib\u001b[0m\u001b[1m(\u001b[0m\u001b[1m)\u001b[0m skipped sequential cell \u001b[32m\"sky130_fd_sc_hd__dfxtp_4\"\u001b[0m.\n"
      ]
     },
     "metadata": {},
     "output_type": "display_data"
    },
    {
     "data": {
      "text/html": [
       "<pre style=\"white-space:pre;overflow-x:auto;line-height:normal;font-family:Menlo,'DejaVu Sans Mono',consolas,'Courier New',monospace\">ABC: <span style=\"color: #800080; text-decoration-color: #800080; font-weight: bold\">Scl_LibertyReadGenlib</span><span style=\"font-weight: bold\">()</span> skipped sequential cell <span style=\"color: #008000; text-decoration-color: #008000\">\"sky130_fd_sc_hd__dlxtn_1\"</span>.\n",
       "</pre>\n"
      ],
      "text/plain": [
       "ABC: \u001b[1;35mScl_LibertyReadGenlib\u001b[0m\u001b[1m(\u001b[0m\u001b[1m)\u001b[0m skipped sequential cell \u001b[32m\"sky130_fd_sc_hd__dlxtn_1\"\u001b[0m.\n"
      ]
     },
     "metadata": {},
     "output_type": "display_data"
    },
    {
     "data": {
      "text/html": [
       "<pre style=\"white-space:pre;overflow-x:auto;line-height:normal;font-family:Menlo,'DejaVu Sans Mono',consolas,'Courier New',monospace\">ABC: <span style=\"color: #800080; text-decoration-color: #800080; font-weight: bold\">Scl_LibertyReadGenlib</span><span style=\"font-weight: bold\">()</span> skipped sequential cell <span style=\"color: #008000; text-decoration-color: #008000\">\"sky130_fd_sc_hd__dlxtn_2\"</span>.\n",
       "</pre>\n"
      ],
      "text/plain": [
       "ABC: \u001b[1;35mScl_LibertyReadGenlib\u001b[0m\u001b[1m(\u001b[0m\u001b[1m)\u001b[0m skipped sequential cell \u001b[32m\"sky130_fd_sc_hd__dlxtn_2\"\u001b[0m.\n"
      ]
     },
     "metadata": {},
     "output_type": "display_data"
    },
    {
     "data": {
      "text/html": [
       "<pre style=\"white-space:pre;overflow-x:auto;line-height:normal;font-family:Menlo,'DejaVu Sans Mono',consolas,'Courier New',monospace\">ABC: <span style=\"color: #800080; text-decoration-color: #800080; font-weight: bold\">Scl_LibertyReadGenlib</span><span style=\"font-weight: bold\">()</span> skipped sequential cell <span style=\"color: #008000; text-decoration-color: #008000\">\"sky130_fd_sc_hd__dlxtn_4\"</span>.\n",
       "</pre>\n"
      ],
      "text/plain": [
       "ABC: \u001b[1;35mScl_LibertyReadGenlib\u001b[0m\u001b[1m(\u001b[0m\u001b[1m)\u001b[0m skipped sequential cell \u001b[32m\"sky130_fd_sc_hd__dlxtn_4\"\u001b[0m.\n"
      ]
     },
     "metadata": {},
     "output_type": "display_data"
    },
    {
     "data": {
      "text/html": [
       "<pre style=\"white-space:pre;overflow-x:auto;line-height:normal;font-family:Menlo,'DejaVu Sans Mono',consolas,'Courier New',monospace\">ABC: <span style=\"color: #800080; text-decoration-color: #800080; font-weight: bold\">Scl_LibertyReadGenlib</span><span style=\"font-weight: bold\">()</span> skipped sequential cell <span style=\"color: #008000; text-decoration-color: #008000\">\"sky130_fd_sc_hd__dlxtp_1\"</span>.\n",
       "</pre>\n"
      ],
      "text/plain": [
       "ABC: \u001b[1;35mScl_LibertyReadGenlib\u001b[0m\u001b[1m(\u001b[0m\u001b[1m)\u001b[0m skipped sequential cell \u001b[32m\"sky130_fd_sc_hd__dlxtp_1\"\u001b[0m.\n"
      ]
     },
     "metadata": {},
     "output_type": "display_data"
    },
    {
     "data": {
      "text/html": [
       "<pre style=\"white-space:pre;overflow-x:auto;line-height:normal;font-family:Menlo,'DejaVu Sans Mono',consolas,'Courier New',monospace\">ABC: <span style=\"color: #800080; text-decoration-color: #800080; font-weight: bold\">Scl_LibertyReadGenlib</span><span style=\"font-weight: bold\">()</span> skipped three-state cell <span style=\"color: #008000; text-decoration-color: #008000\">\"sky130_fd_sc_hd__ebufn_2\"</span>.\n",
       "</pre>\n"
      ],
      "text/plain": [
       "ABC: \u001b[1;35mScl_LibertyReadGenlib\u001b[0m\u001b[1m(\u001b[0m\u001b[1m)\u001b[0m skipped three-state cell \u001b[32m\"sky130_fd_sc_hd__ebufn_2\"\u001b[0m.\n"
      ]
     },
     "metadata": {},
     "output_type": "display_data"
    },
    {
     "data": {
      "text/html": [
       "<pre style=\"white-space:pre;overflow-x:auto;line-height:normal;font-family:Menlo,'DejaVu Sans Mono',consolas,'Courier New',monospace\">ABC: <span style=\"color: #800080; text-decoration-color: #800080; font-weight: bold\">Scl_LibertyReadGenlib</span><span style=\"font-weight: bold\">()</span> skipped three-state cell <span style=\"color: #008000; text-decoration-color: #008000\">\"sky130_fd_sc_hd__ebufn_4\"</span>.\n",
       "</pre>\n"
      ],
      "text/plain": [
       "ABC: \u001b[1;35mScl_LibertyReadGenlib\u001b[0m\u001b[1m(\u001b[0m\u001b[1m)\u001b[0m skipped three-state cell \u001b[32m\"sky130_fd_sc_hd__ebufn_4\"\u001b[0m.\n"
      ]
     },
     "metadata": {},
     "output_type": "display_data"
    },
    {
     "data": {
      "text/html": [
       "<pre style=\"white-space:pre;overflow-x:auto;line-height:normal;font-family:Menlo,'DejaVu Sans Mono',consolas,'Courier New',monospace\">ABC: <span style=\"color: #800080; text-decoration-color: #800080; font-weight: bold\">Scl_LibertyReadGenlib</span><span style=\"font-weight: bold\">()</span> skipped three-state cell <span style=\"color: #008000; text-decoration-color: #008000\">\"sky130_fd_sc_hd__ebufn_8\"</span>.\n",
       "</pre>\n"
      ],
      "text/plain": [
       "ABC: \u001b[1;35mScl_LibertyReadGenlib\u001b[0m\u001b[1m(\u001b[0m\u001b[1m)\u001b[0m skipped three-state cell \u001b[32m\"sky130_fd_sc_hd__ebufn_8\"\u001b[0m.\n"
      ]
     },
     "metadata": {},
     "output_type": "display_data"
    },
    {
     "data": {
      "text/html": [
       "<pre style=\"white-space:pre;overflow-x:auto;line-height:normal;font-family:Menlo,'DejaVu Sans Mono',consolas,'Courier New',monospace\">ABC: Library <span style=\"color: #008000; text-decoration-color: #008000\">\"sky130_fd_sc_hd__tt_025C_1v80\"</span> from \n",
       "<span style=\"color: #008000; text-decoration-color: #008000\">\"/home/donn/efabless/openlane2/examples/spm/run/tmp/1253325b58e54c66b8f6b98937d4dbd5.lib\"</span> has <span style=\"color: #008080; text-decoration-color: #008080; font-weight: bold\">175</span> cells <span style=\"font-weight: bold\">(</span><span style=\"color: #008080; text-decoration-color: #008080; font-weight: bold\">17</span> \n",
       "skipped: <span style=\"color: #008080; text-decoration-color: #008080; font-weight: bold\">14</span> seq; <span style=\"color: #008080; text-decoration-color: #008080; font-weight: bold\">3</span> tri-state; <span style=\"color: #008080; text-decoration-color: #008080; font-weight: bold\">0</span> no func; <span style=\"color: #008080; text-decoration-color: #008080; font-weight: bold\">0</span> dont_use<span style=\"font-weight: bold\">)</span>.  Time =     <span style=\"color: #008080; text-decoration-color: #008080; font-weight: bold\">0.08</span> sec\n",
       "</pre>\n"
      ],
      "text/plain": [
       "ABC: Library \u001b[32m\"sky130_fd_sc_hd__tt_025C_1v80\"\u001b[0m from \n",
       "\u001b[32m\"/home/donn/efabless/openlane2/examples/spm/run/tmp/1253325b58e54c66b8f6b98937d4dbd5.lib\"\u001b[0m has \u001b[1;36m175\u001b[0m cells \u001b[1m(\u001b[0m\u001b[1;36m17\u001b[0m \n",
       "skipped: \u001b[1;36m14\u001b[0m seq; \u001b[1;36m3\u001b[0m tri-state; \u001b[1;36m0\u001b[0m no func; \u001b[1;36m0\u001b[0m dont_use\u001b[1m)\u001b[0m.  Time =     \u001b[1;36m0.08\u001b[0m sec\n"
      ]
     },
     "metadata": {},
     "output_type": "display_data"
    },
    {
     "data": {
      "text/html": [
       "<pre style=\"white-space:pre;overflow-x:auto;line-height:normal;font-family:Menlo,'DejaVu Sans Mono',consolas,'Courier New',monospace\">ABC: Memory =    <span style=\"color: #008080; text-decoration-color: #008080; font-weight: bold\">9.54</span> MB. Time =     <span style=\"color: #008080; text-decoration-color: #008080; font-weight: bold\">0.08</span> sec\n",
       "</pre>\n"
      ],
      "text/plain": [
       "ABC: Memory =    \u001b[1;36m9.54\u001b[0m MB. Time =     \u001b[1;36m0.08\u001b[0m sec\n"
      ]
     },
     "metadata": {},
     "output_type": "display_data"
    },
    {
     "data": {
      "text/html": [
       "<pre style=\"white-space:pre;overflow-x:auto;line-height:normal;font-family:Menlo,'DejaVu Sans Mono',consolas,'Courier New',monospace\">ABC: Warning: Detected <span style=\"color: #008080; text-decoration-color: #008080; font-weight: bold\">2</span> multi-output gates <span style=\"font-weight: bold\">(</span>for example, <span style=\"color: #008000; text-decoration-color: #008000\">\"sky130_fd_sc_hd__fa_1\"</span><span style=\"font-weight: bold\">)</span>.\n",
       "</pre>\n"
      ],
      "text/plain": [
       "ABC: Warning: Detected \u001b[1;36m2\u001b[0m multi-output gates \u001b[1m(\u001b[0mfor example, \u001b[32m\"sky130_fd_sc_hd__fa_1\"\u001b[0m\u001b[1m)\u001b[0m.\n"
      ]
     },
     "metadata": {},
     "output_type": "display_data"
    },
    {
     "data": {
      "text/html": [
       "<pre style=\"white-space:pre;overflow-x:auto;line-height:normal;font-family:Menlo,'DejaVu Sans Mono',consolas,'Courier New',monospace\">ABC: + read_constr -v <span style=\"color: #800080; text-decoration-color: #800080\">/home/donn/efabless/openlane2/examples/spm/run/1-yosys-synthesis/</span><span style=\"color: #ff00ff; text-decoration-color: #ff00ff\">synthesis.sdc</span>\n",
       "</pre>\n"
      ],
      "text/plain": [
       "ABC: + read_constr -v \u001b[35m/home/donn/efabless/openlane2/examples/spm/run/1-yosys-synthesis/\u001b[0m\u001b[95msynthesis.sdc\u001b[0m\n"
      ]
     },
     "metadata": {},
     "output_type": "display_data"
    },
    {
     "data": {
      "text/html": [
       "<pre style=\"white-space:pre;overflow-x:auto;line-height:normal;font-family:Menlo,'DejaVu Sans Mono',consolas,'Courier New',monospace\">ABC: Setting driving cell to be <span style=\"color: #008000; text-decoration-color: #008000\">\"sky130_fd_sc_hd__inv_2/Y\"</span>.\n",
       "</pre>\n"
      ],
      "text/plain": [
       "ABC: Setting driving cell to be \u001b[32m\"sky130_fd_sc_hd__inv_2/Y\"\u001b[0m.\n"
      ]
     },
     "metadata": {},
     "output_type": "display_data"
    },
    {
     "data": {
      "text/html": [
       "<pre style=\"white-space:pre;overflow-x:auto;line-height:normal;font-family:Menlo,'DejaVu Sans Mono',consolas,'Courier New',monospace\">ABC: Setting output load to be <span style=\"color: #008080; text-decoration-color: #008080; font-weight: bold\">33.442001</span>.\n",
       "</pre>\n"
      ],
      "text/plain": [
       "ABC: Setting output load to be \u001b[1;36m33.442001\u001b[0m.\n"
      ]
     },
     "metadata": {},
     "output_type": "display_data"
    },
    {
     "data": {
      "text/html": [
       "<pre style=\"white-space:pre;overflow-x:auto;line-height:normal;font-family:Menlo,'DejaVu Sans Mono',consolas,'Courier New',monospace\">ABC: + read_constr <span style=\"color: #800080; text-decoration-color: #800080\">/home/donn/efabless/openlane2/examples/spm/run/1-yosys-synthesis/</span><span style=\"color: #ff00ff; text-decoration-color: #ff00ff\">synthesis.sdc</span>\n",
       "</pre>\n"
      ],
      "text/plain": [
       "ABC: + read_constr \u001b[35m/home/donn/efabless/openlane2/examples/spm/run/1-yosys-synthesis/\u001b[0m\u001b[95msynthesis.sdc\u001b[0m\n"
      ]
     },
     "metadata": {},
     "output_type": "display_data"
    },
    {
     "data": {
      "text/html": [
       "<pre style=\"white-space:pre;overflow-x:auto;line-height:normal;font-family:Menlo,'DejaVu Sans Mono',consolas,'Courier New',monospace\">ABC: + fx\n",
       "</pre>\n"
      ],
      "text/plain": [
       "ABC: + fx\n"
      ]
     },
     "metadata": {},
     "output_type": "display_data"
    },
    {
     "data": {
      "text/html": [
       "<pre style=\"white-space:pre;overflow-x:auto;line-height:normal;font-family:Menlo,'DejaVu Sans Mono',consolas,'Courier New',monospace\">ABC: + mfs\n",
       "</pre>\n"
      ],
      "text/plain": [
       "ABC: + mfs\n"
      ]
     },
     "metadata": {},
     "output_type": "display_data"
    },
    {
     "data": {
      "text/html": [
       "<pre style=\"white-space:pre;overflow-x:auto;line-height:normal;font-family:Menlo,'DejaVu Sans Mono',consolas,'Courier New',monospace\">ABC: + strash\n",
       "</pre>\n"
      ],
      "text/plain": [
       "ABC: + strash\n"
      ]
     },
     "metadata": {},
     "output_type": "display_data"
    },
    {
     "data": {
      "text/html": [
       "<pre style=\"white-space:pre;overflow-x:auto;line-height:normal;font-family:Menlo,'DejaVu Sans Mono',consolas,'Courier New',monospace\">ABC: + refactor\n",
       "</pre>\n"
      ],
      "text/plain": [
       "ABC: + refactor\n"
      ]
     },
     "metadata": {},
     "output_type": "display_data"
    },
    {
     "data": {
      "text/html": [
       "<pre style=\"white-space:pre;overflow-x:auto;line-height:normal;font-family:Menlo,'DejaVu Sans Mono',consolas,'Courier New',monospace\">ABC: + balance\n",
       "</pre>\n"
      ],
      "text/plain": [
       "ABC: + balance\n"
      ]
     },
     "metadata": {},
     "output_type": "display_data"
    },
    {
     "data": {
      "text/html": [
       "<pre style=\"white-space:pre;overflow-x:auto;line-height:normal;font-family:Menlo,'DejaVu Sans Mono',consolas,'Courier New',monospace\">ABC: + rewrite\n",
       "</pre>\n"
      ],
      "text/plain": [
       "ABC: + rewrite\n"
      ]
     },
     "metadata": {},
     "output_type": "display_data"
    },
    {
     "data": {
      "text/html": [
       "<pre style=\"white-space:pre;overflow-x:auto;line-height:normal;font-family:Menlo,'DejaVu Sans Mono',consolas,'Courier New',monospace\">ABC: + refactor\n",
       "</pre>\n"
      ],
      "text/plain": [
       "ABC: + refactor\n"
      ]
     },
     "metadata": {},
     "output_type": "display_data"
    },
    {
     "data": {
      "text/html": [
       "<pre style=\"white-space:pre;overflow-x:auto;line-height:normal;font-family:Menlo,'DejaVu Sans Mono',consolas,'Courier New',monospace\">ABC: + balance\n",
       "</pre>\n"
      ],
      "text/plain": [
       "ABC: + balance\n"
      ]
     },
     "metadata": {},
     "output_type": "display_data"
    },
    {
     "data": {
      "text/html": [
       "<pre style=\"white-space:pre;overflow-x:auto;line-height:normal;font-family:Menlo,'DejaVu Sans Mono',consolas,'Courier New',monospace\">ABC: + rewrite\n",
       "</pre>\n"
      ],
      "text/plain": [
       "ABC: + rewrite\n"
      ]
     },
     "metadata": {},
     "output_type": "display_data"
    },
    {
     "data": {
      "text/html": [
       "<pre style=\"white-space:pre;overflow-x:auto;line-height:normal;font-family:Menlo,'DejaVu Sans Mono',consolas,'Courier New',monospace\">ABC: + rewrite -z\n",
       "</pre>\n"
      ],
      "text/plain": [
       "ABC: + rewrite -z\n"
      ]
     },
     "metadata": {},
     "output_type": "display_data"
    },
    {
     "data": {
      "text/html": [
       "<pre style=\"white-space:pre;overflow-x:auto;line-height:normal;font-family:Menlo,'DejaVu Sans Mono',consolas,'Courier New',monospace\">ABC: + balance\n",
       "</pre>\n"
      ],
      "text/plain": [
       "ABC: + balance\n"
      ]
     },
     "metadata": {},
     "output_type": "display_data"
    },
    {
     "data": {
      "text/html": [
       "<pre style=\"white-space:pre;overflow-x:auto;line-height:normal;font-family:Menlo,'DejaVu Sans Mono',consolas,'Courier New',monospace\">ABC: + refactor -z\n",
       "</pre>\n"
      ],
      "text/plain": [
       "ABC: + refactor -z\n"
      ]
     },
     "metadata": {},
     "output_type": "display_data"
    },
    {
     "data": {
      "text/html": [
       "<pre style=\"white-space:pre;overflow-x:auto;line-height:normal;font-family:Menlo,'DejaVu Sans Mono',consolas,'Courier New',monospace\">ABC: + rewrite -z\n",
       "</pre>\n"
      ],
      "text/plain": [
       "ABC: + rewrite -z\n"
      ]
     },
     "metadata": {},
     "output_type": "display_data"
    },
    {
     "data": {
      "text/html": [
       "<pre style=\"white-space:pre;overflow-x:auto;line-height:normal;font-family:Menlo,'DejaVu Sans Mono',consolas,'Courier New',monospace\">ABC: + balance\n",
       "</pre>\n"
      ],
      "text/plain": [
       "ABC: + balance\n"
      ]
     },
     "metadata": {},
     "output_type": "display_data"
    },
    {
     "data": {
      "text/html": [
       "<pre style=\"white-space:pre;overflow-x:auto;line-height:normal;font-family:Menlo,'DejaVu Sans Mono',consolas,'Courier New',monospace\">ABC: + retime -D -D <span style=\"color: #008080; text-decoration-color: #008080; font-weight: bold\">10000</span> -M <span style=\"color: #008080; text-decoration-color: #008080; font-weight: bold\">5</span>\n",
       "</pre>\n"
      ],
      "text/plain": [
       "ABC: + retime -D -D \u001b[1;36m10000\u001b[0m -M \u001b[1;36m5\u001b[0m\n"
      ]
     },
     "metadata": {},
     "output_type": "display_data"
    },
    {
     "data": {
      "text/html": [
       "<pre style=\"white-space:pre;overflow-x:auto;line-height:normal;font-family:Menlo,'DejaVu Sans Mono',consolas,'Courier New',monospace\">ABC: + scleanup\n",
       "</pre>\n"
      ],
      "text/plain": [
       "ABC: + scleanup\n"
      ]
     },
     "metadata": {},
     "output_type": "display_data"
    },
    {
     "data": {
      "text/html": [
       "<pre style=\"white-space:pre;overflow-x:auto;line-height:normal;font-family:Menlo,'DejaVu Sans Mono',consolas,'Courier New',monospace\">ABC: Error: The network is combinational.\n",
       "</pre>\n"
      ],
      "text/plain": [
       "ABC: Error: The network is combinational.\n"
      ]
     },
     "metadata": {},
     "output_type": "display_data"
    },
    {
     "data": {
      "text/html": [
       "<pre style=\"white-space:pre;overflow-x:auto;line-height:normal;font-family:Menlo,'DejaVu Sans Mono',consolas,'Courier New',monospace\">ABC: + fraig_store\n",
       "</pre>\n"
      ],
      "text/plain": [
       "ABC: + fraig_store\n"
      ]
     },
     "metadata": {},
     "output_type": "display_data"
    },
    {
     "data": {
      "text/html": [
       "<pre style=\"white-space:pre;overflow-x:auto;line-height:normal;font-family:Menlo,'DejaVu Sans Mono',consolas,'Courier New',monospace\">ABC: + balance\n",
       "</pre>\n"
      ],
      "text/plain": [
       "ABC: + balance\n"
      ]
     },
     "metadata": {},
     "output_type": "display_data"
    },
    {
     "data": {
      "text/html": [
       "<pre style=\"white-space:pre;overflow-x:auto;line-height:normal;font-family:Menlo,'DejaVu Sans Mono',consolas,'Courier New',monospace\">ABC: + fraig_store\n",
       "</pre>\n"
      ],
      "text/plain": [
       "ABC: + fraig_store\n"
      ]
     },
     "metadata": {},
     "output_type": "display_data"
    },
    {
     "data": {
      "text/html": [
       "<pre style=\"white-space:pre;overflow-x:auto;line-height:normal;font-family:Menlo,'DejaVu Sans Mono',consolas,'Courier New',monospace\">ABC: + balance\n",
       "</pre>\n"
      ],
      "text/plain": [
       "ABC: + balance\n"
      ]
     },
     "metadata": {},
     "output_type": "display_data"
    },
    {
     "data": {
      "text/html": [
       "<pre style=\"white-space:pre;overflow-x:auto;line-height:normal;font-family:Menlo,'DejaVu Sans Mono',consolas,'Courier New',monospace\">ABC: + rewrite\n",
       "</pre>\n"
      ],
      "text/plain": [
       "ABC: + rewrite\n"
      ]
     },
     "metadata": {},
     "output_type": "display_data"
    },
    {
     "data": {
      "text/html": [
       "<pre style=\"white-space:pre;overflow-x:auto;line-height:normal;font-family:Menlo,'DejaVu Sans Mono',consolas,'Courier New',monospace\">ABC: + refactor\n",
       "</pre>\n"
      ],
      "text/plain": [
       "ABC: + refactor\n"
      ]
     },
     "metadata": {},
     "output_type": "display_data"
    },
    {
     "data": {
      "text/html": [
       "<pre style=\"white-space:pre;overflow-x:auto;line-height:normal;font-family:Menlo,'DejaVu Sans Mono',consolas,'Courier New',monospace\">ABC: + balance\n",
       "</pre>\n"
      ],
      "text/plain": [
       "ABC: + balance\n"
      ]
     },
     "metadata": {},
     "output_type": "display_data"
    },
    {
     "data": {
      "text/html": [
       "<pre style=\"white-space:pre;overflow-x:auto;line-height:normal;font-family:Menlo,'DejaVu Sans Mono',consolas,'Courier New',monospace\">ABC: + rewrite\n",
       "</pre>\n"
      ],
      "text/plain": [
       "ABC: + rewrite\n"
      ]
     },
     "metadata": {},
     "output_type": "display_data"
    },
    {
     "data": {
      "text/html": [
       "<pre style=\"white-space:pre;overflow-x:auto;line-height:normal;font-family:Menlo,'DejaVu Sans Mono',consolas,'Courier New',monospace\">ABC: + rewrite -z\n",
       "</pre>\n"
      ],
      "text/plain": [
       "ABC: + rewrite -z\n"
      ]
     },
     "metadata": {},
     "output_type": "display_data"
    },
    {
     "data": {
      "text/html": [
       "<pre style=\"white-space:pre;overflow-x:auto;line-height:normal;font-family:Menlo,'DejaVu Sans Mono',consolas,'Courier New',monospace\">ABC: + balance\n",
       "</pre>\n"
      ],
      "text/plain": [
       "ABC: + balance\n"
      ]
     },
     "metadata": {},
     "output_type": "display_data"
    },
    {
     "data": {
      "text/html": [
       "<pre style=\"white-space:pre;overflow-x:auto;line-height:normal;font-family:Menlo,'DejaVu Sans Mono',consolas,'Courier New',monospace\">ABC: + refactor -z\n",
       "</pre>\n"
      ],
      "text/plain": [
       "ABC: + refactor -z\n"
      ]
     },
     "metadata": {},
     "output_type": "display_data"
    },
    {
     "data": {
      "text/html": [
       "<pre style=\"white-space:pre;overflow-x:auto;line-height:normal;font-family:Menlo,'DejaVu Sans Mono',consolas,'Courier New',monospace\">ABC: + rewrite -z\n",
       "</pre>\n"
      ],
      "text/plain": [
       "ABC: + rewrite -z\n"
      ]
     },
     "metadata": {},
     "output_type": "display_data"
    },
    {
     "data": {
      "text/html": [
       "<pre style=\"white-space:pre;overflow-x:auto;line-height:normal;font-family:Menlo,'DejaVu Sans Mono',consolas,'Courier New',monospace\">ABC: + balance\n",
       "</pre>\n"
      ],
      "text/plain": [
       "ABC: + balance\n"
      ]
     },
     "metadata": {},
     "output_type": "display_data"
    },
    {
     "data": {
      "text/html": [
       "<pre style=\"white-space:pre;overflow-x:auto;line-height:normal;font-family:Menlo,'DejaVu Sans Mono',consolas,'Courier New',monospace\">ABC: + fraig_store\n",
       "</pre>\n"
      ],
      "text/plain": [
       "ABC: + fraig_store\n"
      ]
     },
     "metadata": {},
     "output_type": "display_data"
    },
    {
     "data": {
      "text/html": [
       "<pre style=\"white-space:pre;overflow-x:auto;line-height:normal;font-family:Menlo,'DejaVu Sans Mono',consolas,'Courier New',monospace\">ABC: + balance\n",
       "</pre>\n"
      ],
      "text/plain": [
       "ABC: + balance\n"
      ]
     },
     "metadata": {},
     "output_type": "display_data"
    },
    {
     "data": {
      "text/html": [
       "<pre style=\"white-space:pre;overflow-x:auto;line-height:normal;font-family:Menlo,'DejaVu Sans Mono',consolas,'Courier New',monospace\">ABC: + rewrite\n",
       "</pre>\n"
      ],
      "text/plain": [
       "ABC: + rewrite\n"
      ]
     },
     "metadata": {},
     "output_type": "display_data"
    },
    {
     "data": {
      "text/html": [
       "<pre style=\"white-space:pre;overflow-x:auto;line-height:normal;font-family:Menlo,'DejaVu Sans Mono',consolas,'Courier New',monospace\">ABC: + refactor\n",
       "</pre>\n"
      ],
      "text/plain": [
       "ABC: + refactor\n"
      ]
     },
     "metadata": {},
     "output_type": "display_data"
    },
    {
     "data": {
      "text/html": [
       "<pre style=\"white-space:pre;overflow-x:auto;line-height:normal;font-family:Menlo,'DejaVu Sans Mono',consolas,'Courier New',monospace\">ABC: + balance\n",
       "</pre>\n"
      ],
      "text/plain": [
       "ABC: + balance\n"
      ]
     },
     "metadata": {},
     "output_type": "display_data"
    },
    {
     "data": {
      "text/html": [
       "<pre style=\"white-space:pre;overflow-x:auto;line-height:normal;font-family:Menlo,'DejaVu Sans Mono',consolas,'Courier New',monospace\">ABC: + rewrite\n",
       "</pre>\n"
      ],
      "text/plain": [
       "ABC: + rewrite\n"
      ]
     },
     "metadata": {},
     "output_type": "display_data"
    },
    {
     "data": {
      "text/html": [
       "<pre style=\"white-space:pre;overflow-x:auto;line-height:normal;font-family:Menlo,'DejaVu Sans Mono',consolas,'Courier New',monospace\">ABC: + rewrite -z\n",
       "</pre>\n"
      ],
      "text/plain": [
       "ABC: + rewrite -z\n"
      ]
     },
     "metadata": {},
     "output_type": "display_data"
    },
    {
     "data": {
      "text/html": [
       "<pre style=\"white-space:pre;overflow-x:auto;line-height:normal;font-family:Menlo,'DejaVu Sans Mono',consolas,'Courier New',monospace\">ABC: + balance\n",
       "</pre>\n"
      ],
      "text/plain": [
       "ABC: + balance\n"
      ]
     },
     "metadata": {},
     "output_type": "display_data"
    },
    {
     "data": {
      "text/html": [
       "<pre style=\"white-space:pre;overflow-x:auto;line-height:normal;font-family:Menlo,'DejaVu Sans Mono',consolas,'Courier New',monospace\">ABC: + refactor -z\n",
       "</pre>\n"
      ],
      "text/plain": [
       "ABC: + refactor -z\n"
      ]
     },
     "metadata": {},
     "output_type": "display_data"
    },
    {
     "data": {
      "text/html": [
       "<pre style=\"white-space:pre;overflow-x:auto;line-height:normal;font-family:Menlo,'DejaVu Sans Mono',consolas,'Courier New',monospace\">ABC: + rewrite -z\n",
       "</pre>\n"
      ],
      "text/plain": [
       "ABC: + rewrite -z\n"
      ]
     },
     "metadata": {},
     "output_type": "display_data"
    },
    {
     "data": {
      "text/html": [
       "<pre style=\"white-space:pre;overflow-x:auto;line-height:normal;font-family:Menlo,'DejaVu Sans Mono',consolas,'Courier New',monospace\">ABC: + balance\n",
       "</pre>\n"
      ],
      "text/plain": [
       "ABC: + balance\n"
      ]
     },
     "metadata": {},
     "output_type": "display_data"
    },
    {
     "data": {
      "text/html": [
       "<pre style=\"white-space:pre;overflow-x:auto;line-height:normal;font-family:Menlo,'DejaVu Sans Mono',consolas,'Courier New',monospace\">ABC: + fraig_store\n",
       "</pre>\n"
      ],
      "text/plain": [
       "ABC: + fraig_store\n"
      ]
     },
     "metadata": {},
     "output_type": "display_data"
    },
    {
     "data": {
      "text/html": [
       "<pre style=\"white-space:pre;overflow-x:auto;line-height:normal;font-family:Menlo,'DejaVu Sans Mono',consolas,'Courier New',monospace\">ABC: + balance\n",
       "</pre>\n"
      ],
      "text/plain": [
       "ABC: + balance\n"
      ]
     },
     "metadata": {},
     "output_type": "display_data"
    },
    {
     "data": {
      "text/html": [
       "<pre style=\"white-space:pre;overflow-x:auto;line-height:normal;font-family:Menlo,'DejaVu Sans Mono',consolas,'Courier New',monospace\">ABC: + rewrite\n",
       "</pre>\n"
      ],
      "text/plain": [
       "ABC: + rewrite\n"
      ]
     },
     "metadata": {},
     "output_type": "display_data"
    },
    {
     "data": {
      "text/html": [
       "<pre style=\"white-space:pre;overflow-x:auto;line-height:normal;font-family:Menlo,'DejaVu Sans Mono',consolas,'Courier New',monospace\">ABC: + refactor\n",
       "</pre>\n"
      ],
      "text/plain": [
       "ABC: + refactor\n"
      ]
     },
     "metadata": {},
     "output_type": "display_data"
    },
    {
     "data": {
      "text/html": [
       "<pre style=\"white-space:pre;overflow-x:auto;line-height:normal;font-family:Menlo,'DejaVu Sans Mono',consolas,'Courier New',monospace\">ABC: + balance\n",
       "</pre>\n"
      ],
      "text/plain": [
       "ABC: + balance\n"
      ]
     },
     "metadata": {},
     "output_type": "display_data"
    },
    {
     "data": {
      "text/html": [
       "<pre style=\"white-space:pre;overflow-x:auto;line-height:normal;font-family:Menlo,'DejaVu Sans Mono',consolas,'Courier New',monospace\">ABC: + rewrite\n",
       "</pre>\n"
      ],
      "text/plain": [
       "ABC: + rewrite\n"
      ]
     },
     "metadata": {},
     "output_type": "display_data"
    },
    {
     "data": {
      "text/html": [
       "<pre style=\"white-space:pre;overflow-x:auto;line-height:normal;font-family:Menlo,'DejaVu Sans Mono',consolas,'Courier New',monospace\">ABC: + rewrite -z\n",
       "</pre>\n"
      ],
      "text/plain": [
       "ABC: + rewrite -z\n"
      ]
     },
     "metadata": {},
     "output_type": "display_data"
    },
    {
     "data": {
      "text/html": [
       "<pre style=\"white-space:pre;overflow-x:auto;line-height:normal;font-family:Menlo,'DejaVu Sans Mono',consolas,'Courier New',monospace\">ABC: + balance\n",
       "</pre>\n"
      ],
      "text/plain": [
       "ABC: + balance\n"
      ]
     },
     "metadata": {},
     "output_type": "display_data"
    },
    {
     "data": {
      "text/html": [
       "<pre style=\"white-space:pre;overflow-x:auto;line-height:normal;font-family:Menlo,'DejaVu Sans Mono',consolas,'Courier New',monospace\">ABC: + refactor -z\n",
       "</pre>\n"
      ],
      "text/plain": [
       "ABC: + refactor -z\n"
      ]
     },
     "metadata": {},
     "output_type": "display_data"
    },
    {
     "data": {
      "text/html": [
       "<pre style=\"white-space:pre;overflow-x:auto;line-height:normal;font-family:Menlo,'DejaVu Sans Mono',consolas,'Courier New',monospace\">ABC: + rewrite -z\n",
       "</pre>\n"
      ],
      "text/plain": [
       "ABC: + rewrite -z\n"
      ]
     },
     "metadata": {},
     "output_type": "display_data"
    },
    {
     "data": {
      "text/html": [
       "<pre style=\"white-space:pre;overflow-x:auto;line-height:normal;font-family:Menlo,'DejaVu Sans Mono',consolas,'Courier New',monospace\">ABC: + balance\n",
       "</pre>\n"
      ],
      "text/plain": [
       "ABC: + balance\n"
      ]
     },
     "metadata": {},
     "output_type": "display_data"
    },
    {
     "data": {
      "text/html": [
       "<pre style=\"white-space:pre;overflow-x:auto;line-height:normal;font-family:Menlo,'DejaVu Sans Mono',consolas,'Courier New',monospace\">ABC: + fraig_store\n",
       "</pre>\n"
      ],
      "text/plain": [
       "ABC: + fraig_store\n"
      ]
     },
     "metadata": {},
     "output_type": "display_data"
    },
    {
     "data": {
      "text/html": [
       "<pre style=\"white-space:pre;overflow-x:auto;line-height:normal;font-family:Menlo,'DejaVu Sans Mono',consolas,'Courier New',monospace\">ABC: + fraig_restore\n",
       "</pre>\n"
      ],
      "text/plain": [
       "ABC: + fraig_restore\n"
      ]
     },
     "metadata": {},
     "output_type": "display_data"
    },
    {
     "data": {
      "text/html": [
       "<pre style=\"white-space:pre;overflow-x:auto;line-height:normal;font-family:Menlo,'DejaVu Sans Mono',consolas,'Courier New',monospace\">ABC: + amap -m -Q <span style=\"color: #008080; text-decoration-color: #008080; font-weight: bold\">0.1</span> -F <span style=\"color: #008080; text-decoration-color: #008080; font-weight: bold\">20</span> -A <span style=\"color: #008080; text-decoration-color: #008080; font-weight: bold\">20</span> -C <span style=\"color: #008080; text-decoration-color: #008080; font-weight: bold\">5000</span>\n",
       "</pre>\n"
      ],
      "text/plain": [
       "ABC: + amap -m -Q \u001b[1;36m0.1\u001b[0m -F \u001b[1;36m20\u001b[0m -A \u001b[1;36m20\u001b[0m -C \u001b[1;36m5000\u001b[0m\n"
      ]
     },
     "metadata": {},
     "output_type": "display_data"
    },
    {
     "data": {
      "text/html": [
       "<pre style=\"white-space:pre;overflow-x:auto;line-height:normal;font-family:Menlo,'DejaVu Sans Mono',consolas,'Courier New',monospace\">ABC: + retime -D -D <span style=\"color: #008080; text-decoration-color: #008080; font-weight: bold\">10000</span>\n",
       "</pre>\n"
      ],
      "text/plain": [
       "ABC: + retime -D -D \u001b[1;36m10000\u001b[0m\n"
      ]
     },
     "metadata": {},
     "output_type": "display_data"
    },
    {
     "data": {
      "text/html": [
       "<pre style=\"white-space:pre;overflow-x:auto;line-height:normal;font-family:Menlo,'DejaVu Sans Mono',consolas,'Courier New',monospace\">ABC: + &amp;get -n\n",
       "</pre>\n"
      ],
      "text/plain": [
       "ABC: + &get -n\n"
      ]
     },
     "metadata": {},
     "output_type": "display_data"
    },
    {
     "data": {
      "text/html": [
       "<pre style=\"white-space:pre;overflow-x:auto;line-height:normal;font-family:Menlo,'DejaVu Sans Mono',consolas,'Courier New',monospace\">ABC: + &amp;st\n",
       "</pre>\n"
      ],
      "text/plain": [
       "ABC: + &st\n"
      ]
     },
     "metadata": {},
     "output_type": "display_data"
    },
    {
     "data": {
      "text/html": [
       "<pre style=\"white-space:pre;overflow-x:auto;line-height:normal;font-family:Menlo,'DejaVu Sans Mono',consolas,'Courier New',monospace\">ABC: + &amp;dch\n",
       "</pre>\n"
      ],
      "text/plain": [
       "ABC: + &dch\n"
      ]
     },
     "metadata": {},
     "output_type": "display_data"
    },
    {
     "data": {
      "text/html": [
       "<pre style=\"white-space:pre;overflow-x:auto;line-height:normal;font-family:Menlo,'DejaVu Sans Mono',consolas,'Courier New',monospace\">ABC: + &amp;nf\n",
       "</pre>\n"
      ],
      "text/plain": [
       "ABC: + &nf\n"
      ]
     },
     "metadata": {},
     "output_type": "display_data"
    },
    {
     "data": {
      "text/html": [
       "<pre style=\"white-space:pre;overflow-x:auto;line-height:normal;font-family:Menlo,'DejaVu Sans Mono',consolas,'Courier New',monospace\">ABC: + &amp;put\n",
       "</pre>\n"
      ],
      "text/plain": [
       "ABC: + &put\n"
      ]
     },
     "metadata": {},
     "output_type": "display_data"
    },
    {
     "data": {
      "text/html": [
       "<pre style=\"white-space:pre;overflow-x:auto;line-height:normal;font-family:Menlo,'DejaVu Sans Mono',consolas,'Courier New',monospace\">ABC: + buffer -N <span style=\"color: #008080; text-decoration-color: #008080; font-weight: bold\">10</span> -S <span style=\"color: #008080; text-decoration-color: #008080; font-weight: bold\">1000.0</span>\n",
       "</pre>\n"
      ],
      "text/plain": [
       "ABC: + buffer -N \u001b[1;36m10\u001b[0m -S \u001b[1;36m1000.0\u001b[0m\n"
      ]
     },
     "metadata": {},
     "output_type": "display_data"
    },
    {
     "data": {
      "text/html": [
       "<pre style=\"white-space:pre;overflow-x:auto;line-height:normal;font-family:Menlo,'DejaVu Sans Mono',consolas,'Courier New',monospace\">ABC: Cannot find the default PI driving cell <span style=\"font-weight: bold\">(</span>sky130_fd_sc_hd__inv_2/Y<span style=\"font-weight: bold\">)</span> in the library.\n",
       "</pre>\n"
      ],
      "text/plain": [
       "ABC: Cannot find the default PI driving cell \u001b[1m(\u001b[0msky130_fd_sc_hd__inv_2/Y\u001b[1m)\u001b[0m in the library.\n"
      ]
     },
     "metadata": {},
     "output_type": "display_data"
    },
    {
     "data": {
      "text/html": [
       "<pre style=\"white-space:pre;overflow-x:auto;line-height:normal;font-family:Menlo,'DejaVu Sans Mono',consolas,'Courier New',monospace\">ABC: + upsize -D <span style=\"color: #008080; text-decoration-color: #008080; font-weight: bold\">10000</span>\n",
       "</pre>\n"
      ],
      "text/plain": [
       "ABC: + upsize -D \u001b[1;36m10000\u001b[0m\n"
      ]
     },
     "metadata": {},
     "output_type": "display_data"
    },
    {
     "data": {
      "text/html": [
       "<pre style=\"white-space:pre;overflow-x:auto;line-height:normal;font-family:Menlo,'DejaVu Sans Mono',consolas,'Courier New',monospace\">ABC: Cannot find the default PI driving cell <span style=\"font-weight: bold\">(</span>sky130_fd_sc_hd__inv_2/Y<span style=\"font-weight: bold\">)</span> in the library.\n",
       "</pre>\n"
      ],
      "text/plain": [
       "ABC: Cannot find the default PI driving cell \u001b[1m(\u001b[0msky130_fd_sc_hd__inv_2/Y\u001b[1m)\u001b[0m in the library.\n"
      ]
     },
     "metadata": {},
     "output_type": "display_data"
    },
    {
     "data": {
      "text/html": [
       "<pre style=\"white-space:pre;overflow-x:auto;line-height:normal;font-family:Menlo,'DejaVu Sans Mono',consolas,'Courier New',monospace\">ABC: Current delay <span style=\"font-weight: bold\">(</span><span style=\"color: #008080; text-decoration-color: #008080; font-weight: bold\">550.44</span> ps<span style=\"font-weight: bold\">)</span> does not exceed the target delay <span style=\"font-weight: bold\">(</span><span style=\"color: #008080; text-decoration-color: #008080; font-weight: bold\">10000.00</span> ps<span style=\"font-weight: bold\">)</span>. Upsizing is not performed.\n",
       "</pre>\n"
      ],
      "text/plain": [
       "ABC: Current delay \u001b[1m(\u001b[0m\u001b[1;36m550.44\u001b[0m ps\u001b[1m)\u001b[0m does not exceed the target delay \u001b[1m(\u001b[0m\u001b[1;36m10000.00\u001b[0m ps\u001b[1m)\u001b[0m. Upsizing is not performed.\n"
      ]
     },
     "metadata": {},
     "output_type": "display_data"
    },
    {
     "data": {
      "text/html": [
       "<pre style=\"white-space:pre;overflow-x:auto;line-height:normal;font-family:Menlo,'DejaVu Sans Mono',consolas,'Courier New',monospace\">ABC: + dnsize -D <span style=\"color: #008080; text-decoration-color: #008080; font-weight: bold\">10000</span>\n",
       "</pre>\n"
      ],
      "text/plain": [
       "ABC: + dnsize -D \u001b[1;36m10000\u001b[0m\n"
      ]
     },
     "metadata": {},
     "output_type": "display_data"
    },
    {
     "data": {
      "text/html": [
       "<pre style=\"white-space:pre;overflow-x:auto;line-height:normal;font-family:Menlo,'DejaVu Sans Mono',consolas,'Courier New',monospace\">ABC: Cannot find the default PI driving cell <span style=\"font-weight: bold\">(</span>sky130_fd_sc_hd__inv_2/Y<span style=\"font-weight: bold\">)</span> in the library.\n",
       "</pre>\n"
      ],
      "text/plain": [
       "ABC: Cannot find the default PI driving cell \u001b[1m(\u001b[0msky130_fd_sc_hd__inv_2/Y\u001b[1m)\u001b[0m in the library.\n"
      ]
     },
     "metadata": {},
     "output_type": "display_data"
    },
    {
     "data": {
      "text/html": [
       "<pre style=\"white-space:pre;overflow-x:auto;line-height:normal;font-family:Menlo,'DejaVu Sans Mono',consolas,'Courier New',monospace\">ABC: + stime -p\n",
       "</pre>\n"
      ],
      "text/plain": [
       "ABC: + stime -p\n"
      ]
     },
     "metadata": {},
     "output_type": "display_data"
    },
    {
     "data": {
      "text/html": [
       "<pre style=\"white-space:pre;overflow-x:auto;line-height:normal;font-family:Menlo,'DejaVu Sans Mono',consolas,'Courier New',monospace\">ABC: Cannot find the default PI driving cell <span style=\"font-weight: bold\">(</span>sky130_fd_sc_hd__inv_2/Y<span style=\"font-weight: bold\">)</span> in the library.\n",
       "</pre>\n"
      ],
      "text/plain": [
       "ABC: Cannot find the default PI driving cell \u001b[1m(\u001b[0msky130_fd_sc_hd__inv_2/Y\u001b[1m)\u001b[0m in the library.\n"
      ]
     },
     "metadata": {},
     "output_type": "display_data"
    },
    {
     "data": {
      "text/html": [
       "<pre style=\"white-space:pre;overflow-x:auto;line-height:normal;font-family:Menlo,'DejaVu Sans Mono',consolas,'Courier New',monospace\">ABC: WireLoad = <span style=\"color: #008000; text-decoration-color: #008000\">\"none\"</span>  Gates =    <span style=\"color: #008080; text-decoration-color: #008080; font-weight: bold\">223</span> <span style=\"font-weight: bold\">(</span> <span style=\"color: #008080; text-decoration-color: #008080; font-weight: bold\">29.1</span> %<span style=\"font-weight: bold\">)</span>   Cap = <span style=\"color: #008080; text-decoration-color: #008080; font-weight: bold\">19.7</span> ff <span style=\"font-weight: bold\">(</span>  <span style=\"color: #008080; text-decoration-color: #008080; font-weight: bold\">3.7</span> %<span style=\"font-weight: bold\">)</span>   Area =     <span style=\"color: #008080; text-decoration-color: #008080; font-weight: bold\">1976.90</span> <span style=\"font-weight: bold\">(</span> <span style=\"color: #008080; text-decoration-color: #008080; font-weight: bold\">70.9</span> %<span style=\"font-weight: bold\">)</span>   Delay =\n",
       "<span style=\"color: #008080; text-decoration-color: #008080; font-weight: bold\">695.54</span> ps  <span style=\"font-weight: bold\">(</span>  <span style=\"color: #008080; text-decoration-color: #008080; font-weight: bold\">1.3</span> %<span style=\"font-weight: bold\">)</span>\n",
       "</pre>\n"
      ],
      "text/plain": [
       "ABC: WireLoad = \u001b[32m\"none\"\u001b[0m  Gates =    \u001b[1;36m223\u001b[0m \u001b[1m(\u001b[0m \u001b[1;36m29.1\u001b[0m %\u001b[1m)\u001b[0m   Cap = \u001b[1;36m19.7\u001b[0m ff \u001b[1m(\u001b[0m  \u001b[1;36m3.7\u001b[0m %\u001b[1m)\u001b[0m   Area =     \u001b[1;36m1976.90\u001b[0m \u001b[1m(\u001b[0m \u001b[1;36m70.9\u001b[0m %\u001b[1m)\u001b[0m   Delay =\n",
       "\u001b[1;36m695.54\u001b[0m ps  \u001b[1m(\u001b[0m  \u001b[1;36m1.3\u001b[0m %\u001b[1m)\u001b[0m\n"
      ]
     },
     "metadata": {},
     "output_type": "display_data"
    },
    {
     "data": {
      "text/html": [
       "<pre style=\"white-space:pre;overflow-x:auto;line-height:normal;font-family:Menlo,'DejaVu Sans Mono',consolas,'Courier New',monospace\">ABC: Path  <span style=\"color: #008080; text-decoration-color: #008080; font-weight: bold\">0</span> --       <span style=\"color: #008080; text-decoration-color: #008080; font-weight: bold\">5</span> : <span style=\"color: #008080; text-decoration-color: #008080; font-weight: bold\">0</span>    <span style=\"color: #008080; text-decoration-color: #008080; font-weight: bold\">2</span> pi                      A =   <span style=\"color: #008080; text-decoration-color: #008080; font-weight: bold\">0.00</span>  Df =   <span style=\"color: #008080; text-decoration-color: #008080; font-weight: bold\">0.0</span>   <span style=\"color: #008080; text-decoration-color: #008080; font-weight: bold\">-0.0</span> ps  S =   <span style=\"color: #008080; text-decoration-color: #008080; font-weight: bold\">0.0</span> ps  Cin =  <span style=\"color: #008080; text-decoration-color: #008080; font-weight: bold\">0.0</span>\n",
       "ff  Cout =   <span style=\"color: #008080; text-decoration-color: #008080; font-weight: bold\">7.0</span> ff  Cmax =   <span style=\"color: #008080; text-decoration-color: #008080; font-weight: bold\">0.0</span> ff  G =    <span style=\"color: #008080; text-decoration-color: #008080; font-weight: bold\">0</span>\n",
       "</pre>\n"
      ],
      "text/plain": [
       "ABC: Path  \u001b[1;36m0\u001b[0m --       \u001b[1;36m5\u001b[0m : \u001b[1;36m0\u001b[0m    \u001b[1;36m2\u001b[0m pi                      A =   \u001b[1;36m0.00\u001b[0m  Df =   \u001b[1;36m0.0\u001b[0m   \u001b[1;36m-0.0\u001b[0m ps  S =   \u001b[1;36m0.0\u001b[0m ps  Cin =  \u001b[1;36m0.0\u001b[0m\n",
       "ff  Cout =   \u001b[1;36m7.0\u001b[0m ff  Cmax =   \u001b[1;36m0.0\u001b[0m ff  G =    \u001b[1;36m0\u001b[0m\n"
      ]
     },
     "metadata": {},
     "output_type": "display_data"
    },
    {
     "data": {
      "text/html": [
       "<pre style=\"white-space:pre;overflow-x:auto;line-height:normal;font-family:Menlo,'DejaVu Sans Mono',consolas,'Courier New',monospace\">ABC: Path  <span style=\"color: #008080; text-decoration-color: #008080; font-weight: bold\">1</span> --     <span style=\"color: #008080; text-decoration-color: #008080; font-weight: bold\">231</span> : <span style=\"color: #008080; text-decoration-color: #008080; font-weight: bold\">3</span>    <span style=\"color: #008080; text-decoration-color: #008080; font-weight: bold\">2</span> sky130_fd_sc_hd__a21o_2 A =   <span style=\"color: #008080; text-decoration-color: #008080; font-weight: bold\">8.76</span>  Df = <span style=\"color: #008080; text-decoration-color: #008080; font-weight: bold\">269.1</span>  <span style=\"color: #008080; text-decoration-color: #008080; font-weight: bold\">-58.1</span> ps  S = <span style=\"color: #008080; text-decoration-color: #008080; font-weight: bold\">180.6</span> ps  Cin =  <span style=\"color: #008080; text-decoration-color: #008080; font-weight: bold\">2.4</span>\n",
       "ff  Cout =  <span style=\"color: #008080; text-decoration-color: #008080; font-weight: bold\">34.9</span> ff  Cmax = <span style=\"color: #008080; text-decoration-color: #008080; font-weight: bold\">309.5</span> ff  G = <span style=\"color: #008080; text-decoration-color: #008080; font-weight: bold\">1483</span>\n",
       "</pre>\n"
      ],
      "text/plain": [
       "ABC: Path  \u001b[1;36m1\u001b[0m --     \u001b[1;36m231\u001b[0m : \u001b[1;36m3\u001b[0m    \u001b[1;36m2\u001b[0m sky130_fd_sc_hd__a21o_2 A =   \u001b[1;36m8.76\u001b[0m  Df = \u001b[1;36m269.1\u001b[0m  \u001b[1;36m-58.1\u001b[0m ps  S = \u001b[1;36m180.6\u001b[0m ps  Cin =  \u001b[1;36m2.4\u001b[0m\n",
       "ff  Cout =  \u001b[1;36m34.9\u001b[0m ff  Cmax = \u001b[1;36m309.5\u001b[0m ff  G = \u001b[1;36m1483\u001b[0m\n"
      ]
     },
     "metadata": {},
     "output_type": "display_data"
    },
    {
     "data": {
      "text/html": [
       "<pre style=\"white-space:pre;overflow-x:auto;line-height:normal;font-family:Menlo,'DejaVu Sans Mono',consolas,'Courier New',monospace\">ABC: Path  <span style=\"color: #008080; text-decoration-color: #008080; font-weight: bold\">2</span> --     <span style=\"color: #008080; text-decoration-color: #008080; font-weight: bold\">233</span> : <span style=\"color: #008080; text-decoration-color: #008080; font-weight: bold\">2</span>    <span style=\"color: #008080; text-decoration-color: #008080; font-weight: bold\">1</span> sky130_fd_sc_hd__and2_2 A =   <span style=\"color: #008080; text-decoration-color: #008080; font-weight: bold\">7.51</span>  Df = <span style=\"color: #008080; text-decoration-color: #008080; font-weight: bold\">454.8</span>  <span style=\"color: #008080; text-decoration-color: #008080; font-weight: bold\">-79.2</span> ps  S =  <span style=\"color: #008080; text-decoration-color: #008080; font-weight: bold\">36.3</span> ps  Cin =  <span style=\"color: #008080; text-decoration-color: #008080; font-weight: bold\">1.5</span>\n",
       "ff  Cout =   <span style=\"color: #008080; text-decoration-color: #008080; font-weight: bold\">2.2</span> ff  Cmax = <span style=\"color: #008080; text-decoration-color: #008080; font-weight: bold\">303.0</span> ff  G =  <span style=\"color: #008080; text-decoration-color: #008080; font-weight: bold\">143</span>\n",
       "</pre>\n"
      ],
      "text/plain": [
       "ABC: Path  \u001b[1;36m2\u001b[0m --     \u001b[1;36m233\u001b[0m : \u001b[1;36m2\u001b[0m    \u001b[1;36m1\u001b[0m sky130_fd_sc_hd__and2_2 A =   \u001b[1;36m7.51\u001b[0m  Df = \u001b[1;36m454.8\u001b[0m  \u001b[1;36m-79.2\u001b[0m ps  S =  \u001b[1;36m36.3\u001b[0m ps  Cin =  \u001b[1;36m1.5\u001b[0m\n",
       "ff  Cout =   \u001b[1;36m2.2\u001b[0m ff  Cmax = \u001b[1;36m303.0\u001b[0m ff  G =  \u001b[1;36m143\u001b[0m\n"
      ]
     },
     "metadata": {},
     "output_type": "display_data"
    },
    {
     "data": {
      "text/html": [
       "<pre style=\"white-space:pre;overflow-x:auto;line-height:normal;font-family:Menlo,'DejaVu Sans Mono',consolas,'Courier New',monospace\">ABC: Path  <span style=\"color: #008080; text-decoration-color: #008080; font-weight: bold\">3</span> --     <span style=\"color: #008080; text-decoration-color: #008080; font-weight: bold\">234</span> : <span style=\"color: #008080; text-decoration-color: #008080; font-weight: bold\">1</span>    <span style=\"color: #008080; text-decoration-color: #008080; font-weight: bold\">1</span> sky130_fd_sc_hd__buf_1  A =   <span style=\"color: #008080; text-decoration-color: #008080; font-weight: bold\">3.75</span>  Df = <span style=\"color: #008080; text-decoration-color: #008080; font-weight: bold\">695.5</span>  <span style=\"color: #008080; text-decoration-color: #008080; font-weight: bold\">-26.6</span> ps  S = <span style=\"color: #008080; text-decoration-color: #008080; font-weight: bold\">396.3</span> ps  Cin =  <span style=\"color: #008080; text-decoration-color: #008080; font-weight: bold\">2.1</span>\n",
       "ff  Cout =  <span style=\"color: #008080; text-decoration-color: #008080; font-weight: bold\">33.4</span> ff  Cmax = <span style=\"color: #008080; text-decoration-color: #008080; font-weight: bold\">130.0</span> ff  G = <span style=\"color: #008080; text-decoration-color: #008080; font-weight: bold\">1590</span>\n",
       "</pre>\n"
      ],
      "text/plain": [
       "ABC: Path  \u001b[1;36m3\u001b[0m --     \u001b[1;36m234\u001b[0m : \u001b[1;36m1\u001b[0m    \u001b[1;36m1\u001b[0m sky130_fd_sc_hd__buf_1  A =   \u001b[1;36m3.75\u001b[0m  Df = \u001b[1;36m695.5\u001b[0m  \u001b[1;36m-26.6\u001b[0m ps  S = \u001b[1;36m396.3\u001b[0m ps  Cin =  \u001b[1;36m2.1\u001b[0m\n",
       "ff  Cout =  \u001b[1;36m33.4\u001b[0m ff  Cmax = \u001b[1;36m130.0\u001b[0m ff  G = \u001b[1;36m1590\u001b[0m\n"
      ]
     },
     "metadata": {},
     "output_type": "display_data"
    },
    {
     "data": {
      "text/html": [
       "<pre style=\"white-space:pre;overflow-x:auto;line-height:normal;font-family:Menlo,'DejaVu Sans Mono',consolas,'Courier New',monospace\">ABC: Start-point = pi4 <span style=\"font-weight: bold\">(</span>\\x <span style=\"font-weight: bold\">[</span><span style=\"color: #008080; text-decoration-color: #008080; font-weight: bold\">31</span><span style=\"font-weight: bold\">])</span>.  End-point = po2 <span style=\"font-weight: bold\">(</span>$abc$<span style=\"color: #008080; text-decoration-color: #008080; font-weight: bold\">376</span>$flatten\\tcmp.$<span style=\"color: #008080; text-decoration-color: #008080; font-weight: bold\">0</span>\\s<span style=\"font-weight: bold\">[</span><span style=\"color: #00ff00; text-decoration-color: #00ff00; font-weight: bold\">0:0</span><span style=\"font-weight: bold\">])</span>.\n",
       "</pre>\n"
      ],
      "text/plain": [
       "ABC: Start-point = pi4 \u001b[1m(\u001b[0m\\x \u001b[1m[\u001b[0m\u001b[1;36m31\u001b[0m\u001b[1m]\u001b[0m\u001b[1m)\u001b[0m.  End-point = po2 \u001b[1m(\u001b[0m$abc$\u001b[1;36m376\u001b[0m$flatten\\tcmp.$\u001b[1;36m0\u001b[0m\\s\u001b[1m[\u001b[0m\u001b[1;92m0:0\u001b[0m\u001b[1m]\u001b[0m\u001b[1m)\u001b[0m.\n"
      ]
     },
     "metadata": {},
     "output_type": "display_data"
    },
    {
     "data": {
      "text/html": [
       "<pre style=\"white-space:pre;overflow-x:auto;line-height:normal;font-family:Menlo,'DejaVu Sans Mono',consolas,'Courier New',monospace\">ABC: + print_stats -m\n",
       "</pre>\n"
      ],
      "text/plain": [
       "ABC: + print_stats -m\n"
      ]
     },
     "metadata": {},
     "output_type": "display_data"
    },
    {
     "data": {
      "text/html": [
       "<pre style=\"white-space:pre;overflow-x:auto;line-height:normal;font-family:Menlo,'DejaVu Sans Mono',consolas,'Courier New',monospace\">ABC: netlist                       : i/o =   <span style=\"color: #008080; text-decoration-color: #008080; font-weight: bold\">97</span>/  <span style=\"color: #008080; text-decoration-color: #008080; font-weight: bold\">128</span>  lat =    <span style=\"color: #008080; text-decoration-color: #008080; font-weight: bold\">0</span>  nd =   <span style=\"color: #008080; text-decoration-color: #008080; font-weight: bold\">223</span>  edge =    <span style=\"color: #008080; text-decoration-color: #008080; font-weight: bold\">445</span>  area =<span style=\"color: #008080; text-decoration-color: #008080; font-weight: bold\">1977.20</span>  delay \n",
       "= <span style=\"color: #008080; text-decoration-color: #008080; font-weight: bold\">3.00</span>  lev = <span style=\"color: #008080; text-decoration-color: #008080; font-weight: bold\">3</span>\n",
       "</pre>\n"
      ],
      "text/plain": [
       "ABC: netlist                       : i/o =   \u001b[1;36m97\u001b[0m/  \u001b[1;36m128\u001b[0m  lat =    \u001b[1;36m0\u001b[0m  nd =   \u001b[1;36m223\u001b[0m  edge =    \u001b[1;36m445\u001b[0m  area =\u001b[1;36m1977.20\u001b[0m  delay \n",
       "= \u001b[1;36m3.00\u001b[0m  lev = \u001b[1;36m3\u001b[0m\n"
      ]
     },
     "metadata": {},
     "output_type": "display_data"
    },
    {
     "data": {
      "text/html": [
       "<pre style=\"white-space:pre;overflow-x:auto;line-height:normal;font-family:Menlo,'DejaVu Sans Mono',consolas,'Courier New',monospace\">ABC: + write_blif <span style=\"color: #800080; text-decoration-color: #800080\">/run/user/1000/yosys-abc-xOHBsv/</span><span style=\"color: #ff00ff; text-decoration-color: #ff00ff\">output.blif</span>\n",
       "</pre>\n"
      ],
      "text/plain": [
       "ABC: + write_blif \u001b[35m/run/user/1000/yosys-abc-xOHBsv/\u001b[0m\u001b[95moutput.blif\u001b[0m\n"
      ]
     },
     "metadata": {},
     "output_type": "display_data"
    },
    {
     "data": {
      "text/html": [
       "<pre style=\"white-space:pre;overflow-x:auto;line-height:normal;font-family:Menlo,'DejaVu Sans Mono',consolas,'Courier New',monospace\">\n",
       "</pre>\n"
      ],
      "text/plain": [
       "\n"
      ]
     },
     "metadata": {},
     "output_type": "display_data"
    },
    {
     "data": {
      "text/html": [
       "<pre style=\"white-space:pre;overflow-x:auto;line-height:normal;font-family:Menlo,'DejaVu Sans Mono',consolas,'Courier New',monospace\"><span style=\"color: #008080; text-decoration-color: #008080; font-weight: bold\">12.1</span>.<span style=\"color: #008080; text-decoration-color: #008080; font-weight: bold\">2</span>. Re-integrating ABC results.\n",
       "</pre>\n"
      ],
      "text/plain": [
       "\u001b[1;36m12.1\u001b[0m.\u001b[1;36m2\u001b[0m. Re-integrating ABC results.\n"
      ]
     },
     "metadata": {},
     "output_type": "display_data"
    },
    {
     "data": {
      "text/html": [
       "<pre style=\"white-space:pre;overflow-x:auto;line-height:normal;font-family:Menlo,'DejaVu Sans Mono',consolas,'Courier New',monospace\">ABC RESULTS:   sky130_fd_sc_hd__a21o_2 cells:        <span style=\"color: #008080; text-decoration-color: #008080; font-weight: bold\">1</span>\n",
       "</pre>\n"
      ],
      "text/plain": [
       "ABC RESULTS:   sky130_fd_sc_hd__a21o_2 cells:        \u001b[1;36m1\u001b[0m\n"
      ]
     },
     "metadata": {},
     "output_type": "display_data"
    },
    {
     "data": {
      "text/html": [
       "<pre style=\"white-space:pre;overflow-x:auto;line-height:normal;font-family:Menlo,'DejaVu Sans Mono',consolas,'Courier New',monospace\">ABC RESULTS:   sky130_fd_sc_hd__nand3_2 cells:        <span style=\"color: #008080; text-decoration-color: #008080; font-weight: bold\">1</span>\n",
       "</pre>\n"
      ],
      "text/plain": [
       "ABC RESULTS:   sky130_fd_sc_hd__nand3_2 cells:        \u001b[1;36m1\u001b[0m\n"
      ]
     },
     "metadata": {},
     "output_type": "display_data"
    },
    {
     "data": {
      "text/html": [
       "<pre style=\"white-space:pre;overflow-x:auto;line-height:normal;font-family:Menlo,'DejaVu Sans Mono',consolas,'Courier New',monospace\">ABC RESULTS:   sky130_fd_sc_hd__buf_1 cells:        <span style=\"color: #008080; text-decoration-color: #008080; font-weight: bold\">1</span>\n",
       "</pre>\n"
      ],
      "text/plain": [
       "ABC RESULTS:   sky130_fd_sc_hd__buf_1 cells:        \u001b[1;36m1\u001b[0m\n"
      ]
     },
     "metadata": {},
     "output_type": "display_data"
    },
    {
     "data": {
      "text/html": [
       "<pre style=\"white-space:pre;overflow-x:auto;line-height:normal;font-family:Menlo,'DejaVu Sans Mono',consolas,'Courier New',monospace\">ABC RESULTS:   sky130_fd_sc_hd__xor2_2 cells:       <span style=\"color: #008080; text-decoration-color: #008080; font-weight: bold\">31</span>\n",
       "</pre>\n"
      ],
      "text/plain": [
       "ABC RESULTS:   sky130_fd_sc_hd__xor2_2 cells:       \u001b[1;36m31\u001b[0m\n"
      ]
     },
     "metadata": {},
     "output_type": "display_data"
    },
    {
     "data": {
      "text/html": [
       "<pre style=\"white-space:pre;overflow-x:auto;line-height:normal;font-family:Menlo,'DejaVu Sans Mono',consolas,'Courier New',monospace\">ABC RESULTS:   sky130_fd_sc_hd__and2_2 cells:       <span style=\"color: #008080; text-decoration-color: #008080; font-weight: bold\">32</span>\n",
       "</pre>\n"
      ],
      "text/plain": [
       "ABC RESULTS:   sky130_fd_sc_hd__and2_2 cells:       \u001b[1;36m32\u001b[0m\n"
      ]
     },
     "metadata": {},
     "output_type": "display_data"
    },
    {
     "data": {
      "text/html": [
       "<pre style=\"white-space:pre;overflow-x:auto;line-height:normal;font-family:Menlo,'DejaVu Sans Mono',consolas,'Courier New',monospace\">ABC RESULTS:   sky130_fd_sc_hd__a31o_2 cells:       <span style=\"color: #008080; text-decoration-color: #008080; font-weight: bold\">31</span>\n",
       "</pre>\n"
      ],
      "text/plain": [
       "ABC RESULTS:   sky130_fd_sc_hd__a31o_2 cells:       \u001b[1;36m31\u001b[0m\n"
      ]
     },
     "metadata": {},
     "output_type": "display_data"
    },
    {
     "data": {
      "text/html": [
       "<pre style=\"white-space:pre;overflow-x:auto;line-height:normal;font-family:Menlo,'DejaVu Sans Mono',consolas,'Courier New',monospace\">ABC RESULTS:   sky130_fd_sc_hd__nand2_2 cells:       <span style=\"color: #008080; text-decoration-color: #008080; font-weight: bold\">31</span>\n",
       "</pre>\n"
      ],
      "text/plain": [
       "ABC RESULTS:   sky130_fd_sc_hd__nand2_2 cells:       \u001b[1;36m31\u001b[0m\n"
      ]
     },
     "metadata": {},
     "output_type": "display_data"
    },
    {
     "data": {
      "text/html": [
       "<pre style=\"white-space:pre;overflow-x:auto;line-height:normal;font-family:Menlo,'DejaVu Sans Mono',consolas,'Courier New',monospace\">ABC RESULTS:   sky130_fd_sc_hd__xnor2_2 cells:       <span style=\"color: #008080; text-decoration-color: #008080; font-weight: bold\">31</span>\n",
       "</pre>\n"
      ],
      "text/plain": [
       "ABC RESULTS:   sky130_fd_sc_hd__xnor2_2 cells:       \u001b[1;36m31\u001b[0m\n"
      ]
     },
     "metadata": {},
     "output_type": "display_data"
    },
    {
     "data": {
      "text/html": [
       "<pre style=\"white-space:pre;overflow-x:auto;line-height:normal;font-family:Menlo,'DejaVu Sans Mono',consolas,'Courier New',monospace\">ABC RESULTS:   sky130_fd_sc_hd__inv_2 cells:       <span style=\"color: #008080; text-decoration-color: #008080; font-weight: bold\">64</span>\n",
       "</pre>\n"
      ],
      "text/plain": [
       "ABC RESULTS:   sky130_fd_sc_hd__inv_2 cells:       \u001b[1;36m64\u001b[0m\n"
      ]
     },
     "metadata": {},
     "output_type": "display_data"
    },
    {
     "data": {
      "text/html": [
       "<pre style=\"white-space:pre;overflow-x:auto;line-height:normal;font-family:Menlo,'DejaVu Sans Mono',consolas,'Courier New',monospace\">ABC RESULTS:        internal signals:      <span style=\"color: #008080; text-decoration-color: #008080; font-weight: bold\">125</span>\n",
       "</pre>\n"
      ],
      "text/plain": [
       "ABC RESULTS:        internal signals:      \u001b[1;36m125\u001b[0m\n"
      ]
     },
     "metadata": {},
     "output_type": "display_data"
    },
    {
     "data": {
      "text/html": [
       "<pre style=\"white-space:pre;overflow-x:auto;line-height:normal;font-family:Menlo,'DejaVu Sans Mono',consolas,'Courier New',monospace\">ABC RESULTS:           input signals:       <span style=\"color: #008080; text-decoration-color: #008080; font-weight: bold\">97</span>\n",
       "</pre>\n"
      ],
      "text/plain": [
       "ABC RESULTS:           input signals:       \u001b[1;36m97\u001b[0m\n"
      ]
     },
     "metadata": {},
     "output_type": "display_data"
    },
    {
     "data": {
      "text/html": [
       "<pre style=\"white-space:pre;overflow-x:auto;line-height:normal;font-family:Menlo,'DejaVu Sans Mono',consolas,'Courier New',monospace\">ABC RESULTS:          output signals:      <span style=\"color: #008080; text-decoration-color: #008080; font-weight: bold\">128</span>\n",
       "</pre>\n"
      ],
      "text/plain": [
       "ABC RESULTS:          output signals:      \u001b[1;36m128\u001b[0m\n"
      ]
     },
     "metadata": {},
     "output_type": "display_data"
    },
    {
     "data": {
      "text/html": [
       "<pre style=\"white-space:pre;overflow-x:auto;line-height:normal;font-family:Menlo,'DejaVu Sans Mono',consolas,'Courier New',monospace\">Removing temp directory.\n",
       "</pre>\n"
      ],
      "text/plain": [
       "Removing temp directory.\n"
      ]
     },
     "metadata": {},
     "output_type": "display_data"
    },
    {
     "data": {
      "text/html": [
       "<pre style=\"white-space:pre;overflow-x:auto;line-height:normal;font-family:Menlo,'DejaVu Sans Mono',consolas,'Courier New',monospace\">\n",
       "</pre>\n"
      ],
      "text/plain": [
       "\n"
      ]
     },
     "metadata": {},
     "output_type": "display_data"
    },
    {
     "data": {
      "text/html": [
       "<pre style=\"white-space:pre;overflow-x:auto;line-height:normal;font-family:Menlo,'DejaVu Sans Mono',consolas,'Courier New',monospace\"><span style=\"color: #008080; text-decoration-color: #008080; font-weight: bold\">13</span>. Executing SETUNDEF pass <span style=\"font-weight: bold\">(</span>replace undef values with defined constants<span style=\"font-weight: bold\">)</span>.\n",
       "</pre>\n"
      ],
      "text/plain": [
       "\u001b[1;36m13\u001b[0m. Executing SETUNDEF pass \u001b[1m(\u001b[0mreplace undef values with defined constants\u001b[1m)\u001b[0m.\n"
      ]
     },
     "metadata": {},
     "output_type": "display_data"
    },
    {
     "data": {
      "text/html": [
       "<pre style=\"white-space:pre;overflow-x:auto;line-height:normal;font-family:Menlo,'DejaVu Sans Mono',consolas,'Courier New',monospace\">\n",
       "</pre>\n"
      ],
      "text/plain": [
       "\n"
      ]
     },
     "metadata": {},
     "output_type": "display_data"
    },
    {
     "data": {
      "text/html": [
       "<pre style=\"white-space:pre;overflow-x:auto;line-height:normal;font-family:Menlo,'DejaVu Sans Mono',consolas,'Courier New',monospace\"><span style=\"color: #008080; text-decoration-color: #008080; font-weight: bold\">14</span>. Executing HILOMAP pass <span style=\"font-weight: bold\">(</span>mapping to constant drivers<span style=\"font-weight: bold\">)</span>.\n",
       "</pre>\n"
      ],
      "text/plain": [
       "\u001b[1;36m14\u001b[0m. Executing HILOMAP pass \u001b[1m(\u001b[0mmapping to constant drivers\u001b[1m)\u001b[0m.\n"
      ]
     },
     "metadata": {},
     "output_type": "display_data"
    },
    {
     "data": {
      "text/html": [
       "<pre style=\"white-space:pre;overflow-x:auto;line-height:normal;font-family:Menlo,'DejaVu Sans Mono',consolas,'Courier New',monospace\">Warning: Selection <span style=\"color: #008000; text-decoration-color: #008000\">\"sky130_fd_sc_hd__conb_1\"</span> did not match any module.\n",
       "</pre>\n"
      ],
      "text/plain": [
       "Warning: Selection \u001b[32m\"sky130_fd_sc_hd__conb_1\"\u001b[0m did not match any module.\n"
      ]
     },
     "metadata": {},
     "output_type": "display_data"
    },
    {
     "data": {
      "text/html": [
       "<pre style=\"white-space:pre;overflow-x:auto;line-height:normal;font-family:Menlo,'DejaVu Sans Mono',consolas,'Courier New',monospace\">Warning: Selection <span style=\"color: #008000; text-decoration-color: #008000\">\"LO\"</span> did not match any object.\n",
       "</pre>\n"
      ],
      "text/plain": [
       "Warning: Selection \u001b[32m\"LO\"\u001b[0m did not match any object.\n"
      ]
     },
     "metadata": {},
     "output_type": "display_data"
    },
    {
     "data": {
      "text/html": [
       "<pre style=\"white-space:pre;overflow-x:auto;line-height:normal;font-family:Menlo,'DejaVu Sans Mono',consolas,'Courier New',monospace\">\n",
       "</pre>\n"
      ],
      "text/plain": [
       "\n"
      ]
     },
     "metadata": {},
     "output_type": "display_data"
    },
    {
     "data": {
      "text/html": [
       "<pre style=\"white-space:pre;overflow-x:auto;line-height:normal;font-family:Menlo,'DejaVu Sans Mono',consolas,'Courier New',monospace\"><span style=\"color: #008080; text-decoration-color: #008080; font-weight: bold\">15</span>. Executing SPLITNETS pass <span style=\"font-weight: bold\">(</span>splitting up multi-bit signals<span style=\"font-weight: bold\">)</span>.\n",
       "</pre>\n"
      ],
      "text/plain": [
       "\u001b[1;36m15\u001b[0m. Executing SPLITNETS pass \u001b[1m(\u001b[0msplitting up multi-bit signals\u001b[1m)\u001b[0m.\n"
      ]
     },
     "metadata": {},
     "output_type": "display_data"
    },
    {
     "data": {
      "text/html": [
       "<pre style=\"white-space:pre;overflow-x:auto;line-height:normal;font-family:Menlo,'DejaVu Sans Mono',consolas,'Courier New',monospace\">\n",
       "</pre>\n"
      ],
      "text/plain": [
       "\n"
      ]
     },
     "metadata": {},
     "output_type": "display_data"
    },
    {
     "data": {
      "text/html": [
       "<pre style=\"white-space:pre;overflow-x:auto;line-height:normal;font-family:Menlo,'DejaVu Sans Mono',consolas,'Courier New',monospace\"><span style=\"color: #008080; text-decoration-color: #008080; font-weight: bold\">16</span>. Executing OPT_CLEAN pass <span style=\"font-weight: bold\">(</span>remove unused cells and wires<span style=\"font-weight: bold\">)</span>.\n",
       "</pre>\n"
      ],
      "text/plain": [
       "\u001b[1;36m16\u001b[0m. Executing OPT_CLEAN pass \u001b[1m(\u001b[0mremove unused cells and wires\u001b[1m)\u001b[0m.\n"
      ]
     },
     "metadata": {},
     "output_type": "display_data"
    },
    {
     "data": {
      "text/html": [
       "<pre style=\"white-space:pre;overflow-x:auto;line-height:normal;font-family:Menlo,'DejaVu Sans Mono',consolas,'Courier New',monospace\">Finding unused cells or wires in module \\spm..\n",
       "</pre>\n"
      ],
      "text/plain": [
       "Finding unused cells or wires in module \\spm..\n"
      ]
     },
     "metadata": {},
     "output_type": "display_data"
    },
    {
     "data": {
      "text/html": [
       "<pre style=\"white-space:pre;overflow-x:auto;line-height:normal;font-family:Menlo,'DejaVu Sans Mono',consolas,'Courier New',monospace\">Removed <span style=\"color: #008080; text-decoration-color: #008080; font-weight: bold\">0</span> unused cells and <span style=\"color: #008080; text-decoration-color: #008080; font-weight: bold\">350</span> unused wires.\n",
       "</pre>\n"
      ],
      "text/plain": [
       "Removed \u001b[1;36m0\u001b[0m unused cells and \u001b[1;36m350\u001b[0m unused wires.\n"
      ]
     },
     "metadata": {},
     "output_type": "display_data"
    },
    {
     "data": {
      "text/html": [
       "<pre style=\"white-space:pre;overflow-x:auto;line-height:normal;font-family:Menlo,'DejaVu Sans Mono',consolas,'Courier New',monospace\"><span style=\"font-weight: bold\">&lt;</span><span style=\"color: #ff00ff; text-decoration-color: #ff00ff; font-weight: bold\">suppressed</span><span style=\"color: #000000; text-decoration-color: #000000\"> ~</span><span style=\"color: #008080; text-decoration-color: #008080; font-weight: bold\">1</span><span style=\"color: #000000; text-decoration-color: #000000\"> debug messages</span><span style=\"font-weight: bold\">&gt;</span>\n",
       "</pre>\n"
      ],
      "text/plain": [
       "\u001b[1m<\u001b[0m\u001b[1;95msuppressed\u001b[0m\u001b[39m ~\u001b[0m\u001b[1;36m1\u001b[0m\u001b[39m debug messages\u001b[0m\u001b[1m>\u001b[0m\n"
      ]
     },
     "metadata": {},
     "output_type": "display_data"
    },
    {
     "data": {
      "text/html": [
       "<pre style=\"white-space:pre;overflow-x:auto;line-height:normal;font-family:Menlo,'DejaVu Sans Mono',consolas,'Courier New',monospace\">\n",
       "</pre>\n"
      ],
      "text/plain": [
       "\n"
      ]
     },
     "metadata": {},
     "output_type": "display_data"
    },
    {
     "data": {
      "text/html": [
       "<pre style=\"white-space:pre;overflow-x:auto;line-height:normal;font-family:Menlo,'DejaVu Sans Mono',consolas,'Courier New',monospace\"><span style=\"color: #008080; text-decoration-color: #008080; font-weight: bold\">17</span>. Executing INSBUF pass <span style=\"font-weight: bold\">(</span>insert buffer cells for connected wires<span style=\"font-weight: bold\">)</span>.\n",
       "</pre>\n"
      ],
      "text/plain": [
       "\u001b[1;36m17\u001b[0m. Executing INSBUF pass \u001b[1m(\u001b[0minsert buffer cells for connected wires\u001b[1m)\u001b[0m.\n"
      ]
     },
     "metadata": {},
     "output_type": "display_data"
    },
    {
     "data": {
      "text/html": [
       "<pre style=\"white-space:pre;overflow-x:auto;line-height:normal;font-family:Menlo,'DejaVu Sans Mono',consolas,'Courier New',monospace\">\n",
       "</pre>\n"
      ],
      "text/plain": [
       "\n"
      ]
     },
     "metadata": {},
     "output_type": "display_data"
    },
    {
     "data": {
      "text/html": [
       "<pre style=\"white-space:pre;overflow-x:auto;line-height:normal;font-family:Menlo,'DejaVu Sans Mono',consolas,'Courier New',monospace\"><span style=\"color: #008080; text-decoration-color: #008080; font-weight: bold\">18</span>. Executing CHECK pass <span style=\"font-weight: bold\">(</span>checking for obvious problems<span style=\"font-weight: bold\">)</span>.\n",
       "</pre>\n"
      ],
      "text/plain": [
       "\u001b[1;36m18\u001b[0m. Executing CHECK pass \u001b[1m(\u001b[0mchecking for obvious problems\u001b[1m)\u001b[0m.\n"
      ]
     },
     "metadata": {},
     "output_type": "display_data"
    },
    {
     "data": {
      "text/html": [
       "<pre style=\"white-space:pre;overflow-x:auto;line-height:normal;font-family:Menlo,'DejaVu Sans Mono',consolas,'Courier New',monospace\">Checking module spm<span style=\"color: #808000; text-decoration-color: #808000\">...</span>\n",
       "</pre>\n"
      ],
      "text/plain": [
       "Checking module spm\u001b[33m...\u001b[0m\n"
      ]
     },
     "metadata": {},
     "output_type": "display_data"
    },
    {
     "data": {
      "text/html": [
       "<pre style=\"white-space:pre;overflow-x:auto;line-height:normal;font-family:Menlo,'DejaVu Sans Mono',consolas,'Courier New',monospace\">Warning: Wire spm.\\p is used but has no driver.\n",
       "</pre>\n"
      ],
      "text/plain": [
       "Warning: Wire spm.\\p is used but has no driver.\n"
      ]
     },
     "metadata": {},
     "output_type": "display_data"
    },
    {
     "data": {
      "text/html": [
       "<pre style=\"white-space:pre;overflow-x:auto;line-height:normal;font-family:Menlo,'DejaVu Sans Mono',consolas,'Courier New',monospace\">Found and reported <span style=\"color: #008080; text-decoration-color: #008080; font-weight: bold\">1</span> problems.\n",
       "</pre>\n"
      ],
      "text/plain": [
       "Found and reported \u001b[1;36m1\u001b[0m problems.\n"
      ]
     },
     "metadata": {},
     "output_type": "display_data"
    },
    {
     "data": {
      "text/html": [
       "<pre style=\"white-space:pre;overflow-x:auto;line-height:normal;font-family:Menlo,'DejaVu Sans Mono',consolas,'Courier New',monospace\"><span style=\"font-weight: bold\">{</span>\n",
       "</pre>\n"
      ],
      "text/plain": [
       "\u001b[1m{\u001b[0m\n"
      ]
     },
     "metadata": {},
     "output_type": "display_data"
    },
    {
     "data": {
      "text/html": [
       "<pre style=\"white-space:pre;overflow-x:auto;line-height:normal;font-family:Menlo,'DejaVu Sans Mono',consolas,'Courier New',monospace\"><span style=\"color: #008000; text-decoration-color: #008000\">\"creator\"</span>: <span style=\"color: #008000; text-decoration-color: #008000\">\"Yosys 0.26 (git sha1 7e588664e7e, gcc 11.3.0 -fPIC -Os)\"</span>,\n",
       "</pre>\n"
      ],
      "text/plain": [
       "\u001b[32m\"creator\"\u001b[0m: \u001b[32m\"Yosys 0.26 \u001b[0m\u001b[32m(\u001b[0m\u001b[32mgit sha1 7e588664e7e, gcc 11.3.0 -fPIC -Os\u001b[0m\u001b[32m)\u001b[0m\u001b[32m\"\u001b[0m,\n"
      ]
     },
     "metadata": {},
     "output_type": "display_data"
    },
    {
     "data": {
      "text/html": [
       "<pre style=\"white-space:pre;overflow-x:auto;line-height:normal;font-family:Menlo,'DejaVu Sans Mono',consolas,'Courier New',monospace\"><span style=\"color: #008000; text-decoration-color: #008000\">\"invocation\"</span>: <span style=\"color: #008000; text-decoration-color: #008000\">\"stat -top spm -liberty </span>\n",
       "<span style=\"color: #008000; text-decoration-color: #008000\">/home/donn/efabless/openlane2/examples/spm/run/tmp/1253325b58e54c66b8f6b98937d4dbd5.lib -json \"</span>,\n",
       "</pre>\n"
      ],
      "text/plain": [
       "\u001b[32m\"invocation\"\u001b[0m: \u001b[32m\"stat -top spm -liberty \u001b[0m\n",
       "\u001b[32m/home/donn/efabless/openlane2/examples/spm/run/tmp/1253325b58e54c66b8f6b98937d4dbd5.lib -json \"\u001b[0m,\n"
      ]
     },
     "metadata": {},
     "output_type": "display_data"
    },
    {
     "data": {
      "text/html": [
       "<pre style=\"white-space:pre;overflow-x:auto;line-height:normal;font-family:Menlo,'DejaVu Sans Mono',consolas,'Courier New',monospace\"><span style=\"color: #008000; text-decoration-color: #008000\">\"modules\"</span>: <span style=\"font-weight: bold\">{</span>\n",
       "</pre>\n"
      ],
      "text/plain": [
       "\u001b[32m\"modules\"\u001b[0m: \u001b[1m{\u001b[0m\n"
      ]
     },
     "metadata": {},
     "output_type": "display_data"
    },
    {
     "data": {
      "text/html": [
       "<pre style=\"white-space:pre;overflow-x:auto;line-height:normal;font-family:Menlo,'DejaVu Sans Mono',consolas,'Courier New',monospace\"><span style=\"color: #008000; text-decoration-color: #008000\">\"\\\\spm\"</span>: <span style=\"font-weight: bold\">{</span>\n",
       "</pre>\n"
      ],
      "text/plain": [
       "\u001b[32m\"\\\\spm\"\u001b[0m: \u001b[1m{\u001b[0m\n"
      ]
     },
     "metadata": {},
     "output_type": "display_data"
    },
    {
     "data": {
      "text/html": [
       "<pre style=\"white-space:pre;overflow-x:auto;line-height:normal;font-family:Menlo,'DejaVu Sans Mono',consolas,'Courier New',monospace\"><span style=\"color: #008000; text-decoration-color: #008000\">\"num_wires\"</span>:         <span style=\"color: #008080; text-decoration-color: #008080; font-weight: bold\">291</span>,\n",
       "</pre>\n"
      ],
      "text/plain": [
       "\u001b[32m\"num_wires\"\u001b[0m:         \u001b[1;36m291\u001b[0m,\n"
      ]
     },
     "metadata": {},
     "output_type": "display_data"
    },
    {
     "data": {
      "text/html": [
       "<pre style=\"white-space:pre;overflow-x:auto;line-height:normal;font-family:Menlo,'DejaVu Sans Mono',consolas,'Courier New',monospace\"><span style=\"color: #008000; text-decoration-color: #008000\">\"num_wire_bits\"</span>:     <span style=\"color: #008080; text-decoration-color: #008080; font-weight: bold\">322</span>,\n",
       "</pre>\n"
      ],
      "text/plain": [
       "\u001b[32m\"num_wire_bits\"\u001b[0m:     \u001b[1;36m322\u001b[0m,\n"
      ]
     },
     "metadata": {},
     "output_type": "display_data"
    },
    {
     "data": {
      "text/html": [
       "<pre style=\"white-space:pre;overflow-x:auto;line-height:normal;font-family:Menlo,'DejaVu Sans Mono',consolas,'Courier New',monospace\"><span style=\"color: #008000; text-decoration-color: #008000\">\"num_pub_wires\"</span>:     <span style=\"color: #008080; text-decoration-color: #008080; font-weight: bold\">99</span>,\n",
       "</pre>\n"
      ],
      "text/plain": [
       "\u001b[32m\"num_pub_wires\"\u001b[0m:     \u001b[1;36m99\u001b[0m,\n"
      ]
     },
     "metadata": {},
     "output_type": "display_data"
    },
    {
     "data": {
      "text/html": [
       "<pre style=\"white-space:pre;overflow-x:auto;line-height:normal;font-family:Menlo,'DejaVu Sans Mono',consolas,'Courier New',monospace\"><span style=\"color: #008000; text-decoration-color: #008000\">\"num_pub_wire_bits\"</span>: <span style=\"color: #008080; text-decoration-color: #008080; font-weight: bold\">130</span>,\n",
       "</pre>\n"
      ],
      "text/plain": [
       "\u001b[32m\"num_pub_wire_bits\"\u001b[0m: \u001b[1;36m130\u001b[0m,\n"
      ]
     },
     "metadata": {},
     "output_type": "display_data"
    },
    {
     "data": {
      "text/html": [
       "<pre style=\"white-space:pre;overflow-x:auto;line-height:normal;font-family:Menlo,'DejaVu Sans Mono',consolas,'Courier New',monospace\"><span style=\"color: #008000; text-decoration-color: #008000\">\"num_memories\"</span>:      <span style=\"color: #008080; text-decoration-color: #008080; font-weight: bold\">0</span>,\n",
       "</pre>\n"
      ],
      "text/plain": [
       "\u001b[32m\"num_memories\"\u001b[0m:      \u001b[1;36m0\u001b[0m,\n"
      ]
     },
     "metadata": {},
     "output_type": "display_data"
    },
    {
     "data": {
      "text/html": [
       "<pre style=\"white-space:pre;overflow-x:auto;line-height:normal;font-family:Menlo,'DejaVu Sans Mono',consolas,'Courier New',monospace\"><span style=\"color: #008000; text-decoration-color: #008000\">\"num_memory_bits\"</span>:   <span style=\"color: #008080; text-decoration-color: #008080; font-weight: bold\">0</span>,\n",
       "</pre>\n"
      ],
      "text/plain": [
       "\u001b[32m\"num_memory_bits\"\u001b[0m:   \u001b[1;36m0\u001b[0m,\n"
      ]
     },
     "metadata": {},
     "output_type": "display_data"
    },
    {
     "data": {
      "text/html": [
       "<pre style=\"white-space:pre;overflow-x:auto;line-height:normal;font-family:Menlo,'DejaVu Sans Mono',consolas,'Courier New',monospace\"><span style=\"color: #008000; text-decoration-color: #008000\">\"num_processes\"</span>:     <span style=\"color: #008080; text-decoration-color: #008080; font-weight: bold\">0</span>,\n",
       "</pre>\n"
      ],
      "text/plain": [
       "\u001b[32m\"num_processes\"\u001b[0m:     \u001b[1;36m0\u001b[0m,\n"
      ]
     },
     "metadata": {},
     "output_type": "display_data"
    },
    {
     "data": {
      "text/html": [
       "<pre style=\"white-space:pre;overflow-x:auto;line-height:normal;font-family:Menlo,'DejaVu Sans Mono',consolas,'Courier New',monospace\"><span style=\"color: #008000; text-decoration-color: #008000\">\"num_cells\"</span>:         <span style=\"color: #008080; text-decoration-color: #008080; font-weight: bold\">287</span>,\n",
       "</pre>\n"
      ],
      "text/plain": [
       "\u001b[32m\"num_cells\"\u001b[0m:         \u001b[1;36m287\u001b[0m,\n"
      ]
     },
     "metadata": {},
     "output_type": "display_data"
    },
    {
     "data": {
      "text/html": [
       "<pre style=\"white-space:pre;overflow-x:auto;line-height:normal;font-family:Menlo,'DejaVu Sans Mono',consolas,'Courier New',monospace\"><span style=\"color: #008000; text-decoration-color: #008000\">\"area\"</span>:              <span style=\"color: #008080; text-decoration-color: #008080; font-weight: bold\">3658.508800</span>,\n",
       "</pre>\n"
      ],
      "text/plain": [
       "\u001b[32m\"area\"\u001b[0m:              \u001b[1;36m3658.508800\u001b[0m,\n"
      ]
     },
     "metadata": {},
     "output_type": "display_data"
    },
    {
     "data": {
      "text/html": [
       "<pre style=\"white-space:pre;overflow-x:auto;line-height:normal;font-family:Menlo,'DejaVu Sans Mono',consolas,'Courier New',monospace\"><span style=\"color: #008000; text-decoration-color: #008000\">\"num_cells_by_type\"</span>: <span style=\"font-weight: bold\">{</span>\n",
       "</pre>\n"
      ],
      "text/plain": [
       "\u001b[32m\"num_cells_by_type\"\u001b[0m: \u001b[1m{\u001b[0m\n"
      ]
     },
     "metadata": {},
     "output_type": "display_data"
    },
    {
     "data": {
      "text/html": [
       "<pre style=\"white-space:pre;overflow-x:auto;line-height:normal;font-family:Menlo,'DejaVu Sans Mono',consolas,'Courier New',monospace\"><span style=\"color: #008000; text-decoration-color: #008000\">\"sky130_fd_sc_hd__a21o_2\"</span>: <span style=\"color: #008080; text-decoration-color: #008080; font-weight: bold\">1</span>,\n",
       "</pre>\n"
      ],
      "text/plain": [
       "\u001b[32m\"sky130_fd_sc_hd__a21o_2\"\u001b[0m: \u001b[1;36m1\u001b[0m,\n"
      ]
     },
     "metadata": {},
     "output_type": "display_data"
    },
    {
     "data": {
      "text/html": [
       "<pre style=\"white-space:pre;overflow-x:auto;line-height:normal;font-family:Menlo,'DejaVu Sans Mono',consolas,'Courier New',monospace\"><span style=\"color: #008000; text-decoration-color: #008000\">\"sky130_fd_sc_hd__a31o_2\"</span>: <span style=\"color: #008080; text-decoration-color: #008080; font-weight: bold\">31</span>,\n",
       "</pre>\n"
      ],
      "text/plain": [
       "\u001b[32m\"sky130_fd_sc_hd__a31o_2\"\u001b[0m: \u001b[1;36m31\u001b[0m,\n"
      ]
     },
     "metadata": {},
     "output_type": "display_data"
    },
    {
     "data": {
      "text/html": [
       "<pre style=\"white-space:pre;overflow-x:auto;line-height:normal;font-family:Menlo,'DejaVu Sans Mono',consolas,'Courier New',monospace\"><span style=\"color: #008000; text-decoration-color: #008000\">\"sky130_fd_sc_hd__and2_2\"</span>: <span style=\"color: #008080; text-decoration-color: #008080; font-weight: bold\">32</span>,\n",
       "</pre>\n"
      ],
      "text/plain": [
       "\u001b[32m\"sky130_fd_sc_hd__and2_2\"\u001b[0m: \u001b[1;36m32\u001b[0m,\n"
      ]
     },
     "metadata": {},
     "output_type": "display_data"
    },
    {
     "data": {
      "text/html": [
       "<pre style=\"white-space:pre;overflow-x:auto;line-height:normal;font-family:Menlo,'DejaVu Sans Mono',consolas,'Courier New',monospace\"><span style=\"color: #008000; text-decoration-color: #008000\">\"sky130_fd_sc_hd__buf_1\"</span>: <span style=\"color: #008080; text-decoration-color: #008080; font-weight: bold\">1</span>,\n",
       "</pre>\n"
      ],
      "text/plain": [
       "\u001b[32m\"sky130_fd_sc_hd__buf_1\"\u001b[0m: \u001b[1;36m1\u001b[0m,\n"
      ]
     },
     "metadata": {},
     "output_type": "display_data"
    },
    {
     "data": {
      "text/html": [
       "<pre style=\"white-space:pre;overflow-x:auto;line-height:normal;font-family:Menlo,'DejaVu Sans Mono',consolas,'Courier New',monospace\"><span style=\"color: #008000; text-decoration-color: #008000\">\"sky130_fd_sc_hd__dfrtp_2\"</span>: <span style=\"color: #008080; text-decoration-color: #008080; font-weight: bold\">64</span>,\n",
       "</pre>\n"
      ],
      "text/plain": [
       "\u001b[32m\"sky130_fd_sc_hd__dfrtp_2\"\u001b[0m: \u001b[1;36m64\u001b[0m,\n"
      ]
     },
     "metadata": {},
     "output_type": "display_data"
    },
    {
     "data": {
      "text/html": [
       "<pre style=\"white-space:pre;overflow-x:auto;line-height:normal;font-family:Menlo,'DejaVu Sans Mono',consolas,'Courier New',monospace\"><span style=\"color: #008000; text-decoration-color: #008000\">\"sky130_fd_sc_hd__inv_2\"</span>: <span style=\"color: #008080; text-decoration-color: #008080; font-weight: bold\">64</span>,\n",
       "</pre>\n"
      ],
      "text/plain": [
       "\u001b[32m\"sky130_fd_sc_hd__inv_2\"\u001b[0m: \u001b[1;36m64\u001b[0m,\n"
      ]
     },
     "metadata": {},
     "output_type": "display_data"
    },
    {
     "data": {
      "text/html": [
       "<pre style=\"white-space:pre;overflow-x:auto;line-height:normal;font-family:Menlo,'DejaVu Sans Mono',consolas,'Courier New',monospace\"><span style=\"color: #008000; text-decoration-color: #008000\">\"sky130_fd_sc_hd__nand2_2\"</span>: <span style=\"color: #008080; text-decoration-color: #008080; font-weight: bold\">31</span>,\n",
       "</pre>\n"
      ],
      "text/plain": [
       "\u001b[32m\"sky130_fd_sc_hd__nand2_2\"\u001b[0m: \u001b[1;36m31\u001b[0m,\n"
      ]
     },
     "metadata": {},
     "output_type": "display_data"
    },
    {
     "data": {
      "text/html": [
       "<pre style=\"white-space:pre;overflow-x:auto;line-height:normal;font-family:Menlo,'DejaVu Sans Mono',consolas,'Courier New',monospace\"><span style=\"color: #008000; text-decoration-color: #008000\">\"sky130_fd_sc_hd__nand3_2\"</span>: <span style=\"color: #008080; text-decoration-color: #008080; font-weight: bold\">1</span>,\n",
       "</pre>\n"
      ],
      "text/plain": [
       "\u001b[32m\"sky130_fd_sc_hd__nand3_2\"\u001b[0m: \u001b[1;36m1\u001b[0m,\n"
      ]
     },
     "metadata": {},
     "output_type": "display_data"
    },
    {
     "data": {
      "text/html": [
       "<pre style=\"white-space:pre;overflow-x:auto;line-height:normal;font-family:Menlo,'DejaVu Sans Mono',consolas,'Courier New',monospace\"><span style=\"color: #008000; text-decoration-color: #008000\">\"sky130_fd_sc_hd__xnor2_2\"</span>: <span style=\"color: #008080; text-decoration-color: #008080; font-weight: bold\">31</span>,\n",
       "</pre>\n"
      ],
      "text/plain": [
       "\u001b[32m\"sky130_fd_sc_hd__xnor2_2\"\u001b[0m: \u001b[1;36m31\u001b[0m,\n"
      ]
     },
     "metadata": {},
     "output_type": "display_data"
    },
    {
     "data": {
      "text/html": [
       "<pre style=\"white-space:pre;overflow-x:auto;line-height:normal;font-family:Menlo,'DejaVu Sans Mono',consolas,'Courier New',monospace\"><span style=\"color: #008000; text-decoration-color: #008000\">\"sky130_fd_sc_hd__xor2_2\"</span>: <span style=\"color: #008080; text-decoration-color: #008080; font-weight: bold\">31</span>\n",
       "</pre>\n"
      ],
      "text/plain": [
       "\u001b[32m\"sky130_fd_sc_hd__xor2_2\"\u001b[0m: \u001b[1;36m31\u001b[0m\n"
      ]
     },
     "metadata": {},
     "output_type": "display_data"
    },
    {
     "data": {
      "text/html": [
       "<pre style=\"white-space:pre;overflow-x:auto;line-height:normal;font-family:Menlo,'DejaVu Sans Mono',consolas,'Courier New',monospace\"><span style=\"font-weight: bold\">}</span>\n",
       "</pre>\n"
      ],
      "text/plain": [
       "\u001b[1m}\u001b[0m\n"
      ]
     },
     "metadata": {},
     "output_type": "display_data"
    },
    {
     "data": {
      "text/html": [
       "<pre style=\"white-space:pre;overflow-x:auto;line-height:normal;font-family:Menlo,'DejaVu Sans Mono',consolas,'Courier New',monospace\"><span style=\"font-weight: bold\">}</span>\n",
       "</pre>\n"
      ],
      "text/plain": [
       "\u001b[1m}\u001b[0m\n"
      ]
     },
     "metadata": {},
     "output_type": "display_data"
    },
    {
     "data": {
      "text/html": [
       "<pre style=\"white-space:pre;overflow-x:auto;line-height:normal;font-family:Menlo,'DejaVu Sans Mono',consolas,'Courier New',monospace\"><span style=\"font-weight: bold\">}</span>,\n",
       "</pre>\n"
      ],
      "text/plain": [
       "\u001b[1m}\u001b[0m,\n"
      ]
     },
     "metadata": {},
     "output_type": "display_data"
    },
    {
     "data": {
      "text/html": [
       "<pre style=\"white-space:pre;overflow-x:auto;line-height:normal;font-family:Menlo,'DejaVu Sans Mono',consolas,'Courier New',monospace\"><span style=\"color: #008000; text-decoration-color: #008000\">\"design\"</span>: <span style=\"font-weight: bold\">{</span>\n",
       "</pre>\n"
      ],
      "text/plain": [
       "\u001b[32m\"design\"\u001b[0m: \u001b[1m{\u001b[0m\n"
      ]
     },
     "metadata": {},
     "output_type": "display_data"
    },
    {
     "data": {
      "text/html": [
       "<pre style=\"white-space:pre;overflow-x:auto;line-height:normal;font-family:Menlo,'DejaVu Sans Mono',consolas,'Courier New',monospace\"><span style=\"color: #008000; text-decoration-color: #008000\">\"num_wires\"</span>:         <span style=\"color: #008080; text-decoration-color: #008080; font-weight: bold\">291</span>,\n",
       "</pre>\n"
      ],
      "text/plain": [
       "\u001b[32m\"num_wires\"\u001b[0m:         \u001b[1;36m291\u001b[0m,\n"
      ]
     },
     "metadata": {},
     "output_type": "display_data"
    },
    {
     "data": {
      "text/html": [
       "<pre style=\"white-space:pre;overflow-x:auto;line-height:normal;font-family:Menlo,'DejaVu Sans Mono',consolas,'Courier New',monospace\"><span style=\"color: #008000; text-decoration-color: #008000\">\"num_wire_bits\"</span>:     <span style=\"color: #008080; text-decoration-color: #008080; font-weight: bold\">322</span>,\n",
       "</pre>\n"
      ],
      "text/plain": [
       "\u001b[32m\"num_wire_bits\"\u001b[0m:     \u001b[1;36m322\u001b[0m,\n"
      ]
     },
     "metadata": {},
     "output_type": "display_data"
    },
    {
     "data": {
      "text/html": [
       "<pre style=\"white-space:pre;overflow-x:auto;line-height:normal;font-family:Menlo,'DejaVu Sans Mono',consolas,'Courier New',monospace\"><span style=\"color: #008000; text-decoration-color: #008000\">\"num_pub_wires\"</span>:     <span style=\"color: #008080; text-decoration-color: #008080; font-weight: bold\">99</span>,\n",
       "</pre>\n"
      ],
      "text/plain": [
       "\u001b[32m\"num_pub_wires\"\u001b[0m:     \u001b[1;36m99\u001b[0m,\n"
      ]
     },
     "metadata": {},
     "output_type": "display_data"
    },
    {
     "data": {
      "text/html": [
       "<pre style=\"white-space:pre;overflow-x:auto;line-height:normal;font-family:Menlo,'DejaVu Sans Mono',consolas,'Courier New',monospace\"><span style=\"color: #008000; text-decoration-color: #008000\">\"num_pub_wire_bits\"</span>: <span style=\"color: #008080; text-decoration-color: #008080; font-weight: bold\">130</span>,\n",
       "</pre>\n"
      ],
      "text/plain": [
       "\u001b[32m\"num_pub_wire_bits\"\u001b[0m: \u001b[1;36m130\u001b[0m,\n"
      ]
     },
     "metadata": {},
     "output_type": "display_data"
    },
    {
     "data": {
      "text/html": [
       "<pre style=\"white-space:pre;overflow-x:auto;line-height:normal;font-family:Menlo,'DejaVu Sans Mono',consolas,'Courier New',monospace\"><span style=\"color: #008000; text-decoration-color: #008000\">\"num_memories\"</span>:      <span style=\"color: #008080; text-decoration-color: #008080; font-weight: bold\">0</span>,\n",
       "</pre>\n"
      ],
      "text/plain": [
       "\u001b[32m\"num_memories\"\u001b[0m:      \u001b[1;36m0\u001b[0m,\n"
      ]
     },
     "metadata": {},
     "output_type": "display_data"
    },
    {
     "data": {
      "text/html": [
       "<pre style=\"white-space:pre;overflow-x:auto;line-height:normal;font-family:Menlo,'DejaVu Sans Mono',consolas,'Courier New',monospace\"><span style=\"color: #008000; text-decoration-color: #008000\">\"num_memory_bits\"</span>:   <span style=\"color: #008080; text-decoration-color: #008080; font-weight: bold\">0</span>,\n",
       "</pre>\n"
      ],
      "text/plain": [
       "\u001b[32m\"num_memory_bits\"\u001b[0m:   \u001b[1;36m0\u001b[0m,\n"
      ]
     },
     "metadata": {},
     "output_type": "display_data"
    },
    {
     "data": {
      "text/html": [
       "<pre style=\"white-space:pre;overflow-x:auto;line-height:normal;font-family:Menlo,'DejaVu Sans Mono',consolas,'Courier New',monospace\"><span style=\"color: #008000; text-decoration-color: #008000\">\"num_processes\"</span>:     <span style=\"color: #008080; text-decoration-color: #008080; font-weight: bold\">0</span>,\n",
       "</pre>\n"
      ],
      "text/plain": [
       "\u001b[32m\"num_processes\"\u001b[0m:     \u001b[1;36m0\u001b[0m,\n"
      ]
     },
     "metadata": {},
     "output_type": "display_data"
    },
    {
     "data": {
      "text/html": [
       "<pre style=\"white-space:pre;overflow-x:auto;line-height:normal;font-family:Menlo,'DejaVu Sans Mono',consolas,'Courier New',monospace\"><span style=\"color: #008000; text-decoration-color: #008000\">\"num_cells\"</span>:         <span style=\"color: #008080; text-decoration-color: #008080; font-weight: bold\">287</span>,\n",
       "</pre>\n"
      ],
      "text/plain": [
       "\u001b[32m\"num_cells\"\u001b[0m:         \u001b[1;36m287\u001b[0m,\n"
      ]
     },
     "metadata": {},
     "output_type": "display_data"
    },
    {
     "data": {
      "text/html": [
       "<pre style=\"white-space:pre;overflow-x:auto;line-height:normal;font-family:Menlo,'DejaVu Sans Mono',consolas,'Courier New',monospace\"><span style=\"color: #008000; text-decoration-color: #008000\">\"area\"</span>:              <span style=\"color: #008080; text-decoration-color: #008080; font-weight: bold\">3658.508800</span>,\n",
       "</pre>\n"
      ],
      "text/plain": [
       "\u001b[32m\"area\"\u001b[0m:              \u001b[1;36m3658.508800\u001b[0m,\n"
      ]
     },
     "metadata": {},
     "output_type": "display_data"
    },
    {
     "data": {
      "text/html": [
       "<pre style=\"white-space:pre;overflow-x:auto;line-height:normal;font-family:Menlo,'DejaVu Sans Mono',consolas,'Courier New',monospace\"><span style=\"color: #008000; text-decoration-color: #008000\">\"num_cells_by_type\"</span>: <span style=\"font-weight: bold\">{</span>\n",
       "</pre>\n"
      ],
      "text/plain": [
       "\u001b[32m\"num_cells_by_type\"\u001b[0m: \u001b[1m{\u001b[0m\n"
      ]
     },
     "metadata": {},
     "output_type": "display_data"
    },
    {
     "data": {
      "text/html": [
       "<pre style=\"white-space:pre;overflow-x:auto;line-height:normal;font-family:Menlo,'DejaVu Sans Mono',consolas,'Courier New',monospace\"><span style=\"color: #008000; text-decoration-color: #008000\">\"sky130_fd_sc_hd__a21o_2\"</span>: <span style=\"color: #008080; text-decoration-color: #008080; font-weight: bold\">1</span>,\n",
       "</pre>\n"
      ],
      "text/plain": [
       "\u001b[32m\"sky130_fd_sc_hd__a21o_2\"\u001b[0m: \u001b[1;36m1\u001b[0m,\n"
      ]
     },
     "metadata": {},
     "output_type": "display_data"
    },
    {
     "data": {
      "text/html": [
       "<pre style=\"white-space:pre;overflow-x:auto;line-height:normal;font-family:Menlo,'DejaVu Sans Mono',consolas,'Courier New',monospace\"><span style=\"color: #008000; text-decoration-color: #008000\">\"sky130_fd_sc_hd__a31o_2\"</span>: <span style=\"color: #008080; text-decoration-color: #008080; font-weight: bold\">31</span>,\n",
       "</pre>\n"
      ],
      "text/plain": [
       "\u001b[32m\"sky130_fd_sc_hd__a31o_2\"\u001b[0m: \u001b[1;36m31\u001b[0m,\n"
      ]
     },
     "metadata": {},
     "output_type": "display_data"
    },
    {
     "data": {
      "text/html": [
       "<pre style=\"white-space:pre;overflow-x:auto;line-height:normal;font-family:Menlo,'DejaVu Sans Mono',consolas,'Courier New',monospace\"><span style=\"color: #008000; text-decoration-color: #008000\">\"sky130_fd_sc_hd__and2_2\"</span>: <span style=\"color: #008080; text-decoration-color: #008080; font-weight: bold\">32</span>,\n",
       "</pre>\n"
      ],
      "text/plain": [
       "\u001b[32m\"sky130_fd_sc_hd__and2_2\"\u001b[0m: \u001b[1;36m32\u001b[0m,\n"
      ]
     },
     "metadata": {},
     "output_type": "display_data"
    },
    {
     "data": {
      "text/html": [
       "<pre style=\"white-space:pre;overflow-x:auto;line-height:normal;font-family:Menlo,'DejaVu Sans Mono',consolas,'Courier New',monospace\"><span style=\"color: #008000; text-decoration-color: #008000\">\"sky130_fd_sc_hd__buf_1\"</span>: <span style=\"color: #008080; text-decoration-color: #008080; font-weight: bold\">1</span>,\n",
       "</pre>\n"
      ],
      "text/plain": [
       "\u001b[32m\"sky130_fd_sc_hd__buf_1\"\u001b[0m: \u001b[1;36m1\u001b[0m,\n"
      ]
     },
     "metadata": {},
     "output_type": "display_data"
    },
    {
     "data": {
      "text/html": [
       "<pre style=\"white-space:pre;overflow-x:auto;line-height:normal;font-family:Menlo,'DejaVu Sans Mono',consolas,'Courier New',monospace\"><span style=\"color: #008000; text-decoration-color: #008000\">\"sky130_fd_sc_hd__dfrtp_2\"</span>: <span style=\"color: #008080; text-decoration-color: #008080; font-weight: bold\">64</span>,\n",
       "</pre>\n"
      ],
      "text/plain": [
       "\u001b[32m\"sky130_fd_sc_hd__dfrtp_2\"\u001b[0m: \u001b[1;36m64\u001b[0m,\n"
      ]
     },
     "metadata": {},
     "output_type": "display_data"
    },
    {
     "data": {
      "text/html": [
       "<pre style=\"white-space:pre;overflow-x:auto;line-height:normal;font-family:Menlo,'DejaVu Sans Mono',consolas,'Courier New',monospace\"><span style=\"color: #008000; text-decoration-color: #008000\">\"sky130_fd_sc_hd__inv_2\"</span>: <span style=\"color: #008080; text-decoration-color: #008080; font-weight: bold\">64</span>,\n",
       "</pre>\n"
      ],
      "text/plain": [
       "\u001b[32m\"sky130_fd_sc_hd__inv_2\"\u001b[0m: \u001b[1;36m64\u001b[0m,\n"
      ]
     },
     "metadata": {},
     "output_type": "display_data"
    },
    {
     "data": {
      "text/html": [
       "<pre style=\"white-space:pre;overflow-x:auto;line-height:normal;font-family:Menlo,'DejaVu Sans Mono',consolas,'Courier New',monospace\"><span style=\"color: #008000; text-decoration-color: #008000\">\"sky130_fd_sc_hd__nand2_2\"</span>: <span style=\"color: #008080; text-decoration-color: #008080; font-weight: bold\">31</span>,\n",
       "</pre>\n"
      ],
      "text/plain": [
       "\u001b[32m\"sky130_fd_sc_hd__nand2_2\"\u001b[0m: \u001b[1;36m31\u001b[0m,\n"
      ]
     },
     "metadata": {},
     "output_type": "display_data"
    },
    {
     "data": {
      "text/html": [
       "<pre style=\"white-space:pre;overflow-x:auto;line-height:normal;font-family:Menlo,'DejaVu Sans Mono',consolas,'Courier New',monospace\"><span style=\"color: #008000; text-decoration-color: #008000\">\"sky130_fd_sc_hd__nand3_2\"</span>: <span style=\"color: #008080; text-decoration-color: #008080; font-weight: bold\">1</span>,\n",
       "</pre>\n"
      ],
      "text/plain": [
       "\u001b[32m\"sky130_fd_sc_hd__nand3_2\"\u001b[0m: \u001b[1;36m1\u001b[0m,\n"
      ]
     },
     "metadata": {},
     "output_type": "display_data"
    },
    {
     "data": {
      "text/html": [
       "<pre style=\"white-space:pre;overflow-x:auto;line-height:normal;font-family:Menlo,'DejaVu Sans Mono',consolas,'Courier New',monospace\"><span style=\"color: #008000; text-decoration-color: #008000\">\"sky130_fd_sc_hd__xnor2_2\"</span>: <span style=\"color: #008080; text-decoration-color: #008080; font-weight: bold\">31</span>,\n",
       "</pre>\n"
      ],
      "text/plain": [
       "\u001b[32m\"sky130_fd_sc_hd__xnor2_2\"\u001b[0m: \u001b[1;36m31\u001b[0m,\n"
      ]
     },
     "metadata": {},
     "output_type": "display_data"
    },
    {
     "data": {
      "text/html": [
       "<pre style=\"white-space:pre;overflow-x:auto;line-height:normal;font-family:Menlo,'DejaVu Sans Mono',consolas,'Courier New',monospace\"><span style=\"color: #008000; text-decoration-color: #008000\">\"sky130_fd_sc_hd__xor2_2\"</span>: <span style=\"color: #008080; text-decoration-color: #008080; font-weight: bold\">31</span>\n",
       "</pre>\n"
      ],
      "text/plain": [
       "\u001b[32m\"sky130_fd_sc_hd__xor2_2\"\u001b[0m: \u001b[1;36m31\u001b[0m\n"
      ]
     },
     "metadata": {},
     "output_type": "display_data"
    },
    {
     "data": {
      "text/html": [
       "<pre style=\"white-space:pre;overflow-x:auto;line-height:normal;font-family:Menlo,'DejaVu Sans Mono',consolas,'Courier New',monospace\"><span style=\"font-weight: bold\">}</span>\n",
       "</pre>\n"
      ],
      "text/plain": [
       "\u001b[1m}\u001b[0m\n"
      ]
     },
     "metadata": {},
     "output_type": "display_data"
    },
    {
     "data": {
      "text/html": [
       "<pre style=\"white-space:pre;overflow-x:auto;line-height:normal;font-family:Menlo,'DejaVu Sans Mono',consolas,'Courier New',monospace\"><span style=\"font-weight: bold\">}</span>\n",
       "</pre>\n"
      ],
      "text/plain": [
       "\u001b[1m}\u001b[0m\n"
      ]
     },
     "metadata": {},
     "output_type": "display_data"
    },
    {
     "data": {
      "text/html": [
       "<pre style=\"white-space:pre;overflow-x:auto;line-height:normal;font-family:Menlo,'DejaVu Sans Mono',consolas,'Courier New',monospace\"><span style=\"font-weight: bold\">}</span>\n",
       "</pre>\n"
      ],
      "text/plain": [
       "\u001b[1m}\u001b[0m\n"
      ]
     },
     "metadata": {},
     "output_type": "display_data"
    },
    {
     "data": {
      "text/html": [
       "<pre style=\"white-space:pre;overflow-x:auto;line-height:normal;font-family:Menlo,'DejaVu Sans Mono',consolas,'Courier New',monospace\">\n",
       "</pre>\n"
      ],
      "text/plain": [
       "\n"
      ]
     },
     "metadata": {},
     "output_type": "display_data"
    },
    {
     "data": {
      "text/html": [
       "<pre style=\"white-space:pre;overflow-x:auto;line-height:normal;font-family:Menlo,'DejaVu Sans Mono',consolas,'Courier New',monospace\"><span style=\"color: #008080; text-decoration-color: #008080; font-weight: bold\">19</span>. Executing Verilog backend.\n",
       "</pre>\n"
      ],
      "text/plain": [
       "\u001b[1;36m19\u001b[0m. Executing Verilog backend.\n"
      ]
     },
     "metadata": {},
     "output_type": "display_data"
    },
    {
     "data": {
      "text/html": [
       "<pre style=\"white-space:pre;overflow-x:auto;line-height:normal;font-family:Menlo,'DejaVu Sans Mono',consolas,'Courier New',monospace\">Dumping module `\\spm'.\n",
       "</pre>\n"
      ],
      "text/plain": [
       "Dumping module `\\spm'.\n"
      ]
     },
     "metadata": {},
     "output_type": "display_data"
    },
    {
     "data": {
      "text/html": [
       "<pre style=\"white-space:pre;overflow-x:auto;line-height:normal;font-family:Menlo,'DejaVu Sans Mono',consolas,'Courier New',monospace\">\n",
       "</pre>\n"
      ],
      "text/plain": [
       "\n"
      ]
     },
     "metadata": {},
     "output_type": "display_data"
    },
    {
     "data": {
      "text/html": [
       "<pre style=\"white-space:pre;overflow-x:auto;line-height:normal;font-family:Menlo,'DejaVu Sans Mono',consolas,'Courier New',monospace\">Warnings: <span style=\"color: #008080; text-decoration-color: #008080; font-weight: bold\">3</span> unique messages, <span style=\"color: #008080; text-decoration-color: #008080; font-weight: bold\">3</span> total\n",
       "</pre>\n"
      ],
      "text/plain": [
       "Warnings: \u001b[1;36m3\u001b[0m unique messages, \u001b[1;36m3\u001b[0m total\n"
      ]
     },
     "metadata": {},
     "output_type": "display_data"
    },
    {
     "data": {
      "text/html": [
       "<pre style=\"white-space:pre;overflow-x:auto;line-height:normal;font-family:Menlo,'DejaVu Sans Mono',consolas,'Courier New',monospace\">End of script. Logfile hash: b388e95658, CPU: user <span style=\"color: #008080; text-decoration-color: #008080; font-weight: bold\">0.</span>44s system <span style=\"color: #008080; text-decoration-color: #008080; font-weight: bold\">0.</span>01s, MEM: <span style=\"color: #008080; text-decoration-color: #008080; font-weight: bold\">103.84</span> MB peak\n",
       "</pre>\n"
      ],
      "text/plain": [
       "End of script. Logfile hash: b388e95658, CPU: user \u001b[1;36m0.\u001b[0m44s system \u001b[1;36m0.\u001b[0m01s, MEM: \u001b[1;36m103.84\u001b[0m MB peak\n"
      ]
     },
     "metadata": {},
     "output_type": "display_data"
    },
    {
     "data": {
      "text/html": [
       "<pre style=\"white-space:pre;overflow-x:auto;line-height:normal;font-family:Menlo,'DejaVu Sans Mono',consolas,'Courier New',monospace\">Yosys <span style=\"color: #008080; text-decoration-color: #008080; font-weight: bold\">0.26</span> <span style=\"font-weight: bold\">(</span>git sha1 7e588664e7e, gcc <span style=\"color: #008080; text-decoration-color: #008080; font-weight: bold\">11.3</span>.<span style=\"color: #008080; text-decoration-color: #008080; font-weight: bold\">0</span> -fPIC -Os<span style=\"font-weight: bold\">)</span>\n",
       "</pre>\n"
      ],
      "text/plain": [
       "Yosys \u001b[1;36m0.26\u001b[0m \u001b[1m(\u001b[0mgit sha1 7e588664e7e, gcc \u001b[1;36m11.3\u001b[0m.\u001b[1;36m0\u001b[0m -fPIC -Os\u001b[1m)\u001b[0m\n"
      ]
     },
     "metadata": {},
     "output_type": "display_data"
    },
    {
     "data": {
      "text/html": [
       "<pre style=\"white-space:pre;overflow-x:auto;line-height:normal;font-family:Menlo,'DejaVu Sans Mono',consolas,'Courier New',monospace\">Time spent: <span style=\"color: #008080; text-decoration-color: #008080; font-weight: bold\">41</span>% 2x abc <span style=\"font-weight: bold\">(</span><span style=\"color: #008080; text-decoration-color: #008080; font-weight: bold\">0</span> sec<span style=\"font-weight: bold\">)</span>, <span style=\"color: #008080; text-decoration-color: #008080; font-weight: bold\">11</span>% 4x stat <span style=\"font-weight: bold\">(</span><span style=\"color: #008080; text-decoration-color: #008080; font-weight: bold\">0</span> sec<span style=\"font-weight: bold\">)</span>, <span style=\"color: #808000; text-decoration-color: #808000\">...</span>\n",
       "</pre>\n"
      ],
      "text/plain": [
       "Time spent: \u001b[1;36m41\u001b[0m% 2x abc \u001b[1m(\u001b[0m\u001b[1;36m0\u001b[0m sec\u001b[1m)\u001b[0m, \u001b[1;36m11\u001b[0m% 4x stat \u001b[1m(\u001b[0m\u001b[1;36m0\u001b[0m sec\u001b[1m)\u001b[0m, \u001b[33m...\u001b[0m\n"
      ]
     },
     "metadata": {},
     "output_type": "display_data"
    },
    {
     "data": {
      "text/markdown": [
       "\n",
       "        <div style=\"display: grid; grid-auto-columns: minmax(0, 1fr); grid-auto-rows: minmax(0, 1fr); grid-auto-flow: column;\">\n",
       "            <table style=\"grid-column-start: 1; grid-column-end: 2;\">\n",
       "                <tr>\n",
       "                    <th>Format</th>\n",
       "                    <th>Path</th>\n",
       "                </tr>\n",
       "        \n",
       "                <tr>\n",
       "                    <td>Verilog Netlist</td>\n",
       "                    <td><a href=\"run/1-yosys-synthesis/spm.nl.v\">run/1-yosys-synthesis/spm.nl.v</a></td>\n",
       "                </tr>\n",
       "            \n",
       "            </table>\n",
       "        </div>\n",
       "        "
      ],
      "text/plain": [
       "{'nl': '/home/donn/efabless/openlane2/examples/spm/run/1-yosys-synthesis/spm.nl.v', 'pnl': None, 'def': None, 'lef': None, 'odb': None, 'sdc': None, 'sdf': None, 'spef': None, 'lib': None, 'spice': None, 'gds': None, 'mag_gds': None, 'klayout_gds': None, 'metrics': {'design__instance__count': 287, 'design__instance__area': 3658.5088}}"
      ]
     },
     "execution_count": 3,
     "metadata": {},
     "output_type": "execute_result"
    }
   ],
   "source": [
    "synthesis = Synthesis(\n",
    "    VERILOG_FILES=[\"./src/spm.v\"],\n",
    ")\n",
    "synthesis.start()"
   ]
  },
  {
   "cell_type": "code",
   "execution_count": 4,
   "metadata": {},
   "outputs": [
    {
     "data": {
      "text/markdown": [
       "#### Time Elapsed: 1.03s\n",
       "#### Views updated:\n",
       "* Verilog Netlist\n"
      ],
      "text/plain": [
       "<openlane.steps.yosys.Synthesis at 0x7fb2b418fbb0>"
      ]
     },
     "metadata": {},
     "output_type": "display_data"
    }
   ],
   "source": [
    "display(synthesis)"
   ]
  },
  {
   "cell_type": "code",
   "execution_count": 5,
   "metadata": {},
   "outputs": [
    {
     "data": {
      "text/html": [
       "<pre style=\"white-space:pre;overflow-x:auto;line-height:normal;font-family:Menlo,'DejaVu Sans Mono',consolas,'Courier New',monospace\"><span style=\"color: #00ff00; text-decoration-color: #00ff00\">──────────────────────────────────────────── </span>Floorplan Initialization<span style=\"color: #00ff00; text-decoration-color: #00ff00\"> ─────────────────────────────────────────────</span>\n",
       "</pre>\n"
      ],
      "text/plain": [
       "\u001b[92m──────────────────────────────────────────── \u001b[0mFloorplan Initialization\u001b[92m ─────────────────────────────────────────────\u001b[0m\n"
      ]
     },
     "metadata": {},
     "output_type": "display_data"
    },
    {
     "data": {
      "text/html": [
       "<pre style=\"white-space:pre;overflow-x:auto;line-height:normal;font-family:Menlo,'DejaVu Sans Mono',consolas,'Courier New',monospace\">OpenROAD 6de104daffe029fd717645b21f3e6ed6aad1042b\n",
       "</pre>\n"
      ],
      "text/plain": [
       "OpenROAD 6de104daffe029fd717645b21f3e6ed6aad1042b\n"
      ]
     },
     "metadata": {},
     "output_type": "display_data"
    },
    {
     "data": {
      "text/html": [
       "<pre style=\"white-space:pre;overflow-x:auto;line-height:normal;font-family:Menlo,'DejaVu Sans Mono',consolas,'Courier New',monospace\">This program is licensed under the BSD-<span style=\"color: #008080; text-decoration-color: #008080; font-weight: bold\">3</span> license. See the LICENSE file for details.\n",
       "</pre>\n"
      ],
      "text/plain": [
       "This program is licensed under the BSD-\u001b[1;36m3\u001b[0m license. See the LICENSE file for details.\n"
      ]
     },
     "metadata": {},
     "output_type": "display_data"
    },
    {
     "data": {
      "text/html": [
       "<pre style=\"white-space:pre;overflow-x:auto;line-height:normal;font-family:Menlo,'DejaVu Sans Mono',consolas,'Courier New',monospace\">Components of this program may be licensed under more restrictive licenses which must be honored.\n",
       "</pre>\n"
      ],
      "text/plain": [
       "Components of this program may be licensed under more restrictive licenses which must be honored.\n"
      ]
     },
     "metadata": {},
     "output_type": "display_data"
    },
    {
     "data": {
      "text/html": [
       "<pre style=\"white-space:pre;overflow-x:auto;line-height:normal;font-family:Menlo,'DejaVu Sans Mono',consolas,'Courier New',monospace\"><span style=\"font-weight: bold\">[</span>INFO ODB-<span style=\"color: #008080; text-decoration-color: #008080; font-weight: bold\">0222</span><span style=\"font-weight: bold\">]</span> Reading LEF file: \n",
       "<span style=\"color: #800080; text-decoration-color: #800080\">/home/donn/.volare/sky130A/libs.ref/sky130_fd_sc_hd/techlef/</span><span style=\"color: #ff00ff; text-decoration-color: #ff00ff\">sky130_fd_sc_hd__nom.tlef</span>\n",
       "</pre>\n"
      ],
      "text/plain": [
       "\u001b[1m[\u001b[0mINFO ODB-\u001b[1;36m0222\u001b[0m\u001b[1m]\u001b[0m Reading LEF file: \n",
       "\u001b[35m/home/donn/.volare/sky130A/libs.ref/sky130_fd_sc_hd/techlef/\u001b[0m\u001b[95msky130_fd_sc_hd__nom.tlef\u001b[0m\n"
      ]
     },
     "metadata": {},
     "output_type": "display_data"
    },
    {
     "data": {
      "text/html": [
       "<pre style=\"white-space:pre;overflow-x:auto;line-height:normal;font-family:Menlo,'DejaVu Sans Mono',consolas,'Courier New',monospace\"><span style=\"font-weight: bold\">[</span>INFO ODB-<span style=\"color: #008080; text-decoration-color: #008080; font-weight: bold\">0223</span><span style=\"font-weight: bold\">]</span>     Created <span style=\"color: #008080; text-decoration-color: #008080; font-weight: bold\">13</span> technology layers\n",
       "</pre>\n"
      ],
      "text/plain": [
       "\u001b[1m[\u001b[0mINFO ODB-\u001b[1;36m0223\u001b[0m\u001b[1m]\u001b[0m     Created \u001b[1;36m13\u001b[0m technology layers\n"
      ]
     },
     "metadata": {},
     "output_type": "display_data"
    },
    {
     "data": {
      "text/html": [
       "<pre style=\"white-space:pre;overflow-x:auto;line-height:normal;font-family:Menlo,'DejaVu Sans Mono',consolas,'Courier New',monospace\"><span style=\"font-weight: bold\">[</span>INFO ODB-<span style=\"color: #008080; text-decoration-color: #008080; font-weight: bold\">0224</span><span style=\"font-weight: bold\">]</span>     Created <span style=\"color: #008080; text-decoration-color: #008080; font-weight: bold\">25</span> technology vias\n",
       "</pre>\n"
      ],
      "text/plain": [
       "\u001b[1m[\u001b[0mINFO ODB-\u001b[1;36m0224\u001b[0m\u001b[1m]\u001b[0m     Created \u001b[1;36m25\u001b[0m technology vias\n"
      ]
     },
     "metadata": {},
     "output_type": "display_data"
    },
    {
     "data": {
      "text/html": [
       "<pre style=\"white-space:pre;overflow-x:auto;line-height:normal;font-family:Menlo,'DejaVu Sans Mono',consolas,'Courier New',monospace\"><span style=\"font-weight: bold\">[</span>INFO ODB-<span style=\"color: #008080; text-decoration-color: #008080; font-weight: bold\">0226</span><span style=\"font-weight: bold\">]</span> Finished LEF file:  \n",
       "<span style=\"color: #800080; text-decoration-color: #800080\">/home/donn/.volare/sky130A/libs.ref/sky130_fd_sc_hd/techlef/</span><span style=\"color: #ff00ff; text-decoration-color: #ff00ff\">sky130_fd_sc_hd__nom.tlef</span>\n",
       "</pre>\n"
      ],
      "text/plain": [
       "\u001b[1m[\u001b[0mINFO ODB-\u001b[1;36m0226\u001b[0m\u001b[1m]\u001b[0m Finished LEF file:  \n",
       "\u001b[35m/home/donn/.volare/sky130A/libs.ref/sky130_fd_sc_hd/techlef/\u001b[0m\u001b[95msky130_fd_sc_hd__nom.tlef\u001b[0m\n"
      ]
     },
     "metadata": {},
     "output_type": "display_data"
    },
    {
     "data": {
      "text/html": [
       "<pre style=\"white-space:pre;overflow-x:auto;line-height:normal;font-family:Menlo,'DejaVu Sans Mono',consolas,'Courier New',monospace\"><span style=\"font-weight: bold\">[</span>INFO ODB-<span style=\"color: #008080; text-decoration-color: #008080; font-weight: bold\">0222</span><span style=\"font-weight: bold\">]</span> Reading LEF file: <span style=\"color: #800080; text-decoration-color: #800080\">/home/donn/.volare/sky130A/libs.ref/sky130_fd_sc_hd/lef/</span><span style=\"color: #ff00ff; text-decoration-color: #ff00ff\">sky130_ef_sc_hd.lef</span>\n",
       "</pre>\n"
      ],
      "text/plain": [
       "\u001b[1m[\u001b[0mINFO ODB-\u001b[1;36m0222\u001b[0m\u001b[1m]\u001b[0m Reading LEF file: \u001b[35m/home/donn/.volare/sky130A/libs.ref/sky130_fd_sc_hd/lef/\u001b[0m\u001b[95msky130_ef_sc_hd.lef\u001b[0m\n"
      ]
     },
     "metadata": {},
     "output_type": "display_data"
    },
    {
     "data": {
      "text/html": [
       "<pre style=\"white-space:pre;overflow-x:auto;line-height:normal;font-family:Menlo,'DejaVu Sans Mono',consolas,'Courier New',monospace\"><span style=\"font-weight: bold\">[</span>WARNING ODB-<span style=\"color: #008080; text-decoration-color: #008080; font-weight: bold\">0220</span><span style=\"font-weight: bold\">]</span> WARNING <span style=\"font-weight: bold\">(</span>LEFPARS-<span style=\"color: #008080; text-decoration-color: #008080; font-weight: bold\">2008</span><span style=\"font-weight: bold\">)</span>: NOWIREEXTENSIONATPIN statement is obsolete in version <span style=\"color: #008080; text-decoration-color: #008080; font-weight: bold\">5.6</span> or later.\n",
       "</pre>\n"
      ],
      "text/plain": [
       "\u001b[1m[\u001b[0mWARNING ODB-\u001b[1;36m0220\u001b[0m\u001b[1m]\u001b[0m WARNING \u001b[1m(\u001b[0mLEFPARS-\u001b[1;36m2008\u001b[0m\u001b[1m)\u001b[0m: NOWIREEXTENSIONATPIN statement is obsolete in version \u001b[1;36m5.6\u001b[0m or later.\n"
      ]
     },
     "metadata": {},
     "output_type": "display_data"
    },
    {
     "data": {
      "text/html": [
       "<pre style=\"white-space:pre;overflow-x:auto;line-height:normal;font-family:Menlo,'DejaVu Sans Mono',consolas,'Courier New',monospace\">The NOWIREEXTENSIONATPIN statement will be ignored. See file \n",
       "<span style=\"color: #800080; text-decoration-color: #800080\">/home/donn/.volare/sky130A/libs.ref/sky130_fd_sc_hd/lef/</span><span style=\"color: #ff00ff; text-decoration-color: #ff00ff\">sky130_ef_sc_hd.lef</span> at line <span style=\"color: #008080; text-decoration-color: #008080; font-weight: bold\">2</span>.\n",
       "</pre>\n"
      ],
      "text/plain": [
       "The NOWIREEXTENSIONATPIN statement will be ignored. See file \n",
       "\u001b[35m/home/donn/.volare/sky130A/libs.ref/sky130_fd_sc_hd/lef/\u001b[0m\u001b[95msky130_ef_sc_hd.lef\u001b[0m at line \u001b[1;36m2\u001b[0m.\n"
      ]
     },
     "metadata": {},
     "output_type": "display_data"
    },
    {
     "data": {
      "text/html": [
       "<pre style=\"white-space:pre;overflow-x:auto;line-height:normal;font-family:Menlo,'DejaVu Sans Mono',consolas,'Courier New',monospace\">\n",
       "</pre>\n"
      ],
      "text/plain": [
       "\n"
      ]
     },
     "metadata": {},
     "output_type": "display_data"
    },
    {
     "data": {
      "text/html": [
       "<pre style=\"white-space:pre;overflow-x:auto;line-height:normal;font-family:Menlo,'DejaVu Sans Mono',consolas,'Courier New',monospace\"><span style=\"font-weight: bold\">[</span>WARNING ODB-<span style=\"color: #008080; text-decoration-color: #008080; font-weight: bold\">0220</span><span style=\"font-weight: bold\">]</span> WARNING <span style=\"font-weight: bold\">(</span>LEFPARS-<span style=\"color: #008080; text-decoration-color: #008080; font-weight: bold\">2036</span><span style=\"font-weight: bold\">)</span>: SOURCE statement is obsolete in version <span style=\"color: #008080; text-decoration-color: #008080; font-weight: bold\">5.6</span> and later.\n",
       "</pre>\n"
      ],
      "text/plain": [
       "\u001b[1m[\u001b[0mWARNING ODB-\u001b[1;36m0220\u001b[0m\u001b[1m]\u001b[0m WARNING \u001b[1m(\u001b[0mLEFPARS-\u001b[1;36m2036\u001b[0m\u001b[1m)\u001b[0m: SOURCE statement is obsolete in version \u001b[1;36m5.6\u001b[0m and later.\n"
      ]
     },
     "metadata": {},
     "output_type": "display_data"
    },
    {
     "data": {
      "text/html": [
       "<pre style=\"white-space:pre;overflow-x:auto;line-height:normal;font-family:Menlo,'DejaVu Sans Mono',consolas,'Courier New',monospace\">The LEF parser will ignore this statement.\n",
       "</pre>\n"
      ],
      "text/plain": [
       "The LEF parser will ignore this statement.\n"
      ]
     },
     "metadata": {},
     "output_type": "display_data"
    },
    {
     "data": {
      "text/html": [
       "<pre style=\"white-space:pre;overflow-x:auto;line-height:normal;font-family:Menlo,'DejaVu Sans Mono',consolas,'Courier New',monospace\">To avoid this warning in the future, remove this statement from the LEF file with version <span style=\"color: #008080; text-decoration-color: #008080; font-weight: bold\">5.6</span> or later. See file \n",
       "<span style=\"color: #800080; text-decoration-color: #800080\">/home/donn/.volare/sky130A/libs.ref/sky130_fd_sc_hd/lef/</span><span style=\"color: #ff00ff; text-decoration-color: #ff00ff\">sky130_ef_sc_hd.lef</span> at line <span style=\"color: #008080; text-decoration-color: #008080; font-weight: bold\">142</span>.\n",
       "</pre>\n"
      ],
      "text/plain": [
       "To avoid this warning in the future, remove this statement from the LEF file with version \u001b[1;36m5.6\u001b[0m or later. See file \n",
       "\u001b[35m/home/donn/.volare/sky130A/libs.ref/sky130_fd_sc_hd/lef/\u001b[0m\u001b[95msky130_ef_sc_hd.lef\u001b[0m at line \u001b[1;36m142\u001b[0m.\n"
      ]
     },
     "metadata": {},
     "output_type": "display_data"
    },
    {
     "data": {
      "text/html": [
       "<pre style=\"white-space:pre;overflow-x:auto;line-height:normal;font-family:Menlo,'DejaVu Sans Mono',consolas,'Courier New',monospace\">\n",
       "</pre>\n"
      ],
      "text/plain": [
       "\n"
      ]
     },
     "metadata": {},
     "output_type": "display_data"
    },
    {
     "data": {
      "text/html": [
       "<pre style=\"white-space:pre;overflow-x:auto;line-height:normal;font-family:Menlo,'DejaVu Sans Mono',consolas,'Courier New',monospace\"><span style=\"font-weight: bold\">[</span>INFO ODB-<span style=\"color: #008080; text-decoration-color: #008080; font-weight: bold\">0225</span><span style=\"font-weight: bold\">]</span>     Created <span style=\"color: #008080; text-decoration-color: #008080; font-weight: bold\">4</span> library cells\n",
       "</pre>\n"
      ],
      "text/plain": [
       "\u001b[1m[\u001b[0mINFO ODB-\u001b[1;36m0225\u001b[0m\u001b[1m]\u001b[0m     Created \u001b[1;36m4\u001b[0m library cells\n"
      ]
     },
     "metadata": {},
     "output_type": "display_data"
    },
    {
     "data": {
      "text/html": [
       "<pre style=\"white-space:pre;overflow-x:auto;line-height:normal;font-family:Menlo,'DejaVu Sans Mono',consolas,'Courier New',monospace\"><span style=\"font-weight: bold\">[</span>INFO ODB-<span style=\"color: #008080; text-decoration-color: #008080; font-weight: bold\">0226</span><span style=\"font-weight: bold\">]</span> Finished LEF file:  <span style=\"color: #800080; text-decoration-color: #800080\">/home/donn/.volare/sky130A/libs.ref/sky130_fd_sc_hd/lef/</span><span style=\"color: #ff00ff; text-decoration-color: #ff00ff\">sky130_ef_sc_hd.lef</span>\n",
       "</pre>\n"
      ],
      "text/plain": [
       "\u001b[1m[\u001b[0mINFO ODB-\u001b[1;36m0226\u001b[0m\u001b[1m]\u001b[0m Finished LEF file:  \u001b[35m/home/donn/.volare/sky130A/libs.ref/sky130_fd_sc_hd/lef/\u001b[0m\u001b[95msky130_ef_sc_hd.lef\u001b[0m\n"
      ]
     },
     "metadata": {},
     "output_type": "display_data"
    },
    {
     "data": {
      "text/html": [
       "<pre style=\"white-space:pre;overflow-x:auto;line-height:normal;font-family:Menlo,'DejaVu Sans Mono',consolas,'Courier New',monospace\"><span style=\"font-weight: bold\">[</span>INFO ODB-<span style=\"color: #008080; text-decoration-color: #008080; font-weight: bold\">0222</span><span style=\"font-weight: bold\">]</span> Reading LEF file: <span style=\"color: #800080; text-decoration-color: #800080\">/home/donn/.volare/sky130A/libs.ref/sky130_fd_sc_hd/lef/</span><span style=\"color: #ff00ff; text-decoration-color: #ff00ff\">sky130_fd_sc_hd.lef</span>\n",
       "</pre>\n"
      ],
      "text/plain": [
       "\u001b[1m[\u001b[0mINFO ODB-\u001b[1;36m0222\u001b[0m\u001b[1m]\u001b[0m Reading LEF file: \u001b[35m/home/donn/.volare/sky130A/libs.ref/sky130_fd_sc_hd/lef/\u001b[0m\u001b[95msky130_fd_sc_hd.lef\u001b[0m\n"
      ]
     },
     "metadata": {},
     "output_type": "display_data"
    },
    {
     "data": {
      "text/html": [
       "<pre style=\"white-space:pre;overflow-x:auto;line-height:normal;font-family:Menlo,'DejaVu Sans Mono',consolas,'Courier New',monospace\"><span style=\"font-weight: bold\">[</span>WARNING ODB-<span style=\"color: #008080; text-decoration-color: #008080; font-weight: bold\">0220</span><span style=\"font-weight: bold\">]</span> WARNING <span style=\"font-weight: bold\">(</span>LEFPARS-<span style=\"color: #008080; text-decoration-color: #008080; font-weight: bold\">2008</span><span style=\"font-weight: bold\">)</span>: NOWIREEXTENSIONATPIN statement is obsolete in version <span style=\"color: #008080; text-decoration-color: #008080; font-weight: bold\">5.6</span> or later.\n",
       "</pre>\n"
      ],
      "text/plain": [
       "\u001b[1m[\u001b[0mWARNING ODB-\u001b[1;36m0220\u001b[0m\u001b[1m]\u001b[0m WARNING \u001b[1m(\u001b[0mLEFPARS-\u001b[1;36m2008\u001b[0m\u001b[1m)\u001b[0m: NOWIREEXTENSIONATPIN statement is obsolete in version \u001b[1;36m5.6\u001b[0m or later.\n"
      ]
     },
     "metadata": {},
     "output_type": "display_data"
    },
    {
     "data": {
      "text/html": [
       "<pre style=\"white-space:pre;overflow-x:auto;line-height:normal;font-family:Menlo,'DejaVu Sans Mono',consolas,'Courier New',monospace\">The NOWIREEXTENSIONATPIN statement will be ignored. See file \n",
       "<span style=\"color: #800080; text-decoration-color: #800080\">/home/donn/.volare/sky130A/libs.ref/sky130_fd_sc_hd/lef/</span><span style=\"color: #ff00ff; text-decoration-color: #ff00ff\">sky130_fd_sc_hd.lef</span> at line <span style=\"color: #008080; text-decoration-color: #008080; font-weight: bold\">2</span>.\n",
       "</pre>\n"
      ],
      "text/plain": [
       "The NOWIREEXTENSIONATPIN statement will be ignored. See file \n",
       "\u001b[35m/home/donn/.volare/sky130A/libs.ref/sky130_fd_sc_hd/lef/\u001b[0m\u001b[95msky130_fd_sc_hd.lef\u001b[0m at line \u001b[1;36m2\u001b[0m.\n"
      ]
     },
     "metadata": {},
     "output_type": "display_data"
    },
    {
     "data": {
      "text/html": [
       "<pre style=\"white-space:pre;overflow-x:auto;line-height:normal;font-family:Menlo,'DejaVu Sans Mono',consolas,'Courier New',monospace\">\n",
       "</pre>\n"
      ],
      "text/plain": [
       "\n"
      ]
     },
     "metadata": {},
     "output_type": "display_data"
    },
    {
     "data": {
      "text/html": [
       "<pre style=\"white-space:pre;overflow-x:auto;line-height:normal;font-family:Menlo,'DejaVu Sans Mono',consolas,'Courier New',monospace\"><span style=\"font-weight: bold\">[</span>INFO ODB-<span style=\"color: #008080; text-decoration-color: #008080; font-weight: bold\">0225</span><span style=\"font-weight: bold\">]</span>     Created <span style=\"color: #008080; text-decoration-color: #008080; font-weight: bold\">437</span> library cells\n",
       "</pre>\n"
      ],
      "text/plain": [
       "\u001b[1m[\u001b[0mINFO ODB-\u001b[1;36m0225\u001b[0m\u001b[1m]\u001b[0m     Created \u001b[1;36m437\u001b[0m library cells\n"
      ]
     },
     "metadata": {},
     "output_type": "display_data"
    },
    {
     "data": {
      "text/html": [
       "<pre style=\"white-space:pre;overflow-x:auto;line-height:normal;font-family:Menlo,'DejaVu Sans Mono',consolas,'Courier New',monospace\"><span style=\"font-weight: bold\">[</span>INFO ODB-<span style=\"color: #008080; text-decoration-color: #008080; font-weight: bold\">0226</span><span style=\"font-weight: bold\">]</span> Finished LEF file:  <span style=\"color: #800080; text-decoration-color: #800080\">/home/donn/.volare/sky130A/libs.ref/sky130_fd_sc_hd/lef/</span><span style=\"color: #ff00ff; text-decoration-color: #ff00ff\">sky130_fd_sc_hd.lef</span>\n",
       "</pre>\n"
      ],
      "text/plain": [
       "\u001b[1m[\u001b[0mINFO ODB-\u001b[1;36m0226\u001b[0m\u001b[1m]\u001b[0m Finished LEF file:  \u001b[35m/home/donn/.volare/sky130A/libs.ref/sky130_fd_sc_hd/lef/\u001b[0m\u001b[95msky130_fd_sc_hd.lef\u001b[0m\n"
      ]
     },
     "metadata": {},
     "output_type": "display_data"
    },
    {
     "data": {
      "text/html": [
       "<pre style=\"white-space:pre;overflow-x:auto;line-height:normal;font-family:Menlo,'DejaVu Sans Mono',consolas,'Courier New',monospace\">Reading netlist…\n",
       "</pre>\n"
      ],
      "text/plain": [
       "Reading netlist…\n"
      ]
     },
     "metadata": {},
     "output_type": "display_data"
    },
    {
     "data": {
      "text/html": [
       "<pre style=\"white-space:pre;overflow-x:auto;line-height:normal;font-family:Menlo,'DejaVu Sans Mono',consolas,'Courier New',monospace\"><span style=\"font-weight: bold\">[</span>INFO IFP-<span style=\"color: #008080; text-decoration-color: #008080; font-weight: bold\">0001</span><span style=\"font-weight: bold\">]</span> Added <span style=\"color: #008080; text-decoration-color: #008080; font-weight: bold\">31</span> rows of <span style=\"color: #008080; text-decoration-color: #008080; font-weight: bold\">185</span> sites.\n",
       "</pre>\n"
      ],
      "text/plain": [
       "\u001b[1m[\u001b[0mINFO IFP-\u001b[1;36m0001\u001b[0m\u001b[1m]\u001b[0m Added \u001b[1;36m31\u001b[0m rows of \u001b[1;36m185\u001b[0m sites.\n"
      ]
     },
     "metadata": {},
     "output_type": "display_data"
    },
    {
     "data": {
      "text/html": [
       "<pre style=\"white-space:pre;overflow-x:auto;line-height:normal;font-family:Menlo,'DejaVu Sans Mono',consolas,'Courier New',monospace\"><span style=\"font-weight: bold\">[</span>INFO IFP-<span style=\"color: #008080; text-decoration-color: #008080; font-weight: bold\">0030</span><span style=\"font-weight: bold\">]</span> Inserted <span style=\"color: #008080; text-decoration-color: #008080; font-weight: bold\">0</span> tiecells using sky130_fd_sc_hd__conb_1/LO.\n",
       "</pre>\n"
      ],
      "text/plain": [
       "\u001b[1m[\u001b[0mINFO IFP-\u001b[1;36m0030\u001b[0m\u001b[1m]\u001b[0m Inserted \u001b[1;36m0\u001b[0m tiecells using sky130_fd_sc_hd__conb_1/LO.\n"
      ]
     },
     "metadata": {},
     "output_type": "display_data"
    },
    {
     "data": {
      "text/html": [
       "<pre style=\"white-space:pre;overflow-x:auto;line-height:normal;font-family:Menlo,'DejaVu Sans Mono',consolas,'Courier New',monospace\"><span style=\"font-weight: bold\">[</span>INFO IFP-<span style=\"color: #008080; text-decoration-color: #008080; font-weight: bold\">0030</span><span style=\"font-weight: bold\">]</span> Inserted <span style=\"color: #008080; text-decoration-color: #008080; font-weight: bold\">0</span> tiecells using sky130_fd_sc_hd__conb_1/HI.\n",
       "</pre>\n"
      ],
      "text/plain": [
       "\u001b[1m[\u001b[0mINFO IFP-\u001b[1;36m0030\u001b[0m\u001b[1m]\u001b[0m Inserted \u001b[1;36m0\u001b[0m tiecells using sky130_fd_sc_hd__conb_1/HI.\n"
      ]
     },
     "metadata": {},
     "output_type": "display_data"
    },
    {
     "data": {
      "text/html": [
       "<pre style=\"white-space:pre;overflow-x:auto;line-height:normal;font-family:Menlo,'DejaVu Sans Mono',consolas,'Courier New',monospace\"><span style=\"font-weight: bold\">[</span>INFO<span style=\"font-weight: bold\">]</span> Extracting DIE_AREA and CORE_AREA from the floorplan\n",
       "</pre>\n"
      ],
      "text/plain": [
       "\u001b[1m[\u001b[0mINFO\u001b[1m]\u001b[0m Extracting DIE_AREA and CORE_AREA from the floorplan\n"
      ]
     },
     "metadata": {},
     "output_type": "display_data"
    },
    {
     "data": {
      "text/html": [
       "<pre style=\"white-space:pre;overflow-x:auto;line-height:normal;font-family:Menlo,'DejaVu Sans Mono',consolas,'Courier New',monospace\"><span style=\"font-weight: bold\">[</span>INFO<span style=\"font-weight: bold\">]</span> Floorplanned on a die area of <span style=\"color: #008080; text-decoration-color: #008080; font-weight: bold\">0.0</span> <span style=\"color: #008080; text-decoration-color: #008080; font-weight: bold\">0.0</span> <span style=\"color: #008080; text-decoration-color: #008080; font-weight: bold\">96.58</span> <span style=\"color: #008080; text-decoration-color: #008080; font-weight: bold\">107.3</span> <span style=\"font-weight: bold\">(</span>µm<span style=\"font-weight: bold\">)</span>.\n",
       "</pre>\n"
      ],
      "text/plain": [
       "\u001b[1m[\u001b[0mINFO\u001b[1m]\u001b[0m Floorplanned on a die area of \u001b[1;36m0.0\u001b[0m \u001b[1;36m0.0\u001b[0m \u001b[1;36m96.58\u001b[0m \u001b[1;36m107.3\u001b[0m \u001b[1m(\u001b[0mµm\u001b[1m)\u001b[0m.\n"
      ]
     },
     "metadata": {},
     "output_type": "display_data"
    },
    {
     "data": {
      "text/html": [
       "<pre style=\"white-space:pre;overflow-x:auto;line-height:normal;font-family:Menlo,'DejaVu Sans Mono',consolas,'Courier New',monospace\"><span style=\"font-weight: bold\">[</span>INFO<span style=\"font-weight: bold\">]</span> Floorplanned on a core area of <span style=\"color: #008080; text-decoration-color: #008080; font-weight: bold\">5.52</span> <span style=\"color: #008080; text-decoration-color: #008080; font-weight: bold\">10.88</span> <span style=\"color: #008080; text-decoration-color: #008080; font-weight: bold\">90.62</span> <span style=\"color: #008080; text-decoration-color: #008080; font-weight: bold\">95.2</span> <span style=\"font-weight: bold\">(</span>µm<span style=\"font-weight: bold\">)</span>.\n",
       "</pre>\n"
      ],
      "text/plain": [
       "\u001b[1m[\u001b[0mINFO\u001b[1m]\u001b[0m Floorplanned on a core area of \u001b[1;36m5.52\u001b[0m \u001b[1;36m10.88\u001b[0m \u001b[1;36m90.62\u001b[0m \u001b[1;36m95.2\u001b[0m \u001b[1m(\u001b[0mµm\u001b[1m)\u001b[0m.\n"
      ]
     },
     "metadata": {},
     "output_type": "display_data"
    },
    {
     "data": {
      "text/html": [
       "<pre style=\"white-space:pre;overflow-x:auto;line-height:normal;font-family:Menlo,'DejaVu Sans Mono',consolas,'Courier New',monospace\">Setting global connections for newly added cells…\n",
       "</pre>\n"
      ],
      "text/plain": [
       "Setting global connections for newly added cells…\n"
      ]
     },
     "metadata": {},
     "output_type": "display_data"
    },
    {
     "data": {
      "text/html": [
       "<pre style=\"white-space:pre;overflow-x:auto;line-height:normal;font-family:Menlo,'DejaVu Sans Mono',consolas,'Courier New',monospace\">Writing OpenROAD database to <span style=\"color: #008000; text-decoration-color: #008000\">'/home/donn/efabless/openlane2/examples/spm/run/2-openroad-floorplan/spm.odb'</span>…\n",
       "</pre>\n"
      ],
      "text/plain": [
       "Writing OpenROAD database to \u001b[32m'/home/donn/efabless/openlane2/examples/spm/run/2-openroad-floorplan/spm.odb'\u001b[0m…\n"
      ]
     },
     "metadata": {},
     "output_type": "display_data"
    },
    {
     "data": {
      "text/html": [
       "<pre style=\"white-space:pre;overflow-x:auto;line-height:normal;font-family:Menlo,'DejaVu Sans Mono',consolas,'Courier New',monospace\">Writing netlist to <span style=\"color: #008000; text-decoration-color: #008000\">'/home/donn/efabless/openlane2/examples/spm/run/2-openroad-floorplan/spm.nl.v'</span>…\n",
       "</pre>\n"
      ],
      "text/plain": [
       "Writing netlist to \u001b[32m'/home/donn/efabless/openlane2/examples/spm/run/2-openroad-floorplan/spm.nl.v'\u001b[0m…\n"
      ]
     },
     "metadata": {},
     "output_type": "display_data"
    },
    {
     "data": {
      "text/html": [
       "<pre style=\"white-space:pre;overflow-x:auto;line-height:normal;font-family:Menlo,'DejaVu Sans Mono',consolas,'Courier New',monospace\">Writing powered netlist to <span style=\"color: #008000; text-decoration-color: #008000\">'/home/donn/efabless/openlane2/examples/spm/run/2-openroad-floorplan/spm.pnl.v'</span>…\n",
       "</pre>\n"
      ],
      "text/plain": [
       "Writing powered netlist to \u001b[32m'/home/donn/efabless/openlane2/examples/spm/run/2-openroad-floorplan/spm.pnl.v'\u001b[0m…\n"
      ]
     },
     "metadata": {},
     "output_type": "display_data"
    },
    {
     "data": {
      "text/html": [
       "<pre style=\"white-space:pre;overflow-x:auto;line-height:normal;font-family:Menlo,'DejaVu Sans Mono',consolas,'Courier New',monospace\">Writing layout to <span style=\"color: #008000; text-decoration-color: #008000\">'/home/donn/efabless/openlane2/examples/spm/run/2-openroad-floorplan/spm.def'</span>…\n",
       "</pre>\n"
      ],
      "text/plain": [
       "Writing layout to \u001b[32m'/home/donn/efabless/openlane2/examples/spm/run/2-openroad-floorplan/spm.def'\u001b[0m…\n"
      ]
     },
     "metadata": {},
     "output_type": "display_data"
    },
    {
     "data": {
      "text/html": [
       "<pre style=\"white-space:pre;overflow-x:auto;line-height:normal;font-family:Menlo,'DejaVu Sans Mono',consolas,'Courier New',monospace\">Writing timing constraints to <span style=\"color: #008000; text-decoration-color: #008000\">'/home/donn/efabless/openlane2/examples/spm/run/2-openroad-floorplan/spm.sdc'</span>…\n",
       "</pre>\n"
      ],
      "text/plain": [
       "Writing timing constraints to \u001b[32m'/home/donn/efabless/openlane2/examples/spm/run/2-openroad-floorplan/spm.sdc'\u001b[0m…\n"
      ]
     },
     "metadata": {},
     "output_type": "display_data"
    },
    {
     "data": {
      "text/markdown": [
       "\n",
       "        <div style=\"display: grid; grid-auto-columns: minmax(0, 1fr); grid-auto-rows: minmax(0, 1fr); grid-auto-flow: column;\">\n",
       "            <table style=\"grid-column-start: 1; grid-column-end: 2;\">\n",
       "                <tr>\n",
       "                    <th>Format</th>\n",
       "                    <th>Path</th>\n",
       "                </tr>\n",
       "        \n",
       "                <tr>\n",
       "                    <td>Verilog Netlist</td>\n",
       "                    <td><a href=\"run/2-openroad-floorplan/spm.nl.v\">run/2-openroad-floorplan/spm.nl.v</a></td>\n",
       "                </tr>\n",
       "            \n",
       "                <tr>\n",
       "                    <td>Powered Verilog Netlist</td>\n",
       "                    <td><a href=\"run/2-openroad-floorplan/spm.pnl.v\">run/2-openroad-floorplan/spm.pnl.v</a></td>\n",
       "                </tr>\n",
       "            \n",
       "                <tr>\n",
       "                    <td>Design Exchange Format</td>\n",
       "                    <td><a href=\"run/2-openroad-floorplan/spm.def\">run/2-openroad-floorplan/spm.def</a></td>\n",
       "                </tr>\n",
       "            \n",
       "                <tr>\n",
       "                    <td>OpenDB Database</td>\n",
       "                    <td><a href=\"run/2-openroad-floorplan/spm.odb\">run/2-openroad-floorplan/spm.odb</a></td>\n",
       "                </tr>\n",
       "            \n",
       "                <tr>\n",
       "                    <td>Design Constraints</td>\n",
       "                    <td><a href=\"run/2-openroad-floorplan/spm.sdc\">run/2-openroad-floorplan/spm.sdc</a></td>\n",
       "                </tr>\n",
       "            \n",
       "            </table>\n",
       "        </div>\n",
       "        "
      ],
      "text/plain": [
       "{'nl': '/home/donn/efabless/openlane2/examples/spm/run/2-openroad-floorplan/spm.nl.v', 'pnl': '/home/donn/efabless/openlane2/examples/spm/run/2-openroad-floorplan/spm.pnl.v', 'def': '/home/donn/efabless/openlane2/examples/spm/run/2-openroad-floorplan/spm.def', 'lef': None, 'odb': '/home/donn/efabless/openlane2/examples/spm/run/2-openroad-floorplan/spm.odb', 'sdc': '/home/donn/efabless/openlane2/examples/spm/run/2-openroad-floorplan/spm.sdc', 'sdf': None, 'spef': None, 'lib': None, 'spice': None, 'gds': None, 'mag_gds': None, 'klayout_gds': None, 'metrics': {'design__instance__count': 287, 'design__instance__area': 3658.5088, 'die__area': '0.0 0.0 96.58 107.3', 'core__area': '5.52 10.88 90.62 95.2'}}"
      ]
     },
     "execution_count": 5,
     "metadata": {},
     "output_type": "execute_result"
    }
   ],
   "source": [
    "from openlane.steps.openroad import Floorplan\n",
    "\n",
    "floorplan = Floorplan()\n",
    "floorplan.start()"
   ]
  },
  {
   "cell_type": "code",
   "execution_count": 6,
   "metadata": {},
   "outputs": [
    {
     "data": {
      "text/markdown": [
       "#### Time Elapsed: 0.58s\n",
       "#### Views updated:\n",
       "* Verilog Netlist\n",
       "* Powered Verilog Netlist\n",
       "* Design Exchange Format\n",
       "* OpenDB Database\n",
       "* Design Constraints\n",
       "#### Preview:\n",
       "<img src=\"data:image/png;base64,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\" />"
      ],
      "text/plain": [
       "<openlane.steps.openroad.Floorplan at 0x7fb2b418f610>"
      ]
     },
     "metadata": {},
     "output_type": "display_data"
    }
   ],
   "source": [
    "display(floorplan)"
   ]
  },
  {
   "cell_type": "code",
   "execution_count": 7,
   "metadata": {},
   "outputs": [
    {
     "data": {
      "text/html": [
       "<pre style=\"white-space:pre;overflow-x:auto;line-height:normal;font-family:Menlo,'DejaVu Sans Mono',consolas,'Courier New',monospace\"><span style=\"color: #00ff00; text-decoration-color: #00ff00\">─────────────────────────────────────────────── </span>Tap/Decap Insertion<span style=\"color: #00ff00; text-decoration-color: #00ff00\"> ───────────────────────────────────────────────</span>\n",
       "</pre>\n"
      ],
      "text/plain": [
       "\u001b[92m─────────────────────────────────────────────── \u001b[0mTap/Decap Insertion\u001b[92m ───────────────────────────────────────────────\u001b[0m\n"
      ]
     },
     "metadata": {},
     "output_type": "display_data"
    },
    {
     "data": {
      "text/html": [
       "<pre style=\"white-space:pre;overflow-x:auto;line-height:normal;font-family:Menlo,'DejaVu Sans Mono',consolas,'Courier New',monospace\">OpenROAD 6de104daffe029fd717645b21f3e6ed6aad1042b\n",
       "</pre>\n"
      ],
      "text/plain": [
       "OpenROAD 6de104daffe029fd717645b21f3e6ed6aad1042b\n"
      ]
     },
     "metadata": {},
     "output_type": "display_data"
    },
    {
     "data": {
      "text/html": [
       "<pre style=\"white-space:pre;overflow-x:auto;line-height:normal;font-family:Menlo,'DejaVu Sans Mono',consolas,'Courier New',monospace\">This program is licensed under the BSD-<span style=\"color: #008080; text-decoration-color: #008080; font-weight: bold\">3</span> license. See the LICENSE file for details.\n",
       "</pre>\n"
      ],
      "text/plain": [
       "This program is licensed under the BSD-\u001b[1;36m3\u001b[0m license. See the LICENSE file for details.\n"
      ]
     },
     "metadata": {},
     "output_type": "display_data"
    },
    {
     "data": {
      "text/html": [
       "<pre style=\"white-space:pre;overflow-x:auto;line-height:normal;font-family:Menlo,'DejaVu Sans Mono',consolas,'Courier New',monospace\">Components of this program may be licensed under more restrictive licenses which must be honored.\n",
       "</pre>\n"
      ],
      "text/plain": [
       "Components of this program may be licensed under more restrictive licenses which must be honored.\n"
      ]
     },
     "metadata": {},
     "output_type": "display_data"
    },
    {
     "data": {
      "text/html": [
       "<pre style=\"white-space:pre;overflow-x:auto;line-height:normal;font-family:Menlo,'DejaVu Sans Mono',consolas,'Courier New',monospace\"><span style=\"font-weight: bold\">[</span>INFO TAP-<span style=\"color: #008080; text-decoration-color: #008080; font-weight: bold\">0004</span><span style=\"font-weight: bold\">]</span> Inserted <span style=\"color: #008080; text-decoration-color: #008080; font-weight: bold\">62</span> endcaps.\n",
       "</pre>\n"
      ],
      "text/plain": [
       "\u001b[1m[\u001b[0mINFO TAP-\u001b[1;36m0004\u001b[0m\u001b[1m]\u001b[0m Inserted \u001b[1;36m62\u001b[0m endcaps.\n"
      ]
     },
     "metadata": {},
     "output_type": "display_data"
    },
    {
     "data": {
      "text/html": [
       "<pre style=\"white-space:pre;overflow-x:auto;line-height:normal;font-family:Menlo,'DejaVu Sans Mono',consolas,'Courier New',monospace\"><span style=\"font-weight: bold\">[</span>INFO TAP-<span style=\"color: #008080; text-decoration-color: #008080; font-weight: bold\">0005</span><span style=\"font-weight: bold\">]</span> Inserted <span style=\"color: #008080; text-decoration-color: #008080; font-weight: bold\">99</span> tapcells.\n",
       "</pre>\n"
      ],
      "text/plain": [
       "\u001b[1m[\u001b[0mINFO TAP-\u001b[1;36m0005\u001b[0m\u001b[1m]\u001b[0m Inserted \u001b[1;36m99\u001b[0m tapcells.\n"
      ]
     },
     "metadata": {},
     "output_type": "display_data"
    },
    {
     "data": {
      "text/html": [
       "<pre style=\"white-space:pre;overflow-x:auto;line-height:normal;font-family:Menlo,'DejaVu Sans Mono',consolas,'Courier New',monospace\">Setting global connections for newly added cells…\n",
       "</pre>\n"
      ],
      "text/plain": [
       "Setting global connections for newly added cells…\n"
      ]
     },
     "metadata": {},
     "output_type": "display_data"
    },
    {
     "data": {
      "text/html": [
       "<pre style=\"white-space:pre;overflow-x:auto;line-height:normal;font-family:Menlo,'DejaVu Sans Mono',consolas,'Courier New',monospace\">Writing OpenROAD database to <span style=\"color: #008000; text-decoration-color: #008000\">'/home/donn/efabless/openlane2/examples/spm/run/3-openroad-tapdecapinsertion/spm.odb'</span>…\n",
       "</pre>\n"
      ],
      "text/plain": [
       "Writing OpenROAD database to \u001b[32m'/home/donn/efabless/openlane2/examples/spm/run/3-openroad-tapdecapinsertion/spm.odb'\u001b[0m…\n"
      ]
     },
     "metadata": {},
     "output_type": "display_data"
    },
    {
     "data": {
      "text/html": [
       "<pre style=\"white-space:pre;overflow-x:auto;line-height:normal;font-family:Menlo,'DejaVu Sans Mono',consolas,'Courier New',monospace\">Writing netlist to <span style=\"color: #008000; text-decoration-color: #008000\">'/home/donn/efabless/openlane2/examples/spm/run/3-openroad-tapdecapinsertion/spm.nl.v'</span>…\n",
       "</pre>\n"
      ],
      "text/plain": [
       "Writing netlist to \u001b[32m'/home/donn/efabless/openlane2/examples/spm/run/3-openroad-tapdecapinsertion/spm.nl.v'\u001b[0m…\n"
      ]
     },
     "metadata": {},
     "output_type": "display_data"
    },
    {
     "data": {
      "text/html": [
       "<pre style=\"white-space:pre;overflow-x:auto;line-height:normal;font-family:Menlo,'DejaVu Sans Mono',consolas,'Courier New',monospace\">Writing powered netlist to <span style=\"color: #008000; text-decoration-color: #008000\">'/home/donn/efabless/openlane2/examples/spm/run/3-openroad-tapdecapinsertion/spm.pnl.v'</span>…\n",
       "</pre>\n"
      ],
      "text/plain": [
       "Writing powered netlist to \u001b[32m'/home/donn/efabless/openlane2/examples/spm/run/3-openroad-tapdecapinsertion/spm.pnl.v'\u001b[0m…\n"
      ]
     },
     "metadata": {},
     "output_type": "display_data"
    },
    {
     "data": {
      "text/html": [
       "<pre style=\"white-space:pre;overflow-x:auto;line-height:normal;font-family:Menlo,'DejaVu Sans Mono',consolas,'Courier New',monospace\">Writing layout to <span style=\"color: #008000; text-decoration-color: #008000\">'/home/donn/efabless/openlane2/examples/spm/run/3-openroad-tapdecapinsertion/spm.def'</span>…\n",
       "</pre>\n"
      ],
      "text/plain": [
       "Writing layout to \u001b[32m'/home/donn/efabless/openlane2/examples/spm/run/3-openroad-tapdecapinsertion/spm.def'\u001b[0m…\n"
      ]
     },
     "metadata": {},
     "output_type": "display_data"
    },
    {
     "data": {
      "text/html": [
       "<pre style=\"white-space:pre;overflow-x:auto;line-height:normal;font-family:Menlo,'DejaVu Sans Mono',consolas,'Courier New',monospace\">Writing timing constraints to \n",
       "<span style=\"color: #008000; text-decoration-color: #008000\">'/home/donn/efabless/openlane2/examples/spm/run/3-openroad-tapdecapinsertion/spm.sdc'</span>…\n",
       "</pre>\n"
      ],
      "text/plain": [
       "Writing timing constraints to \n",
       "\u001b[32m'/home/donn/efabless/openlane2/examples/spm/run/3-openroad-tapdecapinsertion/spm.sdc'\u001b[0m…\n"
      ]
     },
     "metadata": {},
     "output_type": "display_data"
    },
    {
     "data": {
      "text/markdown": [
       "\n",
       "        <div style=\"display: grid; grid-auto-columns: minmax(0, 1fr); grid-auto-rows: minmax(0, 1fr); grid-auto-flow: column;\">\n",
       "            <table style=\"grid-column-start: 1; grid-column-end: 2;\">\n",
       "                <tr>\n",
       "                    <th>Format</th>\n",
       "                    <th>Path</th>\n",
       "                </tr>\n",
       "        \n",
       "                <tr>\n",
       "                    <td>Verilog Netlist</td>\n",
       "                    <td><a href=\"run/3-openroad-tapdecapinsertion/spm.nl.v\">run/3-openroad-tapdecapinsertion/spm.nl.v</a></td>\n",
       "                </tr>\n",
       "            \n",
       "                <tr>\n",
       "                    <td>Powered Verilog Netlist</td>\n",
       "                    <td><a href=\"run/3-openroad-tapdecapinsertion/spm.pnl.v\">run/3-openroad-tapdecapinsertion/spm.pnl.v</a></td>\n",
       "                </tr>\n",
       "            \n",
       "                <tr>\n",
       "                    <td>Design Exchange Format</td>\n",
       "                    <td><a href=\"run/3-openroad-tapdecapinsertion/spm.def\">run/3-openroad-tapdecapinsertion/spm.def</a></td>\n",
       "                </tr>\n",
       "            \n",
       "                <tr>\n",
       "                    <td>OpenDB Database</td>\n",
       "                    <td><a href=\"run/3-openroad-tapdecapinsertion/spm.odb\">run/3-openroad-tapdecapinsertion/spm.odb</a></td>\n",
       "                </tr>\n",
       "            \n",
       "                <tr>\n",
       "                    <td>Design Constraints</td>\n",
       "                    <td><a href=\"run/3-openroad-tapdecapinsertion/spm.sdc\">run/3-openroad-tapdecapinsertion/spm.sdc</a></td>\n",
       "                </tr>\n",
       "            \n",
       "            </table>\n",
       "        </div>\n",
       "        "
      ],
      "text/plain": [
       "{'nl': '/home/donn/efabless/openlane2/examples/spm/run/3-openroad-tapdecapinsertion/spm.nl.v', 'pnl': '/home/donn/efabless/openlane2/examples/spm/run/3-openroad-tapdecapinsertion/spm.pnl.v', 'def': '/home/donn/efabless/openlane2/examples/spm/run/3-openroad-tapdecapinsertion/spm.def', 'lef': None, 'odb': '/home/donn/efabless/openlane2/examples/spm/run/3-openroad-tapdecapinsertion/spm.odb', 'sdc': '/home/donn/efabless/openlane2/examples/spm/run/3-openroad-tapdecapinsertion/spm.sdc', 'sdf': None, 'spef': None, 'lib': None, 'spice': None, 'gds': None, 'mag_gds': None, 'klayout_gds': None, 'metrics': {'design__instance__count': 287, 'design__instance__area': 3658.5088, 'die__area': '0.0 0.0 96.58 107.3', 'core__area': '5.52 10.88 90.62 95.2'}}"
      ]
     },
     "execution_count": 7,
     "metadata": {},
     "output_type": "execute_result"
    }
   ],
   "source": [
    "from openlane.steps.openroad import TapDecapInsertion\n",
    "\n",
    "tdi = TapDecapInsertion()\n",
    "tdi.start()"
   ]
  },
  {
   "cell_type": "code",
   "execution_count": 8,
   "metadata": {},
   "outputs": [
    {
     "data": {
      "text/markdown": [
       "#### Time Elapsed: 0.35s\n",
       "#### Views updated:\n",
       "* Verilog Netlist\n",
       "* Powered Verilog Netlist\n",
       "* Design Exchange Format\n",
       "* OpenDB Database\n",
       "* Design Constraints\n",
       "#### Preview:\n",
       "<img src=\"data:image/png;base64,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\" />"
      ],
      "text/plain": [
       "<openlane.steps.openroad.TapDecapInsertion at 0x7fb2947218d0>"
      ]
     },
     "metadata": {},
     "output_type": "display_data"
    }
   ],
   "source": [
    "display(tdi)"
   ]
  },
  {
   "cell_type": "code",
   "execution_count": null,
   "metadata": {
    "scrolled": true
   },
   "outputs": [],
   "source": [
    "from openlane.steps.openroad import IOPlacement\n",
    "\n",
    "ioplace = IOPlacement()\n",
    "ioplace.start()"
   ]
  },
  {
   "cell_type": "code",
   "execution_count": null,
   "metadata": {},
   "outputs": [],
   "source": [
    "display(ioplace)"
   ]
  },
  {
   "cell_type": "code",
   "execution_count": null,
   "metadata": {},
   "outputs": [],
   "source": [
    "from openlane.steps.openroad import GeneratePDN\n",
    "\n",
    "pdn = GeneratePDN()\n",
    "pdn.start()"
   ]
  },
  {
   "cell_type": "code",
   "execution_count": null,
   "metadata": {},
   "outputs": [],
   "source": [
    "display(pdn)"
   ]
  },
  {
   "cell_type": "code",
   "execution_count": null,
   "metadata": {},
   "outputs": [],
   "source": [
    "from openlane.steps.openroad import GlobalPlacement\n",
    "\n",
    "gpl = GlobalPlacement()\n",
    "gpl.start()"
   ]
  },
  {
   "cell_type": "code",
   "execution_count": null,
   "metadata": {},
   "outputs": [],
   "source": [
    "display(gpl)"
   ]
  },
  {
   "cell_type": "code",
   "execution_count": null,
   "metadata": {},
   "outputs": [],
   "source": [
    "from openlane.steps.openroad import DetailedPlacement\n",
    "\n",
    "dpl = DetailedPlacement()\n",
    "dpl.start()"
   ]
  },
  {
   "cell_type": "code",
   "execution_count": null,
   "metadata": {},
   "outputs": [],
   "source": [
    "display(dpl)"
   ]
  },
  {
   "cell_type": "code",
   "execution_count": null,
   "metadata": {},
   "outputs": [],
   "source": [
    "from openlane.steps.openroad import CTS\n",
    "\n",
    "cts = CTS()\n",
    "cts.start()"
   ]
  },
  {
   "cell_type": "code",
   "execution_count": null,
   "metadata": {},
   "outputs": [],
   "source": [
    "display(cts)"
   ]
  },
  {
   "cell_type": "code",
   "execution_count": null,
   "metadata": {},
   "outputs": [],
   "source": [
    "from openlane.steps.openroad import GlobalRouting\n",
    "\n",
    "grt = GlobalRouting()\n",
    "grt.start()"
   ]
  },
  {
   "cell_type": "code",
   "execution_count": null,
   "metadata": {},
   "outputs": [],
   "source": [
    "display(grt)"
   ]
  },
  {
   "cell_type": "code",
   "execution_count": null,
   "metadata": {},
   "outputs": [],
   "source": [
    "from openlane.steps.openroad import DetailedRouting\n",
    "\n",
    "drt = DetailedRouting()\n",
    "drt.start()"
   ]
  },
  {
   "cell_type": "code",
   "execution_count": null,
   "metadata": {},
   "outputs": [],
   "source": [
    "display(grt)"
   ]
  },
  {
   "cell_type": "code",
   "execution_count": null,
   "metadata": {},
   "outputs": [],
   "source": [
    "from openlane.steps.openroad import DetailedRouting\n",
    "\n",
    "drt = DetailedRouting()\n",
    "drt.start()"
   ]
  },
  {
   "cell_type": "code",
   "execution_count": null,
   "metadata": {},
   "outputs": [],
   "source": [
    "display(drt)"
   ]
  },
  {
   "cell_type": "code",
   "execution_count": null,
   "metadata": {},
   "outputs": [],
   "source": [
    "from openlane.steps.openroad import FillInsertion\n",
    "\n",
    "fill = FillInsertion()\n",
    "fill.start()"
   ]
  },
  {
   "cell_type": "code",
   "execution_count": null,
   "metadata": {},
   "outputs": [],
   "source": [
    "display(fill)"
   ]
  },
  {
   "cell_type": "code",
   "execution_count": null,
   "metadata": {},
   "outputs": [],
   "source": [
    "from openlane.steps.klayout import StreamOut\n",
    "\n",
    "gds = StreamOut()\n",
    "gds.start()"
   ]
  },
  {
   "cell_type": "code",
   "execution_count": null,
   "metadata": {},
   "outputs": [],
   "source": [
    "display(gds)"
   ]
  }
 ],
 "metadata": {
  "kernelspec": {
   "display_name": "Python 3",
   "language": "python",
   "name": "python3"
  },
  "language_info": {
   "codemirror_mode": {
    "name": "ipython",
    "version": 3
   },
   "file_extension": ".py",
   "mimetype": "text/x-python",
   "name": "python",
   "nbconvert_exporter": "python",
   "pygments_lexer": "ipython3",
   "version": "3.10.9"
  },
  "vscode": {
   "interpreter": {
    "hash": "259a389b4057ccde35404af821e33afdf5883d9f2d987c370b23bfef9f2c3eb5"
   }
  }
 },
 "nbformat": 4,
 "nbformat_minor": 2
}
