{
    "cells": [
        {
            "cell_type": "code",
            "execution_count": null,
            "metadata": {},
            "outputs": [],
            "source": [
                "import sys\n",
                "\n",
                "# This is a beta vestige- please ignore this for now. Thank you!\n",
                "sys.path.insert(0, \"/home/donn/efabless/openlane2\")\n",
                "\n",
                "\n",
                "from openlane.config.builder import ConfigBuilder\n",
                "\n",
                "ConfigBuilder.interactive(\n",
                "    \"spm\",\n",
                "    PDK=\"sky130A\",\n",
                "    CLOCK_PORT=\"clk\",\n",
                "    CLOCK_NET=\"clk\",\n",
                "    CLOCK_PERIOD=10,\n",
                "    PRIMARY_SIGNOFF_TOOL=\"klayout\",\n",
                ")"
            ]
        },
        {
            "cell_type": "code",
            "execution_count": null,
            "metadata": {},
            "outputs": [],
            "source": [
                "from openlane.steps.yosys import Synthesis\n",
                "\n",
                "Synthesis.display_help()"
            ]
        },
        {
            "cell_type": "code",
            "execution_count": null,
            "metadata": {
                "scrolled": true
            },
            "outputs": [],
            "source": [
                "synthesis = Synthesis(\n",
                "    VERILOG_FILES=[\"./src/spm.v\"],\n",
                ")\n",
                "synthesis.start()"
            ]
        },
        {
            "cell_type": "code",
            "execution_count": null,
            "metadata": {},
            "outputs": [],
            "source": [
                "display(synthesis)"
            ]
        },
        {
            "cell_type": "code",
            "execution_count": null,
            "metadata": {},
            "outputs": [],
            "source": [
                "from openlane.steps.misc import LoadBaseSDC\n",
                "\n",
                "sdc = LoadBaseSDC()\n",
                "sdc.start()"
            ]
        },
        {
            "cell_type": "code",
            "execution_count": null,
            "metadata": {},
            "outputs": [],
            "source": [
                "from openlane.steps.openroad import Floorplan\n",
                "\n",
                "floorplan = Floorplan()\n",
                "floorplan.start()"
            ]
        },
        {
            "cell_type": "code",
            "execution_count": null,
            "metadata": {},
            "outputs": [],
            "source": [
                "display(floorplan)"
            ]
        },
        {
            "cell_type": "code",
            "execution_count": null,
            "metadata": {},
            "outputs": [],
            "source": [
                "from openlane.steps.openroad import TapEndcapInsertion\n",
                "\n",
                "tdi = TapEndcapInsertion()\n",
                "tdi.start()"
            ]
        },
        {
            "cell_type": "code",
            "execution_count": null,
            "metadata": {},
            "outputs": [],
            "source": [
                "display(tdi)"
            ]
        },
        {
            "cell_type": "code",
            "execution_count": null,
            "metadata": {
                "scrolled": true
            },
            "outputs": [],
            "source": [
                "from openlane.steps.openroad import IOPlacement\n",
                "\n",
                "ioplace = IOPlacement()\n",
                "ioplace.start()"
            ]
        },
        {
            "cell_type": "code",
            "execution_count": null,
            "metadata": {},
            "outputs": [],
            "source": [
                "display(ioplace)"
            ]
        },
        {
            "cell_type": "code",
            "execution_count": null,
            "metadata": {
                "scrolled": true
            },
            "outputs": [],
            "source": [
                "from openlane.steps.openroad import GeneratePDN\n",
                "\n",
                "pdn = GeneratePDN()\n",
                "pdn.start()"
            ]
        },
        {
            "cell_type": "code",
            "execution_count": null,
            "metadata": {},
            "outputs": [],
            "source": [
                "display(pdn)"
            ]
        },
        {
            "cell_type": "code",
            "execution_count": null,
            "metadata": {},
            "outputs": [],
            "source": [
                "from openlane.steps.openroad import GlobalPlacement\n",
                "\n",
                "gpl = GlobalPlacement()\n",
                "gpl.start()"
            ]
        },
        {
            "cell_type": "code",
            "execution_count": null,
            "metadata": {},
            "outputs": [],
            "source": [
                "display(gpl)"
            ]
        },
        {
            "cell_type": "code",
            "execution_count": null,
            "metadata": {},
            "outputs": [],
            "source": [
                "from openlane.steps.openroad import DetailedPlacement\n",
                "\n",
                "dpl = DetailedPlacement()\n",
                "dpl.start()"
            ]
        },
        {
            "cell_type": "code",
            "execution_count": null,
            "metadata": {},
            "outputs": [],
            "source": [
                "display(dpl)"
            ]
        },
        {
            "cell_type": "code",
            "execution_count": null,
            "metadata": {},
            "outputs": [],
            "source": [
                "from openlane.steps.openroad import CTS\n",
                "\n",
                "cts = CTS()\n",
                "cts.start()"
            ]
        },
        {
            "cell_type": "code",
            "execution_count": null,
            "metadata": {},
            "outputs": [],
            "source": [
                "display(cts)"
            ]
        },
        {
            "cell_type": "code",
            "execution_count": null,
            "metadata": {},
            "outputs": [],
            "source": [
                "from openlane.steps.openroad import GlobalRouting\n",
                "\n",
                "grt = GlobalRouting()\n",
                "grt.start()"
            ]
        },
        {
            "cell_type": "code",
            "execution_count": null,
            "metadata": {},
            "outputs": [],
            "source": [
                "display(grt)"
            ]
        },
        {
            "cell_type": "code",
            "execution_count": null,
            "metadata": {},
            "outputs": [],
            "source": [
                "from openlane.steps.openroad import DetailedRouting\n",
                "\n",
                "drt = DetailedRouting()\n",
                "drt.start()"
            ]
        },
        {
            "cell_type": "code",
            "execution_count": null,
            "metadata": {},
            "outputs": [],
            "source": [
                "display(grt)"
            ]
        },
        {
            "cell_type": "code",
            "execution_count": null,
            "metadata": {},
            "outputs": [],
            "source": [
                "from openlane.steps.openroad import DetailedRouting\n",
                "\n",
                "drt = DetailedRouting()\n",
                "drt.start()"
            ]
        },
        {
            "cell_type": "code",
            "execution_count": null,
            "metadata": {},
            "outputs": [],
            "source": [
                "display(drt)"
            ]
        },
        {
            "cell_type": "code",
            "execution_count": null,
            "metadata": {},
            "outputs": [],
            "source": [
                "from openlane.steps.openroad import FillInsertion\n",
                "\n",
                "fill = FillInsertion()\n",
                "fill.start()"
            ]
        },
        {
            "cell_type": "code",
            "execution_count": null,
            "metadata": {},
            "outputs": [],
            "source": [
                "display(fill)"
            ]
        },
        {
            "cell_type": "code",
            "execution_count": null,
            "metadata": {},
            "outputs": [],
            "source": [
                "from openlane.steps.klayout import StreamOut\n",
                "\n",
                "gds = StreamOut()\n",
                "gds.start()"
            ]
        },
        {
            "cell_type": "code",
            "execution_count": null,
            "metadata": {},
            "outputs": [],
            "source": [
                "display(gds)"
            ]
        },
        {
            "cell_type": "code",
            "execution_count": null,
            "metadata": {},
            "outputs": [],
            "source": []
        }
    ],
    "metadata": {
        "kernelspec": {
            "display_name": "Python 3 (ipykernel)",
            "language": "python",
            "name": "python3"
        },
        "language_info": {
            "codemirror_mode": {
                "name": "ipython",
                "version": 3
            },
            "file_extension": ".py",
            "mimetype": "text/x-python",
            "name": "python",
            "nbconvert_exporter": "python",
            "pygments_lexer": "ipython3",
            "version": "3.10.9"
        },
        "vscode": {
            "interpreter": {
                "hash": "259a389b4057ccde35404af821e33afdf5883d9f2d987c370b23bfef9f2c3eb5"
            }
        }
    },
    "nbformat": 4,
    "nbformat_minor": 2
}