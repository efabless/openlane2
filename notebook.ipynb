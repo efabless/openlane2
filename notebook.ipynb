{
 "cells": [
  {
   "attachments": {},
   "cell_type": "markdown",
   "metadata": {},
   "source": [
    "## OpenLane Colab\n",
    "\n",
    "This Google Colab notebook will:\n",
    "* Install OpenLane and its dependencies\n",
    "* Run a simple design, namely a serial-parallel multiplier, through the flow\n",
    "  and targeting the [open source sky130 PDK](https://github.com/google/skywater-pdk/)\n",
    "  by Google and Skywater."
   ]
  },
  {
   "cell_type": "code",
   "execution_count": null,
   "metadata": {},
   "outputs": [],
   "source": [
    "# @title Install Nix {display-mode: \"form\"}\n",
    "# @markdown <img src=\"https://raw.githubusercontent.com/NixOS/nixos-artwork/master/logo/nix-snowflake.svg\" width=\"32\"/>\n",
    "# @markdown\n",
    "# @markdown Nix is a package manager with an emphasis on reproducible builds,\n",
    "# @markdown and it is the primary method for installing OpenLane 2.\n",
    "import os\n",
    "\n",
    "%env LOCALE_ARCHIVE=/usr/lib/locale/locale-archive\n",
    "!sh <(curl -L https://nixos.org/nix/install) --daemon --yes\n",
    "%env PATH=/nix/var/nix/profiles/default/bin/:{os.getenv(\"PATH\")}\n",
    "!nix-env -iA cachix -f https://cachix.org/api/v1/install\n",
    "!USER=root cachix use openlane"
   ]
  },
  {
   "cell_type": "code",
   "execution_count": null,
   "metadata": {},
   "outputs": [],
   "source": [
    "# @title Get OpenLane {display-mode: \"form\"}\n",
    "# @markdown Click the ▷ button to download and install OpenLane.\n",
    "# @markdown\n",
    "# @markdown This will install OpenLane's tool dependencies using Nix,\n",
    "# @markdown and OpenLane itself using PIP.\n",
    "\n",
    "openlane_version = \"latest\"  # @param {key:\"OpenLane Version\", type:\"string\"}\n",
    "\n",
    "if openlane_version == \"latest\":\n",
    "    openlane_version = \"main\"\n",
    "\n",
    "!curl -L \"https://github.com/efabless/openlane2/tarball/{main}\" | tar -xzC . --strip-components 1\n",
    "tool_derivations = [\n",
    "    \"klayout.nix\",\n",
    "    \"magic.nix\",\n",
    "    \"netgen.nix\",\n",
    "    \"openroad.nix\",\n",
    "    \"yosys.nix\",\n",
    "]\n",
    "for derivation in tool_derivations:\n",
    "    !nix-env -i -f ./nix/{derivation}\n",
    "!pip3 install -r ./requirements.txt\n",
    "!volare enable $(cat ./openlane/open_pdks_rev)"
   ]
  },
  {
   "cell_type": "code",
   "execution_count": null,
   "metadata": {},
   "outputs": [],
   "source": [
    "import openlane\n",
    "\n",
    "print(openlane.__version__)"
   ]
  },
  {
   "attachments": {},
   "cell_type": "markdown",
   "metadata": {},
   "source": [
    "### Creating the design\n",
    "\n",
    "Now that OpenLane is set up, we can write a Verilog file as follows:"
   ]
  },
  {
   "cell_type": "code",
   "execution_count": null,
   "metadata": {},
   "outputs": [],
   "source": [
    "%%writefile spm.v\n",
    "module spm(clk, rst, x, y, p);\n",
    "    parameter size = 32;\n",
    "    input clk, rst;\n",
    "    input y;\n",
    "    input[size-1:0] x;\n",
    "    output p;\n",
    "\n",
    "    wire[size-1:1] pp;\n",
    "    wire[size-1:0] xy;\n",
    "\n",
    "    genvar i;\n",
    "\n",
    "    CSADD csa0 (.clk(clk), .rst(rst), .x(x[0]&y), .y(pp[1]), .sum(p));\n",
    "    generate for(i=1; i<size-1; i=i+1) begin\n",
    "        CSADD csa (.clk(clk), .rst(rst), .x(x[i]&y), .y(pp[i+1]), .sum(pp[i]));\n",
    "    end endgenerate\n",
    "    TCMP tcmp (.clk(clk), .rst(rst), .a(x[size-1]&y), .s(pp[size-1]));\n",
    "\n",
    "endmodule\n",
    "\n",
    "module TCMP(clk, rst, a, s);\n",
    "    input clk, rst;\n",
    "    input a;\n",
    "    output reg s;\n",
    "\n",
    "    reg z;\n",
    "\n",
    "    always @(posedge clk or posedge rst) begin\n",
    "        if (rst) begin\n",
    "            //Reset logic goes here.\n",
    "            s <= 1'b0;\n",
    "            z <= 1'b0;\n",
    "        end\n",
    "        else begin\n",
    "            //Sequential logic goes here.\n",
    "            z <= a | z;\n",
    "            s <= a ^ z;\n",
    "        end\n",
    "    end\n",
    "endmodule\n",
    "\n",
    "module CSADD(clk, rst, x, y, sum);\n",
    "    input clk, rst;\n",
    "    input x, y;\n",
    "    output reg sum;\n",
    "\n",
    "    reg sc;\n",
    "\n",
    "    // Half Adders logic\n",
    "    wire hsum1, hco1;\n",
    "    assign hsum1 = y ^ sc;\n",
    "    assign hco1 = y & sc;\n",
    "\n",
    "    wire hsum2, hco2;\n",
    "    assign hsum2 = x ^ hsum1;\n",
    "    assign hco2 = x & hsum1;\n",
    "\n",
    "    always @(posedge clk or posedge rst) begin\n",
    "        if (rst) begin\n",
    "            //Reset logic goes here.\n",
    "            sum <= 1'b0;\n",
    "            sc <= 1'b0;\n",
    "        end\n",
    "        else begin\n",
    "            //Sequential logic goes here.\n",
    "            sum <= hsum2;\n",
    "            sc <= hco1 ^ hco2;\n",
    "        end\n",
    "    end\n",
    "endmodule"
   ]
  },
  {
   "attachments": {},
   "cell_type": "markdown",
   "metadata": {},
   "source": [
    "### Setting up the configuration\n",
    "\n",
    "OpenLane requries you to configure any Flow before using it. This is done using\n",
    "the `config` module.\n",
    "\n",
    "For colaboratories, REPLs and other interactive environments where there is no\n",
    "concrete Flow object, the Configuration may be initialized using `Config.interactive`,\n",
    "which will automatically propagate the configuration to any future steps.\n",
    "\n",
    "You can find the documentation for `Config.interactive` [here](https://openlane2.readthedocs.io/en/latest/reference/api/config/index.html#openlane.config.Config.interactive).\n",
    "\n"
   ]
  },
  {
   "cell_type": "code",
   "execution_count": null,
   "metadata": {},
   "outputs": [],
   "source": [
    "from openlane.config import Config\n",
    "\n",
    "Config.interactive(\n",
    "    \"spm\",\n",
    "    PDK=\"sky130A\",\n",
    "    CLOCK_PORT=\"clk\",\n",
    "    CLOCK_NET=\"clk\",\n",
    "    CLOCK_PERIOD=10,\n",
    "    PRIMARY_SIGNOFF_TOOL=\"klayout\",\n",
    ")"
   ]
  },
  {
   "attachments": {},
   "cell_type": "markdown",
   "metadata": {},
   "source": [
    "### Running implementation steps\n",
    "\n",
    "There are two ways to obtain OpenLane's built-in implementation steps:\n",
    "\n",
    "* via directly importing from the `steps` module using its category:\n",
    "    * `from openlane.steps import Yosys` then `Synthesis = Yosys.Synthesis`\n",
    "* by using the step's id from the registry:\n",
    "    * `from openlane.steps import Step` then `Synthesis = Step.factory.get(\"Yosys.Synthesis\")`\n",
    "\n",
    "You can find a full list of included steps here: https://openlane2.readthedocs.io/en/latest/reference/step_config_vars.html"
   ]
  },
  {
   "cell_type": "code",
   "execution_count": null,
   "metadata": {},
   "outputs": [],
   "source": [
    "from openlane.steps import Step"
   ]
  },
  {
   "attachments": {},
   "cell_type": "markdown",
   "metadata": {},
   "source": [
    "* First, get the step (and display its help)..."
   ]
  },
  {
   "cell_type": "code",
   "execution_count": null,
   "metadata": {},
   "outputs": [],
   "source": [
    "Synthesis = Step.factory.get(\"Yosys.Synthesis\")\n",
    "\n",
    "Synthesis.display_help()"
   ]
  },
  {
   "attachments": {},
   "cell_type": "markdown",
   "metadata": {},
   "source": [
    "* Then run it. Note you can pass step-specific configs using Python keyword\n",
    "  arguments."
   ]
  },
  {
   "cell_type": "code",
   "execution_count": null,
   "metadata": {
    "scrolled": true
   },
   "outputs": [],
   "source": [
    "synthesis = Synthesis(\n",
    "    VERILOG_FILES=[\"./spm.v\"],\n",
    ")\n",
    "synthesis.start()"
   ]
  },
  {
   "cell_type": "code",
   "execution_count": null,
   "metadata": {},
   "outputs": [],
   "source": [
    "display(synthesis)"
   ]
  },
  {
   "cell_type": "code",
   "execution_count": null,
   "metadata": {},
   "outputs": [],
   "source": [
    "CheckSDCFiles = Step.factory.get(\"OpenROAD.CheckSDCFiles\")\n",
    "\n",
    "sdc = CheckSDCFiles()\n",
    "sdc.start()"
   ]
  },
  {
   "cell_type": "code",
   "execution_count": null,
   "metadata": {},
   "outputs": [],
   "source": [
    "Floorplan = Step.factory.get(\"OpenROAD.Floorplan\")\n",
    "\n",
    "floorplan = Floorplan()\n",
    "floorplan.start()"
   ]
  },
  {
   "cell_type": "code",
   "execution_count": null,
   "metadata": {},
   "outputs": [],
   "source": [
    "display(floorplan)"
   ]
  },
  {
   "cell_type": "code",
   "execution_count": null,
   "metadata": {},
   "outputs": [],
   "source": [
    "TapEndcapInsertion = Step.factory.get(\"OpenROAD.TapEndcapInsertion\")\n",
    "\n",
    "tdi = TapEndcapInsertion()\n",
    "tdi.start()"
   ]
  },
  {
   "cell_type": "code",
   "execution_count": null,
   "metadata": {},
   "outputs": [],
   "source": [
    "display(tdi)"
   ]
  },
  {
   "cell_type": "code",
   "execution_count": null,
   "metadata": {
    "scrolled": true
   },
   "outputs": [],
   "source": [
    "IOPlacement = Step.factory.get(\"OpenROAD.IOPlacement\")\n",
    "\n",
    "ioplace = IOPlacement()\n",
    "ioplace.start()"
   ]
  },
  {
   "cell_type": "code",
   "execution_count": null,
   "metadata": {},
   "outputs": [],
   "source": [
    "display(ioplace)"
   ]
  },
  {
   "cell_type": "code",
   "execution_count": null,
   "metadata": {
    "scrolled": true
   },
   "outputs": [],
   "source": [
    "GeneratePDN = Step.factory.get(\"OpenROAD.GeneratePDN\")\n",
    "\n",
    "pdn = GeneratePDN()\n",
    "pdn.start()"
   ]
  },
  {
   "cell_type": "code",
   "execution_count": null,
   "metadata": {},
   "outputs": [],
   "source": [
    "display(pdn)"
   ]
  },
  {
   "cell_type": "code",
   "execution_count": null,
   "metadata": {},
   "outputs": [],
   "source": [
    "GlobalPlacement = Step.factory.get(\"OpenROAD.GlobalPlacement\")\n",
    "\n",
    "gpl = GlobalPlacement()\n",
    "gpl.start()"
   ]
  },
  {
   "cell_type": "code",
   "execution_count": null,
   "metadata": {},
   "outputs": [],
   "source": [
    "display(gpl)"
   ]
  },
  {
   "cell_type": "code",
   "execution_count": null,
   "metadata": {},
   "outputs": [],
   "source": [
    "DetailedPlacement = Step.factory.get(\"OpenROAD.DetailedPlacement\")\n",
    "\n",
    "dpl = DetailedPlacement()\n",
    "dpl.start()"
   ]
  },
  {
   "cell_type": "code",
   "execution_count": null,
   "metadata": {},
   "outputs": [],
   "source": [
    "display(dpl)"
   ]
  },
  {
   "cell_type": "code",
   "execution_count": null,
   "metadata": {},
   "outputs": [],
   "source": [
    "CTS = Step.factory.get(\"OpenROAD.CTS\")\n",
    "\n",
    "cts = CTS()\n",
    "cts.start()"
   ]
  },
  {
   "cell_type": "code",
   "execution_count": null,
   "metadata": {},
   "outputs": [],
   "source": [
    "display(cts)"
   ]
  },
  {
   "cell_type": "code",
   "execution_count": null,
   "metadata": {},
   "outputs": [],
   "source": [
    "GlobalRouting = Step.factory.get(\"OpenROAD.GlobalRouting\")\n",
    "\n",
    "grt = GlobalRouting()\n",
    "grt.start()"
   ]
  },
  {
   "cell_type": "code",
   "execution_count": null,
   "metadata": {},
   "outputs": [],
   "source": [
    "display(grt)"
   ]
  },
  {
   "cell_type": "code",
   "execution_count": null,
   "metadata": {},
   "outputs": [],
   "source": [
    "DetailedRouting = Step.factory.get(\"OpenROAD.DetailedRouting\")\n",
    "\n",
    "drt = DetailedRouting()\n",
    "drt.start()"
   ]
  },
  {
   "cell_type": "code",
   "execution_count": null,
   "metadata": {},
   "outputs": [],
   "source": [
    "display(drt)"
   ]
  },
  {
   "cell_type": "code",
   "execution_count": null,
   "metadata": {},
   "outputs": [],
   "source": [
    "FillInsertion = Step.factory.get(\"OpenROAD.FillInsertion\")\n",
    "\n",
    "fill = FillInsertion()\n",
    "fill.start()"
   ]
  },
  {
   "cell_type": "code",
   "execution_count": null,
   "metadata": {},
   "outputs": [],
   "source": [
    "display(fill)"
   ]
  },
  {
   "cell_type": "code",
   "execution_count": null,
   "metadata": {},
   "outputs": [],
   "source": [
    "StreamOut = Step.factory.get(\"KLayout.StreamOut\")\n",
    "\n",
    "gds = StreamOut()\n",
    "gds.start()"
   ]
  },
  {
   "cell_type": "code",
   "execution_count": null,
   "metadata": {},
   "outputs": [],
   "source": [
    "display(gds)"
   ]
  },
  {
   "cell_type": "code",
   "execution_count": null,
   "metadata": {},
   "outputs": [],
   "source": []
  }
 ],
 "metadata": {
  "kernelspec": {
   "display_name": "Python 3 (ipykernel)",
   "language": "python",
   "name": "python3"
  },
  "language_info": {
   "codemirror_mode": {
    "name": "ipython",
    "version": 3
   },
   "file_extension": ".py",
   "mimetype": "text/x-python",
   "name": "python",
   "nbconvert_exporter": "python",
   "pygments_lexer": "ipython3",
   "version": "3.10.9"
  },
  "vscode": {
   "interpreter": {
    "hash": "259a389b4057ccde35404af821e33afdf5883d9f2d987c370b23bfef9f2c3eb5"
   }
  }
 },
 "nbformat": 4,
 "nbformat_minor": 2
}
